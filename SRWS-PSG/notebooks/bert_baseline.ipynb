{
  "nbformat": 4,
  "nbformat_minor": 0,
  "metadata": {
    "kernelspec": {
      "display_name": "Python 3 (ipykernel)",
      "language": "python",
      "name": "python3"
    },
    "language_info": {
      "codemirror_mode": {
        "name": "ipython",
        "version": 3
      },
      "file_extension": ".py",
      "mimetype": "text/x-python",
      "name": "python",
      "nbconvert_exporter": "python",
      "pygments_lexer": "ipython3",
      "version": "3.7.11"
    },
    "colab": {
      "name": "bert_baseline.ipynb",
      "provenance": [],
      "collapsed_sections": [],
      "machine_shape": "hm",
      "include_colab_link": true
    },
    "accelerator": "GPU",
    "widgets": {
      "application/vnd.jupyter.widget-state+json": {
        "b9a3a9c9e25647cd9eb06f73286541ca": {
          "model_module": "@jupyter-widgets/controls",
          "model_name": "HBoxModel",
          "model_module_version": "1.5.0",
          "state": {
            "_view_name": "HBoxView",
            "_dom_classes": [],
            "_model_name": "HBoxModel",
            "_view_module": "@jupyter-widgets/controls",
            "_model_module_version": "1.5.0",
            "_view_count": null,
            "_view_module_version": "1.5.0",
            "box_style": "",
            "layout": "IPY_MODEL_4d2e7fb006514064b44a30493e4c6591",
            "_model_module": "@jupyter-widgets/controls",
            "children": [
              "IPY_MODEL_0c488fd827364323b804f6a2d1eb7e62",
              "IPY_MODEL_da2ac134cf5c4c428005672db50df38f",
              "IPY_MODEL_181a357155204aab83adb76528c5dc56"
            ]
          }
        },
        "4d2e7fb006514064b44a30493e4c6591": {
          "model_module": "@jupyter-widgets/base",
          "model_name": "LayoutModel",
          "model_module_version": "1.2.0",
          "state": {
            "_view_name": "LayoutView",
            "grid_template_rows": null,
            "right": null,
            "justify_content": null,
            "_view_module": "@jupyter-widgets/base",
            "overflow": null,
            "_model_module_version": "1.2.0",
            "_view_count": null,
            "flex_flow": null,
            "width": null,
            "min_width": null,
            "border": null,
            "align_items": null,
            "bottom": null,
            "_model_module": "@jupyter-widgets/base",
            "top": null,
            "grid_column": null,
            "overflow_y": null,
            "overflow_x": null,
            "grid_auto_flow": null,
            "grid_area": null,
            "grid_template_columns": null,
            "flex": null,
            "_model_name": "LayoutModel",
            "justify_items": null,
            "grid_row": null,
            "max_height": null,
            "align_content": null,
            "visibility": null,
            "align_self": null,
            "height": null,
            "min_height": null,
            "padding": null,
            "grid_auto_rows": null,
            "grid_gap": null,
            "max_width": null,
            "order": null,
            "_view_module_version": "1.2.0",
            "grid_template_areas": null,
            "object_position": null,
            "object_fit": null,
            "grid_auto_columns": null,
            "margin": null,
            "display": null,
            "left": null
          }
        },
        "0c488fd827364323b804f6a2d1eb7e62": {
          "model_module": "@jupyter-widgets/controls",
          "model_name": "HTMLModel",
          "model_module_version": "1.5.0",
          "state": {
            "_view_name": "HTMLView",
            "style": "IPY_MODEL_6f6717349ca8448fbca3c4b06ef19d2c",
            "_dom_classes": [],
            "description": "",
            "_model_name": "HTMLModel",
            "placeholder": "​",
            "_view_module": "@jupyter-widgets/controls",
            "_model_module_version": "1.5.0",
            "value": "Downloading: 100%",
            "_view_count": null,
            "_view_module_version": "1.5.0",
            "description_tooltip": null,
            "_model_module": "@jupyter-widgets/controls",
            "layout": "IPY_MODEL_9c8b99afa0ae4f4f84484ae4ccaf4a2a"
          }
        },
        "da2ac134cf5c4c428005672db50df38f": {
          "model_module": "@jupyter-widgets/controls",
          "model_name": "FloatProgressModel",
          "model_module_version": "1.5.0",
          "state": {
            "_view_name": "ProgressView",
            "style": "IPY_MODEL_a7888555020e4d959f77267a8d2b63eb",
            "_dom_classes": [],
            "description": "",
            "_model_name": "FloatProgressModel",
            "bar_style": "success",
            "max": 225062,
            "_view_module": "@jupyter-widgets/controls",
            "_model_module_version": "1.5.0",
            "value": 225062,
            "_view_count": null,
            "_view_module_version": "1.5.0",
            "orientation": "horizontal",
            "min": 0,
            "description_tooltip": null,
            "_model_module": "@jupyter-widgets/controls",
            "layout": "IPY_MODEL_d293f7b9452949fdb69c13432dfb1b58"
          }
        },
        "181a357155204aab83adb76528c5dc56": {
          "model_module": "@jupyter-widgets/controls",
          "model_name": "HTMLModel",
          "model_module_version": "1.5.0",
          "state": {
            "_view_name": "HTMLView",
            "style": "IPY_MODEL_04c0d8c1ecf848ef9ffe5a70a34d1f0c",
            "_dom_classes": [],
            "description": "",
            "_model_name": "HTMLModel",
            "placeholder": "​",
            "_view_module": "@jupyter-widgets/controls",
            "_model_module_version": "1.5.0",
            "value": " 225k/225k [00:00&lt;00:00, 1.63MB/s]",
            "_view_count": null,
            "_view_module_version": "1.5.0",
            "description_tooltip": null,
            "_model_module": "@jupyter-widgets/controls",
            "layout": "IPY_MODEL_0f3f84ca821c4c25a444d254829bc7b1"
          }
        },
        "6f6717349ca8448fbca3c4b06ef19d2c": {
          "model_module": "@jupyter-widgets/controls",
          "model_name": "DescriptionStyleModel",
          "model_module_version": "1.5.0",
          "state": {
            "_view_name": "StyleView",
            "_model_name": "DescriptionStyleModel",
            "description_width": "",
            "_view_module": "@jupyter-widgets/base",
            "_model_module_version": "1.5.0",
            "_view_count": null,
            "_view_module_version": "1.2.0",
            "_model_module": "@jupyter-widgets/controls"
          }
        },
        "9c8b99afa0ae4f4f84484ae4ccaf4a2a": {
          "model_module": "@jupyter-widgets/base",
          "model_name": "LayoutModel",
          "model_module_version": "1.2.0",
          "state": {
            "_view_name": "LayoutView",
            "grid_template_rows": null,
            "right": null,
            "justify_content": null,
            "_view_module": "@jupyter-widgets/base",
            "overflow": null,
            "_model_module_version": "1.2.0",
            "_view_count": null,
            "flex_flow": null,
            "width": null,
            "min_width": null,
            "border": null,
            "align_items": null,
            "bottom": null,
            "_model_module": "@jupyter-widgets/base",
            "top": null,
            "grid_column": null,
            "overflow_y": null,
            "overflow_x": null,
            "grid_auto_flow": null,
            "grid_area": null,
            "grid_template_columns": null,
            "flex": null,
            "_model_name": "LayoutModel",
            "justify_items": null,
            "grid_row": null,
            "max_height": null,
            "align_content": null,
            "visibility": null,
            "align_self": null,
            "height": null,
            "min_height": null,
            "padding": null,
            "grid_auto_rows": null,
            "grid_gap": null,
            "max_width": null,
            "order": null,
            "_view_module_version": "1.2.0",
            "grid_template_areas": null,
            "object_position": null,
            "object_fit": null,
            "grid_auto_columns": null,
            "margin": null,
            "display": null,
            "left": null
          }
        },
        "a7888555020e4d959f77267a8d2b63eb": {
          "model_module": "@jupyter-widgets/controls",
          "model_name": "ProgressStyleModel",
          "model_module_version": "1.5.0",
          "state": {
            "_view_name": "StyleView",
            "_model_name": "ProgressStyleModel",
            "description_width": "",
            "_view_module": "@jupyter-widgets/base",
            "_model_module_version": "1.5.0",
            "_view_count": null,
            "_view_module_version": "1.2.0",
            "bar_color": null,
            "_model_module": "@jupyter-widgets/controls"
          }
        },
        "d293f7b9452949fdb69c13432dfb1b58": {
          "model_module": "@jupyter-widgets/base",
          "model_name": "LayoutModel",
          "model_module_version": "1.2.0",
          "state": {
            "_view_name": "LayoutView",
            "grid_template_rows": null,
            "right": null,
            "justify_content": null,
            "_view_module": "@jupyter-widgets/base",
            "overflow": null,
            "_model_module_version": "1.2.0",
            "_view_count": null,
            "flex_flow": null,
            "width": null,
            "min_width": null,
            "border": null,
            "align_items": null,
            "bottom": null,
            "_model_module": "@jupyter-widgets/base",
            "top": null,
            "grid_column": null,
            "overflow_y": null,
            "overflow_x": null,
            "grid_auto_flow": null,
            "grid_area": null,
            "grid_template_columns": null,
            "flex": null,
            "_model_name": "LayoutModel",
            "justify_items": null,
            "grid_row": null,
            "max_height": null,
            "align_content": null,
            "visibility": null,
            "align_self": null,
            "height": null,
            "min_height": null,
            "padding": null,
            "grid_auto_rows": null,
            "grid_gap": null,
            "max_width": null,
            "order": null,
            "_view_module_version": "1.2.0",
            "grid_template_areas": null,
            "object_position": null,
            "object_fit": null,
            "grid_auto_columns": null,
            "margin": null,
            "display": null,
            "left": null
          }
        },
        "04c0d8c1ecf848ef9ffe5a70a34d1f0c": {
          "model_module": "@jupyter-widgets/controls",
          "model_name": "DescriptionStyleModel",
          "model_module_version": "1.5.0",
          "state": {
            "_view_name": "StyleView",
            "_model_name": "DescriptionStyleModel",
            "description_width": "",
            "_view_module": "@jupyter-widgets/base",
            "_model_module_version": "1.5.0",
            "_view_count": null,
            "_view_module_version": "1.2.0",
            "_model_module": "@jupyter-widgets/controls"
          }
        },
        "0f3f84ca821c4c25a444d254829bc7b1": {
          "model_module": "@jupyter-widgets/base",
          "model_name": "LayoutModel",
          "model_module_version": "1.2.0",
          "state": {
            "_view_name": "LayoutView",
            "grid_template_rows": null,
            "right": null,
            "justify_content": null,
            "_view_module": "@jupyter-widgets/base",
            "overflow": null,
            "_model_module_version": "1.2.0",
            "_view_count": null,
            "flex_flow": null,
            "width": null,
            "min_width": null,
            "border": null,
            "align_items": null,
            "bottom": null,
            "_model_module": "@jupyter-widgets/base",
            "top": null,
            "grid_column": null,
            "overflow_y": null,
            "overflow_x": null,
            "grid_auto_flow": null,
            "grid_area": null,
            "grid_template_columns": null,
            "flex": null,
            "_model_name": "LayoutModel",
            "justify_items": null,
            "grid_row": null,
            "max_height": null,
            "align_content": null,
            "visibility": null,
            "align_self": null,
            "height": null,
            "min_height": null,
            "padding": null,
            "grid_auto_rows": null,
            "grid_gap": null,
            "max_width": null,
            "order": null,
            "_view_module_version": "1.2.0",
            "grid_template_areas": null,
            "object_position": null,
            "object_fit": null,
            "grid_auto_columns": null,
            "margin": null,
            "display": null,
            "left": null
          }
        },
        "6d3f45fcd5464fbdb536ba3d623d0ba0": {
          "model_module": "@jupyter-widgets/controls",
          "model_name": "HBoxModel",
          "model_module_version": "1.5.0",
          "state": {
            "_view_name": "HBoxView",
            "_dom_classes": [],
            "_model_name": "HBoxModel",
            "_view_module": "@jupyter-widgets/controls",
            "_model_module_version": "1.5.0",
            "_view_count": null,
            "_view_module_version": "1.5.0",
            "box_style": "",
            "layout": "IPY_MODEL_3e27db8a35f340ecb17e856f4bcd1896",
            "_model_module": "@jupyter-widgets/controls",
            "children": [
              "IPY_MODEL_527d12f3957649f8bc5e59af6c3f250f",
              "IPY_MODEL_8d6432368b24493c9149148faf2cbd6e",
              "IPY_MODEL_e781326903724d4d9834dc9d427cb06d"
            ]
          }
        },
        "3e27db8a35f340ecb17e856f4bcd1896": {
          "model_module": "@jupyter-widgets/base",
          "model_name": "LayoutModel",
          "model_module_version": "1.2.0",
          "state": {
            "_view_name": "LayoutView",
            "grid_template_rows": null,
            "right": null,
            "justify_content": null,
            "_view_module": "@jupyter-widgets/base",
            "overflow": null,
            "_model_module_version": "1.2.0",
            "_view_count": null,
            "flex_flow": null,
            "width": null,
            "min_width": null,
            "border": null,
            "align_items": null,
            "bottom": null,
            "_model_module": "@jupyter-widgets/base",
            "top": null,
            "grid_column": null,
            "overflow_y": null,
            "overflow_x": null,
            "grid_auto_flow": null,
            "grid_area": null,
            "grid_template_columns": null,
            "flex": null,
            "_model_name": "LayoutModel",
            "justify_items": null,
            "grid_row": null,
            "max_height": null,
            "align_content": null,
            "visibility": null,
            "align_self": null,
            "height": null,
            "min_height": null,
            "padding": null,
            "grid_auto_rows": null,
            "grid_gap": null,
            "max_width": null,
            "order": null,
            "_view_module_version": "1.2.0",
            "grid_template_areas": null,
            "object_position": null,
            "object_fit": null,
            "grid_auto_columns": null,
            "margin": null,
            "display": null,
            "left": null
          }
        },
        "527d12f3957649f8bc5e59af6c3f250f": {
          "model_module": "@jupyter-widgets/controls",
          "model_name": "HTMLModel",
          "model_module_version": "1.5.0",
          "state": {
            "_view_name": "HTMLView",
            "style": "IPY_MODEL_6a045c976a0242afa8e6a0e71c578bd9",
            "_dom_classes": [],
            "description": "",
            "_model_name": "HTMLModel",
            "placeholder": "​",
            "_view_module": "@jupyter-widgets/controls",
            "_model_module_version": "1.5.0",
            "value": "Downloading: 100%",
            "_view_count": null,
            "_view_module_version": "1.5.0",
            "description_tooltip": null,
            "_model_module": "@jupyter-widgets/controls",
            "layout": "IPY_MODEL_ad1babed60644eb5bba1e376c8619bef"
          }
        },
        "8d6432368b24493c9149148faf2cbd6e": {
          "model_module": "@jupyter-widgets/controls",
          "model_name": "FloatProgressModel",
          "model_module_version": "1.5.0",
          "state": {
            "_view_name": "ProgressView",
            "style": "IPY_MODEL_b3e393272b454bbf909f7c470d99a64e",
            "_dom_classes": [],
            "description": "",
            "_model_name": "FloatProgressModel",
            "bar_style": "success",
            "max": 337,
            "_view_module": "@jupyter-widgets/controls",
            "_model_module_version": "1.5.0",
            "value": 337,
            "_view_count": null,
            "_view_module_version": "1.5.0",
            "orientation": "horizontal",
            "min": 0,
            "description_tooltip": null,
            "_model_module": "@jupyter-widgets/controls",
            "layout": "IPY_MODEL_702f4490903e4c75831ad4cb31e5d2d8"
          }
        },
        "e781326903724d4d9834dc9d427cb06d": {
          "model_module": "@jupyter-widgets/controls",
          "model_name": "HTMLModel",
          "model_module_version": "1.5.0",
          "state": {
            "_view_name": "HTMLView",
            "style": "IPY_MODEL_c8f8e0a6902a47cc85594e56cf626648",
            "_dom_classes": [],
            "description": "",
            "_model_name": "HTMLModel",
            "placeholder": "​",
            "_view_module": "@jupyter-widgets/controls",
            "_model_module_version": "1.5.0",
            "value": " 337/337 [00:00&lt;00:00, 15.1kB/s]",
            "_view_count": null,
            "_view_module_version": "1.5.0",
            "description_tooltip": null,
            "_model_module": "@jupyter-widgets/controls",
            "layout": "IPY_MODEL_3e888961794a41e19667b7360af700a3"
          }
        },
        "6a045c976a0242afa8e6a0e71c578bd9": {
          "model_module": "@jupyter-widgets/controls",
          "model_name": "DescriptionStyleModel",
          "model_module_version": "1.5.0",
          "state": {
            "_view_name": "StyleView",
            "_model_name": "DescriptionStyleModel",
            "description_width": "",
            "_view_module": "@jupyter-widgets/base",
            "_model_module_version": "1.5.0",
            "_view_count": null,
            "_view_module_version": "1.2.0",
            "_model_module": "@jupyter-widgets/controls"
          }
        },
        "ad1babed60644eb5bba1e376c8619bef": {
          "model_module": "@jupyter-widgets/base",
          "model_name": "LayoutModel",
          "model_module_version": "1.2.0",
          "state": {
            "_view_name": "LayoutView",
            "grid_template_rows": null,
            "right": null,
            "justify_content": null,
            "_view_module": "@jupyter-widgets/base",
            "overflow": null,
            "_model_module_version": "1.2.0",
            "_view_count": null,
            "flex_flow": null,
            "width": null,
            "min_width": null,
            "border": null,
            "align_items": null,
            "bottom": null,
            "_model_module": "@jupyter-widgets/base",
            "top": null,
            "grid_column": null,
            "overflow_y": null,
            "overflow_x": null,
            "grid_auto_flow": null,
            "grid_area": null,
            "grid_template_columns": null,
            "flex": null,
            "_model_name": "LayoutModel",
            "justify_items": null,
            "grid_row": null,
            "max_height": null,
            "align_content": null,
            "visibility": null,
            "align_self": null,
            "height": null,
            "min_height": null,
            "padding": null,
            "grid_auto_rows": null,
            "grid_gap": null,
            "max_width": null,
            "order": null,
            "_view_module_version": "1.2.0",
            "grid_template_areas": null,
            "object_position": null,
            "object_fit": null,
            "grid_auto_columns": null,
            "margin": null,
            "display": null,
            "left": null
          }
        },
        "b3e393272b454bbf909f7c470d99a64e": {
          "model_module": "@jupyter-widgets/controls",
          "model_name": "ProgressStyleModel",
          "model_module_version": "1.5.0",
          "state": {
            "_view_name": "StyleView",
            "_model_name": "ProgressStyleModel",
            "description_width": "",
            "_view_module": "@jupyter-widgets/base",
            "_model_module_version": "1.5.0",
            "_view_count": null,
            "_view_module_version": "1.2.0",
            "bar_color": null,
            "_model_module": "@jupyter-widgets/controls"
          }
        },
        "702f4490903e4c75831ad4cb31e5d2d8": {
          "model_module": "@jupyter-widgets/base",
          "model_name": "LayoutModel",
          "model_module_version": "1.2.0",
          "state": {
            "_view_name": "LayoutView",
            "grid_template_rows": null,
            "right": null,
            "justify_content": null,
            "_view_module": "@jupyter-widgets/base",
            "overflow": null,
            "_model_module_version": "1.2.0",
            "_view_count": null,
            "flex_flow": null,
            "width": null,
            "min_width": null,
            "border": null,
            "align_items": null,
            "bottom": null,
            "_model_module": "@jupyter-widgets/base",
            "top": null,
            "grid_column": null,
            "overflow_y": null,
            "overflow_x": null,
            "grid_auto_flow": null,
            "grid_area": null,
            "grid_template_columns": null,
            "flex": null,
            "_model_name": "LayoutModel",
            "justify_items": null,
            "grid_row": null,
            "max_height": null,
            "align_content": null,
            "visibility": null,
            "align_self": null,
            "height": null,
            "min_height": null,
            "padding": null,
            "grid_auto_rows": null,
            "grid_gap": null,
            "max_width": null,
            "order": null,
            "_view_module_version": "1.2.0",
            "grid_template_areas": null,
            "object_position": null,
            "object_fit": null,
            "grid_auto_columns": null,
            "margin": null,
            "display": null,
            "left": null
          }
        },
        "c8f8e0a6902a47cc85594e56cf626648": {
          "model_module": "@jupyter-widgets/controls",
          "model_name": "DescriptionStyleModel",
          "model_module_version": "1.5.0",
          "state": {
            "_view_name": "StyleView",
            "_model_name": "DescriptionStyleModel",
            "description_width": "",
            "_view_module": "@jupyter-widgets/base",
            "_model_module_version": "1.5.0",
            "_view_count": null,
            "_view_module_version": "1.2.0",
            "_model_module": "@jupyter-widgets/controls"
          }
        },
        "3e888961794a41e19667b7360af700a3": {
          "model_module": "@jupyter-widgets/base",
          "model_name": "LayoutModel",
          "model_module_version": "1.2.0",
          "state": {
            "_view_name": "LayoutView",
            "grid_template_rows": null,
            "right": null,
            "justify_content": null,
            "_view_module": "@jupyter-widgets/base",
            "overflow": null,
            "_model_module_version": "1.2.0",
            "_view_count": null,
            "flex_flow": null,
            "width": null,
            "min_width": null,
            "border": null,
            "align_items": null,
            "bottom": null,
            "_model_module": "@jupyter-widgets/base",
            "top": null,
            "grid_column": null,
            "overflow_y": null,
            "overflow_x": null,
            "grid_auto_flow": null,
            "grid_area": null,
            "grid_template_columns": null,
            "flex": null,
            "_model_name": "LayoutModel",
            "justify_items": null,
            "grid_row": null,
            "max_height": null,
            "align_content": null,
            "visibility": null,
            "align_self": null,
            "height": null,
            "min_height": null,
            "padding": null,
            "grid_auto_rows": null,
            "grid_gap": null,
            "max_width": null,
            "order": null,
            "_view_module_version": "1.2.0",
            "grid_template_areas": null,
            "object_position": null,
            "object_fit": null,
            "grid_auto_columns": null,
            "margin": null,
            "display": null,
            "left": null
          }
        },
        "d17e5d7f293f4a47aa657650f41d82b2": {
          "model_module": "@jupyter-widgets/controls",
          "model_name": "HBoxModel",
          "model_module_version": "1.5.0",
          "state": {
            "_view_name": "HBoxView",
            "_dom_classes": [],
            "_model_name": "HBoxModel",
            "_view_module": "@jupyter-widgets/controls",
            "_model_module_version": "1.5.0",
            "_view_count": null,
            "_view_module_version": "1.5.0",
            "box_style": "",
            "layout": "IPY_MODEL_d5edc72059d84fd697d9a339ba20adcc",
            "_model_module": "@jupyter-widgets/controls",
            "children": [
              "IPY_MODEL_b5533261ed1d493789fb4239d00fbb52",
              "IPY_MODEL_71debf25324a4bd2bf3d2bcac51525c7",
              "IPY_MODEL_b6fbaacc775e46ab9e1f251d12b744a3"
            ]
          }
        },
        "d5edc72059d84fd697d9a339ba20adcc": {
          "model_module": "@jupyter-widgets/base",
          "model_name": "LayoutModel",
          "model_module_version": "1.2.0",
          "state": {
            "_view_name": "LayoutView",
            "grid_template_rows": null,
            "right": null,
            "justify_content": null,
            "_view_module": "@jupyter-widgets/base",
            "overflow": null,
            "_model_module_version": "1.2.0",
            "_view_count": null,
            "flex_flow": null,
            "width": null,
            "min_width": null,
            "border": null,
            "align_items": null,
            "bottom": null,
            "_model_module": "@jupyter-widgets/base",
            "top": null,
            "grid_column": null,
            "overflow_y": null,
            "overflow_x": null,
            "grid_auto_flow": null,
            "grid_area": null,
            "grid_template_columns": null,
            "flex": null,
            "_model_name": "LayoutModel",
            "justify_items": null,
            "grid_row": null,
            "max_height": null,
            "align_content": null,
            "visibility": null,
            "align_self": null,
            "height": null,
            "min_height": null,
            "padding": null,
            "grid_auto_rows": null,
            "grid_gap": null,
            "max_width": null,
            "order": null,
            "_view_module_version": "1.2.0",
            "grid_template_areas": null,
            "object_position": null,
            "object_fit": null,
            "grid_auto_columns": null,
            "margin": null,
            "display": null,
            "left": null
          }
        },
        "b5533261ed1d493789fb4239d00fbb52": {
          "model_module": "@jupyter-widgets/controls",
          "model_name": "HTMLModel",
          "model_module_version": "1.5.0",
          "state": {
            "_view_name": "HTMLView",
            "style": "IPY_MODEL_a2871e6de57b41f08a351f1b5546e991",
            "_dom_classes": [],
            "description": "",
            "_model_name": "HTMLModel",
            "placeholder": "​",
            "_view_module": "@jupyter-widgets/controls",
            "_model_module_version": "1.5.0",
            "value": "Downloading: 100%",
            "_view_count": null,
            "_view_module_version": "1.5.0",
            "description_tooltip": null,
            "_model_module": "@jupyter-widgets/controls",
            "layout": "IPY_MODEL_50c2db4428eb49d4831ed539136fdce5"
          }
        },
        "71debf25324a4bd2bf3d2bcac51525c7": {
          "model_module": "@jupyter-widgets/controls",
          "model_name": "FloatProgressModel",
          "model_module_version": "1.5.0",
          "state": {
            "_view_name": "ProgressView",
            "style": "IPY_MODEL_a093b6e727274c518a11c1dacaa9cc7e",
            "_dom_classes": [],
            "description": "",
            "_model_name": "FloatProgressModel",
            "bar_style": "success",
            "max": 440472042,
            "_view_module": "@jupyter-widgets/controls",
            "_model_module_version": "1.5.0",
            "value": 440472042,
            "_view_count": null,
            "_view_module_version": "1.5.0",
            "orientation": "horizontal",
            "min": 0,
            "description_tooltip": null,
            "_model_module": "@jupyter-widgets/controls",
            "layout": "IPY_MODEL_4e013c5f8fa74e97afd896a0e1a5ef97"
          }
        },
        "b6fbaacc775e46ab9e1f251d12b744a3": {
          "model_module": "@jupyter-widgets/controls",
          "model_name": "HTMLModel",
          "model_module_version": "1.5.0",
          "state": {
            "_view_name": "HTMLView",
            "style": "IPY_MODEL_474285df7baf408caed0e687e9e3e654",
            "_dom_classes": [],
            "description": "",
            "_model_name": "HTMLModel",
            "placeholder": "​",
            "_view_module": "@jupyter-widgets/controls",
            "_model_module_version": "1.5.0",
            "value": " 440M/440M [00:10&lt;00:00, 47.3MB/s]",
            "_view_count": null,
            "_view_module_version": "1.5.0",
            "description_tooltip": null,
            "_model_module": "@jupyter-widgets/controls",
            "layout": "IPY_MODEL_c55f0f5af593460f8b1e6236a054a6e9"
          }
        },
        "a2871e6de57b41f08a351f1b5546e991": {
          "model_module": "@jupyter-widgets/controls",
          "model_name": "DescriptionStyleModel",
          "model_module_version": "1.5.0",
          "state": {
            "_view_name": "StyleView",
            "_model_name": "DescriptionStyleModel",
            "description_width": "",
            "_view_module": "@jupyter-widgets/base",
            "_model_module_version": "1.5.0",
            "_view_count": null,
            "_view_module_version": "1.2.0",
            "_model_module": "@jupyter-widgets/controls"
          }
        },
        "50c2db4428eb49d4831ed539136fdce5": {
          "model_module": "@jupyter-widgets/base",
          "model_name": "LayoutModel",
          "model_module_version": "1.2.0",
          "state": {
            "_view_name": "LayoutView",
            "grid_template_rows": null,
            "right": null,
            "justify_content": null,
            "_view_module": "@jupyter-widgets/base",
            "overflow": null,
            "_model_module_version": "1.2.0",
            "_view_count": null,
            "flex_flow": null,
            "width": null,
            "min_width": null,
            "border": null,
            "align_items": null,
            "bottom": null,
            "_model_module": "@jupyter-widgets/base",
            "top": null,
            "grid_column": null,
            "overflow_y": null,
            "overflow_x": null,
            "grid_auto_flow": null,
            "grid_area": null,
            "grid_template_columns": null,
            "flex": null,
            "_model_name": "LayoutModel",
            "justify_items": null,
            "grid_row": null,
            "max_height": null,
            "align_content": null,
            "visibility": null,
            "align_self": null,
            "height": null,
            "min_height": null,
            "padding": null,
            "grid_auto_rows": null,
            "grid_gap": null,
            "max_width": null,
            "order": null,
            "_view_module_version": "1.2.0",
            "grid_template_areas": null,
            "object_position": null,
            "object_fit": null,
            "grid_auto_columns": null,
            "margin": null,
            "display": null,
            "left": null
          }
        },
        "a093b6e727274c518a11c1dacaa9cc7e": {
          "model_module": "@jupyter-widgets/controls",
          "model_name": "ProgressStyleModel",
          "model_module_version": "1.5.0",
          "state": {
            "_view_name": "StyleView",
            "_model_name": "ProgressStyleModel",
            "description_width": "",
            "_view_module": "@jupyter-widgets/base",
            "_model_module_version": "1.5.0",
            "_view_count": null,
            "_view_module_version": "1.2.0",
            "bar_color": null,
            "_model_module": "@jupyter-widgets/controls"
          }
        },
        "4e013c5f8fa74e97afd896a0e1a5ef97": {
          "model_module": "@jupyter-widgets/base",
          "model_name": "LayoutModel",
          "model_module_version": "1.2.0",
          "state": {
            "_view_name": "LayoutView",
            "grid_template_rows": null,
            "right": null,
            "justify_content": null,
            "_view_module": "@jupyter-widgets/base",
            "overflow": null,
            "_model_module_version": "1.2.0",
            "_view_count": null,
            "flex_flow": null,
            "width": null,
            "min_width": null,
            "border": null,
            "align_items": null,
            "bottom": null,
            "_model_module": "@jupyter-widgets/base",
            "top": null,
            "grid_column": null,
            "overflow_y": null,
            "overflow_x": null,
            "grid_auto_flow": null,
            "grid_area": null,
            "grid_template_columns": null,
            "flex": null,
            "_model_name": "LayoutModel",
            "justify_items": null,
            "grid_row": null,
            "max_height": null,
            "align_content": null,
            "visibility": null,
            "align_self": null,
            "height": null,
            "min_height": null,
            "padding": null,
            "grid_auto_rows": null,
            "grid_gap": null,
            "max_width": null,
            "order": null,
            "_view_module_version": "1.2.0",
            "grid_template_areas": null,
            "object_position": null,
            "object_fit": null,
            "grid_auto_columns": null,
            "margin": null,
            "display": null,
            "left": null
          }
        },
        "474285df7baf408caed0e687e9e3e654": {
          "model_module": "@jupyter-widgets/controls",
          "model_name": "DescriptionStyleModel",
          "model_module_version": "1.5.0",
          "state": {
            "_view_name": "StyleView",
            "_model_name": "DescriptionStyleModel",
            "description_width": "",
            "_view_module": "@jupyter-widgets/base",
            "_model_module_version": "1.5.0",
            "_view_count": null,
            "_view_module_version": "1.2.0",
            "_model_module": "@jupyter-widgets/controls"
          }
        },
        "c55f0f5af593460f8b1e6236a054a6e9": {
          "model_module": "@jupyter-widgets/base",
          "model_name": "LayoutModel",
          "model_module_version": "1.2.0",
          "state": {
            "_view_name": "LayoutView",
            "grid_template_rows": null,
            "right": null,
            "justify_content": null,
            "_view_module": "@jupyter-widgets/base",
            "overflow": null,
            "_model_module_version": "1.2.0",
            "_view_count": null,
            "flex_flow": null,
            "width": null,
            "min_width": null,
            "border": null,
            "align_items": null,
            "bottom": null,
            "_model_module": "@jupyter-widgets/base",
            "top": null,
            "grid_column": null,
            "overflow_y": null,
            "overflow_x": null,
            "grid_auto_flow": null,
            "grid_area": null,
            "grid_template_columns": null,
            "flex": null,
            "_model_name": "LayoutModel",
            "justify_items": null,
            "grid_row": null,
            "max_height": null,
            "align_content": null,
            "visibility": null,
            "align_self": null,
            "height": null,
            "min_height": null,
            "padding": null,
            "grid_auto_rows": null,
            "grid_gap": null,
            "max_width": null,
            "order": null,
            "_view_module_version": "1.2.0",
            "grid_template_areas": null,
            "object_position": null,
            "object_fit": null,
            "grid_auto_columns": null,
            "margin": null,
            "display": null,
            "left": null
          }
        },
        "7cd1a44fad904931a72ee06647468f13": {
          "model_module": "@jupyter-widgets/controls",
          "model_name": "HBoxModel",
          "model_module_version": "1.5.0",
          "state": {
            "_view_name": "HBoxView",
            "_dom_classes": [],
            "_model_name": "HBoxModel",
            "_view_module": "@jupyter-widgets/controls",
            "_model_module_version": "1.5.0",
            "_view_count": null,
            "_view_module_version": "1.5.0",
            "box_style": "",
            "layout": "IPY_MODEL_b63540ff276d4a3aa0c3eef1e6adbe0e",
            "_model_module": "@jupyter-widgets/controls",
            "children": [
              "IPY_MODEL_d97b7c9ce43e43c9863a087b54f77496",
              "IPY_MODEL_86b7f37e62744f58bf6f1b18fdc53649",
              "IPY_MODEL_fd971751705e4382937cfaf9f13e6e61"
            ]
          }
        },
        "b63540ff276d4a3aa0c3eef1e6adbe0e": {
          "model_module": "@jupyter-widgets/base",
          "model_name": "LayoutModel",
          "model_module_version": "1.2.0",
          "state": {
            "_view_name": "LayoutView",
            "grid_template_rows": null,
            "right": null,
            "justify_content": null,
            "_view_module": "@jupyter-widgets/base",
            "overflow": null,
            "_model_module_version": "1.2.0",
            "_view_count": null,
            "flex_flow": null,
            "width": null,
            "min_width": null,
            "border": null,
            "align_items": null,
            "bottom": null,
            "_model_module": "@jupyter-widgets/base",
            "top": null,
            "grid_column": null,
            "overflow_y": null,
            "overflow_x": null,
            "grid_auto_flow": null,
            "grid_area": null,
            "grid_template_columns": null,
            "flex": null,
            "_model_name": "LayoutModel",
            "justify_items": null,
            "grid_row": null,
            "max_height": null,
            "align_content": null,
            "visibility": null,
            "align_self": null,
            "height": null,
            "min_height": null,
            "padding": null,
            "grid_auto_rows": null,
            "grid_gap": null,
            "max_width": null,
            "order": null,
            "_view_module_version": "1.2.0",
            "grid_template_areas": null,
            "object_position": null,
            "object_fit": null,
            "grid_auto_columns": null,
            "margin": null,
            "display": null,
            "left": null
          }
        },
        "d97b7c9ce43e43c9863a087b54f77496": {
          "model_module": "@jupyter-widgets/controls",
          "model_name": "HTMLModel",
          "model_module_version": "1.5.0",
          "state": {
            "_view_name": "HTMLView",
            "style": "IPY_MODEL_652852e1417f42899a39cd3cccc18936",
            "_dom_classes": [],
            "description": "",
            "_model_name": "HTMLModel",
            "placeholder": "​",
            "_view_module": "@jupyter-widgets/controls",
            "_model_module_version": "1.5.0",
            "value": "Downloading: 100%",
            "_view_count": null,
            "_view_module_version": "1.5.0",
            "description_tooltip": null,
            "_model_module": "@jupyter-widgets/controls",
            "layout": "IPY_MODEL_86b986b8ae2b420d9796c5a43f96e8db"
          }
        },
        "86b7f37e62744f58bf6f1b18fdc53649": {
          "model_module": "@jupyter-widgets/controls",
          "model_name": "FloatProgressModel",
          "model_module_version": "1.5.0",
          "state": {
            "_view_name": "ProgressView",
            "style": "IPY_MODEL_593fc9714f6841a8b16ed0a29ea19311",
            "_dom_classes": [],
            "description": "",
            "_model_name": "FloatProgressModel",
            "bar_style": "success",
            "max": 225062,
            "_view_module": "@jupyter-widgets/controls",
            "_model_module_version": "1.5.0",
            "value": 225062,
            "_view_count": null,
            "_view_module_version": "1.5.0",
            "orientation": "horizontal",
            "min": 0,
            "description_tooltip": null,
            "_model_module": "@jupyter-widgets/controls",
            "layout": "IPY_MODEL_ebca4fffaa5c4ed2a95775dd79fc704e"
          }
        },
        "fd971751705e4382937cfaf9f13e6e61": {
          "model_module": "@jupyter-widgets/controls",
          "model_name": "HTMLModel",
          "model_module_version": "1.5.0",
          "state": {
            "_view_name": "HTMLView",
            "style": "IPY_MODEL_93c1804cfac84e5ca6e5e9798b22c5d0",
            "_dom_classes": [],
            "description": "",
            "_model_name": "HTMLModel",
            "placeholder": "​",
            "_view_module": "@jupyter-widgets/controls",
            "_model_module_version": "1.5.0",
            "value": " 225k/225k [00:00&lt;00:00, 464kB/s]",
            "_view_count": null,
            "_view_module_version": "1.5.0",
            "description_tooltip": null,
            "_model_module": "@jupyter-widgets/controls",
            "layout": "IPY_MODEL_ae817141f13e48ec88dad9a2a3de190b"
          }
        },
        "652852e1417f42899a39cd3cccc18936": {
          "model_module": "@jupyter-widgets/controls",
          "model_name": "DescriptionStyleModel",
          "model_module_version": "1.5.0",
          "state": {
            "_view_name": "StyleView",
            "_model_name": "DescriptionStyleModel",
            "description_width": "",
            "_view_module": "@jupyter-widgets/base",
            "_model_module_version": "1.5.0",
            "_view_count": null,
            "_view_module_version": "1.2.0",
            "_model_module": "@jupyter-widgets/controls"
          }
        },
        "86b986b8ae2b420d9796c5a43f96e8db": {
          "model_module": "@jupyter-widgets/base",
          "model_name": "LayoutModel",
          "model_module_version": "1.2.0",
          "state": {
            "_view_name": "LayoutView",
            "grid_template_rows": null,
            "right": null,
            "justify_content": null,
            "_view_module": "@jupyter-widgets/base",
            "overflow": null,
            "_model_module_version": "1.2.0",
            "_view_count": null,
            "flex_flow": null,
            "width": null,
            "min_width": null,
            "border": null,
            "align_items": null,
            "bottom": null,
            "_model_module": "@jupyter-widgets/base",
            "top": null,
            "grid_column": null,
            "overflow_y": null,
            "overflow_x": null,
            "grid_auto_flow": null,
            "grid_area": null,
            "grid_template_columns": null,
            "flex": null,
            "_model_name": "LayoutModel",
            "justify_items": null,
            "grid_row": null,
            "max_height": null,
            "align_content": null,
            "visibility": null,
            "align_self": null,
            "height": null,
            "min_height": null,
            "padding": null,
            "grid_auto_rows": null,
            "grid_gap": null,
            "max_width": null,
            "order": null,
            "_view_module_version": "1.2.0",
            "grid_template_areas": null,
            "object_position": null,
            "object_fit": null,
            "grid_auto_columns": null,
            "margin": null,
            "display": null,
            "left": null
          }
        },
        "593fc9714f6841a8b16ed0a29ea19311": {
          "model_module": "@jupyter-widgets/controls",
          "model_name": "ProgressStyleModel",
          "model_module_version": "1.5.0",
          "state": {
            "_view_name": "StyleView",
            "_model_name": "ProgressStyleModel",
            "description_width": "",
            "_view_module": "@jupyter-widgets/base",
            "_model_module_version": "1.5.0",
            "_view_count": null,
            "_view_module_version": "1.2.0",
            "bar_color": null,
            "_model_module": "@jupyter-widgets/controls"
          }
        },
        "ebca4fffaa5c4ed2a95775dd79fc704e": {
          "model_module": "@jupyter-widgets/base",
          "model_name": "LayoutModel",
          "model_module_version": "1.2.0",
          "state": {
            "_view_name": "LayoutView",
            "grid_template_rows": null,
            "right": null,
            "justify_content": null,
            "_view_module": "@jupyter-widgets/base",
            "overflow": null,
            "_model_module_version": "1.2.0",
            "_view_count": null,
            "flex_flow": null,
            "width": null,
            "min_width": null,
            "border": null,
            "align_items": null,
            "bottom": null,
            "_model_module": "@jupyter-widgets/base",
            "top": null,
            "grid_column": null,
            "overflow_y": null,
            "overflow_x": null,
            "grid_auto_flow": null,
            "grid_area": null,
            "grid_template_columns": null,
            "flex": null,
            "_model_name": "LayoutModel",
            "justify_items": null,
            "grid_row": null,
            "max_height": null,
            "align_content": null,
            "visibility": null,
            "align_self": null,
            "height": null,
            "min_height": null,
            "padding": null,
            "grid_auto_rows": null,
            "grid_gap": null,
            "max_width": null,
            "order": null,
            "_view_module_version": "1.2.0",
            "grid_template_areas": null,
            "object_position": null,
            "object_fit": null,
            "grid_auto_columns": null,
            "margin": null,
            "display": null,
            "left": null
          }
        },
        "93c1804cfac84e5ca6e5e9798b22c5d0": {
          "model_module": "@jupyter-widgets/controls",
          "model_name": "DescriptionStyleModel",
          "model_module_version": "1.5.0",
          "state": {
            "_view_name": "StyleView",
            "_model_name": "DescriptionStyleModel",
            "description_width": "",
            "_view_module": "@jupyter-widgets/base",
            "_model_module_version": "1.5.0",
            "_view_count": null,
            "_view_module_version": "1.2.0",
            "_model_module": "@jupyter-widgets/controls"
          }
        },
        "ae817141f13e48ec88dad9a2a3de190b": {
          "model_module": "@jupyter-widgets/base",
          "model_name": "LayoutModel",
          "model_module_version": "1.2.0",
          "state": {
            "_view_name": "LayoutView",
            "grid_template_rows": null,
            "right": null,
            "justify_content": null,
            "_view_module": "@jupyter-widgets/base",
            "overflow": null,
            "_model_module_version": "1.2.0",
            "_view_count": null,
            "flex_flow": null,
            "width": null,
            "min_width": null,
            "border": null,
            "align_items": null,
            "bottom": null,
            "_model_module": "@jupyter-widgets/base",
            "top": null,
            "grid_column": null,
            "overflow_y": null,
            "overflow_x": null,
            "grid_auto_flow": null,
            "grid_area": null,
            "grid_template_columns": null,
            "flex": null,
            "_model_name": "LayoutModel",
            "justify_items": null,
            "grid_row": null,
            "max_height": null,
            "align_content": null,
            "visibility": null,
            "align_self": null,
            "height": null,
            "min_height": null,
            "padding": null,
            "grid_auto_rows": null,
            "grid_gap": null,
            "max_width": null,
            "order": null,
            "_view_module_version": "1.2.0",
            "grid_template_areas": null,
            "object_position": null,
            "object_fit": null,
            "grid_auto_columns": null,
            "margin": null,
            "display": null,
            "left": null
          }
        },
        "da8398634b7b453c9199500d11dc71d9": {
          "model_module": "@jupyter-widgets/controls",
          "model_name": "HBoxModel",
          "model_module_version": "1.5.0",
          "state": {
            "_view_name": "HBoxView",
            "_dom_classes": [],
            "_model_name": "HBoxModel",
            "_view_module": "@jupyter-widgets/controls",
            "_model_module_version": "1.5.0",
            "_view_count": null,
            "_view_module_version": "1.5.0",
            "box_style": "",
            "layout": "IPY_MODEL_61680c742b2346269597df1d18088a61",
            "_model_module": "@jupyter-widgets/controls",
            "children": [
              "IPY_MODEL_cfe31615ae7d45db9829808faa36802e",
              "IPY_MODEL_7f89fa248ed4468580757664b394a447",
              "IPY_MODEL_1fade269b7a94989bbd9a87024984996"
            ]
          }
        },
        "61680c742b2346269597df1d18088a61": {
          "model_module": "@jupyter-widgets/base",
          "model_name": "LayoutModel",
          "model_module_version": "1.2.0",
          "state": {
            "_view_name": "LayoutView",
            "grid_template_rows": null,
            "right": null,
            "justify_content": null,
            "_view_module": "@jupyter-widgets/base",
            "overflow": null,
            "_model_module_version": "1.2.0",
            "_view_count": null,
            "flex_flow": null,
            "width": null,
            "min_width": null,
            "border": null,
            "align_items": null,
            "bottom": null,
            "_model_module": "@jupyter-widgets/base",
            "top": null,
            "grid_column": null,
            "overflow_y": null,
            "overflow_x": null,
            "grid_auto_flow": null,
            "grid_area": null,
            "grid_template_columns": null,
            "flex": null,
            "_model_name": "LayoutModel",
            "justify_items": null,
            "grid_row": null,
            "max_height": null,
            "align_content": null,
            "visibility": null,
            "align_self": null,
            "height": null,
            "min_height": null,
            "padding": null,
            "grid_auto_rows": null,
            "grid_gap": null,
            "max_width": null,
            "order": null,
            "_view_module_version": "1.2.0",
            "grid_template_areas": null,
            "object_position": null,
            "object_fit": null,
            "grid_auto_columns": null,
            "margin": null,
            "display": null,
            "left": null
          }
        },
        "cfe31615ae7d45db9829808faa36802e": {
          "model_module": "@jupyter-widgets/controls",
          "model_name": "HTMLModel",
          "model_module_version": "1.5.0",
          "state": {
            "_view_name": "HTMLView",
            "style": "IPY_MODEL_0e58cc320094421fbfafdef41cc54f87",
            "_dom_classes": [],
            "description": "",
            "_model_name": "HTMLModel",
            "placeholder": "​",
            "_view_module": "@jupyter-widgets/controls",
            "_model_module_version": "1.5.0",
            "value": "Downloading: 100%",
            "_view_count": null,
            "_view_module_version": "1.5.0",
            "description_tooltip": null,
            "_model_module": "@jupyter-widgets/controls",
            "layout": "IPY_MODEL_8016eb9915934b7e8e5c7226b12a396b"
          }
        },
        "7f89fa248ed4468580757664b394a447": {
          "model_module": "@jupyter-widgets/controls",
          "model_name": "FloatProgressModel",
          "model_module_version": "1.5.0",
          "state": {
            "_view_name": "ProgressView",
            "style": "IPY_MODEL_3ba3a834a13f4c25a6ef3031408975a0",
            "_dom_classes": [],
            "description": "",
            "_model_name": "FloatProgressModel",
            "bar_style": "success",
            "max": 337,
            "_view_module": "@jupyter-widgets/controls",
            "_model_module_version": "1.5.0",
            "value": 337,
            "_view_count": null,
            "_view_module_version": "1.5.0",
            "orientation": "horizontal",
            "min": 0,
            "description_tooltip": null,
            "_model_module": "@jupyter-widgets/controls",
            "layout": "IPY_MODEL_a9d859971cf945efacd99da093ee8b91"
          }
        },
        "1fade269b7a94989bbd9a87024984996": {
          "model_module": "@jupyter-widgets/controls",
          "model_name": "HTMLModel",
          "model_module_version": "1.5.0",
          "state": {
            "_view_name": "HTMLView",
            "style": "IPY_MODEL_1859230366ce4099839e1c4fdbf619fe",
            "_dom_classes": [],
            "description": "",
            "_model_name": "HTMLModel",
            "placeholder": "​",
            "_view_module": "@jupyter-widgets/controls",
            "_model_module_version": "1.5.0",
            "value": " 337/337 [00:00&lt;00:00, 12.9kB/s]",
            "_view_count": null,
            "_view_module_version": "1.5.0",
            "description_tooltip": null,
            "_model_module": "@jupyter-widgets/controls",
            "layout": "IPY_MODEL_1ac10297a8a549fcb5e0be591e84f741"
          }
        },
        "0e58cc320094421fbfafdef41cc54f87": {
          "model_module": "@jupyter-widgets/controls",
          "model_name": "DescriptionStyleModel",
          "model_module_version": "1.5.0",
          "state": {
            "_view_name": "StyleView",
            "_model_name": "DescriptionStyleModel",
            "description_width": "",
            "_view_module": "@jupyter-widgets/base",
            "_model_module_version": "1.5.0",
            "_view_count": null,
            "_view_module_version": "1.2.0",
            "_model_module": "@jupyter-widgets/controls"
          }
        },
        "8016eb9915934b7e8e5c7226b12a396b": {
          "model_module": "@jupyter-widgets/base",
          "model_name": "LayoutModel",
          "model_module_version": "1.2.0",
          "state": {
            "_view_name": "LayoutView",
            "grid_template_rows": null,
            "right": null,
            "justify_content": null,
            "_view_module": "@jupyter-widgets/base",
            "overflow": null,
            "_model_module_version": "1.2.0",
            "_view_count": null,
            "flex_flow": null,
            "width": null,
            "min_width": null,
            "border": null,
            "align_items": null,
            "bottom": null,
            "_model_module": "@jupyter-widgets/base",
            "top": null,
            "grid_column": null,
            "overflow_y": null,
            "overflow_x": null,
            "grid_auto_flow": null,
            "grid_area": null,
            "grid_template_columns": null,
            "flex": null,
            "_model_name": "LayoutModel",
            "justify_items": null,
            "grid_row": null,
            "max_height": null,
            "align_content": null,
            "visibility": null,
            "align_self": null,
            "height": null,
            "min_height": null,
            "padding": null,
            "grid_auto_rows": null,
            "grid_gap": null,
            "max_width": null,
            "order": null,
            "_view_module_version": "1.2.0",
            "grid_template_areas": null,
            "object_position": null,
            "object_fit": null,
            "grid_auto_columns": null,
            "margin": null,
            "display": null,
            "left": null
          }
        },
        "3ba3a834a13f4c25a6ef3031408975a0": {
          "model_module": "@jupyter-widgets/controls",
          "model_name": "ProgressStyleModel",
          "model_module_version": "1.5.0",
          "state": {
            "_view_name": "StyleView",
            "_model_name": "ProgressStyleModel",
            "description_width": "",
            "_view_module": "@jupyter-widgets/base",
            "_model_module_version": "1.5.0",
            "_view_count": null,
            "_view_module_version": "1.2.0",
            "bar_color": null,
            "_model_module": "@jupyter-widgets/controls"
          }
        },
        "a9d859971cf945efacd99da093ee8b91": {
          "model_module": "@jupyter-widgets/base",
          "model_name": "LayoutModel",
          "model_module_version": "1.2.0",
          "state": {
            "_view_name": "LayoutView",
            "grid_template_rows": null,
            "right": null,
            "justify_content": null,
            "_view_module": "@jupyter-widgets/base",
            "overflow": null,
            "_model_module_version": "1.2.0",
            "_view_count": null,
            "flex_flow": null,
            "width": null,
            "min_width": null,
            "border": null,
            "align_items": null,
            "bottom": null,
            "_model_module": "@jupyter-widgets/base",
            "top": null,
            "grid_column": null,
            "overflow_y": null,
            "overflow_x": null,
            "grid_auto_flow": null,
            "grid_area": null,
            "grid_template_columns": null,
            "flex": null,
            "_model_name": "LayoutModel",
            "justify_items": null,
            "grid_row": null,
            "max_height": null,
            "align_content": null,
            "visibility": null,
            "align_self": null,
            "height": null,
            "min_height": null,
            "padding": null,
            "grid_auto_rows": null,
            "grid_gap": null,
            "max_width": null,
            "order": null,
            "_view_module_version": "1.2.0",
            "grid_template_areas": null,
            "object_position": null,
            "object_fit": null,
            "grid_auto_columns": null,
            "margin": null,
            "display": null,
            "left": null
          }
        },
        "1859230366ce4099839e1c4fdbf619fe": {
          "model_module": "@jupyter-widgets/controls",
          "model_name": "DescriptionStyleModel",
          "model_module_version": "1.5.0",
          "state": {
            "_view_name": "StyleView",
            "_model_name": "DescriptionStyleModel",
            "description_width": "",
            "_view_module": "@jupyter-widgets/base",
            "_model_module_version": "1.5.0",
            "_view_count": null,
            "_view_module_version": "1.2.0",
            "_model_module": "@jupyter-widgets/controls"
          }
        },
        "1ac10297a8a549fcb5e0be591e84f741": {
          "model_module": "@jupyter-widgets/base",
          "model_name": "LayoutModel",
          "model_module_version": "1.2.0",
          "state": {
            "_view_name": "LayoutView",
            "grid_template_rows": null,
            "right": null,
            "justify_content": null,
            "_view_module": "@jupyter-widgets/base",
            "overflow": null,
            "_model_module_version": "1.2.0",
            "_view_count": null,
            "flex_flow": null,
            "width": null,
            "min_width": null,
            "border": null,
            "align_items": null,
            "bottom": null,
            "_model_module": "@jupyter-widgets/base",
            "top": null,
            "grid_column": null,
            "overflow_y": null,
            "overflow_x": null,
            "grid_auto_flow": null,
            "grid_area": null,
            "grid_template_columns": null,
            "flex": null,
            "_model_name": "LayoutModel",
            "justify_items": null,
            "grid_row": null,
            "max_height": null,
            "align_content": null,
            "visibility": null,
            "align_self": null,
            "height": null,
            "min_height": null,
            "padding": null,
            "grid_auto_rows": null,
            "grid_gap": null,
            "max_width": null,
            "order": null,
            "_view_module_version": "1.2.0",
            "grid_template_areas": null,
            "object_position": null,
            "object_fit": null,
            "grid_auto_columns": null,
            "margin": null,
            "display": null,
            "left": null
          }
        },
        "4ba5655179884736ba703b3a695e2592": {
          "model_module": "@jupyter-widgets/controls",
          "model_name": "HBoxModel",
          "model_module_version": "1.5.0",
          "state": {
            "_view_name": "HBoxView",
            "_dom_classes": [],
            "_model_name": "HBoxModel",
            "_view_module": "@jupyter-widgets/controls",
            "_model_module_version": "1.5.0",
            "_view_count": null,
            "_view_module_version": "1.5.0",
            "box_style": "",
            "layout": "IPY_MODEL_c120553d93b14429b2e330dfec6d5967",
            "_model_module": "@jupyter-widgets/controls",
            "children": [
              "IPY_MODEL_b9babaaacb5844059eff002ef2a97d7e",
              "IPY_MODEL_dc8c23c0e0e949ca8a73de888e58992d",
              "IPY_MODEL_ca281dc3da4443b5bdd955875b1ee64b"
            ]
          }
        },
        "c120553d93b14429b2e330dfec6d5967": {
          "model_module": "@jupyter-widgets/base",
          "model_name": "LayoutModel",
          "model_module_version": "1.2.0",
          "state": {
            "_view_name": "LayoutView",
            "grid_template_rows": null,
            "right": null,
            "justify_content": null,
            "_view_module": "@jupyter-widgets/base",
            "overflow": null,
            "_model_module_version": "1.2.0",
            "_view_count": null,
            "flex_flow": null,
            "width": null,
            "min_width": null,
            "border": null,
            "align_items": null,
            "bottom": null,
            "_model_module": "@jupyter-widgets/base",
            "top": null,
            "grid_column": null,
            "overflow_y": null,
            "overflow_x": null,
            "grid_auto_flow": null,
            "grid_area": null,
            "grid_template_columns": null,
            "flex": null,
            "_model_name": "LayoutModel",
            "justify_items": null,
            "grid_row": null,
            "max_height": null,
            "align_content": null,
            "visibility": null,
            "align_self": null,
            "height": null,
            "min_height": null,
            "padding": null,
            "grid_auto_rows": null,
            "grid_gap": null,
            "max_width": null,
            "order": null,
            "_view_module_version": "1.2.0",
            "grid_template_areas": null,
            "object_position": null,
            "object_fit": null,
            "grid_auto_columns": null,
            "margin": null,
            "display": null,
            "left": null
          }
        },
        "b9babaaacb5844059eff002ef2a97d7e": {
          "model_module": "@jupyter-widgets/controls",
          "model_name": "HTMLModel",
          "model_module_version": "1.5.0",
          "state": {
            "_view_name": "HTMLView",
            "style": "IPY_MODEL_1a20bcfbd16741cf956a550edeae13b9",
            "_dom_classes": [],
            "description": "",
            "_model_name": "HTMLModel",
            "placeholder": "​",
            "_view_module": "@jupyter-widgets/controls",
            "_model_module_version": "1.5.0",
            "value": "Downloading: 100%",
            "_view_count": null,
            "_view_module_version": "1.5.0",
            "description_tooltip": null,
            "_model_module": "@jupyter-widgets/controls",
            "layout": "IPY_MODEL_c68add65e29545e38161bb297a86591e"
          }
        },
        "dc8c23c0e0e949ca8a73de888e58992d": {
          "model_module": "@jupyter-widgets/controls",
          "model_name": "FloatProgressModel",
          "model_module_version": "1.5.0",
          "state": {
            "_view_name": "ProgressView",
            "style": "IPY_MODEL_115ed14eb176417c8f8c5e54f880f113",
            "_dom_classes": [],
            "description": "",
            "_model_name": "FloatProgressModel",
            "bar_style": "success",
            "max": 440472042,
            "_view_module": "@jupyter-widgets/controls",
            "_model_module_version": "1.5.0",
            "value": 440472042,
            "_view_count": null,
            "_view_module_version": "1.5.0",
            "orientation": "horizontal",
            "min": 0,
            "description_tooltip": null,
            "_model_module": "@jupyter-widgets/controls",
            "layout": "IPY_MODEL_935b90c8744c496baf99b51cc8ad5892"
          }
        },
        "ca281dc3da4443b5bdd955875b1ee64b": {
          "model_module": "@jupyter-widgets/controls",
          "model_name": "HTMLModel",
          "model_module_version": "1.5.0",
          "state": {
            "_view_name": "HTMLView",
            "style": "IPY_MODEL_376ce667d5a84977bfa3148d21e412e6",
            "_dom_classes": [],
            "description": "",
            "_model_name": "HTMLModel",
            "placeholder": "​",
            "_view_module": "@jupyter-widgets/controls",
            "_model_module_version": "1.5.0",
            "value": " 440M/440M [00:07&lt;00:00, 56.2MB/s]",
            "_view_count": null,
            "_view_module_version": "1.5.0",
            "description_tooltip": null,
            "_model_module": "@jupyter-widgets/controls",
            "layout": "IPY_MODEL_9a01a496f20c4904b1c9c7c0574bcf6a"
          }
        },
        "1a20bcfbd16741cf956a550edeae13b9": {
          "model_module": "@jupyter-widgets/controls",
          "model_name": "DescriptionStyleModel",
          "model_module_version": "1.5.0",
          "state": {
            "_view_name": "StyleView",
            "_model_name": "DescriptionStyleModel",
            "description_width": "",
            "_view_module": "@jupyter-widgets/base",
            "_model_module_version": "1.5.0",
            "_view_count": null,
            "_view_module_version": "1.2.0",
            "_model_module": "@jupyter-widgets/controls"
          }
        },
        "c68add65e29545e38161bb297a86591e": {
          "model_module": "@jupyter-widgets/base",
          "model_name": "LayoutModel",
          "model_module_version": "1.2.0",
          "state": {
            "_view_name": "LayoutView",
            "grid_template_rows": null,
            "right": null,
            "justify_content": null,
            "_view_module": "@jupyter-widgets/base",
            "overflow": null,
            "_model_module_version": "1.2.0",
            "_view_count": null,
            "flex_flow": null,
            "width": null,
            "min_width": null,
            "border": null,
            "align_items": null,
            "bottom": null,
            "_model_module": "@jupyter-widgets/base",
            "top": null,
            "grid_column": null,
            "overflow_y": null,
            "overflow_x": null,
            "grid_auto_flow": null,
            "grid_area": null,
            "grid_template_columns": null,
            "flex": null,
            "_model_name": "LayoutModel",
            "justify_items": null,
            "grid_row": null,
            "max_height": null,
            "align_content": null,
            "visibility": null,
            "align_self": null,
            "height": null,
            "min_height": null,
            "padding": null,
            "grid_auto_rows": null,
            "grid_gap": null,
            "max_width": null,
            "order": null,
            "_view_module_version": "1.2.0",
            "grid_template_areas": null,
            "object_position": null,
            "object_fit": null,
            "grid_auto_columns": null,
            "margin": null,
            "display": null,
            "left": null
          }
        },
        "115ed14eb176417c8f8c5e54f880f113": {
          "model_module": "@jupyter-widgets/controls",
          "model_name": "ProgressStyleModel",
          "model_module_version": "1.5.0",
          "state": {
            "_view_name": "StyleView",
            "_model_name": "ProgressStyleModel",
            "description_width": "",
            "_view_module": "@jupyter-widgets/base",
            "_model_module_version": "1.5.0",
            "_view_count": null,
            "_view_module_version": "1.2.0",
            "bar_color": null,
            "_model_module": "@jupyter-widgets/controls"
          }
        },
        "935b90c8744c496baf99b51cc8ad5892": {
          "model_module": "@jupyter-widgets/base",
          "model_name": "LayoutModel",
          "model_module_version": "1.2.0",
          "state": {
            "_view_name": "LayoutView",
            "grid_template_rows": null,
            "right": null,
            "justify_content": null,
            "_view_module": "@jupyter-widgets/base",
            "overflow": null,
            "_model_module_version": "1.2.0",
            "_view_count": null,
            "flex_flow": null,
            "width": null,
            "min_width": null,
            "border": null,
            "align_items": null,
            "bottom": null,
            "_model_module": "@jupyter-widgets/base",
            "top": null,
            "grid_column": null,
            "overflow_y": null,
            "overflow_x": null,
            "grid_auto_flow": null,
            "grid_area": null,
            "grid_template_columns": null,
            "flex": null,
            "_model_name": "LayoutModel",
            "justify_items": null,
            "grid_row": null,
            "max_height": null,
            "align_content": null,
            "visibility": null,
            "align_self": null,
            "height": null,
            "min_height": null,
            "padding": null,
            "grid_auto_rows": null,
            "grid_gap": null,
            "max_width": null,
            "order": null,
            "_view_module_version": "1.2.0",
            "grid_template_areas": null,
            "object_position": null,
            "object_fit": null,
            "grid_auto_columns": null,
            "margin": null,
            "display": null,
            "left": null
          }
        },
        "376ce667d5a84977bfa3148d21e412e6": {
          "model_module": "@jupyter-widgets/controls",
          "model_name": "DescriptionStyleModel",
          "model_module_version": "1.5.0",
          "state": {
            "_view_name": "StyleView",
            "_model_name": "DescriptionStyleModel",
            "description_width": "",
            "_view_module": "@jupyter-widgets/base",
            "_model_module_version": "1.5.0",
            "_view_count": null,
            "_view_module_version": "1.2.0",
            "_model_module": "@jupyter-widgets/controls"
          }
        },
        "9a01a496f20c4904b1c9c7c0574bcf6a": {
          "model_module": "@jupyter-widgets/base",
          "model_name": "LayoutModel",
          "model_module_version": "1.2.0",
          "state": {
            "_view_name": "LayoutView",
            "grid_template_rows": null,
            "right": null,
            "justify_content": null,
            "_view_module": "@jupyter-widgets/base",
            "overflow": null,
            "_model_module_version": "1.2.0",
            "_view_count": null,
            "flex_flow": null,
            "width": null,
            "min_width": null,
            "border": null,
            "align_items": null,
            "bottom": null,
            "_model_module": "@jupyter-widgets/base",
            "top": null,
            "grid_column": null,
            "overflow_y": null,
            "overflow_x": null,
            "grid_auto_flow": null,
            "grid_area": null,
            "grid_template_columns": null,
            "flex": null,
            "_model_name": "LayoutModel",
            "justify_items": null,
            "grid_row": null,
            "max_height": null,
            "align_content": null,
            "visibility": null,
            "align_self": null,
            "height": null,
            "min_height": null,
            "padding": null,
            "grid_auto_rows": null,
            "grid_gap": null,
            "max_width": null,
            "order": null,
            "_view_module_version": "1.2.0",
            "grid_template_areas": null,
            "object_position": null,
            "object_fit": null,
            "grid_auto_columns": null,
            "margin": null,
            "display": null,
            "left": null
          }
        }
      }
    }
  },
  "cells": [
    {
      "cell_type": "markdown",
      "metadata": {
        "id": "view-in-github",
        "colab_type": "text"
      },
      "source": [
        "<a href=\"https://colab.research.google.com/github/nkimoto/signate/blob/main/SRWS-PSG/notebooks/bert_baseline.ipynb\" target=\"_parent\"><img src=\"https://colab.research.google.com/assets/colab-badge.svg\" alt=\"Open In Colab\"/></a>"
      ]
    },
    {
      "cell_type": "code",
      "metadata": {
        "id": "RUPFb9CD4A_z"
      },
      "source": [
        "#!pip uninstall torch-xla -y\n",
        "#!pip install cloud-tpu-client==0.10 https://storage.googleapis.com/tpu-pytorch/wheels/torch_xla-1.6-cp37-cp37m-linux_x86_64.whl\n",
        "#!pip uninstall torch -y\n",
        "#!pip install torch==1.6"
      ],
      "execution_count": 5,
      "outputs": []
    },
    {
      "cell_type": "code",
      "metadata": {
        "colab": {
          "base_uri": "https://localhost:8080/"
        },
        "id": "GmmPpkSGztPN",
        "outputId": "6ad1a1cf-2615-4b5b-bedb-86a62125f203"
      },
      "source": [
        "from google.colab import drive\n",
        "drive.mount('/content/drive')"
      ],
      "execution_count": 6,
      "outputs": [
        {
          "output_type": "stream",
          "name": "stdout",
          "text": [
            "Mounted at /content/drive\n"
          ]
        }
      ]
    },
    {
      "cell_type": "code",
      "metadata": {
        "colab": {
          "base_uri": "https://localhost:8080/"
        },
        "id": "jEbeorIl0-WR",
        "outputId": "bd7a37a5-81f4-42f8-cc5e-9b36e1b465de"
      },
      "source": [
        "!pip install torch\n",
        "!pip install transformers\n",
        "!pip install scikit-learn\n",
        "!pip install tqdm"
      ],
      "execution_count": 7,
      "outputs": [
        {
          "output_type": "stream",
          "name": "stdout",
          "text": [
            "Requirement already satisfied: torch in /usr/local/lib/python3.7/dist-packages (1.9.0+cu102)\n",
            "Requirement already satisfied: typing-extensions in /usr/local/lib/python3.7/dist-packages (from torch) (3.7.4.3)\n",
            "Collecting transformers\n",
            "  Downloading transformers-4.10.2-py3-none-any.whl (2.8 MB)\n",
            "\u001b[K     |████████████████████████████████| 2.8 MB 13.2 MB/s \n",
            "\u001b[?25hRequirement already satisfied: numpy>=1.17 in /usr/local/lib/python3.7/dist-packages (from transformers) (1.19.5)\n",
            "Collecting pyyaml>=5.1\n",
            "  Downloading PyYAML-5.4.1-cp37-cp37m-manylinux1_x86_64.whl (636 kB)\n",
            "\u001b[K     |████████████████████████████████| 636 kB 63.5 MB/s \n",
            "\u001b[?25hRequirement already satisfied: packaging in /usr/local/lib/python3.7/dist-packages (from transformers) (21.0)\n",
            "Collecting sacremoses\n",
            "  Downloading sacremoses-0.0.45-py3-none-any.whl (895 kB)\n",
            "\u001b[K     |████████████████████████████████| 895 kB 66.1 MB/s \n",
            "\u001b[?25hRequirement already satisfied: importlib-metadata in /usr/local/lib/python3.7/dist-packages (from transformers) (4.6.4)\n",
            "Requirement already satisfied: filelock in /usr/local/lib/python3.7/dist-packages (from transformers) (3.0.12)\n",
            "Collecting huggingface-hub>=0.0.12\n",
            "  Downloading huggingface_hub-0.0.17-py3-none-any.whl (52 kB)\n",
            "\u001b[K     |████████████████████████████████| 52 kB 1.8 MB/s \n",
            "\u001b[?25hRequirement already satisfied: tqdm>=4.27 in /usr/local/lib/python3.7/dist-packages (from transformers) (4.62.0)\n",
            "Requirement already satisfied: regex!=2019.12.17 in /usr/local/lib/python3.7/dist-packages (from transformers) (2019.12.20)\n",
            "Collecting tokenizers<0.11,>=0.10.1\n",
            "  Downloading tokenizers-0.10.3-cp37-cp37m-manylinux_2_5_x86_64.manylinux1_x86_64.manylinux_2_12_x86_64.manylinux2010_x86_64.whl (3.3 MB)\n",
            "\u001b[K     |████████████████████████████████| 3.3 MB 65.5 MB/s \n",
            "\u001b[?25hRequirement already satisfied: requests in /usr/local/lib/python3.7/dist-packages (from transformers) (2.23.0)\n",
            "Requirement already satisfied: typing-extensions in /usr/local/lib/python3.7/dist-packages (from huggingface-hub>=0.0.12->transformers) (3.7.4.3)\n",
            "Requirement already satisfied: pyparsing>=2.0.2 in /usr/local/lib/python3.7/dist-packages (from packaging->transformers) (2.4.7)\n",
            "Requirement already satisfied: zipp>=0.5 in /usr/local/lib/python3.7/dist-packages (from importlib-metadata->transformers) (3.5.0)\n",
            "Requirement already satisfied: certifi>=2017.4.17 in /usr/local/lib/python3.7/dist-packages (from requests->transformers) (2021.5.30)\n",
            "Requirement already satisfied: urllib3!=1.25.0,!=1.25.1,<1.26,>=1.21.1 in /usr/local/lib/python3.7/dist-packages (from requests->transformers) (1.24.3)\n",
            "Requirement already satisfied: chardet<4,>=3.0.2 in /usr/local/lib/python3.7/dist-packages (from requests->transformers) (3.0.4)\n",
            "Requirement already satisfied: idna<3,>=2.5 in /usr/local/lib/python3.7/dist-packages (from requests->transformers) (2.10)\n",
            "Requirement already satisfied: six in /usr/local/lib/python3.7/dist-packages (from sacremoses->transformers) (1.15.0)\n",
            "Requirement already satisfied: click in /usr/local/lib/python3.7/dist-packages (from sacremoses->transformers) (7.1.2)\n",
            "Requirement already satisfied: joblib in /usr/local/lib/python3.7/dist-packages (from sacremoses->transformers) (1.0.1)\n",
            "Installing collected packages: tokenizers, sacremoses, pyyaml, huggingface-hub, transformers\n",
            "  Attempting uninstall: pyyaml\n",
            "    Found existing installation: PyYAML 3.13\n",
            "    Uninstalling PyYAML-3.13:\n",
            "      Successfully uninstalled PyYAML-3.13\n",
            "Successfully installed huggingface-hub-0.0.17 pyyaml-5.4.1 sacremoses-0.0.45 tokenizers-0.10.3 transformers-4.10.2\n",
            "Requirement already satisfied: scikit-learn in /usr/local/lib/python3.7/dist-packages (0.22.2.post1)\n",
            "Requirement already satisfied: scipy>=0.17.0 in /usr/local/lib/python3.7/dist-packages (from scikit-learn) (1.4.1)\n",
            "Requirement already satisfied: numpy>=1.11.0 in /usr/local/lib/python3.7/dist-packages (from scikit-learn) (1.19.5)\n",
            "Requirement already satisfied: joblib>=0.11 in /usr/local/lib/python3.7/dist-packages (from scikit-learn) (1.0.1)\n",
            "Requirement already satisfied: tqdm in /usr/local/lib/python3.7/dist-packages (4.62.0)\n"
          ]
        }
      ]
    },
    {
      "cell_type": "code",
      "metadata": {
        "id": "o-CUUdCPd6UP"
      },
      "source": [
        "import torch\n",
        "#import torch_xla\n",
        "#import torch_xla.core.xla_model as xm\n",
        "#device = xm.xla_device()\n",
        "#print(device)"
      ],
      "execution_count": 38,
      "outputs": []
    },
    {
      "cell_type": "code",
      "metadata": {
        "id": "B436dbN2dUkb"
      },
      "source": [
        "import os\n",
        "import sys\n",
        "import math\n",
        "import random\n",
        "import time\n",
        "import warnings\n",
        "\n",
        "import numpy as np\n",
        "import pandas as pd\n",
        "import torch\n",
        "import torch.nn as nn\n",
        "import transformers as T\n",
        "from sklearn.metrics import fbeta_score\n",
        "from sklearn.model_selection import StratifiedKFold\n",
        "from torch.utils.data import DataLoader, Dataset\n",
        "from tqdm import tqdm\n",
        "\n",
        "from logging import INFO, FileHandler, Formatter, StreamHandler, getLogger"
      ],
      "execution_count": 9,
      "outputs": []
    },
    {
      "cell_type": "code",
      "metadata": {
        "id": "KVALdafhdUkq"
      },
      "source": [
        "BATCH_SIZE = 16\n",
        "NUM_WORKERS = 4\n",
        "NUM_EPOCH = 4\n",
        "NUM_FOLD = 5\n",
        "#BERT_MODEL_NAME = \"bert-base-uncased\"\n",
        "#BERT_MODEL_NAME = \"allenai/scibert_scivocab_uncased\"\n",
        "BERT_MODEL_NAME = \"microsoft/BiomedNLP-PubMedBERT-base-uncased-abstract\"\n",
        "\n",
        "#SAVE_MODEL_NAME = \"scibert_scivocab_uncased\"\n",
        "SAVE_MODEL_NAME = \"pubmedbert_uncased\"\n",
        "\n",
        "TEXT_TYPE = \"title+abstract\"\n",
        "if TEXT_TYPE == \"title\":\n",
        "  MAX_TEXT_LENGTH = 72\n",
        "elif TEXT_TYPE == \"abstract\":\n",
        "  MAX_TEXT_LENGTH = 512\n",
        "elif TEXT_TYPE == \"title+abstract\":\n",
        "  MAX_TEXT_LENGTH = 512\n",
        "\n",
        "# モデル設定\n",
        "ITERS_TO_ACCUMULATE = 2    #パラメータ更新頻度 1で通常学習\n",
        "FIX_PARAM = False    #パラメータ固定を実施するか\n",
        "CHANGE_LEARNING_RATE = False    #層ごとに学習率を変更するか"
      ],
      "execution_count": 39,
      "outputs": []
    },
    {
      "cell_type": "code",
      "metadata": {
        "id": "pqdzff_6dUko"
      },
      "source": [
        "DATA_DIR = \"./drive/MyDrive/signate/rawdata/\"\n",
        "OUTPUT_DIR = f\"./results_{SAVE_MODEL_NAME}_{TEXT_TYPE}/\"\n",
        "try:\n",
        "  os.mkdir(OUTPUT_DIR)\n",
        "except:\n",
        "  pass"
      ],
      "execution_count": 40,
      "outputs": []
    },
    {
      "cell_type": "code",
      "metadata": {
        "id": "PcuREuMudUks"
      },
      "source": [
        "#warnings.filterwarnings(\"ignore\")"
      ],
      "execution_count": 41,
      "outputs": []
    },
    {
      "cell_type": "code",
      "metadata": {
        "id": "WhD5SjLldUku",
        "colab": {
          "base_uri": "https://localhost:8080/"
        },
        "outputId": "0918cdd1-695c-4d68-b2a2-4f5f209444ac"
      },
      "source": [
        "device = torch.device(\"cuda\" if torch.cuda.is_available() else \"cpu\")\n",
        "print(device)"
      ],
      "execution_count": 42,
      "outputs": [
        {
          "output_type": "stream",
          "name": "stdout",
          "text": [
            "cuda\n"
          ]
        }
      ]
    },
    {
      "cell_type": "code",
      "metadata": {
        "id": "pXKWO9uEdUkx"
      },
      "source": [
        "def init_logger(log_file=OUTPUT_DIR + \"train.log\"):\n",
        "    logger = getLogger(__name__)\n",
        "    logger.setLevel(INFO)\n",
        "    handler1 = StreamHandler()\n",
        "    handler1.setFormatter(Formatter(\"%(message)s\"))\n",
        "    handler2 = FileHandler(filename=log_file)\n",
        "    handler2.setFormatter(Formatter(\"%(message)s\"))\n",
        "    logger.addHandler(handler1)\n",
        "    logger.addHandler(handler2)\n",
        "    return logger\n",
        "\n",
        "LOGGER = init_logger()"
      ],
      "execution_count": 43,
      "outputs": []
    },
    {
      "cell_type": "code",
      "metadata": {
        "id": "HklwmemYdUk1"
      },
      "source": [
        "def seed_torch(seed=42):\n",
        "    random.seed(seed)\n",
        "    os.environ[\"PYTHONHASHSEED\"] = str(seed)\n",
        "    np.random.seed(seed)\n",
        "    torch.manual_seed(seed)\n",
        "    torch.cuda.manual_seed(seed)\n",
        "    torch.cuda.manual_seed_all(seed)\n",
        "    torch.backends.cudnn.deterministic = True\n",
        "\n",
        "seed = 471\n",
        "seed_torch(seed)"
      ],
      "execution_count": 44,
      "outputs": []
    },
    {
      "cell_type": "markdown",
      "metadata": {
        "id": "iGqfOCSZdUk7"
      },
      "source": [
        "## データ読み込み"
      ]
    },
    {
      "cell_type": "code",
      "metadata": {
        "id": "MNqWcnchdUlC"
      },
      "source": [
        "train = pd.read_csv(DATA_DIR + \"train.csv\")\n",
        "test = pd.read_csv(DATA_DIR + \"test.csv\")\n",
        "sub = pd.read_csv(DATA_DIR + \"sample_submit.csv\", header=None)\n",
        "sub.columns = [\"id\", \"judgement\"]"
      ],
      "execution_count": 45,
      "outputs": []
    },
    {
      "cell_type": "code",
      "metadata": {
        "id": "_TzgWKXSdUlF",
        "colab": {
          "base_uri": "https://localhost:8080/"
        },
        "outputId": "05bc120e-b78d-4157-f019-e9574c444cd7"
      },
      "source": [
        "# この値を境に、モデルの出力を 0 と 1 にします。\n",
        "border = len(train[train[\"judgement\"] == 1]) / len(train[\"judgement\"])\n",
        "print(border)"
      ],
      "execution_count": 46,
      "outputs": [
        {
          "output_type": "stream",
          "name": "stdout",
          "text": [
            "0.023282372444280715\n"
          ]
        }
      ]
    },
    {
      "cell_type": "markdown",
      "metadata": {
        "id": "a4GLVUUDdUlJ"
      },
      "source": [
        "## 前処理"
      ]
    },
    {
      "cell_type": "code",
      "metadata": {
        "id": "gPZsSvdHdUlL"
      },
      "source": [
        "def get_train_data(train):\n",
        "    if TEXT_TYPE == \"abstract\":\n",
        "        train_index = train.index.tolist()\n",
        "        train = train.dropna()\n",
        "        train_remain_index = train.index.tolist()\n",
        "        train_drop_index = list(set(train_index) - set(train_remain_index)).sort()\n",
        "        train = train.reset_index(drop=True)\n",
        "\n",
        "    elif TEXT_TYPE == \"title+abstract\":\n",
        "        train[\"title+abstract\"] = train[\"title\"]\n",
        "        train.loc[train.notnull().all(axis=1), \"title+abstract\"] = train[\"title\"] + \"Abstract: \" + train[\"abstract\"]\n",
        "\n",
        "    # 交差検証 用の番号を振ります。\n",
        "    Fold = StratifiedKFold(n_splits=5, shuffle=True, random_state=seed)\n",
        "    for n, (train_index, val_index) in enumerate(Fold.split(train, train[\"judgement\"])):\n",
        "        train.loc[val_index, \"fold\"] = int(n)\n",
        "    train[\"fold\"] = train[\"fold\"].astype(np.uint8)\n",
        "\n",
        "    return train\n",
        "\n",
        "\n",
        "def get_test_data(test):\n",
        "    if TEXT_TYPE == \"abstract\": \n",
        "        test_index = test.index.tolist()\n",
        "        test = test.dropna()\n",
        "        test_remain_index = test.index.tolist()\n",
        "        test_drop_index = list(set(test_index) - set(test_remain_index)).sort()\n",
        "        test = test.reset_index(drop=True)\n",
        "    \n",
        "    elif TEXT_TYPE == \"title+abstract\":\n",
        "        train[\"title+abstract\"] = train[\"title\"]\n",
        "        train.loc[train.notnull().all(axis=1), \"title+abstract\"] = train[\"title\"] + \"Abstract: \" + train[\"abstract\"]\n",
        "\n",
        "    return test\n",
        "\n",
        "\n",
        "train = get_train_data(train)\n",
        "test = get_test_data(test)"
      ],
      "execution_count": 51,
      "outputs": []
    },
    {
      "cell_type": "markdown",
      "metadata": {
        "id": "Vw5N4cNZdUlP"
      },
      "source": [
        "## データセット定義"
      ]
    },
    {
      "cell_type": "code",
      "metadata": {
        "id": "HmWZoPxAdUlQ"
      },
      "source": [
        "class BaseDataset(Dataset):\n",
        "    def __init__(self, df, model_name, include_labels=True):\n",
        "        tokenizer = T.BertTokenizer.from_pretrained(model_name)\n",
        "\n",
        "        self.df = df\n",
        "        self.include_labels = include_labels\n",
        "\n",
        "        self.title = df[TEXT_TYPE].tolist()\n",
        "        self.encoded = tokenizer.batch_encode_plus(\n",
        "            self.title,\n",
        "            padding = 'max_length',            \n",
        "            max_length = MAX_TEXT_LENGTH,\n",
        "            truncation = True,\n",
        "            return_attention_mask=True\n",
        "        )\n",
        "        \n",
        "        if self.include_labels:\n",
        "            self.labels = df[\"judgement\"].values\n",
        "\n",
        "    def __len__(self):\n",
        "        return len(self.df)\n",
        "\n",
        "    def __getitem__(self, idx):\n",
        "        input_ids = torch.tensor(self.encoded['input_ids'][idx])\n",
        "        attention_mask = torch.tensor(self.encoded['attention_mask'][idx])\n",
        "\n",
        "        if self.include_labels:\n",
        "            label = torch.tensor(self.labels[idx]).float()\n",
        "            return input_ids, attention_mask, label\n",
        "\n",
        "        return input_ids, attention_mask"
      ],
      "execution_count": 52,
      "outputs": []
    },
    {
      "cell_type": "markdown",
      "metadata": {
        "id": "DlI7U5-jdUlR"
      },
      "source": [
        "## モデル定義"
      ]
    },
    {
      "cell_type": "code",
      "metadata": {
        "id": "3qj6zKiUdUlS"
      },
      "source": [
        "class BaseModel(nn.Module):\n",
        "    def __init__(self, model_name):\n",
        "        super().__init__()\n",
        "\n",
        "        self.model = T.BertForSequenceClassification.from_pretrained(model_name, num_labels=1)\n",
        "        self.sigmoid = nn.Sigmoid()\n",
        "\n",
        "    def forward(self, input_ids, attention_mask):\n",
        "        out = self.model(input_ids=input_ids, attention_mask=attention_mask)\n",
        "        out = self.sigmoid(out.logits).squeeze()\n",
        "\n",
        "        return out"
      ],
      "execution_count": 53,
      "outputs": []
    },
    {
      "cell_type": "markdown",
      "metadata": {
        "id": "m7jj4F_UdUlS"
      },
      "source": [
        "# ツール"
      ]
    },
    {
      "cell_type": "code",
      "metadata": {
        "id": "RhlOr6XmdUlT"
      },
      "source": [
        "class AverageMeter(object):\n",
        "    \"\"\"Computes and stores the average and current value\"\"\"\n",
        "\n",
        "    def __init__(self):\n",
        "        self.reset()\n",
        "\n",
        "    def reset(self):\n",
        "        self.val = 0\n",
        "        self.avg = 0\n",
        "        self.sum = 0\n",
        "        self.count = 0\n",
        "\n",
        "    def update(self, val, n=1):\n",
        "        self.val = val\n",
        "        self.sum += val * n\n",
        "        self.count += n\n",
        "        self.avg = self.sum / self.count\n",
        "\n",
        "\n",
        "def asMinutes(s):\n",
        "    m = math.floor(s / 60)\n",
        "    s -= m * 60\n",
        "    return \"%dm %ds\" % (m, s)\n",
        "\n",
        "\n",
        "def timeSince(since, percent):\n",
        "    now = time.time()\n",
        "    s = now - since\n",
        "    es = s / (percent)\n",
        "    rs = es - s\n",
        "    return \"%s (remain %s)\" % (asMinutes(s), asMinutes(rs))"
      ],
      "execution_count": 54,
      "outputs": []
    },
    {
      "cell_type": "markdown",
      "metadata": {
        "id": "YP2NDscVdUlU"
      },
      "source": [
        "## 学習補助関数"
      ]
    },
    {
      "cell_type": "code",
      "metadata": {
        "id": "dTER8dpqdUlU"
      },
      "source": [
        "def train_fn(train_loader, model, criterion, optimizer, epoch, device):\n",
        "    start = end = time.time()\n",
        "    losses = AverageMeter()\n",
        "    \n",
        "    # switch to train mode\n",
        "    model.train()\n",
        "    \n",
        "    #step = 0\n",
        "    for step, (input_ids, attention_mask, labels) in enumerate(train_loader):\n",
        "    #for input_ids, attention_mask, labels in train_loader:\n",
        "        optimizer.zero_grad()\n",
        "        \n",
        "        input_ids = input_ids.to(device)\n",
        "        attention_mask = attention_mask.to(device)\n",
        "        labels = labels.to(device)\n",
        "        batch_size = labels.size(0)\n",
        "\n",
        "        y_preds = model(input_ids, attention_mask)\n",
        "\n",
        "        loss = criterion(y_preds, labels)\n",
        "\n",
        "        # record loss\n",
        "        losses.update(loss.item(), batch_size)\n",
        "        loss.backward()\n",
        "\n",
        "        optimizer.step()\n",
        "\n",
        "        if step % 100 == 0 or step == (len(train_loader) - 1):\n",
        "            print(\n",
        "                f\"Epoch: [{epoch + 1}][{step}/{len(train_loader)}] \"\n",
        "                f\"Elapsed {timeSince(start, float(step + 1) / len(train_loader)):s} \"\n",
        "                f\"Loss: {losses.avg:.4f} \"\n",
        "            )\n",
        "        #step += 1\n",
        "    return losses.avg"
      ],
      "execution_count": 55,
      "outputs": []
    },
    {
      "cell_type": "code",
      "metadata": {
        "id": "4c2wwAUP4mLI"
      },
      "source": [
        "def train_fn(train_loader, model, criterion, optimizer, epoch, device):\n",
        "    start = end = time.time()\n",
        "    losses = AverageMeter()\n",
        "    \n",
        "    # switch to train mode\n",
        "    model.train()\n",
        "    \n",
        "    #step = 0\n",
        "    optimizer.zero_grad()\n",
        "    for step, (input_ids, attention_mask, labels) in enumerate(train_loader):\n",
        "    #for input_ids, attention_mask, labels in train_loader:\n",
        "        \n",
        "        input_ids = input_ids.to(device)\n",
        "        attention_mask = attention_mask.to(device)\n",
        "        labels = labels.to(device)\n",
        "        batch_size = labels.size(0)\n",
        "\n",
        "        y_preds = model(input_ids, attention_mask)\n",
        "\n",
        "        loss = criterion(y_preds, labels)\n",
        "        loss = loss / ITERS_TO_ACCUMULATE\n",
        "\n",
        "        # record loss\n",
        "        losses.update(loss.item(), batch_size)\n",
        "        loss.backward()\n",
        "\n",
        "        if (step + 1) % ITERS_TO_ACCUMULATE == 0:\n",
        "          optimizer.step()\n",
        "          optimizer.zero_grad()\n",
        "\n",
        "        #optimizer.step()\n",
        "\n",
        "        if step % 100 == 0 or step == (len(train_loader) - 1):\n",
        "            print(\n",
        "                f\"Epoch: [{epoch + 1}][{step}/{len(train_loader)}] \"\n",
        "                f\"Elapsed {timeSince(start, float(step + 1) / len(train_loader)):s} \"\n",
        "                f\"Loss: {losses.avg:.4f} \"\n",
        "            )\n",
        "        #step += 1\n",
        "    return losses.avg"
      ],
      "execution_count": 56,
      "outputs": []
    },
    {
      "cell_type": "markdown",
      "metadata": {
        "id": "MfrnL_RrdUlX"
      },
      "source": [
        "## 評価補助関数"
      ]
    },
    {
      "cell_type": "code",
      "metadata": {
        "id": "PyfJMJxIdUlZ"
      },
      "source": [
        "def valid_fn(valid_loader, model, criterion, device):\n",
        "    start = end = time.time()\n",
        "    losses = AverageMeter()\n",
        "\n",
        "    # switch to evaluation mode\n",
        "    model.eval()\n",
        "    preds = []\n",
        "\n",
        "    #step = 0\n",
        "    for step, (input_ids, attention_mask, labels) in enumerate(valid_loader):\n",
        "    #for input_ids, attention_mask, labels in valid_loader:\n",
        "        input_ids = input_ids.to(device)\n",
        "        attention_mask = attention_mask.to(device)\n",
        "        labels = labels.to(device)\n",
        "        batch_size = labels.size(0)\n",
        "\n",
        "        # compute loss\n",
        "        with torch.no_grad():\n",
        "            y_preds = model(input_ids, attention_mask)\n",
        "\n",
        "        loss = criterion(y_preds, labels)\n",
        "        losses.update(loss.item(), batch_size)\n",
        "\n",
        "        # record score\n",
        "        preds.append(y_preds.to(\"cpu\").numpy())\n",
        "\n",
        "        if step % 100 == 0 or step == (len(valid_loader) - 1):\n",
        "            print(\n",
        "                f\"EVAL: [{step}/{len(valid_loader)}] \"\n",
        "                f\"Elapsed {timeSince(start, float(step + 1) / len(valid_loader)):s} \"\n",
        "                f\"Loss: {losses.avg:.4f} \"\n",
        "            )\n",
        "        #step += 1\n",
        "\n",
        "    predictions = np.concatenate(preds)\n",
        "    return losses.avg, predictions"
      ],
      "execution_count": 57,
      "outputs": []
    },
    {
      "cell_type": "markdown",
      "metadata": {
        "id": "PFuk6VbqdUlb"
      },
      "source": [
        "## 推論関数"
      ]
    },
    {
      "cell_type": "code",
      "metadata": {
        "id": "UbIKoQV3dUlc"
      },
      "source": [
        "def inference():\n",
        "    predictions = []\n",
        "\n",
        "    test_dataset = BaseDataset(test, BERT_MODEL_NAME, include_labels=False)\n",
        "    test_loader = DataLoader(\n",
        "        test_dataset, \n",
        "        batch_size=BATCH_SIZE, \n",
        "        shuffle=False, \n",
        "        num_workers=NUM_WORKERS, \n",
        "        pin_memory=True\n",
        "    )\n",
        "\n",
        "    for fold in range(NUM_FOLD):\n",
        "        LOGGER.info(f\"========== model: {SAVE_MODEL_NAME} fold: {fold} inference ==========\")\n",
        "        model = BaseModel(BERT_MODEL_NAME)\n",
        "        model.to(device)\n",
        "        model.load_state_dict(torch.load(OUTPUT_DIR + f\"{SAVE_MODEL_NAME}_fold{fold}_best.pth\")[\"model\"])\n",
        "        model.eval()\n",
        "        preds = []\n",
        "        for i, (input_ids, attention_mask) in tqdm(enumerate(test_loader), total=len(test_loader)):\n",
        "            input_ids = input_ids.to(device)\n",
        "            attention_mask = attention_mask.to(device)\n",
        "            with torch.no_grad():\n",
        "                y_preds = model(input_ids, attention_mask)\n",
        "            preds.append(y_preds.to(\"cpu\").numpy())\n",
        "        preds = np.concatenate(preds)\n",
        "        predictions.append(preds)\n",
        "    predictions = np.mean(predictions, axis=0)\n",
        "\n",
        "    return predictions"
      ],
      "execution_count": 58,
      "outputs": []
    },
    {
      "cell_type": "markdown",
      "metadata": {
        "id": "JUO782fVdUld"
      },
      "source": [
        "## 学習"
      ]
    },
    {
      "cell_type": "code",
      "metadata": {
        "id": "g5jyeiaTdUld"
      },
      "source": [
        "def train_loop(train, fold):\n",
        "\n",
        "    LOGGER.info(f\"========== fold: {fold} training ==========\")\n",
        "\n",
        "    # ====================================================\n",
        "    # Data Loader\n",
        "    # ====================================================\n",
        "    trn_idx = train[train[\"fold\"] != fold].index\n",
        "    val_idx = train[train[\"fold\"] == fold].index\n",
        "\n",
        "    train_folds = train.loc[trn_idx].reset_index(drop=True)\n",
        "    valid_folds = train.loc[val_idx].reset_index(drop=True)\n",
        "\n",
        "    train_dataset = BaseDataset(train_folds, BERT_MODEL_NAME)\n",
        "    valid_dataset = BaseDataset(valid_folds, BERT_MODEL_NAME)\n",
        "\n",
        "    train_loader = DataLoader(\n",
        "        train_dataset,\n",
        "        batch_size=BATCH_SIZE,\n",
        "        shuffle=True,\n",
        "        num_workers=NUM_WORKERS,\n",
        "        pin_memory=True,\n",
        "        drop_last=True,\n",
        "    )\n",
        "    valid_loader = DataLoader(\n",
        "        valid_dataset,\n",
        "        batch_size=BATCH_SIZE,\n",
        "        shuffle=False,\n",
        "        num_workers=NUM_WORKERS,\n",
        "        pin_memory=True,\n",
        "        drop_last=False,\n",
        "    )\n",
        "\n",
        "    # ====================================================\n",
        "    # Model\n",
        "    # ====================================================\n",
        "    model = BaseModel(BERT_MODEL_NAME)\n",
        "    model.to(device)\n",
        "\n",
        "    # 重み固定\n",
        "    if FIX_PARAM:\n",
        "      model_params = list(model.named_parameters())\n",
        "      # BERTの重みを固定する\n",
        "      params = [p for n, p in model_params if not \"bert\" in n]\n",
        "      optimizer = T.AdamW(params, lr=2e-5, correct_bias=True)\n",
        "\n",
        "    # 学習率変更\n",
        "    if CHANGE_LEARNING_RATE:\n",
        "      model_params = list(model.named_parameters())\n",
        "      # BERTの学習率を層ごとに変更する\n",
        "      bert_params = [p for n, p in model_params if \"bert\" in n]\n",
        "      other_params = [p for n, p in model_params if not \"bert\" in n]\n",
        "      params = [\n",
        "          {'params': bert_params, 'lr': 2e-5},\n",
        "          {'params': other_params, 'lr': 2e-5 * 500}\n",
        "      ]\n",
        "      optimizer = T.AdamW(params)\n",
        "\n",
        "    if not (FIX_PARAM or CHANGE_LEARNING_RATE):\n",
        "      optimizer = T.AdamW(model.parameters(), lr=2e-5, correct_bias=True)\n",
        "\n",
        "    criterion = nn.BCELoss()\n",
        "\n",
        "    # ====================================================\n",
        "    # Loop\n",
        "    # ====================================================\n",
        "    best_score = -1\n",
        "    best_loss = np.inf\n",
        "\n",
        "    for epoch in range(NUM_EPOCH):\n",
        "        start_time = time.time()\n",
        "\n",
        "        # 2エポック目から全レイヤー学習\n",
        "        if epoch == 1:\n",
        "          if FIX_PARAM:\n",
        "            model_params = list(model.named_parameters())\n",
        "            # BERTの重みを固定を解除する\n",
        "            params = [p for n, p in model_params if \"bert\" in n]\n",
        "            optimizer.add_param_group({'params': params})\n",
        "\n",
        "        \n",
        "        # train\n",
        "        avg_loss = train_fn(train_loader, model, criterion, optimizer, epoch, device)\n",
        "\n",
        "        # eval\n",
        "        avg_val_loss, preds = valid_fn(valid_loader, model, criterion, device)\n",
        "        valid_labels = valid_folds[\"judgement\"].values\n",
        "\n",
        "        # scoring\n",
        "        score = fbeta_score(valid_labels, np.where(preds < border, 0, 1), beta=7.0)\n",
        "\n",
        "        elapsed = time.time() - start_time\n",
        "        LOGGER.info(\n",
        "            f\"Epoch {epoch+1} - avg_train_loss: {avg_loss:.4f}  avg_val_loss: {avg_val_loss:.4f}  time: {elapsed:.0f}s\"\n",
        "        )\n",
        "        LOGGER.info(f\"Epoch {epoch+1} - Score: {score}\")\n",
        "\n",
        "        if score > best_score:\n",
        "            best_score = score\n",
        "            LOGGER.info(f\"Epoch {epoch+1} - Save Best Score: {best_score:.4f} Model\")\n",
        "            torch.save(\n",
        "                {\"model\": model.state_dict(), \"preds\": preds}, OUTPUT_DIR + f\"{SAVE_MODEL_NAME}_fold{fold}_best.pth\"\n",
        "            )\n",
        "\n",
        "    check_point = torch.load(OUTPUT_DIR + f\"{SAVE_MODEL_NAME}_fold{fold}_best.pth\")\n",
        "\n",
        "    valid_folds[\"preds\"] = check_point[\"preds\"]\n",
        "\n",
        "    return valid_folds"
      ],
      "execution_count": 59,
      "outputs": []
    },
    {
      "cell_type": "markdown",
      "metadata": {
        "id": "DkT29t03dUlf"
      },
      "source": [
        "## メイン"
      ]
    },
    {
      "cell_type": "code",
      "metadata": {
        "id": "2hyyfhuhdUlh"
      },
      "source": [
        "def get_result(result_df):\n",
        "    preds = result_df[\"preds\"].values\n",
        "    labels = result_df[\"judgement\"].values\n",
        "    score = fbeta_score(labels, np.where(preds < border, 0, 1), beta=7.0)\n",
        "    LOGGER.info(f\"Score: {score:<.5f}\")"
      ],
      "execution_count": 60,
      "outputs": []
    },
    {
      "cell_type": "code",
      "metadata": {
        "id": "ntqnVnvmdUlh"
      },
      "source": [
        "def main():\n",
        "    # Training\n",
        "    oof_df = pd.DataFrame()\n",
        "    for fold in range(NUM_FOLD):\n",
        "        _oof_df = train_loop(train, fold)\n",
        "        oof_df = pd.concat([oof_df, _oof_df])\n",
        "        LOGGER.info(f\"========== fold: {fold} result ==========\")\n",
        "        get_result(_oof_df)\n",
        "        \n",
        "    # CV result\n",
        "    LOGGER.info(f\"========== CV ==========\")\n",
        "    get_result(oof_df)\n",
        "    \n",
        "    # Save OOF result\n",
        "    oof_df.to_csv(OUTPUT_DIR + \"oof_df.csv\", index=False)\n",
        "\n",
        "    # Inference\n",
        "    predictions = inference()\n",
        "    predictions = np.where(predictions < border, 0, 1)\n",
        "\n",
        "    # submission\n",
        "    if TEXT_TYPE == \"title\":\n",
        "      sub[\"judgement\"] = predictions\n",
        "    elif TEXT_TYPE == \"abstract\":\n",
        "      sub[\"judgement\"] = np.nan\n",
        "      sub.loc[test_remain_index, \"judgement\"] = predictions\n",
        "    sub.to_csv(OUTPUT_DIR + \"submission.csv\", index=False, header=False)"
      ],
      "execution_count": 61,
      "outputs": []
    },
    {
      "cell_type": "code",
      "metadata": {
        "id": "ZBjeuekSdUli"
      },
      "source": [
        "#torch.multiprocessing.set_sharing_strategy(\"file_system\")"
      ],
      "execution_count": 62,
      "outputs": []
    },
    {
      "cell_type": "code",
      "metadata": {
        "id": "4YNfUWgaWmxs"
      },
      "source": [
        "# CV\n",
        "# pubmed_bert_abstract: 0.919\n",
        "# pubmed_bert_title: 0.879\n",
        "# scibert_abstract: 0.901くらい\n",
        "# scibert_title: 0.8５２くらい"
      ],
      "execution_count": 63,
      "outputs": []
    },
    {
      "cell_type": "code",
      "metadata": {
        "colab": {
          "base_uri": "https://localhost:8080/"
        },
        "id": "l9YlaTQkHr8Q",
        "outputId": "c91e0dd0-dbd5-4e61-fecf-747c06e57d89"
      },
      "source": [
        "if __name__ == \"__main__\":\n",
        "    main()"
      ],
      "execution_count": null,
      "outputs": [
        {
          "output_type": "stream",
          "name": "stderr",
          "text": [
            "========== fold: 0 training ==========\n",
            "========== fold: 0 training ==========\n",
            "Some weights of the model checkpoint at microsoft/BiomedNLP-PubMedBERT-base-uncased-abstract were not used when initializing BertForSequenceClassification: ['cls.seq_relationship.bias', 'cls.seq_relationship.weight', 'cls.predictions.transform.LayerNorm.bias', 'cls.predictions.bias', 'cls.predictions.decoder.bias', 'cls.predictions.transform.LayerNorm.weight', 'cls.predictions.transform.dense.weight', 'cls.predictions.transform.dense.bias', 'cls.predictions.decoder.weight']\n",
            "- This IS expected if you are initializing BertForSequenceClassification from the checkpoint of a model trained on another task or with another architecture (e.g. initializing a BertForSequenceClassification model from a BertForPreTraining model).\n",
            "- This IS NOT expected if you are initializing BertForSequenceClassification from the checkpoint of a model that you expect to be exactly identical (initializing a BertForSequenceClassification model from a BertForSequenceClassification model).\n",
            "Some weights of BertForSequenceClassification were not initialized from the model checkpoint at microsoft/BiomedNLP-PubMedBERT-base-uncased-abstract and are newly initialized: ['classifier.weight', 'classifier.bias']\n",
            "You should probably TRAIN this model on a down-stream task to be able to use it for predictions and inference.\n"
          ]
        },
        {
          "output_type": "stream",
          "name": "stdout",
          "text": [
            "Epoch: [1][0/1357] Elapsed 0m 0s (remain 16m 24s) Loss: 0.3514 \n",
            "Epoch: [1][100/1357] Elapsed 0m 47s (remain 9m 46s) Loss: 0.0744 \n",
            "Epoch: [1][200/1357] Elapsed 1m 33s (remain 8m 58s) Loss: 0.0620 \n",
            "Epoch: [1][300/1357] Elapsed 2m 20s (remain 8m 11s) Loss: 0.0546 \n",
            "Epoch: [1][400/1357] Elapsed 3m 6s (remain 7m 24s) Loss: 0.0513 \n",
            "Epoch: [1][500/1357] Elapsed 3m 53s (remain 6m 38s) Loss: 0.0482 \n",
            "Epoch: [1][600/1357] Elapsed 4m 39s (remain 5m 51s) Loss: 0.0451 \n",
            "Epoch: [1][700/1357] Elapsed 5m 26s (remain 5m 5s) Loss: 0.0427 \n",
            "Epoch: [1][800/1357] Elapsed 6m 12s (remain 4m 18s) Loss: 0.0403 \n",
            "Epoch: [1][900/1357] Elapsed 6m 59s (remain 3m 32s) Loss: 0.0389 \n",
            "Epoch: [1][1000/1357] Elapsed 7m 45s (remain 2m 45s) Loss: 0.0368 \n",
            "Epoch: [1][1100/1357] Elapsed 8m 32s (remain 1m 59s) Loss: 0.0358 \n",
            "Epoch: [1][1200/1357] Elapsed 9m 18s (remain 1m 12s) Loss: 0.0351 \n",
            "Epoch: [1][1300/1357] Elapsed 10m 5s (remain 0m 26s) Loss: 0.0341 \n",
            "Epoch: [1][1356/1357] Elapsed 10m 31s (remain 0m 0s) Loss: 0.0337 \n",
            "EVAL: [0/340] Elapsed 0m 0s (remain 1m 49s) Loss: 0.0092 \n",
            "EVAL: [100/340] Elapsed 0m 16s (remain 0m 38s) Loss: 0.0340 \n",
            "EVAL: [200/340] Elapsed 0m 31s (remain 0m 22s) Loss: 0.0406 \n",
            "EVAL: [300/340] Elapsed 0m 47s (remain 0m 6s) Loss: 0.0396 \n"
          ]
        },
        {
          "output_type": "stream",
          "name": "stderr",
          "text": [
            "Epoch 1 - avg_train_loss: 0.0337  avg_val_loss: 0.0398  time: 685s\n",
            "Epoch 1 - avg_train_loss: 0.0337  avg_val_loss: 0.0398  time: 685s\n",
            "Epoch 1 - Score: 0.9067745803357314\n",
            "Epoch 1 - Score: 0.9067745803357314\n",
            "Epoch 1 - Save Best Score: 0.9068 Model\n",
            "Epoch 1 - Save Best Score: 0.9068 Model\n"
          ]
        },
        {
          "output_type": "stream",
          "name": "stdout",
          "text": [
            "EVAL: [339/340] Elapsed 0m 53s (remain 0m 0s) Loss: 0.0398 \n",
            "Epoch: [2][0/1357] Elapsed 0m 0s (remain 14m 29s) Loss: 0.0101 \n",
            "Epoch: [2][100/1357] Elapsed 0m 47s (remain 9m 46s) Loss: 0.0170 \n",
            "Epoch: [2][200/1357] Elapsed 1m 33s (remain 8m 59s) Loss: 0.0187 \n",
            "Epoch: [2][300/1357] Elapsed 2m 20s (remain 8m 12s) Loss: 0.0183 \n",
            "Epoch: [2][400/1357] Elapsed 3m 6s (remain 7m 25s) Loss: 0.0180 \n",
            "Epoch: [2][500/1357] Elapsed 3m 53s (remain 6m 38s) Loss: 0.0177 \n",
            "Epoch: [2][600/1357] Elapsed 4m 39s (remain 5m 52s) Loss: 0.0169 \n",
            "Epoch: [2][700/1357] Elapsed 5m 26s (remain 5m 5s) Loss: 0.0164 \n",
            "Epoch: [2][800/1357] Elapsed 6m 12s (remain 4m 18s) Loss: 0.0168 \n",
            "Epoch: [2][900/1357] Elapsed 6m 59s (remain 3m 32s) Loss: 0.0169 \n",
            "Epoch: [2][1000/1357] Elapsed 7m 46s (remain 2m 45s) Loss: 0.0163 \n",
            "Epoch: [2][1100/1357] Elapsed 8m 32s (remain 1m 59s) Loss: 0.0162 \n",
            "Epoch: [2][1200/1357] Elapsed 9m 19s (remain 1m 12s) Loss: 0.0158 \n",
            "Epoch: [2][1300/1357] Elapsed 10m 5s (remain 0m 26s) Loss: 0.0159 \n",
            "Epoch: [2][1356/1357] Elapsed 10m 31s (remain 0m 0s) Loss: 0.0159 \n",
            "EVAL: [0/340] Elapsed 0m 0s (remain 1m 49s) Loss: 0.0014 \n",
            "EVAL: [100/340] Elapsed 0m 16s (remain 0m 38s) Loss: 0.0268 \n",
            "EVAL: [200/340] Elapsed 0m 31s (remain 0m 22s) Loss: 0.0338 \n",
            "EVAL: [300/340] Elapsed 0m 47s (remain 0m 6s) Loss: 0.0351 \n"
          ]
        },
        {
          "output_type": "stream",
          "name": "stderr",
          "text": [
            "Epoch 2 - avg_train_loss: 0.0159  avg_val_loss: 0.0353  time: 686s\n",
            "Epoch 2 - avg_train_loss: 0.0159  avg_val_loss: 0.0353  time: 686s\n",
            "Epoch 2 - Score: 0.8876196356900277\n",
            "Epoch 2 - Score: 0.8876196356900277\n"
          ]
        },
        {
          "output_type": "stream",
          "name": "stdout",
          "text": [
            "EVAL: [339/340] Elapsed 0m 53s (remain 0m 0s) Loss: 0.0353 \n",
            "Epoch: [3][0/1357] Elapsed 0m 0s (remain 14m 33s) Loss: 0.0051 \n",
            "Epoch: [3][100/1357] Elapsed 0m 47s (remain 9m 47s) Loss: 0.0050 \n",
            "Epoch: [3][200/1357] Elapsed 1m 33s (remain 8m 59s) Loss: 0.0087 \n",
            "Epoch: [3][300/1357] Elapsed 2m 20s (remain 8m 12s) Loss: 0.0090 \n",
            "Epoch: [3][400/1357] Elapsed 3m 6s (remain 7m 25s) Loss: 0.0089 \n",
            "Epoch: [3][500/1357] Elapsed 3m 53s (remain 6m 38s) Loss: 0.0087 \n",
            "Epoch: [3][600/1357] Elapsed 4m 39s (remain 5m 52s) Loss: 0.0088 \n",
            "Epoch: [3][700/1357] Elapsed 5m 26s (remain 5m 5s) Loss: 0.0090 \n",
            "Epoch: [3][800/1357] Elapsed 6m 13s (remain 4m 18s) Loss: 0.0091 \n",
            "Epoch: [3][900/1357] Elapsed 6m 59s (remain 3m 32s) Loss: 0.0095 \n",
            "Epoch: [3][1000/1357] Elapsed 7m 46s (remain 2m 45s) Loss: 0.0091 \n",
            "Epoch: [3][1100/1357] Elapsed 8m 32s (remain 1m 59s) Loss: 0.0089 \n",
            "Epoch: [3][1200/1357] Elapsed 9m 19s (remain 1m 12s) Loss: 0.0090 \n",
            "Epoch: [3][1300/1357] Elapsed 10m 5s (remain 0m 26s) Loss: 0.0091 \n",
            "Epoch: [3][1356/1357] Elapsed 10m 31s (remain 0m 0s) Loss: 0.0090 \n",
            "EVAL: [0/340] Elapsed 0m 0s (remain 1m 52s) Loss: 0.0003 \n",
            "EVAL: [100/340] Elapsed 0m 16s (remain 0m 38s) Loss: 0.0263 \n",
            "EVAL: [200/340] Elapsed 0m 31s (remain 0m 22s) Loss: 0.0419 \n",
            "EVAL: [300/340] Elapsed 0m 47s (remain 0m 6s) Loss: 0.0419 \n"
          ]
        },
        {
          "output_type": "stream",
          "name": "stderr",
          "text": [
            "Epoch 3 - avg_train_loss: 0.0090  avg_val_loss: 0.0425  time: 686s\n",
            "Epoch 3 - avg_train_loss: 0.0090  avg_val_loss: 0.0425  time: 686s\n",
            "Epoch 3 - Score: 0.9081030735796336\n",
            "Epoch 3 - Score: 0.9081030735796336\n",
            "Epoch 3 - Save Best Score: 0.9081 Model\n",
            "Epoch 3 - Save Best Score: 0.9081 Model\n"
          ]
        },
        {
          "output_type": "stream",
          "name": "stdout",
          "text": [
            "EVAL: [339/340] Elapsed 0m 53s (remain 0m 0s) Loss: 0.0425 \n",
            "Epoch: [4][0/1357] Elapsed 0m 0s (remain 14m 14s) Loss: 0.0001 \n",
            "Epoch: [4][100/1357] Elapsed 0m 47s (remain 9m 46s) Loss: 0.0049 \n",
            "Epoch: [4][200/1357] Elapsed 1m 33s (remain 8m 58s) Loss: 0.0050 \n",
            "Epoch: [4][300/1357] Elapsed 2m 20s (remain 8m 11s) Loss: 0.0045 \n",
            "Epoch: [4][400/1357] Elapsed 3m 6s (remain 7m 25s) Loss: 0.0041 \n",
            "Epoch: [4][500/1357] Elapsed 3m 53s (remain 6m 38s) Loss: 0.0040 \n",
            "Epoch: [4][600/1357] Elapsed 4m 39s (remain 5m 52s) Loss: 0.0041 \n",
            "Epoch: [4][700/1357] Elapsed 5m 26s (remain 5m 5s) Loss: 0.0041 \n",
            "Epoch: [4][800/1357] Elapsed 6m 12s (remain 4m 18s) Loss: 0.0043 \n",
            "Epoch: [4][900/1357] Elapsed 6m 59s (remain 3m 32s) Loss: 0.0044 \n",
            "Epoch: [4][1000/1357] Elapsed 7m 45s (remain 2m 45s) Loss: 0.0046 \n",
            "Epoch: [4][1100/1357] Elapsed 8m 32s (remain 1m 59s) Loss: 0.0050 \n",
            "Epoch: [4][1200/1357] Elapsed 9m 19s (remain 1m 12s) Loss: 0.0050 \n",
            "Epoch: [4][1300/1357] Elapsed 10m 5s (remain 0m 26s) Loss: 0.0049 \n",
            "Epoch: [4][1356/1357] Elapsed 10m 31s (remain 0m 0s) Loss: 0.0048 \n",
            "EVAL: [0/340] Elapsed 0m 0s (remain 1m 50s) Loss: 0.0001 \n",
            "EVAL: [100/340] Elapsed 0m 16s (remain 0m 38s) Loss: 0.0582 \n",
            "EVAL: [200/340] Elapsed 0m 31s (remain 0m 22s) Loss: 0.0739 \n",
            "EVAL: [300/340] Elapsed 0m 47s (remain 0m 6s) Loss: 0.0716 \n"
          ]
        },
        {
          "output_type": "stream",
          "name": "stderr",
          "text": [
            "Epoch 4 - avg_train_loss: 0.0048  avg_val_loss: 0.0712  time: 686s\n",
            "Epoch 4 - avg_train_loss: 0.0048  avg_val_loss: 0.0712  time: 686s\n",
            "Epoch 4 - Score: 0.7057890563045202\n",
            "Epoch 4 - Score: 0.7057890563045202\n"
          ]
        },
        {
          "output_type": "stream",
          "name": "stdout",
          "text": [
            "EVAL: [339/340] Elapsed 0m 53s (remain 0m 0s) Loss: 0.0712 \n",
            "Epoch: [5][0/1357] Elapsed 0m 0s (remain 14m 28s) Loss: 0.1966 \n",
            "Epoch: [5][100/1357] Elapsed 0m 47s (remain 9m 47s) Loss: 0.0030 \n",
            "Epoch: [5][200/1357] Elapsed 1m 33s (remain 8m 59s) Loss: 0.0021 \n",
            "Epoch: [5][300/1357] Elapsed 2m 20s (remain 8m 12s) Loss: 0.0021 \n",
            "Epoch: [5][400/1357] Elapsed 3m 6s (remain 7m 25s) Loss: 0.0021 \n",
            "Epoch: [5][500/1357] Elapsed 3m 53s (remain 6m 38s) Loss: 0.0023 \n",
            "Epoch: [5][600/1357] Elapsed 4m 39s (remain 5m 52s) Loss: 0.0036 \n",
            "Epoch: [5][700/1357] Elapsed 5m 26s (remain 5m 5s) Loss: 0.0044 \n",
            "Epoch: [5][800/1357] Elapsed 6m 12s (remain 4m 18s) Loss: 0.0045 \n",
            "Epoch: [5][900/1357] Elapsed 6m 59s (remain 3m 32s) Loss: 0.0043 \n",
            "Epoch: [5][1000/1357] Elapsed 7m 46s (remain 2m 45s) Loss: 0.0042 \n",
            "Epoch: [5][1100/1357] Elapsed 8m 32s (remain 1m 59s) Loss: 0.0040 \n",
            "Epoch: [5][1200/1357] Elapsed 9m 19s (remain 1m 12s) Loss: 0.0040 \n",
            "Epoch: [5][1300/1357] Elapsed 10m 5s (remain 0m 26s) Loss: 0.0039 \n",
            "Epoch: [5][1356/1357] Elapsed 10m 31s (remain 0m 0s) Loss: 0.0039 \n",
            "EVAL: [0/340] Elapsed 0m 0s (remain 1m 51s) Loss: 0.0001 \n",
            "EVAL: [100/340] Elapsed 0m 16s (remain 0m 38s) Loss: 0.0444 \n",
            "EVAL: [200/340] Elapsed 0m 31s (remain 0m 22s) Loss: 0.0608 \n",
            "EVAL: [300/340] Elapsed 0m 47s (remain 0m 6s) Loss: 0.0578 \n"
          ]
        },
        {
          "output_type": "stream",
          "name": "stderr",
          "text": [
            "Epoch 5 - avg_train_loss: 0.0039  avg_val_loss: 0.0599  time: 686s\n",
            "Epoch 5 - avg_train_loss: 0.0039  avg_val_loss: 0.0599  time: 686s\n",
            "Epoch 5 - Score: 0.758893280632411\n",
            "Epoch 5 - Score: 0.758893280632411\n"
          ]
        },
        {
          "output_type": "stream",
          "name": "stdout",
          "text": [
            "EVAL: [339/340] Elapsed 0m 53s (remain 0m 0s) Loss: 0.0599 \n"
          ]
        },
        {
          "output_type": "stream",
          "name": "stderr",
          "text": [
            "========== fold: 0 result ==========\n",
            "========== fold: 0 result ==========\n",
            "Score: 0.90810\n",
            "Score: 0.90810\n",
            "========== fold: 1 training ==========\n",
            "========== fold: 1 training ==========\n",
            "Some weights of the model checkpoint at microsoft/BiomedNLP-PubMedBERT-base-uncased-abstract were not used when initializing BertForSequenceClassification: ['cls.seq_relationship.bias', 'cls.seq_relationship.weight', 'cls.predictions.transform.LayerNorm.bias', 'cls.predictions.bias', 'cls.predictions.decoder.bias', 'cls.predictions.transform.LayerNorm.weight', 'cls.predictions.transform.dense.weight', 'cls.predictions.transform.dense.bias', 'cls.predictions.decoder.weight']\n",
            "- This IS expected if you are initializing BertForSequenceClassification from the checkpoint of a model trained on another task or with another architecture (e.g. initializing a BertForSequenceClassification model from a BertForPreTraining model).\n",
            "- This IS NOT expected if you are initializing BertForSequenceClassification from the checkpoint of a model that you expect to be exactly identical (initializing a BertForSequenceClassification model from a BertForSequenceClassification model).\n",
            "Some weights of BertForSequenceClassification were not initialized from the model checkpoint at microsoft/BiomedNLP-PubMedBERT-base-uncased-abstract and are newly initialized: ['classifier.weight', 'classifier.bias']\n",
            "You should probably TRAIN this model on a down-stream task to be able to use it for predictions and inference.\n"
          ]
        },
        {
          "output_type": "stream",
          "name": "stdout",
          "text": [
            "Epoch: [1][0/1357] Elapsed 0m 0s (remain 14m 53s) Loss: 0.2336 \n",
            "Epoch: [1][100/1357] Elapsed 0m 47s (remain 9m 44s) Loss: 0.0687 \n",
            "Epoch: [1][200/1357] Elapsed 1m 33s (remain 8m 57s) Loss: 0.0558 \n",
            "Epoch: [1][300/1357] Elapsed 2m 19s (remain 8m 11s) Loss: 0.0494 \n",
            "Epoch: [1][400/1357] Elapsed 3m 6s (remain 7m 24s) Loss: 0.0459 \n",
            "Epoch: [1][500/1357] Elapsed 3m 52s (remain 6m 38s) Loss: 0.0424 \n",
            "Epoch: [1][600/1357] Elapsed 4m 39s (remain 5m 51s) Loss: 0.0396 \n",
            "Epoch: [1][700/1357] Elapsed 5m 25s (remain 5m 5s) Loss: 0.0378 \n",
            "Epoch: [1][800/1357] Elapsed 6m 12s (remain 4m 18s) Loss: 0.0363 \n",
            "Epoch: [1][900/1357] Elapsed 6m 58s (remain 3m 32s) Loss: 0.0346 \n",
            "Epoch: [1][1000/1357] Elapsed 7m 45s (remain 2m 45s) Loss: 0.0332 \n",
            "Epoch: [1][1100/1357] Elapsed 8m 31s (remain 1m 59s) Loss: 0.0322 \n",
            "Epoch: [1][1200/1357] Elapsed 9m 18s (remain 1m 12s) Loss: 0.0320 \n",
            "Epoch: [1][1300/1357] Elapsed 10m 4s (remain 0m 26s) Loss: 0.0313 \n",
            "Epoch: [1][1356/1357] Elapsed 10m 30s (remain 0m 0s) Loss: 0.0313 \n",
            "EVAL: [0/340] Elapsed 0m 0s (remain 1m 49s) Loss: 0.0727 \n",
            "EVAL: [100/340] Elapsed 0m 16s (remain 0m 38s) Loss: 0.0515 \n",
            "EVAL: [200/340] Elapsed 0m 31s (remain 0m 22s) Loss: 0.0475 \n",
            "EVAL: [300/340] Elapsed 0m 47s (remain 0m 6s) Loss: 0.0457 \n"
          ]
        },
        {
          "output_type": "stream",
          "name": "stderr",
          "text": [
            "Epoch 1 - avg_train_loss: 0.0313  avg_val_loss: 0.0459  time: 685s\n",
            "Epoch 1 - avg_train_loss: 0.0313  avg_val_loss: 0.0459  time: 685s\n",
            "Epoch 1 - Score: 0.8849557522123894\n",
            "Epoch 1 - Score: 0.8849557522123894\n",
            "Epoch 1 - Save Best Score: 0.8850 Model\n",
            "Epoch 1 - Save Best Score: 0.8850 Model\n"
          ]
        },
        {
          "output_type": "stream",
          "name": "stdout",
          "text": [
            "EVAL: [339/340] Elapsed 0m 53s (remain 0m 0s) Loss: 0.0459 \n",
            "Epoch: [2][0/1357] Elapsed 0m 0s (remain 14m 30s) Loss: 0.0058 \n",
            "Epoch: [2][100/1357] Elapsed 0m 47s (remain 9m 46s) Loss: 0.0145 \n",
            "Epoch: [2][200/1357] Elapsed 1m 33s (remain 8m 58s) Loss: 0.0172 \n",
            "Epoch: [2][300/1357] Elapsed 2m 20s (remain 8m 11s) Loss: 0.0173 \n",
            "Epoch: [2][400/1357] Elapsed 3m 6s (remain 7m 24s) Loss: 0.0183 \n",
            "Epoch: [2][500/1357] Elapsed 3m 53s (remain 6m 38s) Loss: 0.0170 \n",
            "Epoch: [2][600/1357] Elapsed 4m 39s (remain 5m 51s) Loss: 0.0173 \n",
            "Epoch: [2][700/1357] Elapsed 5m 26s (remain 5m 5s) Loss: 0.0170 \n",
            "Epoch: [2][800/1357] Elapsed 6m 12s (remain 4m 18s) Loss: 0.0172 \n",
            "Epoch: [2][900/1357] Elapsed 6m 58s (remain 3m 32s) Loss: 0.0168 \n",
            "Epoch: [2][1000/1357] Elapsed 7m 45s (remain 2m 45s) Loss: 0.0167 \n",
            "Epoch: [2][1100/1357] Elapsed 8m 31s (remain 1m 59s) Loss: 0.0165 \n",
            "Epoch: [2][1200/1357] Elapsed 9m 18s (remain 1m 12s) Loss: 0.0162 \n",
            "Epoch: [2][1300/1357] Elapsed 10m 4s (remain 0m 26s) Loss: 0.0163 \n",
            "Epoch: [2][1356/1357] Elapsed 10m 30s (remain 0m 0s) Loss: 0.0161 \n",
            "EVAL: [0/340] Elapsed 0m 0s (remain 1m 47s) Loss: 0.0300 \n",
            "EVAL: [100/340] Elapsed 0m 16s (remain 0m 38s) Loss: 0.0593 \n",
            "EVAL: [200/340] Elapsed 0m 31s (remain 0m 22s) Loss: 0.0463 \n",
            "EVAL: [300/340] Elapsed 0m 47s (remain 0m 6s) Loss: 0.0432 \n"
          ]
        },
        {
          "output_type": "stream",
          "name": "stderr",
          "text": [
            "Epoch 2 - avg_train_loss: 0.0161  avg_val_loss: 0.0437  time: 685s\n",
            "Epoch 2 - avg_train_loss: 0.0161  avg_val_loss: 0.0437  time: 685s\n",
            "Epoch 2 - Score: 0.8510306058713305\n",
            "Epoch 2 - Score: 0.8510306058713305\n"
          ]
        },
        {
          "output_type": "stream",
          "name": "stdout",
          "text": [
            "EVAL: [339/340] Elapsed 0m 53s (remain 0m 0s) Loss: 0.0437 \n",
            "Epoch: [3][0/1357] Elapsed 0m 0s (remain 14m 22s) Loss: 0.0083 \n",
            "Epoch: [3][100/1357] Elapsed 0m 47s (remain 9m 46s) Loss: 0.0104 \n",
            "Epoch: [3][200/1357] Elapsed 1m 33s (remain 8m 58s) Loss: 0.0085 \n",
            "Epoch: [3][300/1357] Elapsed 2m 20s (remain 8m 11s) Loss: 0.0087 \n",
            "Epoch: [3][400/1357] Elapsed 3m 6s (remain 7m 24s) Loss: 0.0098 \n",
            "Epoch: [3][500/1357] Elapsed 3m 53s (remain 6m 38s) Loss: 0.0096 \n",
            "Epoch: [3][600/1357] Elapsed 4m 39s (remain 5m 51s) Loss: 0.0100 \n",
            "Epoch: [3][700/1357] Elapsed 5m 26s (remain 5m 5s) Loss: 0.0102 \n",
            "Epoch: [3][800/1357] Elapsed 6m 12s (remain 4m 18s) Loss: 0.0101 \n",
            "Epoch: [3][900/1357] Elapsed 6m 59s (remain 3m 32s) Loss: 0.0103 \n",
            "Epoch: [3][1000/1357] Elapsed 7m 45s (remain 2m 45s) Loss: 0.0100 \n",
            "Epoch: [3][1100/1357] Elapsed 8m 31s (remain 1m 59s) Loss: 0.0101 \n",
            "Epoch: [3][1200/1357] Elapsed 9m 18s (remain 1m 12s) Loss: 0.0101 \n",
            "Epoch: [3][1300/1357] Elapsed 10m 4s (remain 0m 26s) Loss: 0.0101 \n",
            "Epoch: [3][1356/1357] Elapsed 10m 31s (remain 0m 0s) Loss: 0.0101 \n",
            "EVAL: [0/340] Elapsed 0m 0s (remain 1m 48s) Loss: 0.0062 \n",
            "EVAL: [100/340] Elapsed 0m 16s (remain 0m 38s) Loss: 0.0593 \n",
            "EVAL: [200/340] Elapsed 0m 31s (remain 0m 22s) Loss: 0.0465 \n",
            "EVAL: [300/340] Elapsed 0m 47s (remain 0m 6s) Loss: 0.0425 \n"
          ]
        },
        {
          "output_type": "stream",
          "name": "stderr",
          "text": [
            "Epoch 3 - avg_train_loss: 0.0101  avg_val_loss: 0.0429  time: 685s\n",
            "Epoch 3 - avg_train_loss: 0.0101  avg_val_loss: 0.0429  time: 685s\n",
            "Epoch 3 - Score: 0.9229595728451565\n",
            "Epoch 3 - Score: 0.9229595728451565\n",
            "Epoch 3 - Save Best Score: 0.9230 Model\n",
            "Epoch 3 - Save Best Score: 0.9230 Model\n"
          ]
        },
        {
          "output_type": "stream",
          "name": "stdout",
          "text": [
            "EVAL: [339/340] Elapsed 0m 53s (remain 0m 0s) Loss: 0.0429 \n",
            "Epoch: [4][0/1357] Elapsed 0m 0s (remain 14m 20s) Loss: 0.0027 \n",
            "Epoch: [4][100/1357] Elapsed 0m 47s (remain 9m 46s) Loss: 0.0043 \n",
            "Epoch: [4][200/1357] Elapsed 1m 33s (remain 8m 58s) Loss: 0.0042 \n",
            "Epoch: [4][300/1357] Elapsed 2m 20s (remain 8m 11s) Loss: 0.0040 \n",
            "Epoch: [4][400/1357] Elapsed 3m 6s (remain 7m 24s) Loss: 0.0046 \n",
            "Epoch: [4][500/1357] Elapsed 3m 53s (remain 6m 38s) Loss: 0.0052 \n",
            "Epoch: [4][600/1357] Elapsed 4m 39s (remain 5m 51s) Loss: 0.0052 \n",
            "Epoch: [4][700/1357] Elapsed 5m 26s (remain 5m 5s) Loss: 0.0047 \n",
            "Epoch: [4][800/1357] Elapsed 6m 12s (remain 4m 18s) Loss: 0.0058 \n",
            "Epoch: [4][900/1357] Elapsed 6m 59s (remain 3m 32s) Loss: 0.0060 \n",
            "Epoch: [4][1000/1357] Elapsed 7m 45s (remain 2m 45s) Loss: 0.0059 \n",
            "Epoch: [4][1100/1357] Elapsed 8m 31s (remain 1m 59s) Loss: 0.0058 \n",
            "Epoch: [4][1200/1357] Elapsed 9m 18s (remain 1m 12s) Loss: 0.0058 \n",
            "Epoch: [4][1300/1357] Elapsed 10m 4s (remain 0m 26s) Loss: 0.0060 \n",
            "Epoch: [4][1356/1357] Elapsed 10m 30s (remain 0m 0s) Loss: 0.0059 \n",
            "EVAL: [0/340] Elapsed 0m 0s (remain 1m 48s) Loss: 0.0086 \n",
            "EVAL: [100/340] Elapsed 0m 16s (remain 0m 38s) Loss: 0.0635 \n",
            "EVAL: [200/340] Elapsed 0m 31s (remain 0m 22s) Loss: 0.0545 \n",
            "EVAL: [300/340] Elapsed 0m 47s (remain 0m 6s) Loss: 0.0499 \n"
          ]
        },
        {
          "output_type": "stream",
          "name": "stderr",
          "text": [
            "Epoch 4 - avg_train_loss: 0.0059  avg_val_loss: 0.0503  time: 685s\n",
            "Epoch 4 - avg_train_loss: 0.0059  avg_val_loss: 0.0503  time: 685s\n",
            "Epoch 4 - Score: 0.7965299684542587\n",
            "Epoch 4 - Score: 0.7965299684542587\n"
          ]
        },
        {
          "output_type": "stream",
          "name": "stdout",
          "text": [
            "EVAL: [339/340] Elapsed 0m 53s (remain 0m 0s) Loss: 0.0503 \n",
            "Epoch: [5][0/1357] Elapsed 0m 0s (remain 14m 25s) Loss: 0.0005 \n",
            "Epoch: [5][100/1357] Elapsed 0m 47s (remain 9m 46s) Loss: 0.0039 \n",
            "Epoch: [5][200/1357] Elapsed 1m 33s (remain 8m 58s) Loss: 0.0031 \n",
            "Epoch: [5][300/1357] Elapsed 2m 20s (remain 8m 11s) Loss: 0.0045 \n",
            "Epoch: [5][400/1357] Elapsed 3m 6s (remain 7m 24s) Loss: 0.0044 \n",
            "Epoch: [5][500/1357] Elapsed 3m 53s (remain 6m 38s) Loss: 0.0039 \n",
            "Epoch: [5][600/1357] Elapsed 4m 39s (remain 5m 51s) Loss: 0.0035 \n",
            "Epoch: [5][700/1357] Elapsed 5m 26s (remain 5m 5s) Loss: 0.0040 \n",
            "Epoch: [5][800/1357] Elapsed 6m 12s (remain 4m 18s) Loss: 0.0041 \n",
            "Epoch: [5][900/1357] Elapsed 6m 59s (remain 3m 32s) Loss: 0.0041 \n",
            "Epoch: [5][1000/1357] Elapsed 7m 45s (remain 2m 45s) Loss: 0.0040 \n",
            "Epoch: [5][1100/1357] Elapsed 8m 32s (remain 1m 59s) Loss: 0.0042 \n",
            "Epoch: [5][1200/1357] Elapsed 9m 18s (remain 1m 12s) Loss: 0.0044 \n",
            "Epoch: [5][1300/1357] Elapsed 10m 5s (remain 0m 26s) Loss: 0.0044 \n",
            "Epoch: [5][1356/1357] Elapsed 10m 31s (remain 0m 0s) Loss: 0.0045 \n",
            "EVAL: [0/340] Elapsed 0m 0s (remain 1m 49s) Loss: 0.0922 \n",
            "EVAL: [100/340] Elapsed 0m 16s (remain 0m 38s) Loss: 0.0847 \n",
            "EVAL: [200/340] Elapsed 0m 31s (remain 0m 22s) Loss: 0.0675 \n",
            "EVAL: [300/340] Elapsed 0m 47s (remain 0m 6s) Loss: 0.0635 \n"
          ]
        },
        {
          "output_type": "stream",
          "name": "stderr",
          "text": [
            "Epoch 5 - avg_train_loss: 0.0045  avg_val_loss: 0.0646  time: 685s\n",
            "Epoch 5 - avg_train_loss: 0.0045  avg_val_loss: 0.0646  time: 685s\n",
            "Epoch 5 - Score: 0.8637976245565324\n",
            "Epoch 5 - Score: 0.8637976245565324\n"
          ]
        },
        {
          "output_type": "stream",
          "name": "stdout",
          "text": [
            "EVAL: [339/340] Elapsed 0m 53s (remain 0m 0s) Loss: 0.0646 \n"
          ]
        },
        {
          "output_type": "stream",
          "name": "stderr",
          "text": [
            "========== fold: 1 result ==========\n",
            "========== fold: 1 result ==========\n",
            "Score: 0.92296\n",
            "Score: 0.92296\n",
            "========== fold: 2 training ==========\n",
            "========== fold: 2 training ==========\n",
            "Some weights of the model checkpoint at microsoft/BiomedNLP-PubMedBERT-base-uncased-abstract were not used when initializing BertForSequenceClassification: ['cls.seq_relationship.bias', 'cls.seq_relationship.weight', 'cls.predictions.transform.LayerNorm.bias', 'cls.predictions.bias', 'cls.predictions.decoder.bias', 'cls.predictions.transform.LayerNorm.weight', 'cls.predictions.transform.dense.weight', 'cls.predictions.transform.dense.bias', 'cls.predictions.decoder.weight']\n",
            "- This IS expected if you are initializing BertForSequenceClassification from the checkpoint of a model trained on another task or with another architecture (e.g. initializing a BertForSequenceClassification model from a BertForPreTraining model).\n",
            "- This IS NOT expected if you are initializing BertForSequenceClassification from the checkpoint of a model that you expect to be exactly identical (initializing a BertForSequenceClassification model from a BertForSequenceClassification model).\n",
            "Some weights of BertForSequenceClassification were not initialized from the model checkpoint at microsoft/BiomedNLP-PubMedBERT-base-uncased-abstract and are newly initialized: ['classifier.weight', 'classifier.bias']\n",
            "You should probably TRAIN this model on a down-stream task to be able to use it for predictions and inference.\n"
          ]
        },
        {
          "output_type": "stream",
          "name": "stdout",
          "text": [
            "Epoch: [1][0/1357] Elapsed 0m 0s (remain 14m 36s) Loss: 0.3041 \n",
            "Epoch: [1][100/1357] Elapsed 0m 46s (remain 9m 44s) Loss: 0.0746 \n",
            "Epoch: [1][200/1357] Elapsed 1m 33s (remain 8m 57s) Loss: 0.0661 \n",
            "Epoch: [1][300/1357] Elapsed 2m 19s (remain 8m 10s) Loss: 0.0574 \n",
            "Epoch: [1][400/1357] Elapsed 3m 6s (remain 7m 24s) Loss: 0.0530 \n",
            "Epoch: [1][500/1357] Elapsed 3m 52s (remain 6m 37s) Loss: 0.0488 \n",
            "Epoch: [1][600/1357] Elapsed 4m 39s (remain 5m 51s) Loss: 0.0453 \n",
            "Epoch: [1][700/1357] Elapsed 5m 25s (remain 5m 4s) Loss: 0.0432 \n",
            "Epoch: [1][800/1357] Elapsed 6m 12s (remain 4m 18s) Loss: 0.0413 \n",
            "Epoch: [1][900/1357] Elapsed 6m 58s (remain 3m 31s) Loss: 0.0388 \n",
            "Epoch: [1][1000/1357] Elapsed 7m 45s (remain 2m 45s) Loss: 0.0370 \n",
            "Epoch: [1][1100/1357] Elapsed 8m 31s (remain 1m 58s) Loss: 0.0358 \n",
            "Epoch: [1][1200/1357] Elapsed 9m 18s (remain 1m 12s) Loss: 0.0347 \n",
            "Epoch: [1][1300/1357] Elapsed 10m 4s (remain 0m 26s) Loss: 0.0341 \n",
            "Epoch: [1][1356/1357] Elapsed 10m 30s (remain 0m 0s) Loss: 0.0336 \n",
            "EVAL: [0/340] Elapsed 0m 0s (remain 1m 48s) Loss: 0.0189 \n",
            "EVAL: [100/340] Elapsed 0m 16s (remain 0m 38s) Loss: 0.0354 \n",
            "EVAL: [200/340] Elapsed 0m 31s (remain 0m 22s) Loss: 0.0382 \n",
            "EVAL: [300/340] Elapsed 0m 47s (remain 0m 6s) Loss: 0.0408 \n"
          ]
        },
        {
          "output_type": "stream",
          "name": "stderr",
          "text": [
            "Epoch 1 - avg_train_loss: 0.0336  avg_val_loss: 0.0401  time: 685s\n",
            "Epoch 1 - avg_train_loss: 0.0336  avg_val_loss: 0.0401  time: 685s\n",
            "Epoch 1 - Score: 0.900175644028103\n",
            "Epoch 1 - Score: 0.900175644028103\n",
            "Epoch 1 - Save Best Score: 0.9002 Model\n",
            "Epoch 1 - Save Best Score: 0.9002 Model\n"
          ]
        },
        {
          "output_type": "stream",
          "name": "stdout",
          "text": [
            "EVAL: [339/340] Elapsed 0m 53s (remain 0m 0s) Loss: 0.0401 \n",
            "Epoch: [2][0/1357] Elapsed 0m 0s (remain 14m 20s) Loss: 0.0056 \n",
            "Epoch: [2][100/1357] Elapsed 0m 47s (remain 9m 45s) Loss: 0.0142 \n",
            "Epoch: [2][200/1357] Elapsed 1m 33s (remain 8m 58s) Loss: 0.0168 \n",
            "Epoch: [2][300/1357] Elapsed 2m 20s (remain 8m 11s) Loss: 0.0144 \n",
            "Epoch: [2][400/1357] Elapsed 3m 6s (remain 7m 24s) Loss: 0.0141 \n",
            "Epoch: [2][500/1357] Elapsed 3m 53s (remain 6m 38s) Loss: 0.0148 \n",
            "Epoch: [2][600/1357] Elapsed 4m 39s (remain 5m 51s) Loss: 0.0136 \n",
            "Epoch: [2][700/1357] Elapsed 5m 26s (remain 5m 5s) Loss: 0.0144 \n",
            "Epoch: [2][800/1357] Elapsed 6m 12s (remain 4m 18s) Loss: 0.0142 \n",
            "Epoch: [2][900/1357] Elapsed 6m 58s (remain 3m 32s) Loss: 0.0145 \n",
            "Epoch: [2][1000/1357] Elapsed 7m 45s (remain 2m 45s) Loss: 0.0151 \n",
            "Epoch: [2][1100/1357] Elapsed 8m 31s (remain 1m 59s) Loss: 0.0159 \n",
            "Epoch: [2][1200/1357] Elapsed 9m 18s (remain 1m 12s) Loss: 0.0158 \n",
            "Epoch: [2][1300/1357] Elapsed 10m 4s (remain 0m 26s) Loss: 0.0157 \n",
            "Epoch: [2][1356/1357] Elapsed 10m 30s (remain 0m 0s) Loss: 0.0159 \n",
            "EVAL: [0/340] Elapsed 0m 0s (remain 1m 49s) Loss: 0.0220 \n",
            "EVAL: [100/340] Elapsed 0m 16s (remain 0m 38s) Loss: 0.0316 \n",
            "EVAL: [200/340] Elapsed 0m 31s (remain 0m 22s) Loss: 0.0353 \n",
            "EVAL: [300/340] Elapsed 0m 47s (remain 0m 6s) Loss: 0.0382 \n"
          ]
        },
        {
          "output_type": "stream",
          "name": "stderr",
          "text": [
            "Epoch 2 - avg_train_loss: 0.0159  avg_val_loss: 0.0388  time: 685s\n",
            "Epoch 2 - avg_train_loss: 0.0159  avg_val_loss: 0.0388  time: 685s\n",
            "Epoch 2 - Score: 0.9220839096357767\n",
            "Epoch 2 - Score: 0.9220839096357767\n",
            "Epoch 2 - Save Best Score: 0.9221 Model\n",
            "Epoch 2 - Save Best Score: 0.9221 Model\n"
          ]
        },
        {
          "output_type": "stream",
          "name": "stdout",
          "text": [
            "EVAL: [339/340] Elapsed 0m 53s (remain 0m 0s) Loss: 0.0388 \n",
            "Epoch: [3][0/1357] Elapsed 0m 0s (remain 14m 14s) Loss: 0.0196 \n",
            "Epoch: [3][100/1357] Elapsed 0m 47s (remain 9m 46s) Loss: 0.0093 \n",
            "Epoch: [3][200/1357] Elapsed 1m 33s (remain 8m 58s) Loss: 0.0089 \n",
            "Epoch: [3][300/1357] Elapsed 2m 20s (remain 8m 11s) Loss: 0.0094 \n",
            "Epoch: [3][400/1357] Elapsed 3m 6s (remain 7m 24s) Loss: 0.0085 \n",
            "Epoch: [3][500/1357] Elapsed 3m 53s (remain 6m 38s) Loss: 0.0087 \n",
            "Epoch: [3][600/1357] Elapsed 4m 39s (remain 5m 51s) Loss: 0.0089 \n",
            "Epoch: [3][700/1357] Elapsed 5m 26s (remain 5m 5s) Loss: 0.0083 \n",
            "Epoch: [3][800/1357] Elapsed 6m 12s (remain 4m 18s) Loss: 0.0091 \n",
            "Epoch: [3][900/1357] Elapsed 6m 59s (remain 3m 32s) Loss: 0.0095 \n",
            "Epoch: [3][1000/1357] Elapsed 7m 45s (remain 2m 45s) Loss: 0.0103 \n",
            "Epoch: [3][1100/1357] Elapsed 8m 31s (remain 1m 59s) Loss: 0.0103 \n",
            "Epoch: [3][1200/1357] Elapsed 9m 18s (remain 1m 12s) Loss: 0.0101 \n",
            "Epoch: [3][1300/1357] Elapsed 10m 4s (remain 0m 26s) Loss: 0.0100 \n",
            "Epoch: [3][1356/1357] Elapsed 10m 30s (remain 0m 0s) Loss: 0.0099 \n",
            "EVAL: [0/340] Elapsed 0m 0s (remain 1m 47s) Loss: 0.0051 \n",
            "EVAL: [100/340] Elapsed 0m 16s (remain 0m 38s) Loss: 0.0336 \n",
            "EVAL: [200/340] Elapsed 0m 31s (remain 0m 22s) Loss: 0.0448 \n",
            "EVAL: [300/340] Elapsed 0m 47s (remain 0m 6s) Loss: 0.0459 \n"
          ]
        },
        {
          "output_type": "stream",
          "name": "stderr",
          "text": [
            "Epoch 3 - avg_train_loss: 0.0099  avg_val_loss: 0.0450  time: 685s\n",
            "Epoch 3 - avg_train_loss: 0.0099  avg_val_loss: 0.0450  time: 685s\n",
            "Epoch 3 - Score: 0.8777429467084639\n",
            "Epoch 3 - Score: 0.8777429467084639\n"
          ]
        },
        {
          "output_type": "stream",
          "name": "stdout",
          "text": [
            "EVAL: [339/340] Elapsed 0m 53s (remain 0m 0s) Loss: 0.0450 \n",
            "Epoch: [4][0/1357] Elapsed 0m 0s (remain 14m 13s) Loss: 0.0002 \n",
            "Epoch: [4][100/1357] Elapsed 0m 47s (remain 9m 46s) Loss: 0.0085 \n",
            "Epoch: [4][200/1357] Elapsed 1m 33s (remain 8m 58s) Loss: 0.0080 \n",
            "Epoch: [4][300/1357] Elapsed 2m 20s (remain 8m 11s) Loss: 0.0064 \n",
            "Epoch: [4][400/1357] Elapsed 3m 6s (remain 7m 24s) Loss: 0.0061 \n",
            "Epoch: [4][500/1357] Elapsed 3m 53s (remain 6m 38s) Loss: 0.0065 \n",
            "Epoch: [4][600/1357] Elapsed 4m 39s (remain 5m 51s) Loss: 0.0062 \n",
            "Epoch: [4][700/1357] Elapsed 5m 26s (remain 5m 5s) Loss: 0.0058 \n",
            "Epoch: [4][800/1357] Elapsed 6m 12s (remain 4m 18s) Loss: 0.0059 \n",
            "Epoch: [4][900/1357] Elapsed 6m 59s (remain 3m 32s) Loss: 0.0058 \n",
            "Epoch: [4][1000/1357] Elapsed 7m 45s (remain 2m 45s) Loss: 0.0061 \n",
            "Epoch: [4][1100/1357] Elapsed 8m 31s (remain 1m 59s) Loss: 0.0062 \n",
            "Epoch: [4][1200/1357] Elapsed 9m 18s (remain 1m 12s) Loss: 0.0064 \n",
            "Epoch: [4][1300/1357] Elapsed 10m 4s (remain 0m 26s) Loss: 0.0063 \n",
            "Epoch: [4][1356/1357] Elapsed 10m 31s (remain 0m 0s) Loss: 0.0062 \n",
            "EVAL: [0/340] Elapsed 0m 0s (remain 1m 48s) Loss: 0.0005 \n",
            "EVAL: [100/340] Elapsed 0m 16s (remain 0m 38s) Loss: 0.0444 \n",
            "EVAL: [200/340] Elapsed 0m 31s (remain 0m 22s) Loss: 0.0491 \n",
            "EVAL: [300/340] Elapsed 0m 47s (remain 0m 6s) Loss: 0.0512 \n"
          ]
        },
        {
          "output_type": "stream",
          "name": "stderr",
          "text": [
            "Epoch 4 - avg_train_loss: 0.0062  avg_val_loss: 0.0502  time: 685s\n",
            "Epoch 4 - avg_train_loss: 0.0062  avg_val_loss: 0.0502  time: 685s\n",
            "Epoch 4 - Score: 0.8250825082508251\n",
            "Epoch 4 - Score: 0.8250825082508251\n"
          ]
        },
        {
          "output_type": "stream",
          "name": "stdout",
          "text": [
            "EVAL: [339/340] Elapsed 0m 53s (remain 0m 0s) Loss: 0.0502 \n",
            "Epoch: [5][0/1357] Elapsed 0m 0s (remain 14m 30s) Loss: 0.0001 \n",
            "Epoch: [5][100/1357] Elapsed 0m 47s (remain 9m 46s) Loss: 0.0033 \n",
            "Epoch: [5][200/1357] Elapsed 1m 33s (remain 8m 58s) Loss: 0.0035 \n",
            "Epoch: [5][300/1357] Elapsed 2m 20s (remain 8m 11s) Loss: 0.0036 \n",
            "Epoch: [5][400/1357] Elapsed 3m 6s (remain 7m 24s) Loss: 0.0039 \n",
            "Epoch: [5][500/1357] Elapsed 3m 53s (remain 6m 38s) Loss: 0.0041 \n",
            "Epoch: [5][600/1357] Elapsed 4m 39s (remain 5m 51s) Loss: 0.0044 \n",
            "Epoch: [5][700/1357] Elapsed 5m 26s (remain 5m 5s) Loss: 0.0046 \n",
            "Epoch: [5][800/1357] Elapsed 6m 12s (remain 4m 18s) Loss: 0.0047 \n",
            "Epoch: [5][900/1357] Elapsed 6m 59s (remain 3m 32s) Loss: 0.0046 \n",
            "Epoch: [5][1000/1357] Elapsed 7m 45s (remain 2m 45s) Loss: 0.0044 \n",
            "Epoch: [5][1100/1357] Elapsed 8m 32s (remain 1m 59s) Loss: 0.0044 \n",
            "Epoch: [5][1200/1357] Elapsed 9m 18s (remain 1m 12s) Loss: 0.0044 \n",
            "Epoch: [5][1300/1357] Elapsed 10m 5s (remain 0m 26s) Loss: 0.0043 \n",
            "Epoch: [5][1356/1357] Elapsed 10m 31s (remain 0m 0s) Loss: 0.0042 \n",
            "EVAL: [0/340] Elapsed 0m 0s (remain 1m 49s) Loss: 0.0004 \n",
            "EVAL: [100/340] Elapsed 0m 16s (remain 0m 38s) Loss: 0.0407 \n",
            "EVAL: [200/340] Elapsed 0m 31s (remain 0m 22s) Loss: 0.0556 \n",
            "EVAL: [300/340] Elapsed 0m 47s (remain 0m 6s) Loss: 0.0588 \n"
          ]
        },
        {
          "output_type": "stream",
          "name": "stderr",
          "text": [
            "Epoch 5 - avg_train_loss: 0.0042  avg_val_loss: 0.0580  time: 685s\n",
            "Epoch 5 - avg_train_loss: 0.0042  avg_val_loss: 0.0580  time: 685s\n",
            "Epoch 5 - Score: 0.8483896307934014\n",
            "Epoch 5 - Score: 0.8483896307934014\n"
          ]
        },
        {
          "output_type": "stream",
          "name": "stdout",
          "text": [
            "EVAL: [339/340] Elapsed 0m 53s (remain 0m 0s) Loss: 0.0580 \n"
          ]
        },
        {
          "output_type": "stream",
          "name": "stderr",
          "text": [
            "========== fold: 2 result ==========\n",
            "========== fold: 2 result ==========\n",
            "Score: 0.92208\n",
            "Score: 0.92208\n",
            "========== fold: 3 training ==========\n",
            "========== fold: 3 training ==========\n",
            "Some weights of the model checkpoint at microsoft/BiomedNLP-PubMedBERT-base-uncased-abstract were not used when initializing BertForSequenceClassification: ['cls.seq_relationship.bias', 'cls.seq_relationship.weight', 'cls.predictions.transform.LayerNorm.bias', 'cls.predictions.bias', 'cls.predictions.decoder.bias', 'cls.predictions.transform.LayerNorm.weight', 'cls.predictions.transform.dense.weight', 'cls.predictions.transform.dense.bias', 'cls.predictions.decoder.weight']\n",
            "- This IS expected if you are initializing BertForSequenceClassification from the checkpoint of a model trained on another task or with another architecture (e.g. initializing a BertForSequenceClassification model from a BertForPreTraining model).\n",
            "- This IS NOT expected if you are initializing BertForSequenceClassification from the checkpoint of a model that you expect to be exactly identical (initializing a BertForSequenceClassification model from a BertForSequenceClassification model).\n",
            "Some weights of BertForSequenceClassification were not initialized from the model checkpoint at microsoft/BiomedNLP-PubMedBERT-base-uncased-abstract and are newly initialized: ['classifier.weight', 'classifier.bias']\n",
            "You should probably TRAIN this model on a down-stream task to be able to use it for predictions and inference.\n"
          ]
        },
        {
          "output_type": "stream",
          "name": "stdout",
          "text": [
            "Epoch: [1][0/1357] Elapsed 0m 0s (remain 14m 37s) Loss: 0.3745 \n",
            "Epoch: [1][100/1357] Elapsed 0m 46s (remain 9m 44s) Loss: 0.0805 \n",
            "Epoch: [1][200/1357] Elapsed 1m 33s (remain 8m 57s) Loss: 0.0672 \n",
            "Epoch: [1][300/1357] Elapsed 2m 19s (remain 8m 10s) Loss: 0.0596 \n",
            "Epoch: [1][400/1357] Elapsed 3m 6s (remain 7m 24s) Loss: 0.0524 \n",
            "Epoch: [1][500/1357] Elapsed 3m 52s (remain 6m 37s) Loss: 0.0487 \n",
            "Epoch: [1][600/1357] Elapsed 4m 39s (remain 5m 51s) Loss: 0.0437 \n",
            "Epoch: [1][700/1357] Elapsed 5m 25s (remain 5m 4s) Loss: 0.0415 \n",
            "Epoch: [1][800/1357] Elapsed 6m 12s (remain 4m 18s) Loss: 0.0399 \n",
            "Epoch: [1][900/1357] Elapsed 6m 58s (remain 3m 31s) Loss: 0.0388 \n",
            "Epoch: [1][1000/1357] Elapsed 7m 45s (remain 2m 45s) Loss: 0.0372 \n",
            "Epoch: [1][1100/1357] Elapsed 8m 31s (remain 1m 59s) Loss: 0.0357 \n",
            "Epoch: [1][1200/1357] Elapsed 9m 18s (remain 1m 12s) Loss: 0.0347 \n",
            "Epoch: [1][1300/1357] Elapsed 10m 4s (remain 0m 26s) Loss: 0.0337 \n",
            "Epoch: [1][1356/1357] Elapsed 10m 30s (remain 0m 0s) Loss: 0.0332 \n",
            "EVAL: [0/340] Elapsed 0m 0s (remain 1m 49s) Loss: 0.0020 \n",
            "EVAL: [100/340] Elapsed 0m 16s (remain 0m 38s) Loss: 0.0523 \n",
            "EVAL: [200/340] Elapsed 0m 31s (remain 0m 22s) Loss: 0.0502 \n",
            "EVAL: [300/340] Elapsed 0m 47s (remain 0m 6s) Loss: 0.0485 \n"
          ]
        },
        {
          "output_type": "stream",
          "name": "stderr",
          "text": [
            "Epoch 1 - avg_train_loss: 0.0332  avg_val_loss: 0.0472  time: 685s\n",
            "Epoch 1 - avg_train_loss: 0.0332  avg_val_loss: 0.0472  time: 685s\n",
            "Epoch 1 - Score: 0.8773256693389805\n",
            "Epoch 1 - Score: 0.8773256693389805\n",
            "Epoch 1 - Save Best Score: 0.8773 Model\n",
            "Epoch 1 - Save Best Score: 0.8773 Model\n"
          ]
        },
        {
          "output_type": "stream",
          "name": "stdout",
          "text": [
            "EVAL: [339/340] Elapsed 0m 53s (remain 0m 0s) Loss: 0.0472 \n",
            "Epoch: [2][0/1357] Elapsed 0m 0s (remain 14m 19s) Loss: 0.0080 \n",
            "Epoch: [2][100/1357] Elapsed 0m 47s (remain 9m 46s) Loss: 0.0165 \n",
            "Epoch: [2][200/1357] Elapsed 1m 33s (remain 8m 58s) Loss: 0.0152 \n",
            "Epoch: [2][300/1357] Elapsed 2m 20s (remain 8m 11s) Loss: 0.0171 \n",
            "Epoch: [2][400/1357] Elapsed 3m 6s (remain 7m 24s) Loss: 0.0182 \n",
            "Epoch: [2][500/1357] Elapsed 3m 53s (remain 6m 38s) Loss: 0.0169 \n",
            "Epoch: [2][600/1357] Elapsed 4m 39s (remain 5m 51s) Loss: 0.0159 \n",
            "Epoch: [2][700/1357] Elapsed 5m 26s (remain 5m 5s) Loss: 0.0160 \n",
            "Epoch: [2][800/1357] Elapsed 6m 12s (remain 4m 18s) Loss: 0.0160 \n",
            "Epoch: [2][900/1357] Elapsed 6m 59s (remain 3m 32s) Loss: 0.0159 \n",
            "Epoch: [2][1000/1357] Elapsed 7m 45s (remain 2m 45s) Loss: 0.0156 \n",
            "Epoch: [2][1100/1357] Elapsed 8m 32s (remain 1m 59s) Loss: 0.0153 \n",
            "Epoch: [2][1200/1357] Elapsed 9m 18s (remain 1m 12s) Loss: 0.0154 \n",
            "Epoch: [2][1300/1357] Elapsed 10m 5s (remain 0m 26s) Loss: 0.0156 \n",
            "Epoch: [2][1356/1357] Elapsed 10m 31s (remain 0m 0s) Loss: 0.0156 \n",
            "EVAL: [0/340] Elapsed 0m 0s (remain 1m 49s) Loss: 0.0102 \n",
            "EVAL: [100/340] Elapsed 0m 16s (remain 0m 38s) Loss: 0.0426 \n",
            "EVAL: [200/340] Elapsed 0m 31s (remain 0m 22s) Loss: 0.0418 \n",
            "EVAL: [300/340] Elapsed 0m 47s (remain 0m 6s) Loss: 0.0416 \n"
          ]
        },
        {
          "output_type": "stream",
          "name": "stderr",
          "text": [
            "Epoch 2 - avg_train_loss: 0.0156  avg_val_loss: 0.0403  time: 685s\n",
            "Epoch 2 - avg_train_loss: 0.0156  avg_val_loss: 0.0403  time: 685s\n",
            "Epoch 2 - Score: 0.8844874508618084\n",
            "Epoch 2 - Score: 0.8844874508618084\n",
            "Epoch 2 - Save Best Score: 0.8845 Model\n",
            "Epoch 2 - Save Best Score: 0.8845 Model\n"
          ]
        },
        {
          "output_type": "stream",
          "name": "stdout",
          "text": [
            "EVAL: [339/340] Elapsed 0m 53s (remain 0m 0s) Loss: 0.0403 \n",
            "Epoch: [3][0/1357] Elapsed 0m 0s (remain 14m 12s) Loss: 0.0058 \n",
            "Epoch: [3][100/1357] Elapsed 0m 47s (remain 9m 45s) Loss: 0.0077 \n",
            "Epoch: [3][200/1357] Elapsed 1m 33s (remain 8m 58s) Loss: 0.0087 \n",
            "Epoch: [3][300/1357] Elapsed 2m 20s (remain 8m 11s) Loss: 0.0084 \n",
            "Epoch: [3][400/1357] Elapsed 3m 6s (remain 7m 24s) Loss: 0.0085 \n",
            "Epoch: [3][500/1357] Elapsed 3m 53s (remain 6m 38s) Loss: 0.0089 \n",
            "Epoch: [3][600/1357] Elapsed 4m 39s (remain 5m 51s) Loss: 0.0090 \n",
            "Epoch: [3][700/1357] Elapsed 5m 26s (remain 5m 5s) Loss: 0.0089 \n",
            "Epoch: [3][800/1357] Elapsed 6m 12s (remain 4m 18s) Loss: 0.0106 \n",
            "Epoch: [3][900/1357] Elapsed 6m 59s (remain 3m 32s) Loss: 0.0104 \n",
            "Epoch: [3][1000/1357] Elapsed 7m 45s (remain 2m 45s) Loss: 0.0103 \n",
            "Epoch: [3][1100/1357] Elapsed 8m 32s (remain 1m 59s) Loss: 0.0099 \n",
            "Epoch: [3][1200/1357] Elapsed 9m 18s (remain 1m 12s) Loss: 0.0104 \n",
            "Epoch: [3][1300/1357] Elapsed 10m 5s (remain 0m 26s) Loss: 0.0105 \n",
            "Epoch: [3][1356/1357] Elapsed 10m 31s (remain 0m 0s) Loss: 0.0105 \n",
            "EVAL: [0/340] Elapsed 0m 0s (remain 1m 50s) Loss: 0.0041 \n",
            "EVAL: [100/340] Elapsed 0m 16s (remain 0m 38s) Loss: 0.0581 \n",
            "EVAL: [200/340] Elapsed 0m 31s (remain 0m 22s) Loss: 0.0546 \n",
            "EVAL: [300/340] Elapsed 0m 47s (remain 0m 6s) Loss: 0.0548 \n"
          ]
        },
        {
          "output_type": "stream",
          "name": "stderr",
          "text": [
            "Epoch 3 - avg_train_loss: 0.0105  avg_val_loss: 0.0525  time: 685s\n",
            "Epoch 3 - avg_train_loss: 0.0105  avg_val_loss: 0.0525  time: 685s\n",
            "Epoch 3 - Score: 0.8225707257072569\n",
            "Epoch 3 - Score: 0.8225707257072569\n"
          ]
        },
        {
          "output_type": "stream",
          "name": "stdout",
          "text": [
            "EVAL: [339/340] Elapsed 0m 53s (remain 0m 0s) Loss: 0.0525 \n",
            "Epoch: [4][0/1357] Elapsed 0m 0s (remain 14m 23s) Loss: 0.0080 \n",
            "Epoch: [4][100/1357] Elapsed 0m 47s (remain 9m 46s) Loss: 0.0064 \n",
            "Epoch: [4][200/1357] Elapsed 1m 33s (remain 8m 58s) Loss: 0.0078 \n",
            "Epoch: [4][300/1357] Elapsed 2m 20s (remain 8m 11s) Loss: 0.0071 \n",
            "Epoch: [4][400/1357] Elapsed 3m 6s (remain 7m 24s) Loss: 0.0073 \n",
            "Epoch: [4][500/1357] Elapsed 3m 53s (remain 6m 38s) Loss: 0.0067 \n",
            "Epoch: [4][600/1357] Elapsed 4m 39s (remain 5m 51s) Loss: 0.0065 \n",
            "Epoch: [4][700/1357] Elapsed 5m 26s (remain 5m 5s) Loss: 0.0064 \n",
            "Epoch: [4][800/1357] Elapsed 6m 12s (remain 4m 18s) Loss: 0.0065 \n",
            "Epoch: [4][900/1357] Elapsed 6m 59s (remain 3m 32s) Loss: 0.0064 \n",
            "Epoch: [4][1000/1357] Elapsed 7m 45s (remain 2m 45s) Loss: 0.0066 \n",
            "Epoch: [4][1100/1357] Elapsed 8m 32s (remain 1m 59s) Loss: 0.0066 \n",
            "Epoch: [4][1200/1357] Elapsed 9m 18s (remain 1m 12s) Loss: 0.0068 \n",
            "Epoch: [4][1300/1357] Elapsed 10m 5s (remain 0m 26s) Loss: 0.0069 \n",
            "Epoch: [4][1356/1357] Elapsed 10m 31s (remain 0m 0s) Loss: 0.0070 \n",
            "EVAL: [0/340] Elapsed 0m 0s (remain 1m 52s) Loss: 0.0208 \n",
            "EVAL: [100/340] Elapsed 0m 16s (remain 0m 38s) Loss: 0.0500 \n",
            "EVAL: [200/340] Elapsed 0m 31s (remain 0m 22s) Loss: 0.0463 \n",
            "EVAL: [300/340] Elapsed 0m 47s (remain 0m 6s) Loss: 0.0464 \n"
          ]
        },
        {
          "output_type": "stream",
          "name": "stderr",
          "text": [
            "Epoch 4 - avg_train_loss: 0.0070  avg_val_loss: 0.0443  time: 685s\n",
            "Epoch 4 - avg_train_loss: 0.0070  avg_val_loss: 0.0443  time: 685s\n",
            "Epoch 4 - Score: 0.8393654705066996\n",
            "Epoch 4 - Score: 0.8393654705066996\n"
          ]
        },
        {
          "output_type": "stream",
          "name": "stdout",
          "text": [
            "EVAL: [339/340] Elapsed 0m 53s (remain 0m 0s) Loss: 0.0443 \n",
            "Epoch: [5][0/1357] Elapsed 0m 0s (remain 14m 27s) Loss: 0.0014 \n",
            "Epoch: [5][100/1357] Elapsed 0m 47s (remain 9m 46s) Loss: 0.0025 \n",
            "Epoch: [5][200/1357] Elapsed 1m 33s (remain 8m 58s) Loss: 0.0023 \n",
            "Epoch: [5][300/1357] Elapsed 2m 20s (remain 8m 11s) Loss: 0.0037 \n",
            "Epoch: [5][400/1357] Elapsed 3m 6s (remain 7m 25s) Loss: 0.0037 \n",
            "Epoch: [5][500/1357] Elapsed 3m 53s (remain 6m 38s) Loss: 0.0036 \n",
            "Epoch: [5][600/1357] Elapsed 4m 39s (remain 5m 51s) Loss: 0.0033 \n",
            "Epoch: [5][700/1357] Elapsed 5m 26s (remain 5m 5s) Loss: 0.0042 \n"
          ]
        }
      ]
    },
    {
      "cell_type": "code",
      "metadata": {
        "id": "kKa5w7L0La5I"
      },
      "source": [
        "from google.colab import files\n",
        "files.download(OUTPUT_DIR + \"train.log\")\n",
        "files.download(OUTPUT_DIR + \"oof_df.csv\")\n",
        "files.download(OUTPUT_DIR + \"submission.csv\")"
      ],
      "execution_count": null,
      "outputs": []
    },
    {
      "cell_type": "code",
      "metadata": {
        "colab": {
          "base_uri": "https://localhost:8080/",
          "height": 1000,
          "referenced_widgets": [
            "b9a3a9c9e25647cd9eb06f73286541ca",
            "4d2e7fb006514064b44a30493e4c6591",
            "0c488fd827364323b804f6a2d1eb7e62",
            "da2ac134cf5c4c428005672db50df38f",
            "181a357155204aab83adb76528c5dc56",
            "6f6717349ca8448fbca3c4b06ef19d2c",
            "9c8b99afa0ae4f4f84484ae4ccaf4a2a",
            "a7888555020e4d959f77267a8d2b63eb",
            "d293f7b9452949fdb69c13432dfb1b58",
            "04c0d8c1ecf848ef9ffe5a70a34d1f0c",
            "0f3f84ca821c4c25a444d254829bc7b1",
            "6d3f45fcd5464fbdb536ba3d623d0ba0",
            "3e27db8a35f340ecb17e856f4bcd1896",
            "527d12f3957649f8bc5e59af6c3f250f",
            "8d6432368b24493c9149148faf2cbd6e",
            "e781326903724d4d9834dc9d427cb06d",
            "6a045c976a0242afa8e6a0e71c578bd9",
            "ad1babed60644eb5bba1e376c8619bef",
            "b3e393272b454bbf909f7c470d99a64e",
            "702f4490903e4c75831ad4cb31e5d2d8",
            "c8f8e0a6902a47cc85594e56cf626648",
            "3e888961794a41e19667b7360af700a3",
            "d17e5d7f293f4a47aa657650f41d82b2",
            "d5edc72059d84fd697d9a339ba20adcc",
            "b5533261ed1d493789fb4239d00fbb52",
            "71debf25324a4bd2bf3d2bcac51525c7",
            "b6fbaacc775e46ab9e1f251d12b744a3",
            "a2871e6de57b41f08a351f1b5546e991",
            "50c2db4428eb49d4831ed539136fdce5",
            "a093b6e727274c518a11c1dacaa9cc7e",
            "4e013c5f8fa74e97afd896a0e1a5ef97",
            "474285df7baf408caed0e687e9e3e654",
            "c55f0f5af593460f8b1e6236a054a6e9"
          ]
        },
        "id": "iMu1xLD1XfUL",
        "outputId": "73fa71f9-7e16-40c5-8bb0-993d3bb70cbf"
      },
      "source": [
        "if __name__ == \"__main__\":\n",
        "    main()"
      ],
      "execution_count": 28,
      "outputs": [
        {
          "output_type": "stream",
          "name": "stderr",
          "text": [
            "========== fold: 0 training ==========\n"
          ]
        },
        {
          "output_type": "display_data",
          "data": {
            "application/vnd.jupyter.widget-view+json": {
              "model_id": "b9a3a9c9e25647cd9eb06f73286541ca",
              "version_minor": 0,
              "version_major": 2
            },
            "text/plain": [
              "Downloading:   0%|          | 0.00/225k [00:00<?, ?B/s]"
            ]
          },
          "metadata": {}
        },
        {
          "output_type": "display_data",
          "data": {
            "application/vnd.jupyter.widget-view+json": {
              "model_id": "6d3f45fcd5464fbdb536ba3d623d0ba0",
              "version_minor": 0,
              "version_major": 2
            },
            "text/plain": [
              "Downloading:   0%|          | 0.00/337 [00:00<?, ?B/s]"
            ]
          },
          "metadata": {}
        },
        {
          "output_type": "display_data",
          "data": {
            "application/vnd.jupyter.widget-view+json": {
              "model_id": "d17e5d7f293f4a47aa657650f41d82b2",
              "version_minor": 0,
              "version_major": 2
            },
            "text/plain": [
              "Downloading:   0%|          | 0.00/440M [00:00<?, ?B/s]"
            ]
          },
          "metadata": {}
        },
        {
          "output_type": "stream",
          "name": "stderr",
          "text": [
            "Some weights of the model checkpoint at microsoft/BiomedNLP-PubMedBERT-base-uncased-abstract were not used when initializing BertForSequenceClassification: ['cls.predictions.transform.LayerNorm.bias', 'cls.seq_relationship.weight', 'cls.seq_relationship.bias', 'cls.predictions.decoder.weight', 'cls.predictions.transform.dense.weight', 'cls.predictions.transform.LayerNorm.weight', 'cls.predictions.bias', 'cls.predictions.transform.dense.bias', 'cls.predictions.decoder.bias']\n",
            "- This IS expected if you are initializing BertForSequenceClassification from the checkpoint of a model trained on another task or with another architecture (e.g. initializing a BertForSequenceClassification model from a BertForPreTraining model).\n",
            "- This IS NOT expected if you are initializing BertForSequenceClassification from the checkpoint of a model that you expect to be exactly identical (initializing a BertForSequenceClassification model from a BertForSequenceClassification model).\n",
            "Some weights of BertForSequenceClassification were not initialized from the model checkpoint at microsoft/BiomedNLP-PubMedBERT-base-uncased-abstract and are newly initialized: ['classifier.bias', 'classifier.weight']\n",
            "You should probably TRAIN this model on a down-stream task to be able to use it for predictions and inference.\n"
          ]
        },
        {
          "output_type": "stream",
          "name": "stdout",
          "text": [
            "Epoch: [1][0/1357] Elapsed 0m 0s (remain 6m 49s) Loss: 0.3569 \n",
            "Epoch: [1][100/1357] Elapsed 0m 11s (remain 2m 28s) Loss: 0.0780 \n",
            "Epoch: [1][200/1357] Elapsed 0m 23s (remain 2m 15s) Loss: 0.0640 \n",
            "Epoch: [1][300/1357] Elapsed 0m 35s (remain 2m 3s) Loss: 0.0569 \n",
            "Epoch: [1][400/1357] Elapsed 0m 46s (remain 1m 51s) Loss: 0.0532 \n",
            "Epoch: [1][500/1357] Elapsed 0m 58s (remain 1m 39s) Loss: 0.0500 \n",
            "Epoch: [1][600/1357] Elapsed 1m 9s (remain 1m 27s) Loss: 0.0475 \n",
            "Epoch: [1][700/1357] Elapsed 1m 21s (remain 1m 16s) Loss: 0.0450 \n",
            "Epoch: [1][800/1357] Elapsed 1m 32s (remain 1m 4s) Loss: 0.0429 \n",
            "Epoch: [1][900/1357] Elapsed 1m 44s (remain 0m 52s) Loss: 0.0415 \n",
            "Epoch: [1][1000/1357] Elapsed 1m 56s (remain 0m 41s) Loss: 0.0394 \n",
            "Epoch: [1][1100/1357] Elapsed 2m 7s (remain 0m 29s) Loss: 0.0387 \n",
            "Epoch: [1][1200/1357] Elapsed 2m 19s (remain 0m 18s) Loss: 0.0380 \n",
            "Epoch: [1][1300/1357] Elapsed 2m 30s (remain 0m 6s) Loss: 0.0368 \n",
            "Epoch: [1][1356/1357] Elapsed 2m 37s (remain 0m 0s) Loss: 0.0364 \n",
            "EVAL: [0/340] Elapsed 0m 0s (remain 0m 54s) Loss: 0.0057 \n",
            "EVAL: [100/340] Elapsed 0m 3s (remain 0m 8s) Loss: 0.0369 \n",
            "EVAL: [200/340] Elapsed 0m 7s (remain 0m 5s) Loss: 0.0436 \n",
            "EVAL: [300/340] Elapsed 0m 10s (remain 0m 1s) Loss: 0.0444 \n"
          ]
        },
        {
          "output_type": "stream",
          "name": "stderr",
          "text": [
            "Epoch 1 - avg_train_loss: 0.0364  avg_val_loss: 0.0458  time: 170s\n",
            "Epoch 1 - Score: 0.8858858858858859\n",
            "Epoch 1 - Save Best Score: 0.8859 Model\n"
          ]
        },
        {
          "output_type": "stream",
          "name": "stdout",
          "text": [
            "EVAL: [339/340] Elapsed 0m 12s (remain 0m 0s) Loss: 0.0458 \n",
            "Epoch: [2][0/1357] Elapsed 0m 0s (remain 3m 57s) Loss: 0.0032 \n",
            "Epoch: [2][100/1357] Elapsed 0m 11s (remain 2m 26s) Loss: 0.0206 \n",
            "Epoch: [2][200/1357] Elapsed 0m 23s (remain 2m 14s) Loss: 0.0195 \n",
            "Epoch: [2][300/1357] Elapsed 0m 34s (remain 2m 2s) Loss: 0.0188 \n",
            "Epoch: [2][400/1357] Elapsed 0m 46s (remain 1m 50s) Loss: 0.0184 \n",
            "Epoch: [2][500/1357] Elapsed 0m 58s (remain 1m 39s) Loss: 0.0193 \n",
            "Epoch: [2][600/1357] Elapsed 1m 9s (remain 1m 27s) Loss: 0.0187 \n",
            "Epoch: [2][700/1357] Elapsed 1m 21s (remain 1m 16s) Loss: 0.0198 \n",
            "Epoch: [2][800/1357] Elapsed 1m 32s (remain 1m 4s) Loss: 0.0203 \n",
            "Epoch: [2][900/1357] Elapsed 1m 44s (remain 0m 52s) Loss: 0.0202 \n",
            "Epoch: [2][1000/1357] Elapsed 1m 55s (remain 0m 41s) Loss: 0.0194 \n",
            "Epoch: [2][1100/1357] Elapsed 2m 7s (remain 0m 29s) Loss: 0.0194 \n",
            "Epoch: [2][1200/1357] Elapsed 2m 19s (remain 0m 18s) Loss: 0.0191 \n",
            "Epoch: [2][1300/1357] Elapsed 2m 30s (remain 0m 6s) Loss: 0.0195 \n",
            "Epoch: [2][1356/1357] Elapsed 2m 37s (remain 0m 0s) Loss: 0.0194 \n",
            "EVAL: [0/340] Elapsed 0m 0s (remain 0m 53s) Loss: 0.0011 \n",
            "EVAL: [100/340] Elapsed 0m 3s (remain 0m 8s) Loss: 0.0361 \n",
            "EVAL: [200/340] Elapsed 0m 7s (remain 0m 5s) Loss: 0.0410 \n",
            "EVAL: [300/340] Elapsed 0m 10s (remain 0m 1s) Loss: 0.0423 \n"
          ]
        },
        {
          "output_type": "stream",
          "name": "stderr",
          "text": [
            "Epoch 2 - avg_train_loss: 0.0194  avg_val_loss: 0.0427  time: 170s\n",
            "Epoch 2 - Score: 0.8894341358687318\n",
            "Epoch 2 - Save Best Score: 0.8894 Model\n"
          ]
        },
        {
          "output_type": "stream",
          "name": "stdout",
          "text": [
            "EVAL: [339/340] Elapsed 0m 12s (remain 0m 0s) Loss: 0.0427 \n",
            "Epoch: [3][0/1357] Elapsed 0m 0s (remain 3m 56s) Loss: 0.0013 \n",
            "Epoch: [3][100/1357] Elapsed 0m 11s (remain 2m 26s) Loss: 0.0088 \n",
            "Epoch: [3][200/1357] Elapsed 0m 23s (remain 2m 14s) Loss: 0.0091 \n",
            "Epoch: [3][300/1357] Elapsed 0m 34s (remain 2m 2s) Loss: 0.0106 \n",
            "Epoch: [3][400/1357] Elapsed 0m 46s (remain 1m 50s) Loss: 0.0110 \n",
            "Epoch: [3][500/1357] Elapsed 0m 58s (remain 1m 39s) Loss: 0.0105 \n",
            "Epoch: [3][600/1357] Elapsed 1m 9s (remain 1m 27s) Loss: 0.0106 \n",
            "Epoch: [3][700/1357] Elapsed 1m 21s (remain 1m 15s) Loss: 0.0105 \n",
            "Epoch: [3][800/1357] Elapsed 1m 32s (remain 1m 4s) Loss: 0.0109 \n",
            "Epoch: [3][900/1357] Elapsed 1m 44s (remain 0m 52s) Loss: 0.0110 \n",
            "Epoch: [3][1000/1357] Elapsed 1m 55s (remain 0m 41s) Loss: 0.0105 \n",
            "Epoch: [3][1100/1357] Elapsed 2m 7s (remain 0m 29s) Loss: 0.0104 \n",
            "Epoch: [3][1200/1357] Elapsed 2m 19s (remain 0m 18s) Loss: 0.0105 \n",
            "Epoch: [3][1300/1357] Elapsed 2m 30s (remain 0m 6s) Loss: 0.0106 \n",
            "Epoch: [3][1356/1357] Elapsed 2m 37s (remain 0m 0s) Loss: 0.0106 \n",
            "EVAL: [0/340] Elapsed 0m 0s (remain 0m 52s) Loss: 0.0004 \n",
            "EVAL: [100/340] Elapsed 0m 3s (remain 0m 8s) Loss: 0.0529 \n",
            "EVAL: [200/340] Elapsed 0m 7s (remain 0m 5s) Loss: 0.0534 \n",
            "EVAL: [300/340] Elapsed 0m 10s (remain 0m 1s) Loss: 0.0534 \n"
          ]
        },
        {
          "output_type": "stream",
          "name": "stderr",
          "text": [
            "Epoch 3 - avg_train_loss: 0.0106  avg_val_loss: 0.0537  time: 169s\n",
            "Epoch 3 - Score: 0.8338480543545398\n"
          ]
        },
        {
          "output_type": "stream",
          "name": "stdout",
          "text": [
            "EVAL: [339/340] Elapsed 0m 12s (remain 0m 0s) Loss: 0.0537 \n",
            "Epoch: [4][0/1357] Elapsed 0m 0s (remain 3m 59s) Loss: 0.0011 \n",
            "Epoch: [4][100/1357] Elapsed 0m 11s (remain 2m 26s) Loss: 0.0081 \n",
            "Epoch: [4][200/1357] Elapsed 0m 23s (remain 2m 14s) Loss: 0.0073 \n",
            "Epoch: [4][300/1357] Elapsed 0m 34s (remain 2m 2s) Loss: 0.0061 \n",
            "Epoch: [4][400/1357] Elapsed 0m 46s (remain 1m 50s) Loss: 0.0065 \n",
            "Epoch: [4][500/1357] Elapsed 0m 58s (remain 1m 39s) Loss: 0.0067 \n",
            "Epoch: [4][600/1357] Elapsed 1m 9s (remain 1m 27s) Loss: 0.0069 \n",
            "Epoch: [4][700/1357] Elapsed 1m 21s (remain 1m 15s) Loss: 0.0064 \n",
            "Epoch: [4][800/1357] Elapsed 1m 32s (remain 1m 4s) Loss: 0.0065 \n",
            "Epoch: [4][900/1357] Elapsed 1m 44s (remain 0m 52s) Loss: 0.0069 \n",
            "Epoch: [4][1000/1357] Elapsed 1m 55s (remain 0m 41s) Loss: 0.0071 \n",
            "Epoch: [4][1100/1357] Elapsed 2m 7s (remain 0m 29s) Loss: 0.0074 \n",
            "Epoch: [4][1200/1357] Elapsed 2m 19s (remain 0m 18s) Loss: 0.0074 \n",
            "Epoch: [4][1300/1357] Elapsed 2m 30s (remain 0m 6s) Loss: 0.0075 \n",
            "Epoch: [4][1356/1357] Elapsed 2m 37s (remain 0m 0s) Loss: 0.0076 \n",
            "EVAL: [0/340] Elapsed 0m 0s (remain 0m 52s) Loss: 0.0003 \n",
            "EVAL: [100/340] Elapsed 0m 3s (remain 0m 8s) Loss: 0.0548 \n",
            "EVAL: [200/340] Elapsed 0m 7s (remain 0m 5s) Loss: 0.0624 \n",
            "EVAL: [300/340] Elapsed 0m 10s (remain 0m 1s) Loss: 0.0636 \n"
          ]
        },
        {
          "output_type": "stream",
          "name": "stderr",
          "text": [
            "Epoch 4 - avg_train_loss: 0.0076  avg_val_loss: 0.0629  time: 169s\n",
            "Epoch 4 - Score: 0.7035573122529645\n"
          ]
        },
        {
          "output_type": "stream",
          "name": "stdout",
          "text": [
            "EVAL: [339/340] Elapsed 0m 12s (remain 0m 0s) Loss: 0.0629 \n",
            "Epoch: [5][0/1357] Elapsed 0m 0s (remain 3m 57s) Loss: 0.0339 \n",
            "Epoch: [5][100/1357] Elapsed 0m 11s (remain 2m 26s) Loss: 0.0054 \n",
            "Epoch: [5][200/1357] Elapsed 0m 23s (remain 2m 14s) Loss: 0.0045 \n",
            "Epoch: [5][300/1357] Elapsed 0m 34s (remain 2m 2s) Loss: 0.0047 \n",
            "Epoch: [5][400/1357] Elapsed 0m 46s (remain 1m 50s) Loss: 0.0043 \n",
            "Epoch: [5][500/1357] Elapsed 0m 58s (remain 1m 39s) Loss: 0.0039 \n",
            "Epoch: [5][600/1357] Elapsed 1m 9s (remain 1m 27s) Loss: 0.0045 \n",
            "Epoch: [5][700/1357] Elapsed 1m 21s (remain 1m 15s) Loss: 0.0046 \n",
            "Epoch: [5][800/1357] Elapsed 1m 32s (remain 1m 4s) Loss: 0.0049 \n",
            "Epoch: [5][900/1357] Elapsed 1m 44s (remain 0m 52s) Loss: 0.0050 \n",
            "Epoch: [5][1000/1357] Elapsed 1m 55s (remain 0m 41s) Loss: 0.0048 \n",
            "Epoch: [5][1100/1357] Elapsed 2m 7s (remain 0m 29s) Loss: 0.0045 \n",
            "Epoch: [5][1200/1357] Elapsed 2m 19s (remain 0m 18s) Loss: 0.0044 \n",
            "Epoch: [5][1300/1357] Elapsed 2m 30s (remain 0m 6s) Loss: 0.0046 \n",
            "Epoch: [5][1356/1357] Elapsed 2m 37s (remain 0m 0s) Loss: 0.0045 \n",
            "EVAL: [0/340] Elapsed 0m 0s (remain 0m 57s) Loss: 0.0001 \n",
            "EVAL: [100/340] Elapsed 0m 3s (remain 0m 8s) Loss: 0.0725 \n",
            "EVAL: [200/340] Elapsed 0m 7s (remain 0m 5s) Loss: 0.0770 \n",
            "EVAL: [300/340] Elapsed 0m 10s (remain 0m 1s) Loss: 0.0727 \n"
          ]
        },
        {
          "output_type": "stream",
          "name": "stderr",
          "text": [
            "Epoch 5 - avg_train_loss: 0.0045  avg_val_loss: 0.0716  time: 170s\n",
            "Epoch 5 - Score: 0.7335541883577852\n"
          ]
        },
        {
          "output_type": "stream",
          "name": "stdout",
          "text": [
            "EVAL: [339/340] Elapsed 0m 12s (remain 0m 0s) Loss: 0.0716 \n"
          ]
        },
        {
          "output_type": "stream",
          "name": "stderr",
          "text": [
            "========== fold: 0 result ==========\n",
            "Score: 0.88943\n",
            "========== fold: 1 training ==========\n",
            "Some weights of the model checkpoint at microsoft/BiomedNLP-PubMedBERT-base-uncased-abstract were not used when initializing BertForSequenceClassification: ['cls.predictions.transform.LayerNorm.bias', 'cls.seq_relationship.weight', 'cls.seq_relationship.bias', 'cls.predictions.decoder.weight', 'cls.predictions.transform.dense.weight', 'cls.predictions.transform.LayerNorm.weight', 'cls.predictions.bias', 'cls.predictions.transform.dense.bias', 'cls.predictions.decoder.bias']\n",
            "- This IS expected if you are initializing BertForSequenceClassification from the checkpoint of a model trained on another task or with another architecture (e.g. initializing a BertForSequenceClassification model from a BertForPreTraining model).\n",
            "- This IS NOT expected if you are initializing BertForSequenceClassification from the checkpoint of a model that you expect to be exactly identical (initializing a BertForSequenceClassification model from a BertForSequenceClassification model).\n",
            "Some weights of BertForSequenceClassification were not initialized from the model checkpoint at microsoft/BiomedNLP-PubMedBERT-base-uncased-abstract and are newly initialized: ['classifier.bias', 'classifier.weight']\n",
            "You should probably TRAIN this model on a down-stream task to be able to use it for predictions and inference.\n"
          ]
        },
        {
          "output_type": "stream",
          "name": "stdout",
          "text": [
            "Epoch: [1][0/1357] Elapsed 0m 0s (remain 4m 4s) Loss: 0.2031 \n",
            "Epoch: [1][100/1357] Elapsed 0m 11s (remain 2m 26s) Loss: 0.0697 \n",
            "Epoch: [1][200/1357] Elapsed 0m 23s (remain 2m 14s) Loss: 0.0554 \n",
            "Epoch: [1][300/1357] Elapsed 0m 34s (remain 2m 2s) Loss: 0.0495 \n",
            "Epoch: [1][400/1357] Elapsed 0m 46s (remain 1m 50s) Loss: 0.0461 \n",
            "Epoch: [1][500/1357] Elapsed 0m 58s (remain 1m 39s) Loss: 0.0430 \n",
            "Epoch: [1][600/1357] Elapsed 1m 9s (remain 1m 27s) Loss: 0.0402 \n",
            "Epoch: [1][700/1357] Elapsed 1m 21s (remain 1m 16s) Loss: 0.0389 \n",
            "Epoch: [1][800/1357] Elapsed 1m 32s (remain 1m 4s) Loss: 0.0375 \n",
            "Epoch: [1][900/1357] Elapsed 1m 44s (remain 0m 52s) Loss: 0.0361 \n",
            "Epoch: [1][1000/1357] Elapsed 1m 56s (remain 0m 41s) Loss: 0.0347 \n",
            "Epoch: [1][1100/1357] Elapsed 2m 7s (remain 0m 29s) Loss: 0.0342 \n",
            "Epoch: [1][1200/1357] Elapsed 2m 19s (remain 0m 18s) Loss: 0.0340 \n",
            "Epoch: [1][1300/1357] Elapsed 2m 30s (remain 0m 6s) Loss: 0.0335 \n",
            "Epoch: [1][1356/1357] Elapsed 2m 37s (remain 0m 0s) Loss: 0.0335 \n",
            "EVAL: [0/340] Elapsed 0m 0s (remain 0m 57s) Loss: 0.2185 \n",
            "EVAL: [100/340] Elapsed 0m 3s (remain 0m 8s) Loss: 0.0566 \n",
            "EVAL: [200/340] Elapsed 0m 7s (remain 0m 5s) Loss: 0.0483 \n",
            "EVAL: [300/340] Elapsed 0m 10s (remain 0m 1s) Loss: 0.0484 \n"
          ]
        },
        {
          "output_type": "stream",
          "name": "stderr",
          "text": [
            "Epoch 1 - avg_train_loss: 0.0335  avg_val_loss: 0.0486  time: 170s\n",
            "Epoch 1 - Score: 0.8807686708400058\n",
            "Epoch 1 - Save Best Score: 0.8808 Model\n"
          ]
        },
        {
          "output_type": "stream",
          "name": "stdout",
          "text": [
            "EVAL: [339/340] Elapsed 0m 12s (remain 0m 0s) Loss: 0.0486 \n",
            "Epoch: [2][0/1357] Elapsed 0m 0s (remain 4m 9s) Loss: 0.0058 \n",
            "Epoch: [2][100/1357] Elapsed 0m 11s (remain 2m 26s) Loss: 0.0167 \n",
            "Epoch: [2][200/1357] Elapsed 0m 23s (remain 2m 14s) Loss: 0.0188 \n",
            "Epoch: [2][300/1357] Elapsed 0m 34s (remain 2m 2s) Loss: 0.0190 \n",
            "Epoch: [2][400/1357] Elapsed 0m 46s (remain 1m 50s) Loss: 0.0202 \n",
            "Epoch: [2][500/1357] Elapsed 0m 58s (remain 1m 39s) Loss: 0.0199 \n",
            "Epoch: [2][600/1357] Elapsed 1m 9s (remain 1m 27s) Loss: 0.0193 \n",
            "Epoch: [2][700/1357] Elapsed 1m 21s (remain 1m 15s) Loss: 0.0187 \n",
            "Epoch: [2][800/1357] Elapsed 1m 32s (remain 1m 4s) Loss: 0.0185 \n",
            "Epoch: [2][900/1357] Elapsed 1m 44s (remain 0m 52s) Loss: 0.0182 \n",
            "Epoch: [2][1000/1357] Elapsed 1m 55s (remain 0m 41s) Loss: 0.0181 \n",
            "Epoch: [2][1100/1357] Elapsed 2m 7s (remain 0m 29s) Loss: 0.0176 \n",
            "Epoch: [2][1200/1357] Elapsed 2m 19s (remain 0m 18s) Loss: 0.0175 \n",
            "Epoch: [2][1300/1357] Elapsed 2m 30s (remain 0m 6s) Loss: 0.0175 \n",
            "Epoch: [2][1356/1357] Elapsed 2m 37s (remain 0m 0s) Loss: 0.0173 \n",
            "EVAL: [0/340] Elapsed 0m 0s (remain 0m 54s) Loss: 0.1457 \n",
            "EVAL: [100/340] Elapsed 0m 3s (remain 0m 8s) Loss: 0.0685 \n",
            "EVAL: [200/340] Elapsed 0m 7s (remain 0m 5s) Loss: 0.0525 \n",
            "EVAL: [300/340] Elapsed 0m 10s (remain 0m 1s) Loss: 0.0548 \n"
          ]
        },
        {
          "output_type": "stream",
          "name": "stderr",
          "text": [
            "Epoch 2 - avg_train_loss: 0.0173  avg_val_loss: 0.0538  time: 170s\n",
            "Epoch 2 - Score: 0.839494762784966\n"
          ]
        },
        {
          "output_type": "stream",
          "name": "stdout",
          "text": [
            "EVAL: [339/340] Elapsed 0m 12s (remain 0m 0s) Loss: 0.0538 \n",
            "Epoch: [3][0/1357] Elapsed 0m 0s (remain 3m 59s) Loss: 0.0019 \n",
            "Epoch: [3][100/1357] Elapsed 0m 11s (remain 2m 26s) Loss: 0.0129 \n",
            "Epoch: [3][200/1357] Elapsed 0m 23s (remain 2m 14s) Loss: 0.0097 \n",
            "Epoch: [3][300/1357] Elapsed 0m 34s (remain 2m 2s) Loss: 0.0102 \n",
            "Epoch: [3][400/1357] Elapsed 0m 46s (remain 1m 50s) Loss: 0.0111 \n",
            "Epoch: [3][500/1357] Elapsed 0m 58s (remain 1m 39s) Loss: 0.0107 \n",
            "Epoch: [3][600/1357] Elapsed 1m 9s (remain 1m 27s) Loss: 0.0100 \n",
            "Epoch: [3][700/1357] Elapsed 1m 21s (remain 1m 15s) Loss: 0.0105 \n",
            "Epoch: [3][800/1357] Elapsed 1m 32s (remain 1m 4s) Loss: 0.0107 \n",
            "Epoch: [3][900/1357] Elapsed 1m 44s (remain 0m 52s) Loss: 0.0104 \n",
            "Epoch: [3][1000/1357] Elapsed 1m 55s (remain 0m 41s) Loss: 0.0101 \n",
            "Epoch: [3][1100/1357] Elapsed 2m 7s (remain 0m 29s) Loss: 0.0104 \n",
            "Epoch: [3][1200/1357] Elapsed 2m 19s (remain 0m 18s) Loss: 0.0104 \n",
            "Epoch: [3][1300/1357] Elapsed 2m 30s (remain 0m 6s) Loss: 0.0102 \n",
            "Epoch: [3][1356/1357] Elapsed 2m 37s (remain 0m 0s) Loss: 0.0103 \n",
            "EVAL: [0/340] Elapsed 0m 0s (remain 0m 54s) Loss: 0.3255 \n",
            "EVAL: [100/340] Elapsed 0m 3s (remain 0m 8s) Loss: 0.0675 \n",
            "EVAL: [200/340] Elapsed 0m 7s (remain 0m 5s) Loss: 0.0496 \n",
            "EVAL: [300/340] Elapsed 0m 10s (remain 0m 1s) Loss: 0.0494 \n"
          ]
        },
        {
          "output_type": "stream",
          "name": "stderr",
          "text": [
            "Epoch 3 - avg_train_loss: 0.0103  avg_val_loss: 0.0492  time: 169s\n",
            "Epoch 3 - Score: 0.8651320871311602\n"
          ]
        },
        {
          "output_type": "stream",
          "name": "stdout",
          "text": [
            "EVAL: [339/340] Elapsed 0m 12s (remain 0m 0s) Loss: 0.0492 \n",
            "Epoch: [4][0/1357] Elapsed 0m 0s (remain 4m 13s) Loss: 0.0005 \n",
            "Epoch: [4][100/1357] Elapsed 0m 11s (remain 2m 26s) Loss: 0.0070 \n",
            "Epoch: [4][200/1357] Elapsed 0m 23s (remain 2m 14s) Loss: 0.0049 \n",
            "Epoch: [4][300/1357] Elapsed 0m 34s (remain 2m 2s) Loss: 0.0064 \n",
            "Epoch: [4][400/1357] Elapsed 0m 46s (remain 1m 50s) Loss: 0.0064 \n",
            "Epoch: [4][500/1357] Elapsed 0m 58s (remain 1m 39s) Loss: 0.0071 \n",
            "Epoch: [4][600/1357] Elapsed 1m 9s (remain 1m 27s) Loss: 0.0069 \n",
            "Epoch: [4][700/1357] Elapsed 1m 21s (remain 1m 15s) Loss: 0.0068 \n",
            "Epoch: [4][800/1357] Elapsed 1m 32s (remain 1m 4s) Loss: 0.0071 \n",
            "Epoch: [4][900/1357] Elapsed 1m 44s (remain 0m 52s) Loss: 0.0073 \n",
            "Epoch: [4][1000/1357] Elapsed 1m 55s (remain 0m 41s) Loss: 0.0072 \n",
            "Epoch: [4][1100/1357] Elapsed 2m 7s (remain 0m 29s) Loss: 0.0070 \n",
            "Epoch: [4][1200/1357] Elapsed 2m 19s (remain 0m 18s) Loss: 0.0071 \n",
            "Epoch: [4][1300/1357] Elapsed 2m 30s (remain 0m 6s) Loss: 0.0073 \n",
            "Epoch: [4][1356/1357] Elapsed 2m 37s (remain 0m 0s) Loss: 0.0073 \n",
            "EVAL: [0/340] Elapsed 0m 0s (remain 0m 54s) Loss: 0.5657 \n",
            "EVAL: [100/340] Elapsed 0m 3s (remain 0m 8s) Loss: 0.0823 \n",
            "EVAL: [200/340] Elapsed 0m 7s (remain 0m 5s) Loss: 0.0624 \n",
            "EVAL: [300/340] Elapsed 0m 10s (remain 0m 1s) Loss: 0.0604 \n"
          ]
        },
        {
          "output_type": "stream",
          "name": "stderr",
          "text": [
            "Epoch 4 - avg_train_loss: 0.0073  avg_val_loss: 0.0590  time: 170s\n",
            "Epoch 4 - Score: 0.7988721804511277\n"
          ]
        },
        {
          "output_type": "stream",
          "name": "stdout",
          "text": [
            "EVAL: [339/340] Elapsed 0m 12s (remain 0m 0s) Loss: 0.0590 \n",
            "Epoch: [5][0/1357] Elapsed 0m 0s (remain 4m 2s) Loss: 0.0008 \n",
            "Epoch: [5][100/1357] Elapsed 0m 11s (remain 2m 26s) Loss: 0.0041 \n",
            "Epoch: [5][200/1357] Elapsed 0m 23s (remain 2m 14s) Loss: 0.0044 \n",
            "Epoch: [5][300/1357] Elapsed 0m 34s (remain 2m 2s) Loss: 0.0052 \n",
            "Epoch: [5][400/1357] Elapsed 0m 46s (remain 1m 50s) Loss: 0.0045 \n",
            "Epoch: [5][500/1357] Elapsed 0m 58s (remain 1m 39s) Loss: 0.0044 \n",
            "Epoch: [5][600/1357] Elapsed 1m 9s (remain 1m 27s) Loss: 0.0040 \n",
            "Epoch: [5][700/1357] Elapsed 1m 21s (remain 1m 16s) Loss: 0.0049 \n",
            "Epoch: [5][800/1357] Elapsed 1m 32s (remain 1m 4s) Loss: 0.0050 \n",
            "Epoch: [5][900/1357] Elapsed 1m 44s (remain 0m 52s) Loss: 0.0049 \n",
            "Epoch: [5][1000/1357] Elapsed 1m 55s (remain 0m 41s) Loss: 0.0048 \n",
            "Epoch: [5][1100/1357] Elapsed 2m 7s (remain 0m 29s) Loss: 0.0047 \n",
            "Epoch: [5][1200/1357] Elapsed 2m 19s (remain 0m 18s) Loss: 0.0048 \n",
            "Epoch: [5][1300/1357] Elapsed 2m 30s (remain 0m 6s) Loss: 0.0048 \n",
            "Epoch: [5][1356/1357] Elapsed 2m 37s (remain 0m 0s) Loss: 0.0048 \n",
            "EVAL: [0/340] Elapsed 0m 0s (remain 0m 54s) Loss: 0.5285 \n",
            "EVAL: [100/340] Elapsed 0m 3s (remain 0m 8s) Loss: 0.1079 \n",
            "EVAL: [200/340] Elapsed 0m 7s (remain 0m 5s) Loss: 0.0753 \n",
            "EVAL: [300/340] Elapsed 0m 10s (remain 0m 1s) Loss: 0.0742 \n"
          ]
        },
        {
          "output_type": "stream",
          "name": "stderr",
          "text": [
            "Epoch 5 - avg_train_loss: 0.0048  avg_val_loss: 0.0728  time: 170s\n",
            "Epoch 5 - Score: 0.7794048181388757\n"
          ]
        },
        {
          "output_type": "stream",
          "name": "stdout",
          "text": [
            "EVAL: [339/340] Elapsed 0m 12s (remain 0m 0s) Loss: 0.0728 \n"
          ]
        },
        {
          "output_type": "stream",
          "name": "stderr",
          "text": [
            "========== fold: 1 result ==========\n",
            "Score: 0.88077\n",
            "========== fold: 2 training ==========\n",
            "Some weights of the model checkpoint at microsoft/BiomedNLP-PubMedBERT-base-uncased-abstract were not used when initializing BertForSequenceClassification: ['cls.predictions.transform.LayerNorm.bias', 'cls.seq_relationship.weight', 'cls.seq_relationship.bias', 'cls.predictions.decoder.weight', 'cls.predictions.transform.dense.weight', 'cls.predictions.transform.LayerNorm.weight', 'cls.predictions.bias', 'cls.predictions.transform.dense.bias', 'cls.predictions.decoder.bias']\n",
            "- This IS expected if you are initializing BertForSequenceClassification from the checkpoint of a model trained on another task or with another architecture (e.g. initializing a BertForSequenceClassification model from a BertForPreTraining model).\n",
            "- This IS NOT expected if you are initializing BertForSequenceClassification from the checkpoint of a model that you expect to be exactly identical (initializing a BertForSequenceClassification model from a BertForSequenceClassification model).\n",
            "Some weights of BertForSequenceClassification were not initialized from the model checkpoint at microsoft/BiomedNLP-PubMedBERT-base-uncased-abstract and are newly initialized: ['classifier.bias', 'classifier.weight']\n",
            "You should probably TRAIN this model on a down-stream task to be able to use it for predictions and inference.\n"
          ]
        },
        {
          "output_type": "stream",
          "name": "stdout",
          "text": [
            "Epoch: [1][0/1357] Elapsed 0m 0s (remain 4m 0s) Loss: 0.2413 \n",
            "Epoch: [1][100/1357] Elapsed 0m 11s (remain 2m 26s) Loss: 0.0731 \n",
            "Epoch: [1][200/1357] Elapsed 0m 23s (remain 2m 14s) Loss: 0.0606 \n",
            "Epoch: [1][300/1357] Elapsed 0m 34s (remain 2m 2s) Loss: 0.0516 \n",
            "Epoch: [1][400/1357] Elapsed 0m 46s (remain 1m 50s) Loss: 0.0481 \n",
            "Epoch: [1][500/1357] Elapsed 0m 58s (remain 1m 39s) Loss: 0.0453 \n",
            "Epoch: [1][600/1357] Elapsed 1m 9s (remain 1m 27s) Loss: 0.0420 \n",
            "Epoch: [1][700/1357] Elapsed 1m 21s (remain 1m 16s) Loss: 0.0410 \n",
            "Epoch: [1][800/1357] Elapsed 1m 32s (remain 1m 4s) Loss: 0.0399 \n",
            "Epoch: [1][900/1357] Elapsed 1m 44s (remain 0m 52s) Loss: 0.0383 \n",
            "Epoch: [1][1000/1357] Elapsed 1m 56s (remain 0m 41s) Loss: 0.0371 \n",
            "Epoch: [1][1100/1357] Elapsed 2m 7s (remain 0m 29s) Loss: 0.0363 \n",
            "Epoch: [1][1200/1357] Elapsed 2m 19s (remain 0m 18s) Loss: 0.0353 \n",
            "Epoch: [1][1300/1357] Elapsed 2m 30s (remain 0m 6s) Loss: 0.0350 \n",
            "Epoch: [1][1356/1357] Elapsed 2m 37s (remain 0m 0s) Loss: 0.0346 \n",
            "EVAL: [0/340] Elapsed 0m 0s (remain 0m 54s) Loss: 0.0190 \n",
            "EVAL: [100/340] Elapsed 0m 3s (remain 0m 8s) Loss: 0.0385 \n",
            "EVAL: [200/340] Elapsed 0m 7s (remain 0m 5s) Loss: 0.0437 \n",
            "EVAL: [300/340] Elapsed 0m 10s (remain 0m 1s) Loss: 0.0460 \n"
          ]
        },
        {
          "output_type": "stream",
          "name": "stderr",
          "text": [
            "Epoch 1 - avg_train_loss: 0.0346  avg_val_loss: 0.0453  time: 170s\n",
            "Epoch 1 - Score: 0.872836719337848\n",
            "Epoch 1 - Save Best Score: 0.8728 Model\n"
          ]
        },
        {
          "output_type": "stream",
          "name": "stdout",
          "text": [
            "EVAL: [339/340] Elapsed 0m 12s (remain 0m 0s) Loss: 0.0453 \n",
            "Epoch: [2][0/1357] Elapsed 0m 0s (remain 4m 4s) Loss: 0.0070 \n",
            "Epoch: [2][100/1357] Elapsed 0m 11s (remain 2m 26s) Loss: 0.0177 \n",
            "Epoch: [2][200/1357] Elapsed 0m 23s (remain 2m 14s) Loss: 0.0201 \n",
            "Epoch: [2][300/1357] Elapsed 0m 34s (remain 2m 2s) Loss: 0.0198 \n",
            "Epoch: [2][400/1357] Elapsed 0m 46s (remain 1m 50s) Loss: 0.0190 \n",
            "Epoch: [2][500/1357] Elapsed 0m 58s (remain 1m 39s) Loss: 0.0190 \n",
            "Epoch: [2][600/1357] Elapsed 1m 9s (remain 1m 27s) Loss: 0.0174 \n",
            "Epoch: [2][700/1357] Elapsed 1m 21s (remain 1m 16s) Loss: 0.0183 \n",
            "Epoch: [2][800/1357] Elapsed 1m 32s (remain 1m 4s) Loss: 0.0182 \n",
            "Epoch: [2][900/1357] Elapsed 1m 44s (remain 0m 52s) Loss: 0.0185 \n",
            "Epoch: [2][1000/1357] Elapsed 1m 55s (remain 0m 41s) Loss: 0.0193 \n",
            "Epoch: [2][1100/1357] Elapsed 2m 7s (remain 0m 29s) Loss: 0.0198 \n",
            "Epoch: [2][1200/1357] Elapsed 2m 19s (remain 0m 18s) Loss: 0.0194 \n",
            "Epoch: [2][1300/1357] Elapsed 2m 30s (remain 0m 6s) Loss: 0.0190 \n",
            "Epoch: [2][1356/1357] Elapsed 2m 37s (remain 0m 0s) Loss: 0.0191 \n",
            "EVAL: [0/340] Elapsed 0m 0s (remain 0m 55s) Loss: 0.0135 \n",
            "EVAL: [100/340] Elapsed 0m 3s (remain 0m 8s) Loss: 0.0358 \n",
            "EVAL: [200/340] Elapsed 0m 7s (remain 0m 5s) Loss: 0.0444 \n",
            "EVAL: [300/340] Elapsed 0m 10s (remain 0m 1s) Loss: 0.0460 \n"
          ]
        },
        {
          "output_type": "stream",
          "name": "stderr",
          "text": [
            "Epoch 2 - avg_train_loss: 0.0191  avg_val_loss: 0.0459  time: 170s\n",
            "Epoch 2 - Score: 0.8827893175074184\n",
            "Epoch 2 - Save Best Score: 0.8828 Model\n"
          ]
        },
        {
          "output_type": "stream",
          "name": "stdout",
          "text": [
            "EVAL: [339/340] Elapsed 0m 12s (remain 0m 0s) Loss: 0.0459 \n",
            "Epoch: [3][0/1357] Elapsed 0m 0s (remain 4m 5s) Loss: 0.0086 \n",
            "Epoch: [3][100/1357] Elapsed 0m 11s (remain 2m 26s) Loss: 0.0090 \n",
            "Epoch: [3][200/1357] Elapsed 0m 23s (remain 2m 14s) Loss: 0.0078 \n",
            "Epoch: [3][300/1357] Elapsed 0m 34s (remain 2m 2s) Loss: 0.0080 \n",
            "Epoch: [3][400/1357] Elapsed 0m 46s (remain 1m 50s) Loss: 0.0082 \n",
            "Epoch: [3][500/1357] Elapsed 0m 58s (remain 1m 39s) Loss: 0.0099 \n",
            "Epoch: [3][600/1357] Elapsed 1m 9s (remain 1m 27s) Loss: 0.0105 \n",
            "Epoch: [3][700/1357] Elapsed 1m 21s (remain 1m 16s) Loss: 0.0106 \n",
            "Epoch: [3][800/1357] Elapsed 1m 32s (remain 1m 4s) Loss: 0.0112 \n",
            "Epoch: [3][900/1357] Elapsed 1m 44s (remain 0m 52s) Loss: 0.0110 \n",
            "Epoch: [3][1000/1357] Elapsed 1m 55s (remain 0m 41s) Loss: 0.0115 \n",
            "Epoch: [3][1100/1357] Elapsed 2m 7s (remain 0m 29s) Loss: 0.0113 \n",
            "Epoch: [3][1200/1357] Elapsed 2m 19s (remain 0m 18s) Loss: 0.0117 \n",
            "Epoch: [3][1300/1357] Elapsed 2m 30s (remain 0m 6s) Loss: 0.0116 \n",
            "Epoch: [3][1356/1357] Elapsed 2m 37s (remain 0m 0s) Loss: 0.0113 \n",
            "EVAL: [0/340] Elapsed 0m 0s (remain 0m 53s) Loss: 0.0101 \n",
            "EVAL: [100/340] Elapsed 0m 3s (remain 0m 8s) Loss: 0.0383 \n",
            "EVAL: [200/340] Elapsed 0m 7s (remain 0m 5s) Loss: 0.0562 \n",
            "EVAL: [300/340] Elapsed 0m 10s (remain 0m 1s) Loss: 0.0610 \n"
          ]
        },
        {
          "output_type": "stream",
          "name": "stderr",
          "text": [
            "Epoch 3 - avg_train_loss: 0.0113  avg_val_loss: 0.0594  time: 170s\n",
            "Epoch 3 - Score: 0.8222153273347811\n"
          ]
        },
        {
          "output_type": "stream",
          "name": "stdout",
          "text": [
            "EVAL: [339/340] Elapsed 0m 12s (remain 0m 0s) Loss: 0.0594 \n",
            "Epoch: [4][0/1357] Elapsed 0m 0s (remain 3m 55s) Loss: 0.0188 \n",
            "Epoch: [4][100/1357] Elapsed 0m 11s (remain 2m 26s) Loss: 0.0083 \n",
            "Epoch: [4][200/1357] Elapsed 0m 23s (remain 2m 14s) Loss: 0.0062 \n",
            "Epoch: [4][300/1357] Elapsed 0m 34s (remain 2m 2s) Loss: 0.0059 \n",
            "Epoch: [4][400/1357] Elapsed 0m 46s (remain 1m 50s) Loss: 0.0053 \n",
            "Epoch: [4][500/1357] Elapsed 0m 58s (remain 1m 39s) Loss: 0.0061 \n",
            "Epoch: [4][600/1357] Elapsed 1m 9s (remain 1m 27s) Loss: 0.0069 \n",
            "Epoch: [4][700/1357] Elapsed 1m 21s (remain 1m 16s) Loss: 0.0067 \n",
            "Epoch: [4][800/1357] Elapsed 1m 32s (remain 1m 4s) Loss: 0.0067 \n",
            "Epoch: [4][900/1357] Elapsed 1m 44s (remain 0m 52s) Loss: 0.0072 \n",
            "Epoch: [4][1000/1357] Elapsed 1m 55s (remain 0m 41s) Loss: 0.0071 \n",
            "Epoch: [4][1100/1357] Elapsed 2m 7s (remain 0m 29s) Loss: 0.0077 \n",
            "Epoch: [4][1200/1357] Elapsed 2m 19s (remain 0m 18s) Loss: 0.0074 \n",
            "Epoch: [4][1300/1357] Elapsed 2m 30s (remain 0m 6s) Loss: 0.0073 \n",
            "Epoch: [4][1356/1357] Elapsed 2m 37s (remain 0m 0s) Loss: 0.0073 \n",
            "EVAL: [0/340] Elapsed 0m 0s (remain 0m 52s) Loss: 0.0003 \n",
            "EVAL: [100/340] Elapsed 0m 3s (remain 0m 8s) Loss: 0.0429 \n",
            "EVAL: [200/340] Elapsed 0m 7s (remain 0m 5s) Loss: 0.0570 \n",
            "EVAL: [300/340] Elapsed 0m 10s (remain 0m 1s) Loss: 0.0662 \n"
          ]
        },
        {
          "output_type": "stream",
          "name": "stderr",
          "text": [
            "Epoch 4 - avg_train_loss: 0.0073  avg_val_loss: 0.0646  time: 170s\n",
            "Epoch 4 - Score: 0.8161044613710554\n"
          ]
        },
        {
          "output_type": "stream",
          "name": "stdout",
          "text": [
            "EVAL: [339/340] Elapsed 0m 12s (remain 0m 0s) Loss: 0.0646 \n",
            "Epoch: [5][0/1357] Elapsed 0m 0s (remain 3m 57s) Loss: 0.0002 \n",
            "Epoch: [5][100/1357] Elapsed 0m 11s (remain 2m 26s) Loss: 0.0041 \n",
            "Epoch: [5][200/1357] Elapsed 0m 23s (remain 2m 14s) Loss: 0.0048 \n",
            "Epoch: [5][300/1357] Elapsed 0m 34s (remain 2m 2s) Loss: 0.0055 \n",
            "Epoch: [5][400/1357] Elapsed 0m 46s (remain 1m 50s) Loss: 0.0047 \n",
            "Epoch: [5][500/1357] Elapsed 0m 58s (remain 1m 39s) Loss: 0.0047 \n",
            "Epoch: [5][600/1357] Elapsed 1m 9s (remain 1m 27s) Loss: 0.0044 \n",
            "Epoch: [5][700/1357] Elapsed 1m 21s (remain 1m 16s) Loss: 0.0043 \n",
            "Epoch: [5][800/1357] Elapsed 1m 32s (remain 1m 4s) Loss: 0.0044 \n",
            "Epoch: [5][900/1357] Elapsed 1m 44s (remain 0m 52s) Loss: 0.0044 \n",
            "Epoch: [5][1000/1357] Elapsed 1m 55s (remain 0m 41s) Loss: 0.0042 \n",
            "Epoch: [5][1100/1357] Elapsed 2m 7s (remain 0m 29s) Loss: 0.0039 \n",
            "Epoch: [5][1200/1357] Elapsed 2m 19s (remain 0m 18s) Loss: 0.0042 \n",
            "Epoch: [5][1300/1357] Elapsed 2m 30s (remain 0m 6s) Loss: 0.0045 \n",
            "Epoch: [5][1356/1357] Elapsed 2m 37s (remain 0m 0s) Loss: 0.0046 \n",
            "EVAL: [0/340] Elapsed 0m 0s (remain 0m 54s) Loss: 0.0002 \n",
            "EVAL: [100/340] Elapsed 0m 3s (remain 0m 8s) Loss: 0.0557 \n",
            "EVAL: [200/340] Elapsed 0m 7s (remain 0m 5s) Loss: 0.0665 \n",
            "EVAL: [300/340] Elapsed 0m 10s (remain 0m 1s) Loss: 0.0722 \n"
          ]
        },
        {
          "output_type": "stream",
          "name": "stderr",
          "text": [
            "Epoch 5 - avg_train_loss: 0.0046  avg_val_loss: 0.0698  time: 170s\n",
            "Epoch 5 - Score: 0.7545983335953467\n"
          ]
        },
        {
          "output_type": "stream",
          "name": "stdout",
          "text": [
            "EVAL: [339/340] Elapsed 0m 12s (remain 0m 0s) Loss: 0.0698 \n"
          ]
        },
        {
          "output_type": "stream",
          "name": "stderr",
          "text": [
            "========== fold: 2 result ==========\n",
            "Score: 0.88279\n",
            "========== fold: 3 training ==========\n",
            "Some weights of the model checkpoint at microsoft/BiomedNLP-PubMedBERT-base-uncased-abstract were not used when initializing BertForSequenceClassification: ['cls.predictions.transform.LayerNorm.bias', 'cls.seq_relationship.weight', 'cls.seq_relationship.bias', 'cls.predictions.decoder.weight', 'cls.predictions.transform.dense.weight', 'cls.predictions.transform.LayerNorm.weight', 'cls.predictions.bias', 'cls.predictions.transform.dense.bias', 'cls.predictions.decoder.bias']\n",
            "- This IS expected if you are initializing BertForSequenceClassification from the checkpoint of a model trained on another task or with another architecture (e.g. initializing a BertForSequenceClassification model from a BertForPreTraining model).\n",
            "- This IS NOT expected if you are initializing BertForSequenceClassification from the checkpoint of a model that you expect to be exactly identical (initializing a BertForSequenceClassification model from a BertForSequenceClassification model).\n",
            "Some weights of BertForSequenceClassification were not initialized from the model checkpoint at microsoft/BiomedNLP-PubMedBERT-base-uncased-abstract and are newly initialized: ['classifier.bias', 'classifier.weight']\n",
            "You should probably TRAIN this model on a down-stream task to be able to use it for predictions and inference.\n"
          ]
        },
        {
          "output_type": "stream",
          "name": "stdout",
          "text": [
            "Epoch: [1][0/1357] Elapsed 0m 0s (remain 4m 6s) Loss: 0.3686 \n",
            "Epoch: [1][100/1357] Elapsed 0m 11s (remain 2m 26s) Loss: 0.0866 \n",
            "Epoch: [1][200/1357] Elapsed 0m 23s (remain 2m 14s) Loss: 0.0718 \n",
            "Epoch: [1][300/1357] Elapsed 0m 34s (remain 2m 2s) Loss: 0.0644 \n",
            "Epoch: [1][400/1357] Elapsed 0m 46s (remain 1m 50s) Loss: 0.0571 \n",
            "Epoch: [1][500/1357] Elapsed 0m 58s (remain 1m 39s) Loss: 0.0538 \n",
            "Epoch: [1][600/1357] Elapsed 1m 9s (remain 1m 27s) Loss: 0.0491 \n",
            "Epoch: [1][700/1357] Elapsed 1m 21s (remain 1m 16s) Loss: 0.0464 \n",
            "Epoch: [1][800/1357] Elapsed 1m 32s (remain 1m 4s) Loss: 0.0443 \n",
            "Epoch: [1][900/1357] Elapsed 1m 44s (remain 0m 52s) Loss: 0.0429 \n",
            "Epoch: [1][1000/1357] Elapsed 1m 56s (remain 0m 41s) Loss: 0.0415 \n",
            "Epoch: [1][1100/1357] Elapsed 2m 7s (remain 0m 29s) Loss: 0.0402 \n",
            "Epoch: [1][1200/1357] Elapsed 2m 19s (remain 0m 18s) Loss: 0.0389 \n",
            "Epoch: [1][1300/1357] Elapsed 2m 30s (remain 0m 6s) Loss: 0.0377 \n",
            "Epoch: [1][1356/1357] Elapsed 2m 37s (remain 0m 0s) Loss: 0.0371 \n",
            "EVAL: [0/340] Elapsed 0m 0s (remain 0m 54s) Loss: 0.0323 \n",
            "EVAL: [100/340] Elapsed 0m 3s (remain 0m 8s) Loss: 0.0608 \n",
            "EVAL: [200/340] Elapsed 0m 7s (remain 0m 5s) Loss: 0.0558 \n",
            "EVAL: [300/340] Elapsed 0m 10s (remain 0m 1s) Loss: 0.0535 \n"
          ]
        },
        {
          "output_type": "stream",
          "name": "stderr",
          "text": [
            "Epoch 1 - avg_train_loss: 0.0371  avg_val_loss: 0.0535  time: 170s\n",
            "Epoch 1 - Score: 0.8475836431226764\n",
            "Epoch 1 - Save Best Score: 0.8476 Model\n"
          ]
        },
        {
          "output_type": "stream",
          "name": "stdout",
          "text": [
            "EVAL: [339/340] Elapsed 0m 12s (remain 0m 0s) Loss: 0.0535 \n",
            "Epoch: [2][0/1357] Elapsed 0m 0s (remain 4m 13s) Loss: 0.0195 \n",
            "Epoch: [2][100/1357] Elapsed 0m 11s (remain 2m 26s) Loss: 0.0226 \n",
            "Epoch: [2][200/1357] Elapsed 0m 23s (remain 2m 14s) Loss: 0.0194 \n",
            "Epoch: [2][300/1357] Elapsed 0m 34s (remain 2m 2s) Loss: 0.0201 \n",
            "Epoch: [2][400/1357] Elapsed 0m 46s (remain 1m 50s) Loss: 0.0204 \n",
            "Epoch: [2][500/1357] Elapsed 0m 58s (remain 1m 39s) Loss: 0.0204 \n",
            "Epoch: [2][600/1357] Elapsed 1m 9s (remain 1m 27s) Loss: 0.0199 \n",
            "Epoch: [2][700/1357] Elapsed 1m 21s (remain 1m 16s) Loss: 0.0200 \n",
            "Epoch: [2][800/1357] Elapsed 1m 32s (remain 1m 4s) Loss: 0.0202 \n",
            "Epoch: [2][900/1357] Elapsed 1m 44s (remain 0m 52s) Loss: 0.0197 \n",
            "Epoch: [2][1000/1357] Elapsed 1m 55s (remain 0m 41s) Loss: 0.0197 \n",
            "Epoch: [2][1100/1357] Elapsed 2m 7s (remain 0m 29s) Loss: 0.0193 \n",
            "Epoch: [2][1200/1357] Elapsed 2m 19s (remain 0m 18s) Loss: 0.0193 \n",
            "Epoch: [2][1300/1357] Elapsed 2m 30s (remain 0m 6s) Loss: 0.0195 \n",
            "Epoch: [2][1356/1357] Elapsed 2m 37s (remain 0m 0s) Loss: 0.0193 \n",
            "EVAL: [0/340] Elapsed 0m 0s (remain 0m 56s) Loss: 0.0055 \n",
            "EVAL: [100/340] Elapsed 0m 3s (remain 0m 8s) Loss: 0.0661 \n",
            "EVAL: [200/340] Elapsed 0m 7s (remain 0m 5s) Loss: 0.0544 \n",
            "EVAL: [300/340] Elapsed 0m 10s (remain 0m 1s) Loss: 0.0533 \n"
          ]
        },
        {
          "output_type": "stream",
          "name": "stderr",
          "text": [
            "Epoch 2 - avg_train_loss: 0.0193  avg_val_loss: 0.0536  time: 170s\n",
            "Epoch 2 - Score: 0.7747775391224302\n"
          ]
        },
        {
          "output_type": "stream",
          "name": "stdout",
          "text": [
            "EVAL: [339/340] Elapsed 0m 12s (remain 0m 0s) Loss: 0.0536 \n",
            "Epoch: [3][0/1357] Elapsed 0m 0s (remain 4m 12s) Loss: 0.0058 \n",
            "Epoch: [3][100/1357] Elapsed 0m 11s (remain 2m 26s) Loss: 0.0093 \n",
            "Epoch: [3][200/1357] Elapsed 0m 23s (remain 2m 14s) Loss: 0.0097 \n",
            "Epoch: [3][300/1357] Elapsed 0m 34s (remain 2m 2s) Loss: 0.0103 \n",
            "Epoch: [3][400/1357] Elapsed 0m 46s (remain 1m 50s) Loss: 0.0098 \n",
            "Epoch: [3][500/1357] Elapsed 0m 58s (remain 1m 39s) Loss: 0.0103 \n",
            "Epoch: [3][600/1357] Elapsed 1m 9s (remain 1m 27s) Loss: 0.0117 \n",
            "Epoch: [3][700/1357] Elapsed 1m 21s (remain 1m 16s) Loss: 0.0117 \n",
            "Epoch: [3][800/1357] Elapsed 1m 32s (remain 1m 4s) Loss: 0.0125 \n",
            "Epoch: [3][900/1357] Elapsed 1m 44s (remain 0m 52s) Loss: 0.0122 \n",
            "Epoch: [3][1000/1357] Elapsed 1m 55s (remain 0m 41s) Loss: 0.0121 \n",
            "Epoch: [3][1100/1357] Elapsed 2m 7s (remain 0m 29s) Loss: 0.0119 \n",
            "Epoch: [3][1200/1357] Elapsed 2m 19s (remain 0m 18s) Loss: 0.0121 \n",
            "Epoch: [3][1300/1357] Elapsed 2m 30s (remain 0m 6s) Loss: 0.0119 \n",
            "Epoch: [3][1356/1357] Elapsed 2m 37s (remain 0m 0s) Loss: 0.0118 \n",
            "EVAL: [0/340] Elapsed 0m 0s (remain 0m 53s) Loss: 0.0022 \n",
            "EVAL: [100/340] Elapsed 0m 3s (remain 0m 8s) Loss: 0.0841 \n",
            "EVAL: [200/340] Elapsed 0m 7s (remain 0m 5s) Loss: 0.0709 \n",
            "EVAL: [300/340] Elapsed 0m 10s (remain 0m 1s) Loss: 0.0648 \n"
          ]
        },
        {
          "output_type": "stream",
          "name": "stderr",
          "text": [
            "Epoch 3 - avg_train_loss: 0.0118  avg_val_loss: 0.0653  time: 170s\n",
            "Epoch 3 - Score: 0.8083140877598151\n"
          ]
        },
        {
          "output_type": "stream",
          "name": "stdout",
          "text": [
            "EVAL: [339/340] Elapsed 0m 12s (remain 0m 0s) Loss: 0.0653 \n",
            "Epoch: [4][0/1357] Elapsed 0m 0s (remain 4m 12s) Loss: 0.0125 \n",
            "Epoch: [4][100/1357] Elapsed 0m 11s (remain 2m 26s) Loss: 0.0047 \n",
            "Epoch: [4][200/1357] Elapsed 0m 23s (remain 2m 14s) Loss: 0.0075 \n",
            "Epoch: [4][300/1357] Elapsed 0m 34s (remain 2m 2s) Loss: 0.0079 \n",
            "Epoch: [4][400/1357] Elapsed 0m 46s (remain 1m 50s) Loss: 0.0077 \n",
            "Epoch: [4][500/1357] Elapsed 0m 58s (remain 1m 39s) Loss: 0.0070 \n",
            "Epoch: [4][600/1357] Elapsed 1m 9s (remain 1m 27s) Loss: 0.0069 \n",
            "Epoch: [4][700/1357] Elapsed 1m 21s (remain 1m 16s) Loss: 0.0066 \n",
            "Epoch: [4][800/1357] Elapsed 1m 32s (remain 1m 4s) Loss: 0.0070 \n",
            "Epoch: [4][900/1357] Elapsed 1m 44s (remain 0m 52s) Loss: 0.0071 \n",
            "Epoch: [4][1000/1357] Elapsed 1m 56s (remain 0m 41s) Loss: 0.0071 \n",
            "Epoch: [4][1100/1357] Elapsed 2m 7s (remain 0m 29s) Loss: 0.0071 \n",
            "Epoch: [4][1200/1357] Elapsed 2m 19s (remain 0m 18s) Loss: 0.0073 \n",
            "Epoch: [4][1300/1357] Elapsed 2m 30s (remain 0m 6s) Loss: 0.0073 \n",
            "Epoch: [4][1356/1357] Elapsed 2m 37s (remain 0m 0s) Loss: 0.0073 \n",
            "EVAL: [0/340] Elapsed 0m 0s (remain 0m 53s) Loss: 0.0028 \n",
            "EVAL: [100/340] Elapsed 0m 3s (remain 0m 8s) Loss: 0.0784 \n",
            "EVAL: [200/340] Elapsed 0m 7s (remain 0m 5s) Loss: 0.0644 \n",
            "EVAL: [300/340] Elapsed 0m 10s (remain 0m 1s) Loss: 0.0598 \n"
          ]
        },
        {
          "output_type": "stream",
          "name": "stderr",
          "text": [
            "Epoch 4 - avg_train_loss: 0.0073  avg_val_loss: 0.0601  time: 170s\n",
            "Epoch 4 - Score: 0.782460489618841\n"
          ]
        },
        {
          "output_type": "stream",
          "name": "stdout",
          "text": [
            "EVAL: [339/340] Elapsed 0m 12s (remain 0m 0s) Loss: 0.0601 \n",
            "Epoch: [5][0/1357] Elapsed 0m 0s (remain 4m 11s) Loss: 0.0022 \n",
            "Epoch: [5][100/1357] Elapsed 0m 11s (remain 2m 26s) Loss: 0.0022 \n",
            "Epoch: [5][200/1357] Elapsed 0m 23s (remain 2m 14s) Loss: 0.0020 \n",
            "Epoch: [5][300/1357] Elapsed 0m 34s (remain 2m 2s) Loss: 0.0053 \n",
            "Epoch: [5][400/1357] Elapsed 0m 46s (remain 1m 50s) Loss: 0.0050 \n",
            "Epoch: [5][500/1357] Elapsed 0m 58s (remain 1m 39s) Loss: 0.0050 \n",
            "Epoch: [5][600/1357] Elapsed 1m 9s (remain 1m 27s) Loss: 0.0055 \n",
            "Epoch: [5][700/1357] Elapsed 1m 21s (remain 1m 16s) Loss: 0.0060 \n",
            "Epoch: [5][800/1357] Elapsed 1m 32s (remain 1m 4s) Loss: 0.0059 \n",
            "Epoch: [5][900/1357] Elapsed 1m 44s (remain 0m 52s) Loss: 0.0062 \n",
            "Epoch: [5][1000/1357] Elapsed 1m 56s (remain 0m 41s) Loss: 0.0060 \n",
            "Epoch: [5][1100/1357] Elapsed 2m 7s (remain 0m 29s) Loss: 0.0060 \n",
            "Epoch: [5][1200/1357] Elapsed 2m 19s (remain 0m 18s) Loss: 0.0058 \n",
            "Epoch: [5][1300/1357] Elapsed 2m 30s (remain 0m 6s) Loss: 0.0057 \n",
            "Epoch: [5][1356/1357] Elapsed 2m 37s (remain 0m 0s) Loss: 0.0057 \n",
            "EVAL: [0/340] Elapsed 0m 0s (remain 0m 55s) Loss: 0.0005 \n",
            "EVAL: [100/340] Elapsed 0m 3s (remain 0m 8s) Loss: 0.1053 \n",
            "EVAL: [200/340] Elapsed 0m 7s (remain 0m 5s) Loss: 0.0870 \n",
            "EVAL: [300/340] Elapsed 0m 10s (remain 0m 1s) Loss: 0.0834 \n"
          ]
        },
        {
          "output_type": "stream",
          "name": "stderr",
          "text": [
            "Epoch 5 - avg_train_loss: 0.0057  avg_val_loss: 0.0821  time: 170s\n",
            "Epoch 5 - Score: 0.6291286568103177\n"
          ]
        },
        {
          "output_type": "stream",
          "name": "stdout",
          "text": [
            "EVAL: [339/340] Elapsed 0m 12s (remain 0m 0s) Loss: 0.0821 \n"
          ]
        },
        {
          "output_type": "stream",
          "name": "stderr",
          "text": [
            "========== fold: 3 result ==========\n",
            "Score: 0.84758\n",
            "========== fold: 4 training ==========\n",
            "Some weights of the model checkpoint at microsoft/BiomedNLP-PubMedBERT-base-uncased-abstract were not used when initializing BertForSequenceClassification: ['cls.predictions.transform.LayerNorm.bias', 'cls.seq_relationship.weight', 'cls.seq_relationship.bias', 'cls.predictions.decoder.weight', 'cls.predictions.transform.dense.weight', 'cls.predictions.transform.LayerNorm.weight', 'cls.predictions.bias', 'cls.predictions.transform.dense.bias', 'cls.predictions.decoder.bias']\n",
            "- This IS expected if you are initializing BertForSequenceClassification from the checkpoint of a model trained on another task or with another architecture (e.g. initializing a BertForSequenceClassification model from a BertForPreTraining model).\n",
            "- This IS NOT expected if you are initializing BertForSequenceClassification from the checkpoint of a model that you expect to be exactly identical (initializing a BertForSequenceClassification model from a BertForSequenceClassification model).\n",
            "Some weights of BertForSequenceClassification were not initialized from the model checkpoint at microsoft/BiomedNLP-PubMedBERT-base-uncased-abstract and are newly initialized: ['classifier.bias', 'classifier.weight']\n",
            "You should probably TRAIN this model on a down-stream task to be able to use it for predictions and inference.\n"
          ]
        },
        {
          "output_type": "stream",
          "name": "stdout",
          "text": [
            "Epoch: [1][0/1357] Elapsed 0m 0s (remain 4m 9s) Loss: 0.4665 \n",
            "Epoch: [1][100/1357] Elapsed 0m 11s (remain 2m 26s) Loss: 0.0934 \n",
            "Epoch: [1][200/1357] Elapsed 0m 23s (remain 2m 14s) Loss: 0.0653 \n",
            "Epoch: [1][300/1357] Elapsed 0m 34s (remain 2m 2s) Loss: 0.0581 \n",
            "Epoch: [1][400/1357] Elapsed 0m 46s (remain 1m 50s) Loss: 0.0533 \n",
            "Epoch: [1][500/1357] Elapsed 0m 58s (remain 1m 39s) Loss: 0.0498 \n",
            "Epoch: [1][600/1357] Elapsed 1m 9s (remain 1m 27s) Loss: 0.0477 \n",
            "Epoch: [1][700/1357] Elapsed 1m 21s (remain 1m 16s) Loss: 0.0444 \n",
            "Epoch: [1][800/1357] Elapsed 1m 32s (remain 1m 4s) Loss: 0.0431 \n",
            "Epoch: [1][900/1357] Elapsed 1m 44s (remain 0m 52s) Loss: 0.0419 \n",
            "Epoch: [1][1000/1357] Elapsed 1m 56s (remain 0m 41s) Loss: 0.0403 \n",
            "Epoch: [1][1100/1357] Elapsed 2m 7s (remain 0m 29s) Loss: 0.0404 \n",
            "Epoch: [1][1200/1357] Elapsed 2m 19s (remain 0m 18s) Loss: 0.0400 \n",
            "Epoch: [1][1300/1357] Elapsed 2m 30s (remain 0m 6s) Loss: 0.0387 \n",
            "Epoch: [1][1356/1357] Elapsed 2m 37s (remain 0m 0s) Loss: 0.0386 \n",
            "EVAL: [0/340] Elapsed 0m 0s (remain 0m 54s) Loss: 0.0039 \n",
            "EVAL: [100/340] Elapsed 0m 3s (remain 0m 8s) Loss: 0.0428 \n",
            "EVAL: [200/340] Elapsed 0m 7s (remain 0m 5s) Loss: 0.0462 \n",
            "EVAL: [300/340] Elapsed 0m 10s (remain 0m 1s) Loss: 0.0478 \n"
          ]
        },
        {
          "output_type": "stream",
          "name": "stderr",
          "text": [
            "Epoch 1 - avg_train_loss: 0.0386  avg_val_loss: 0.0494  time: 170s\n",
            "Epoch 1 - Score: 0.8509345084333688\n",
            "Epoch 1 - Save Best Score: 0.8509 Model\n"
          ]
        },
        {
          "output_type": "stream",
          "name": "stdout",
          "text": [
            "EVAL: [339/340] Elapsed 0m 12s (remain 0m 0s) Loss: 0.0494 \n",
            "Epoch: [2][0/1357] Elapsed 0m 0s (remain 4m 6s) Loss: 0.0017 \n",
            "Epoch: [2][100/1357] Elapsed 0m 11s (remain 2m 26s) Loss: 0.0232 \n",
            "Epoch: [2][200/1357] Elapsed 0m 23s (remain 2m 14s) Loss: 0.0209 \n",
            "Epoch: [2][300/1357] Elapsed 0m 34s (remain 2m 2s) Loss: 0.0203 \n",
            "Epoch: [2][400/1357] Elapsed 0m 46s (remain 1m 50s) Loss: 0.0212 \n",
            "Epoch: [2][500/1357] Elapsed 0m 58s (remain 1m 39s) Loss: 0.0217 \n",
            "Epoch: [2][600/1357] Elapsed 1m 9s (remain 1m 27s) Loss: 0.0210 \n",
            "Epoch: [2][700/1357] Elapsed 1m 21s (remain 1m 16s) Loss: 0.0211 \n",
            "Epoch: [2][800/1357] Elapsed 1m 32s (remain 1m 4s) Loss: 0.0210 \n",
            "Epoch: [2][900/1357] Elapsed 1m 44s (remain 0m 52s) Loss: 0.0206 \n",
            "Epoch: [2][1000/1357] Elapsed 1m 55s (remain 0m 41s) Loss: 0.0204 \n",
            "Epoch: [2][1100/1357] Elapsed 2m 7s (remain 0m 29s) Loss: 0.0204 \n",
            "Epoch: [2][1200/1357] Elapsed 2m 19s (remain 0m 18s) Loss: 0.0201 \n",
            "Epoch: [2][1300/1357] Elapsed 2m 30s (remain 0m 6s) Loss: 0.0203 \n",
            "Epoch: [2][1356/1357] Elapsed 2m 37s (remain 0m 0s) Loss: 0.0201 \n",
            "EVAL: [0/340] Elapsed 0m 0s (remain 0m 54s) Loss: 0.0026 \n",
            "EVAL: [100/340] Elapsed 0m 3s (remain 0m 8s) Loss: 0.0619 \n",
            "EVAL: [200/340] Elapsed 0m 7s (remain 0m 5s) Loss: 0.0655 \n",
            "EVAL: [300/340] Elapsed 0m 10s (remain 0m 1s) Loss: 0.0755 \n"
          ]
        },
        {
          "output_type": "stream",
          "name": "stderr",
          "text": [
            "Epoch 2 - avg_train_loss: 0.0201  avg_val_loss: 0.0771  time: 170s\n",
            "Epoch 2 - Score: 0.8991745283018867\n",
            "Epoch 2 - Save Best Score: 0.8992 Model\n"
          ]
        },
        {
          "output_type": "stream",
          "name": "stdout",
          "text": [
            "EVAL: [339/340] Elapsed 0m 12s (remain 0m 0s) Loss: 0.0771 \n",
            "Epoch: [3][0/1357] Elapsed 0m 0s (remain 4m 8s) Loss: 0.0994 \n",
            "Epoch: [3][100/1357] Elapsed 0m 11s (remain 2m 26s) Loss: 0.0134 \n",
            "Epoch: [3][200/1357] Elapsed 0m 23s (remain 2m 14s) Loss: 0.0125 \n",
            "Epoch: [3][300/1357] Elapsed 0m 34s (remain 2m 2s) Loss: 0.0107 \n",
            "Epoch: [3][400/1357] Elapsed 0m 46s (remain 1m 50s) Loss: 0.0111 \n",
            "Epoch: [3][500/1357] Elapsed 0m 58s (remain 1m 39s) Loss: 0.0116 \n",
            "Epoch: [3][600/1357] Elapsed 1m 9s (remain 1m 27s) Loss: 0.0122 \n",
            "Epoch: [3][700/1357] Elapsed 1m 21s (remain 1m 16s) Loss: 0.0125 \n",
            "Epoch: [3][800/1357] Elapsed 1m 32s (remain 1m 4s) Loss: 0.0123 \n",
            "Epoch: [3][900/1357] Elapsed 1m 44s (remain 0m 52s) Loss: 0.0126 \n",
            "Epoch: [3][1000/1357] Elapsed 1m 55s (remain 0m 41s) Loss: 0.0125 \n",
            "Epoch: [3][1100/1357] Elapsed 2m 7s (remain 0m 29s) Loss: 0.0127 \n",
            "Epoch: [3][1200/1357] Elapsed 2m 19s (remain 0m 18s) Loss: 0.0127 \n",
            "Epoch: [3][1300/1357] Elapsed 2m 30s (remain 0m 6s) Loss: 0.0130 \n",
            "Epoch: [3][1356/1357] Elapsed 2m 37s (remain 0m 0s) Loss: 0.0129 \n",
            "EVAL: [0/340] Elapsed 0m 0s (remain 0m 54s) Loss: 0.0007 \n",
            "EVAL: [100/340] Elapsed 0m 3s (remain 0m 8s) Loss: 0.0377 \n",
            "EVAL: [200/340] Elapsed 0m 7s (remain 0m 5s) Loss: 0.0453 \n",
            "EVAL: [300/340] Elapsed 0m 10s (remain 0m 1s) Loss: 0.0526 \n"
          ]
        },
        {
          "output_type": "stream",
          "name": "stderr",
          "text": [
            "Epoch 3 - avg_train_loss: 0.0129  avg_val_loss: 0.0533  time: 170s\n",
            "Epoch 3 - Score: 0.8806861693980701\n"
          ]
        },
        {
          "output_type": "stream",
          "name": "stdout",
          "text": [
            "EVAL: [339/340] Elapsed 0m 12s (remain 0m 0s) Loss: 0.0533 \n",
            "Epoch: [4][0/1357] Elapsed 0m 0s (remain 4m 4s) Loss: 0.0004 \n",
            "Epoch: [4][100/1357] Elapsed 0m 11s (remain 2m 26s) Loss: 0.0056 \n",
            "Epoch: [4][200/1357] Elapsed 0m 23s (remain 2m 14s) Loss: 0.0067 \n",
            "Epoch: [4][300/1357] Elapsed 0m 34s (remain 2m 2s) Loss: 0.0068 \n",
            "Epoch: [4][400/1357] Elapsed 0m 46s (remain 1m 50s) Loss: 0.0071 \n",
            "Epoch: [4][500/1357] Elapsed 0m 58s (remain 1m 39s) Loss: 0.0070 \n",
            "Epoch: [4][600/1357] Elapsed 1m 9s (remain 1m 27s) Loss: 0.0070 \n",
            "Epoch: [4][700/1357] Elapsed 1m 21s (remain 1m 15s) Loss: 0.0078 \n",
            "Epoch: [4][800/1357] Elapsed 1m 32s (remain 1m 4s) Loss: 0.0077 \n",
            "Epoch: [4][900/1357] Elapsed 1m 44s (remain 0m 52s) Loss: 0.0079 \n",
            "Epoch: [4][1000/1357] Elapsed 1m 55s (remain 0m 41s) Loss: 0.0080 \n",
            "Epoch: [4][1100/1357] Elapsed 2m 7s (remain 0m 29s) Loss: 0.0079 \n",
            "Epoch: [4][1200/1357] Elapsed 2m 19s (remain 0m 18s) Loss: 0.0079 \n",
            "Epoch: [4][1300/1357] Elapsed 2m 30s (remain 0m 6s) Loss: 0.0082 \n",
            "Epoch: [4][1356/1357] Elapsed 2m 37s (remain 0m 0s) Loss: 0.0083 \n",
            "EVAL: [0/340] Elapsed 0m 0s (remain 0m 55s) Loss: 0.0004 \n",
            "EVAL: [100/340] Elapsed 0m 3s (remain 0m 8s) Loss: 0.0427 \n",
            "EVAL: [200/340] Elapsed 0m 7s (remain 0m 5s) Loss: 0.0546 \n",
            "EVAL: [300/340] Elapsed 0m 10s (remain 0m 1s) Loss: 0.0582 \n"
          ]
        },
        {
          "output_type": "stream",
          "name": "stderr",
          "text": [
            "Epoch 4 - avg_train_loss: 0.0083  avg_val_loss: 0.0588  time: 170s\n",
            "Epoch 4 - Score: 0.7858699035169623\n"
          ]
        },
        {
          "output_type": "stream",
          "name": "stdout",
          "text": [
            "EVAL: [339/340] Elapsed 0m 12s (remain 0m 0s) Loss: 0.0588 \n",
            "Epoch: [5][0/1357] Elapsed 0m 0s (remain 4m 4s) Loss: 0.0007 \n",
            "Epoch: [5][100/1357] Elapsed 0m 11s (remain 2m 26s) Loss: 0.0083 \n",
            "Epoch: [5][200/1357] Elapsed 0m 23s (remain 2m 14s) Loss: 0.0065 \n",
            "Epoch: [5][300/1357] Elapsed 0m 34s (remain 2m 2s) Loss: 0.0069 \n",
            "Epoch: [5][400/1357] Elapsed 0m 46s (remain 1m 50s) Loss: 0.0070 \n",
            "Epoch: [5][500/1357] Elapsed 0m 58s (remain 1m 39s) Loss: 0.0066 \n",
            "Epoch: [5][600/1357] Elapsed 1m 9s (remain 1m 27s) Loss: 0.0063 \n",
            "Epoch: [5][700/1357] Elapsed 1m 21s (remain 1m 16s) Loss: 0.0060 \n",
            "Epoch: [5][800/1357] Elapsed 1m 32s (remain 1m 4s) Loss: 0.0056 \n",
            "Epoch: [5][900/1357] Elapsed 1m 44s (remain 0m 52s) Loss: 0.0052 \n",
            "Epoch: [5][1000/1357] Elapsed 1m 55s (remain 0m 41s) Loss: 0.0049 \n",
            "Epoch: [5][1100/1357] Elapsed 2m 7s (remain 0m 29s) Loss: 0.0054 \n",
            "Epoch: [5][1200/1357] Elapsed 2m 19s (remain 0m 18s) Loss: 0.0054 \n",
            "Epoch: [5][1300/1357] Elapsed 2m 30s (remain 0m 6s) Loss: 0.0051 \n",
            "Epoch: [5][1356/1357] Elapsed 2m 37s (remain 0m 0s) Loss: 0.0051 \n",
            "EVAL: [0/340] Elapsed 0m 0s (remain 0m 53s) Loss: 0.0003 \n",
            "EVAL: [100/340] Elapsed 0m 3s (remain 0m 8s) Loss: 0.0500 \n",
            "EVAL: [200/340] Elapsed 0m 7s (remain 0m 5s) Loss: 0.0675 \n",
            "EVAL: [300/340] Elapsed 0m 10s (remain 0m 1s) Loss: 0.0773 \n"
          ]
        },
        {
          "output_type": "stream",
          "name": "stderr",
          "text": [
            "Epoch 5 - avg_train_loss: 0.0051  avg_val_loss: 0.0772  time: 170s\n",
            "Epoch 5 - Score: 0.8423493044822257\n"
          ]
        },
        {
          "output_type": "stream",
          "name": "stdout",
          "text": [
            "EVAL: [339/340] Elapsed 0m 12s (remain 0m 0s) Loss: 0.0772 \n"
          ]
        },
        {
          "output_type": "stream",
          "name": "stderr",
          "text": [
            "========== fold: 4 result ==========\n",
            "Score: 0.89917\n",
            "========== CV ==========\n",
            "Score: 0.87993\n",
            "========== model: pubmedbert_uncased fold: 0 inference ==========\n",
            "Some weights of the model checkpoint at microsoft/BiomedNLP-PubMedBERT-base-uncased-abstract were not used when initializing BertForSequenceClassification: ['cls.predictions.transform.LayerNorm.bias', 'cls.seq_relationship.weight', 'cls.seq_relationship.bias', 'cls.predictions.decoder.weight', 'cls.predictions.transform.dense.weight', 'cls.predictions.transform.LayerNorm.weight', 'cls.predictions.bias', 'cls.predictions.transform.dense.bias', 'cls.predictions.decoder.bias']\n",
            "- This IS expected if you are initializing BertForSequenceClassification from the checkpoint of a model trained on another task or with another architecture (e.g. initializing a BertForSequenceClassification model from a BertForPreTraining model).\n",
            "- This IS NOT expected if you are initializing BertForSequenceClassification from the checkpoint of a model that you expect to be exactly identical (initializing a BertForSequenceClassification model from a BertForSequenceClassification model).\n",
            "Some weights of BertForSequenceClassification were not initialized from the model checkpoint at microsoft/BiomedNLP-PubMedBERT-base-uncased-abstract and are newly initialized: ['classifier.bias', 'classifier.weight']\n",
            "You should probably TRAIN this model on a down-stream task to be able to use it for predictions and inference.\n",
            "100%|██████████| 2553/2553 [01:32<00:00, 27.54it/s]\n",
            "========== model: pubmedbert_uncased fold: 1 inference ==========\n",
            "Some weights of the model checkpoint at microsoft/BiomedNLP-PubMedBERT-base-uncased-abstract were not used when initializing BertForSequenceClassification: ['cls.predictions.transform.LayerNorm.bias', 'cls.seq_relationship.weight', 'cls.seq_relationship.bias', 'cls.predictions.decoder.weight', 'cls.predictions.transform.dense.weight', 'cls.predictions.transform.LayerNorm.weight', 'cls.predictions.bias', 'cls.predictions.transform.dense.bias', 'cls.predictions.decoder.bias']\n",
            "- This IS expected if you are initializing BertForSequenceClassification from the checkpoint of a model trained on another task or with another architecture (e.g. initializing a BertForSequenceClassification model from a BertForPreTraining model).\n",
            "- This IS NOT expected if you are initializing BertForSequenceClassification from the checkpoint of a model that you expect to be exactly identical (initializing a BertForSequenceClassification model from a BertForSequenceClassification model).\n",
            "Some weights of BertForSequenceClassification were not initialized from the model checkpoint at microsoft/BiomedNLP-PubMedBERT-base-uncased-abstract and are newly initialized: ['classifier.bias', 'classifier.weight']\n",
            "You should probably TRAIN this model on a down-stream task to be able to use it for predictions and inference.\n",
            "100%|██████████| 2553/2553 [01:32<00:00, 27.55it/s]\n",
            "========== model: pubmedbert_uncased fold: 2 inference ==========\n",
            "Some weights of the model checkpoint at microsoft/BiomedNLP-PubMedBERT-base-uncased-abstract were not used when initializing BertForSequenceClassification: ['cls.predictions.transform.LayerNorm.bias', 'cls.seq_relationship.weight', 'cls.seq_relationship.bias', 'cls.predictions.decoder.weight', 'cls.predictions.transform.dense.weight', 'cls.predictions.transform.LayerNorm.weight', 'cls.predictions.bias', 'cls.predictions.transform.dense.bias', 'cls.predictions.decoder.bias']\n",
            "- This IS expected if you are initializing BertForSequenceClassification from the checkpoint of a model trained on another task or with another architecture (e.g. initializing a BertForSequenceClassification model from a BertForPreTraining model).\n",
            "- This IS NOT expected if you are initializing BertForSequenceClassification from the checkpoint of a model that you expect to be exactly identical (initializing a BertForSequenceClassification model from a BertForSequenceClassification model).\n",
            "Some weights of BertForSequenceClassification were not initialized from the model checkpoint at microsoft/BiomedNLP-PubMedBERT-base-uncased-abstract and are newly initialized: ['classifier.bias', 'classifier.weight']\n",
            "You should probably TRAIN this model on a down-stream task to be able to use it for predictions and inference.\n",
            "100%|██████████| 2553/2553 [01:32<00:00, 27.55it/s]\n",
            "========== model: pubmedbert_uncased fold: 3 inference ==========\n",
            "Some weights of the model checkpoint at microsoft/BiomedNLP-PubMedBERT-base-uncased-abstract were not used when initializing BertForSequenceClassification: ['cls.predictions.transform.LayerNorm.bias', 'cls.seq_relationship.weight', 'cls.seq_relationship.bias', 'cls.predictions.decoder.weight', 'cls.predictions.transform.dense.weight', 'cls.predictions.transform.LayerNorm.weight', 'cls.predictions.bias', 'cls.predictions.transform.dense.bias', 'cls.predictions.decoder.bias']\n",
            "- This IS expected if you are initializing BertForSequenceClassification from the checkpoint of a model trained on another task or with another architecture (e.g. initializing a BertForSequenceClassification model from a BertForPreTraining model).\n",
            "- This IS NOT expected if you are initializing BertForSequenceClassification from the checkpoint of a model that you expect to be exactly identical (initializing a BertForSequenceClassification model from a BertForSequenceClassification model).\n",
            "Some weights of BertForSequenceClassification were not initialized from the model checkpoint at microsoft/BiomedNLP-PubMedBERT-base-uncased-abstract and are newly initialized: ['classifier.bias', 'classifier.weight']\n",
            "You should probably TRAIN this model on a down-stream task to be able to use it for predictions and inference.\n",
            "100%|██████████| 2553/2553 [01:32<00:00, 27.55it/s]\n",
            "========== model: pubmedbert_uncased fold: 4 inference ==========\n",
            "Some weights of the model checkpoint at microsoft/BiomedNLP-PubMedBERT-base-uncased-abstract were not used when initializing BertForSequenceClassification: ['cls.predictions.transform.LayerNorm.bias', 'cls.seq_relationship.weight', 'cls.seq_relationship.bias', 'cls.predictions.decoder.weight', 'cls.predictions.transform.dense.weight', 'cls.predictions.transform.LayerNorm.weight', 'cls.predictions.bias', 'cls.predictions.transform.dense.bias', 'cls.predictions.decoder.bias']\n",
            "- This IS expected if you are initializing BertForSequenceClassification from the checkpoint of a model trained on another task or with another architecture (e.g. initializing a BertForSequenceClassification model from a BertForPreTraining model).\n",
            "- This IS NOT expected if you are initializing BertForSequenceClassification from the checkpoint of a model that you expect to be exactly identical (initializing a BertForSequenceClassification model from a BertForSequenceClassification model).\n",
            "Some weights of BertForSequenceClassification were not initialized from the model checkpoint at microsoft/BiomedNLP-PubMedBERT-base-uncased-abstract and are newly initialized: ['classifier.bias', 'classifier.weight']\n",
            "You should probably TRAIN this model on a down-stream task to be able to use it for predictions and inference.\n",
            "100%|██████████| 2553/2553 [01:32<00:00, 27.55it/s]\n"
          ]
        }
      ]
    },
    {
      "cell_type": "code",
      "metadata": {
        "colab": {
          "base_uri": "https://localhost:8080/",
          "height": 1000,
          "referenced_widgets": [
            "7cd1a44fad904931a72ee06647468f13",
            "b63540ff276d4a3aa0c3eef1e6adbe0e",
            "d97b7c9ce43e43c9863a087b54f77496",
            "86b7f37e62744f58bf6f1b18fdc53649",
            "fd971751705e4382937cfaf9f13e6e61",
            "652852e1417f42899a39cd3cccc18936",
            "86b986b8ae2b420d9796c5a43f96e8db",
            "593fc9714f6841a8b16ed0a29ea19311",
            "ebca4fffaa5c4ed2a95775dd79fc704e",
            "93c1804cfac84e5ca6e5e9798b22c5d0",
            "ae817141f13e48ec88dad9a2a3de190b",
            "da8398634b7b453c9199500d11dc71d9",
            "61680c742b2346269597df1d18088a61",
            "cfe31615ae7d45db9829808faa36802e",
            "7f89fa248ed4468580757664b394a447",
            "1fade269b7a94989bbd9a87024984996",
            "0e58cc320094421fbfafdef41cc54f87",
            "8016eb9915934b7e8e5c7226b12a396b",
            "3ba3a834a13f4c25a6ef3031408975a0",
            "a9d859971cf945efacd99da093ee8b91",
            "1859230366ce4099839e1c4fdbf619fe",
            "1ac10297a8a549fcb5e0be591e84f741",
            "4ba5655179884736ba703b3a695e2592",
            "c120553d93b14429b2e330dfec6d5967",
            "b9babaaacb5844059eff002ef2a97d7e",
            "dc8c23c0e0e949ca8a73de888e58992d",
            "ca281dc3da4443b5bdd955875b1ee64b",
            "1a20bcfbd16741cf956a550edeae13b9",
            "c68add65e29545e38161bb297a86591e",
            "115ed14eb176417c8f8c5e54f880f113",
            "935b90c8744c496baf99b51cc8ad5892",
            "376ce667d5a84977bfa3148d21e412e6",
            "9a01a496f20c4904b1c9c7c0574bcf6a"
          ]
        },
        "id": "Aqb12OSkL0Ay",
        "outputId": "3a51866d-f194-462f-fe67-e100a7f5e5ad"
      },
      "source": [
        "if __name__ == \"__main__\":\n",
        "    main()"
      ],
      "execution_count": 34,
      "outputs": [
        {
          "output_type": "stream",
          "name": "stderr",
          "text": [
            "========== fold: 0 training ==========\n",
            "========== fold: 0 training ==========\n"
          ]
        },
        {
          "output_type": "display_data",
          "data": {
            "application/vnd.jupyter.widget-view+json": {
              "model_id": "7cd1a44fad904931a72ee06647468f13",
              "version_minor": 0,
              "version_major": 2
            },
            "text/plain": [
              "Downloading:   0%|          | 0.00/225k [00:00<?, ?B/s]"
            ]
          },
          "metadata": {}
        },
        {
          "output_type": "display_data",
          "data": {
            "application/vnd.jupyter.widget-view+json": {
              "model_id": "da8398634b7b453c9199500d11dc71d9",
              "version_minor": 0,
              "version_major": 2
            },
            "text/plain": [
              "Downloading:   0%|          | 0.00/337 [00:00<?, ?B/s]"
            ]
          },
          "metadata": {}
        },
        {
          "output_type": "display_data",
          "data": {
            "application/vnd.jupyter.widget-view+json": {
              "model_id": "4ba5655179884736ba703b3a695e2592",
              "version_minor": 0,
              "version_major": 2
            },
            "text/plain": [
              "Downloading:   0%|          | 0.00/440M [00:00<?, ?B/s]"
            ]
          },
          "metadata": {}
        },
        {
          "output_type": "stream",
          "name": "stderr",
          "text": [
            "Some weights of the model checkpoint at microsoft/BiomedNLP-PubMedBERT-base-uncased-abstract were not used when initializing BertForSequenceClassification: ['cls.seq_relationship.bias', 'cls.predictions.transform.dense.bias', 'cls.predictions.decoder.weight', 'cls.predictions.decoder.bias', 'cls.predictions.transform.dense.weight', 'cls.predictions.transform.LayerNorm.weight', 'cls.seq_relationship.weight', 'cls.predictions.transform.LayerNorm.bias', 'cls.predictions.bias']\n",
            "- This IS expected if you are initializing BertForSequenceClassification from the checkpoint of a model trained on another task or with another architecture (e.g. initializing a BertForSequenceClassification model from a BertForPreTraining model).\n",
            "- This IS NOT expected if you are initializing BertForSequenceClassification from the checkpoint of a model that you expect to be exactly identical (initializing a BertForSequenceClassification model from a BertForSequenceClassification model).\n",
            "Some weights of BertForSequenceClassification were not initialized from the model checkpoint at microsoft/BiomedNLP-PubMedBERT-base-uncased-abstract and are newly initialized: ['classifier.bias', 'classifier.weight']\n",
            "You should probably TRAIN this model on a down-stream task to be able to use it for predictions and inference.\n"
          ]
        },
        {
          "output_type": "stream",
          "name": "stdout",
          "text": [
            "Epoch: [1][0/1137] Elapsed 0m 0s (remain 13m 32s) Loss: 0.3552 \n",
            "Epoch: [1][100/1137] Elapsed 0m 47s (remain 8m 3s) Loss: 0.0767 \n",
            "Epoch: [1][200/1137] Elapsed 1m 33s (remain 7m 16s) Loss: 0.0683 \n",
            "Epoch: [1][300/1137] Elapsed 2m 20s (remain 6m 29s) Loss: 0.0613 \n",
            "Epoch: [1][400/1137] Elapsed 3m 6s (remain 5m 43s) Loss: 0.0565 \n",
            "Epoch: [1][500/1137] Elapsed 3m 53s (remain 4m 56s) Loss: 0.0496 \n",
            "Epoch: [1][600/1137] Elapsed 4m 40s (remain 4m 9s) Loss: 0.0450 \n",
            "Epoch: [1][700/1137] Elapsed 5m 26s (remain 3m 23s) Loss: 0.0420 \n",
            "Epoch: [1][800/1137] Elapsed 6m 13s (remain 2m 36s) Loss: 0.0389 \n",
            "Epoch: [1][900/1137] Elapsed 7m 0s (remain 1m 50s) Loss: 0.0373 \n",
            "Epoch: [1][1000/1137] Elapsed 7m 46s (remain 1m 3s) Loss: 0.0353 \n",
            "Epoch: [1][1100/1137] Elapsed 8m 33s (remain 0m 16s) Loss: 0.0340 \n",
            "Epoch: [1][1136/1137] Elapsed 8m 50s (remain 0m 0s) Loss: 0.0334 \n",
            "EVAL: [0/285] Elapsed 0m 0s (remain 1m 31s) Loss: 0.0461 \n",
            "EVAL: [100/285] Elapsed 0m 16s (remain 0m 29s) Loss: 0.0369 \n",
            "EVAL: [200/285] Elapsed 0m 32s (remain 0m 13s) Loss: 0.0426 \n"
          ]
        },
        {
          "output_type": "stream",
          "name": "stderr",
          "text": [
            "Epoch 1 - avg_train_loss: 0.0334  avg_val_loss: 0.0418  time: 576s\n",
            "Epoch 1 - avg_train_loss: 0.0334  avg_val_loss: 0.0418  time: 576s\n",
            "Epoch 1 - Score: 0.9128946367440093\n",
            "Epoch 1 - Score: 0.9128946367440093\n",
            "Epoch 1 - Save Best Score: 0.9129 Model\n",
            "Epoch 1 - Save Best Score: 0.9129 Model\n"
          ]
        },
        {
          "output_type": "stream",
          "name": "stdout",
          "text": [
            "EVAL: [284/285] Elapsed 0m 45s (remain 0m 0s) Loss: 0.0418 \n",
            "Epoch: [2][0/1137] Elapsed 0m 0s (remain 11m 50s) Loss: 0.0007 \n",
            "Epoch: [2][100/1137] Elapsed 0m 47s (remain 8m 4s) Loss: 0.0168 \n",
            "Epoch: [2][200/1137] Elapsed 1m 33s (remain 7m 17s) Loss: 0.0156 \n",
            "Epoch: [2][300/1137] Elapsed 2m 20s (remain 6m 30s) Loss: 0.0165 \n",
            "Epoch: [2][400/1137] Elapsed 3m 7s (remain 5m 43s) Loss: 0.0163 \n",
            "Epoch: [2][500/1137] Elapsed 3m 53s (remain 4m 56s) Loss: 0.0171 \n",
            "Epoch: [2][600/1137] Elapsed 4m 40s (remain 4m 10s) Loss: 0.0177 \n",
            "Epoch: [2][700/1137] Elapsed 5m 27s (remain 3m 23s) Loss: 0.0176 \n",
            "Epoch: [2][800/1137] Elapsed 6m 13s (remain 2m 36s) Loss: 0.0169 \n",
            "Epoch: [2][900/1137] Elapsed 7m 0s (remain 1m 50s) Loss: 0.0165 \n",
            "Epoch: [2][1000/1137] Elapsed 7m 46s (remain 1m 3s) Loss: 0.0170 \n",
            "Epoch: [2][1100/1137] Elapsed 8m 33s (remain 0m 16s) Loss: 0.0167 \n",
            "Epoch: [2][1136/1137] Elapsed 8m 50s (remain 0m 0s) Loss: 0.0164 \n",
            "EVAL: [0/285] Elapsed 0m 0s (remain 1m 30s) Loss: 0.0030 \n",
            "EVAL: [100/285] Elapsed 0m 16s (remain 0m 29s) Loss: 0.0363 \n",
            "EVAL: [200/285] Elapsed 0m 32s (remain 0m 13s) Loss: 0.0362 \n"
          ]
        },
        {
          "output_type": "stream",
          "name": "stderr",
          "text": [
            "Epoch 2 - avg_train_loss: 0.0164  avg_val_loss: 0.0373  time: 576s\n",
            "Epoch 2 - avg_train_loss: 0.0164  avg_val_loss: 0.0373  time: 576s\n",
            "Epoch 2 - Score: 0.8678881388621021\n",
            "Epoch 2 - Score: 0.8678881388621021\n"
          ]
        },
        {
          "output_type": "stream",
          "name": "stdout",
          "text": [
            "EVAL: [284/285] Elapsed 0m 45s (remain 0m 0s) Loss: 0.0373 \n",
            "Epoch: [3][0/1137] Elapsed 0m 0s (remain 11m 49s) Loss: 0.0247 \n",
            "Epoch: [3][100/1137] Elapsed 0m 47s (remain 8m 4s) Loss: 0.0086 \n",
            "Epoch: [3][200/1137] Elapsed 1m 33s (remain 7m 16s) Loss: 0.0076 \n",
            "Epoch: [3][300/1137] Elapsed 2m 20s (remain 6m 30s) Loss: 0.0087 \n",
            "Epoch: [3][400/1137] Elapsed 3m 7s (remain 5m 43s) Loss: 0.0101 \n",
            "Epoch: [3][500/1137] Elapsed 3m 53s (remain 4m 56s) Loss: 0.0103 \n",
            "Epoch: [3][600/1137] Elapsed 4m 40s (remain 4m 10s) Loss: 0.0116 \n",
            "Epoch: [3][700/1137] Elapsed 5m 27s (remain 3m 23s) Loss: 0.0118 \n",
            "Epoch: [3][800/1137] Elapsed 6m 13s (remain 2m 36s) Loss: 0.0114 \n",
            "Epoch: [3][900/1137] Elapsed 7m 0s (remain 1m 50s) Loss: 0.0112 \n",
            "Epoch: [3][1000/1137] Elapsed 7m 46s (remain 1m 3s) Loss: 0.0108 \n",
            "Epoch: [3][1100/1137] Elapsed 8m 33s (remain 0m 16s) Loss: 0.0113 \n",
            "Epoch: [3][1136/1137] Elapsed 8m 50s (remain 0m 0s) Loss: 0.0112 \n",
            "EVAL: [0/285] Elapsed 0m 0s (remain 1m 31s) Loss: 0.0013 \n",
            "EVAL: [100/285] Elapsed 0m 16s (remain 0m 29s) Loss: 0.0347 \n",
            "EVAL: [200/285] Elapsed 0m 32s (remain 0m 13s) Loss: 0.0357 \n"
          ]
        },
        {
          "output_type": "stream",
          "name": "stderr",
          "text": [
            "Epoch 3 - avg_train_loss: 0.0112  avg_val_loss: 0.0379  time: 576s\n",
            "Epoch 3 - avg_train_loss: 0.0112  avg_val_loss: 0.0379  time: 576s\n",
            "Epoch 3 - Score: 0.8639099204038052\n",
            "Epoch 3 - Score: 0.8639099204038052\n"
          ]
        },
        {
          "output_type": "stream",
          "name": "stdout",
          "text": [
            "EVAL: [284/285] Elapsed 0m 45s (remain 0m 0s) Loss: 0.0379 \n",
            "Epoch: [4][0/1137] Elapsed 0m 0s (remain 12m 2s) Loss: 0.0002 \n",
            "Epoch: [4][100/1137] Elapsed 0m 47s (remain 8m 4s) Loss: 0.0052 \n",
            "Epoch: [4][200/1137] Elapsed 1m 33s (remain 7m 17s) Loss: 0.0048 \n",
            "Epoch: [4][300/1137] Elapsed 2m 20s (remain 6m 30s) Loss: 0.0056 \n",
            "Epoch: [4][400/1137] Elapsed 3m 7s (remain 5m 43s) Loss: 0.0054 \n",
            "Epoch: [4][500/1137] Elapsed 3m 53s (remain 4m 56s) Loss: 0.0052 \n",
            "Epoch: [4][600/1137] Elapsed 4m 40s (remain 4m 10s) Loss: 0.0050 \n",
            "Epoch: [4][700/1137] Elapsed 5m 27s (remain 3m 23s) Loss: 0.0051 \n",
            "Epoch: [4][800/1137] Elapsed 6m 13s (remain 2m 36s) Loss: 0.0052 \n",
            "Epoch: [4][900/1137] Elapsed 7m 0s (remain 1m 50s) Loss: 0.0058 \n",
            "Epoch: [4][1000/1137] Elapsed 7m 47s (remain 1m 3s) Loss: 0.0061 \n",
            "Epoch: [4][1100/1137] Elapsed 8m 33s (remain 0m 16s) Loss: 0.0061 \n",
            "Epoch: [4][1136/1137] Elapsed 8m 50s (remain 0m 0s) Loss: 0.0060 \n",
            "EVAL: [0/285] Elapsed 0m 0s (remain 1m 32s) Loss: 0.0305 \n",
            "EVAL: [100/285] Elapsed 0m 16s (remain 0m 29s) Loss: 0.0383 \n",
            "EVAL: [200/285] Elapsed 0m 32s (remain 0m 13s) Loss: 0.0376 \n"
          ]
        },
        {
          "output_type": "stream",
          "name": "stderr",
          "text": [
            "Epoch 4 - avg_train_loss: 0.0060  avg_val_loss: 0.0367  time: 576s\n",
            "Epoch 4 - avg_train_loss: 0.0060  avg_val_loss: 0.0367  time: 576s\n",
            "Epoch 4 - Score: 0.9117082533589252\n",
            "Epoch 4 - Score: 0.9117082533589252\n"
          ]
        },
        {
          "output_type": "stream",
          "name": "stdout",
          "text": [
            "EVAL: [284/285] Elapsed 0m 45s (remain 0m 0s) Loss: 0.0367 \n",
            "Epoch: [5][0/1137] Elapsed 0m 0s (remain 11m 49s) Loss: 0.0002 \n",
            "Epoch: [5][100/1137] Elapsed 0m 47s (remain 8m 4s) Loss: 0.0031 \n",
            "Epoch: [5][200/1137] Elapsed 1m 33s (remain 7m 17s) Loss: 0.0028 \n",
            "Epoch: [5][300/1137] Elapsed 2m 20s (remain 6m 30s) Loss: 0.0035 \n",
            "Epoch: [5][400/1137] Elapsed 3m 7s (remain 5m 43s) Loss: 0.0030 \n",
            "Epoch: [5][500/1137] Elapsed 3m 53s (remain 4m 56s) Loss: 0.0029 \n",
            "Epoch: [5][600/1137] Elapsed 4m 40s (remain 4m 10s) Loss: 0.0035 \n",
            "Epoch: [5][700/1137] Elapsed 5m 26s (remain 3m 23s) Loss: 0.0038 \n",
            "Epoch: [5][800/1137] Elapsed 6m 13s (remain 2m 36s) Loss: 0.0037 \n",
            "Epoch: [5][900/1137] Elapsed 7m 0s (remain 1m 50s) Loss: 0.0039 \n",
            "Epoch: [5][1000/1137] Elapsed 7m 46s (remain 1m 3s) Loss: 0.0038 \n",
            "Epoch: [5][1100/1137] Elapsed 8m 33s (remain 0m 16s) Loss: 0.0039 \n",
            "Epoch: [5][1136/1137] Elapsed 8m 50s (remain 0m 0s) Loss: 0.0038 \n",
            "EVAL: [0/285] Elapsed 0m 0s (remain 1m 33s) Loss: 0.0757 \n",
            "EVAL: [100/285] Elapsed 0m 16s (remain 0m 29s) Loss: 0.0470 \n",
            "EVAL: [200/285] Elapsed 0m 32s (remain 0m 13s) Loss: 0.0505 \n"
          ]
        },
        {
          "output_type": "stream",
          "name": "stderr",
          "text": [
            "Epoch 5 - avg_train_loss: 0.0038  avg_val_loss: 0.0480  time: 576s\n",
            "Epoch 5 - avg_train_loss: 0.0038  avg_val_loss: 0.0480  time: 576s\n",
            "Epoch 5 - Score: 0.9205983889528194\n",
            "Epoch 5 - Score: 0.9205983889528194\n",
            "Epoch 5 - Save Best Score: 0.9206 Model\n",
            "Epoch 5 - Save Best Score: 0.9206 Model\n"
          ]
        },
        {
          "output_type": "stream",
          "name": "stdout",
          "text": [
            "EVAL: [284/285] Elapsed 0m 45s (remain 0m 0s) Loss: 0.0480 \n"
          ]
        },
        {
          "output_type": "stream",
          "name": "stderr",
          "text": [
            "========== fold: 0 result ==========\n",
            "========== fold: 0 result ==========\n",
            "Score: 0.92060\n",
            "Score: 0.92060\n",
            "========== fold: 1 training ==========\n",
            "========== fold: 1 training ==========\n",
            "Some weights of the model checkpoint at microsoft/BiomedNLP-PubMedBERT-base-uncased-abstract were not used when initializing BertForSequenceClassification: ['cls.seq_relationship.bias', 'cls.predictions.transform.dense.bias', 'cls.predictions.decoder.weight', 'cls.predictions.decoder.bias', 'cls.predictions.transform.dense.weight', 'cls.predictions.transform.LayerNorm.weight', 'cls.seq_relationship.weight', 'cls.predictions.transform.LayerNorm.bias', 'cls.predictions.bias']\n",
            "- This IS expected if you are initializing BertForSequenceClassification from the checkpoint of a model trained on another task or with another architecture (e.g. initializing a BertForSequenceClassification model from a BertForPreTraining model).\n",
            "- This IS NOT expected if you are initializing BertForSequenceClassification from the checkpoint of a model that you expect to be exactly identical (initializing a BertForSequenceClassification model from a BertForSequenceClassification model).\n",
            "Some weights of BertForSequenceClassification were not initialized from the model checkpoint at microsoft/BiomedNLP-PubMedBERT-base-uncased-abstract and are newly initialized: ['classifier.bias', 'classifier.weight']\n",
            "You should probably TRAIN this model on a down-stream task to be able to use it for predictions and inference.\n"
          ]
        },
        {
          "output_type": "stream",
          "name": "stdout",
          "text": [
            "Epoch: [1][0/1137] Elapsed 0m 0s (remain 12m 29s) Loss: 0.2305 \n",
            "Epoch: [1][100/1137] Elapsed 0m 47s (remain 8m 3s) Loss: 0.0642 \n",
            "Epoch: [1][200/1137] Elapsed 1m 33s (remain 7m 16s) Loss: 0.0518 \n",
            "Epoch: [1][300/1137] Elapsed 2m 20s (remain 6m 30s) Loss: 0.0483 \n",
            "Epoch: [1][400/1137] Elapsed 3m 7s (remain 5m 43s) Loss: 0.0444 \n",
            "Epoch: [1][500/1137] Elapsed 3m 53s (remain 4m 56s) Loss: 0.0418 \n",
            "Epoch: [1][600/1137] Elapsed 4m 40s (remain 4m 10s) Loss: 0.0388 \n",
            "Epoch: [1][700/1137] Elapsed 5m 26s (remain 3m 23s) Loss: 0.0355 \n",
            "Epoch: [1][800/1137] Elapsed 6m 13s (remain 2m 36s) Loss: 0.0342 \n",
            "Epoch: [1][900/1137] Elapsed 7m 0s (remain 1m 50s) Loss: 0.0331 \n",
            "Epoch: [1][1000/1137] Elapsed 7m 46s (remain 1m 3s) Loss: 0.0320 \n",
            "Epoch: [1][1100/1137] Elapsed 8m 33s (remain 0m 16s) Loss: 0.0310 \n",
            "Epoch: [1][1136/1137] Elapsed 8m 50s (remain 0m 0s) Loss: 0.0307 \n",
            "EVAL: [0/285] Elapsed 0m 0s (remain 1m 31s) Loss: 0.0171 \n",
            "EVAL: [100/285] Elapsed 0m 16s (remain 0m 29s) Loss: 0.0469 \n",
            "EVAL: [200/285] Elapsed 0m 32s (remain 0m 13s) Loss: 0.0421 \n"
          ]
        },
        {
          "output_type": "stream",
          "name": "stderr",
          "text": [
            "Epoch 1 - avg_train_loss: 0.0307  avg_val_loss: 0.0392  time: 576s\n",
            "Epoch 1 - avg_train_loss: 0.0307  avg_val_loss: 0.0392  time: 576s\n",
            "Epoch 1 - Score: 0.8836247414927617\n",
            "Epoch 1 - Score: 0.8836247414927617\n",
            "Epoch 1 - Save Best Score: 0.8836 Model\n",
            "Epoch 1 - Save Best Score: 0.8836 Model\n"
          ]
        },
        {
          "output_type": "stream",
          "name": "stdout",
          "text": [
            "EVAL: [284/285] Elapsed 0m 45s (remain 0m 0s) Loss: 0.0392 \n",
            "Epoch: [2][0/1137] Elapsed 0m 0s (remain 12m 5s) Loss: 0.0025 \n",
            "Epoch: [2][100/1137] Elapsed 0m 47s (remain 8m 4s) Loss: 0.0179 \n",
            "Epoch: [2][200/1137] Elapsed 1m 33s (remain 7m 17s) Loss: 0.0230 \n",
            "Epoch: [2][300/1137] Elapsed 2m 20s (remain 6m 30s) Loss: 0.0195 \n",
            "Epoch: [2][400/1137] Elapsed 3m 7s (remain 5m 43s) Loss: 0.0186 \n",
            "Epoch: [2][500/1137] Elapsed 3m 53s (remain 4m 56s) Loss: 0.0176 \n",
            "Epoch: [2][600/1137] Elapsed 4m 40s (remain 4m 10s) Loss: 0.0174 \n",
            "Epoch: [2][700/1137] Elapsed 5m 27s (remain 3m 23s) Loss: 0.0175 \n",
            "Epoch: [2][800/1137] Elapsed 6m 13s (remain 2m 36s) Loss: 0.0168 \n",
            "Epoch: [2][900/1137] Elapsed 7m 0s (remain 1m 50s) Loss: 0.0173 \n",
            "Epoch: [2][1000/1137] Elapsed 7m 47s (remain 1m 3s) Loss: 0.0170 \n",
            "Epoch: [2][1100/1137] Elapsed 8m 33s (remain 0m 16s) Loss: 0.0170 \n",
            "Epoch: [2][1136/1137] Elapsed 8m 50s (remain 0m 0s) Loss: 0.0169 \n",
            "EVAL: [0/285] Elapsed 0m 0s (remain 1m 31s) Loss: 0.0533 \n",
            "EVAL: [100/285] Elapsed 0m 16s (remain 0m 29s) Loss: 0.0377 \n",
            "EVAL: [200/285] Elapsed 0m 32s (remain 0m 13s) Loss: 0.0320 \n"
          ]
        },
        {
          "output_type": "stream",
          "name": "stderr",
          "text": [
            "Epoch 2 - avg_train_loss: 0.0169  avg_val_loss: 0.0322  time: 576s\n",
            "Epoch 2 - avg_train_loss: 0.0169  avg_val_loss: 0.0322  time: 576s\n",
            "Epoch 2 - Score: 0.938566552901024\n",
            "Epoch 2 - Score: 0.938566552901024\n",
            "Epoch 2 - Save Best Score: 0.9386 Model\n",
            "Epoch 2 - Save Best Score: 0.9386 Model\n"
          ]
        },
        {
          "output_type": "stream",
          "name": "stdout",
          "text": [
            "EVAL: [284/285] Elapsed 0m 45s (remain 0m 0s) Loss: 0.0322 \n",
            "Epoch: [3][0/1137] Elapsed 0m 0s (remain 12m 2s) Loss: 0.0032 \n",
            "Epoch: [3][100/1137] Elapsed 0m 47s (remain 8m 5s) Loss: 0.0045 \n",
            "Epoch: [3][200/1137] Elapsed 1m 33s (remain 7m 17s) Loss: 0.0069 \n",
            "Epoch: [3][300/1137] Elapsed 2m 20s (remain 6m 30s) Loss: 0.0077 \n",
            "Epoch: [3][400/1137] Elapsed 3m 7s (remain 5m 43s) Loss: 0.0079 \n",
            "Epoch: [3][500/1137] Elapsed 3m 53s (remain 4m 56s) Loss: 0.0086 \n",
            "Epoch: [3][600/1137] Elapsed 4m 40s (remain 4m 10s) Loss: 0.0091 \n",
            "Epoch: [3][700/1137] Elapsed 5m 27s (remain 3m 23s) Loss: 0.0092 \n",
            "Epoch: [3][800/1137] Elapsed 6m 13s (remain 2m 36s) Loss: 0.0095 \n",
            "Epoch: [3][900/1137] Elapsed 7m 0s (remain 1m 50s) Loss: 0.0094 \n",
            "Epoch: [3][1000/1137] Elapsed 7m 47s (remain 1m 3s) Loss: 0.0096 \n",
            "Epoch: [3][1100/1137] Elapsed 8m 33s (remain 0m 16s) Loss: 0.0094 \n",
            "Epoch: [3][1136/1137] Elapsed 8m 50s (remain 0m 0s) Loss: 0.0099 \n",
            "EVAL: [0/285] Elapsed 0m 0s (remain 1m 32s) Loss: 0.0374 \n",
            "EVAL: [100/285] Elapsed 0m 16s (remain 0m 29s) Loss: 0.0525 \n",
            "EVAL: [200/285] Elapsed 0m 32s (remain 0m 13s) Loss: 0.0448 \n"
          ]
        },
        {
          "output_type": "stream",
          "name": "stderr",
          "text": [
            "Epoch 3 - avg_train_loss: 0.0099  avg_val_loss: 0.0446  time: 576s\n",
            "Epoch 3 - avg_train_loss: 0.0099  avg_val_loss: 0.0446  time: 576s\n",
            "Epoch 3 - Score: 0.8347893612890701\n",
            "Epoch 3 - Score: 0.8347893612890701\n"
          ]
        },
        {
          "output_type": "stream",
          "name": "stdout",
          "text": [
            "EVAL: [284/285] Elapsed 0m 45s (remain 0m 0s) Loss: 0.0446 \n",
            "Epoch: [4][0/1137] Elapsed 0m 0s (remain 12m 1s) Loss: 0.0065 \n",
            "Epoch: [4][100/1137] Elapsed 0m 47s (remain 8m 5s) Loss: 0.0051 \n",
            "Epoch: [4][200/1137] Elapsed 1m 33s (remain 7m 17s) Loss: 0.0046 \n",
            "Epoch: [4][300/1137] Elapsed 2m 20s (remain 6m 30s) Loss: 0.0052 \n",
            "Epoch: [4][400/1137] Elapsed 3m 7s (remain 5m 43s) Loss: 0.0062 \n",
            "Epoch: [4][500/1137] Elapsed 3m 53s (remain 4m 56s) Loss: 0.0062 \n",
            "Epoch: [4][600/1137] Elapsed 4m 40s (remain 4m 10s) Loss: 0.0063 \n",
            "Epoch: [4][700/1137] Elapsed 5m 27s (remain 3m 23s) Loss: 0.0062 \n",
            "Epoch: [4][800/1137] Elapsed 6m 14s (remain 2m 36s) Loss: 0.0059 \n",
            "Epoch: [4][900/1137] Elapsed 7m 0s (remain 1m 50s) Loss: 0.0064 \n",
            "Epoch: [4][1000/1137] Elapsed 7m 47s (remain 1m 3s) Loss: 0.0067 \n",
            "Epoch: [4][1100/1137] Elapsed 8m 33s (remain 0m 16s) Loss: 0.0069 \n",
            "Epoch: [4][1136/1137] Elapsed 8m 50s (remain 0m 0s) Loss: 0.0069 \n",
            "EVAL: [0/285] Elapsed 0m 0s (remain 1m 32s) Loss: 0.0065 \n",
            "EVAL: [100/285] Elapsed 0m 16s (remain 0m 29s) Loss: 0.0485 \n",
            "EVAL: [200/285] Elapsed 0m 32s (remain 0m 13s) Loss: 0.0398 \n"
          ]
        },
        {
          "output_type": "stream",
          "name": "stderr",
          "text": [
            "Epoch 4 - avg_train_loss: 0.0069  avg_val_loss: 0.0365  time: 576s\n",
            "Epoch 4 - avg_train_loss: 0.0069  avg_val_loss: 0.0365  time: 576s\n",
            "Epoch 4 - Score: 0.8778699594829251\n",
            "Epoch 4 - Score: 0.8778699594829251\n"
          ]
        },
        {
          "output_type": "stream",
          "name": "stdout",
          "text": [
            "EVAL: [284/285] Elapsed 0m 45s (remain 0m 0s) Loss: 0.0365 \n",
            "Epoch: [5][0/1137] Elapsed 0m 0s (remain 12m 13s) Loss: 0.0075 \n",
            "Epoch: [5][100/1137] Elapsed 0m 47s (remain 8m 5s) Loss: 0.0041 \n",
            "Epoch: [5][200/1137] Elapsed 1m 34s (remain 7m 17s) Loss: 0.0043 \n",
            "Epoch: [5][300/1137] Elapsed 2m 20s (remain 6m 30s) Loss: 0.0038 \n",
            "Epoch: [5][400/1137] Elapsed 3m 7s (remain 5m 44s) Loss: 0.0039 \n",
            "Epoch: [5][500/1137] Elapsed 3m 54s (remain 4m 57s) Loss: 0.0042 \n",
            "Epoch: [5][600/1137] Elapsed 4m 40s (remain 4m 10s) Loss: 0.0044 \n",
            "Epoch: [5][700/1137] Elapsed 5m 27s (remain 3m 23s) Loss: 0.0045 \n",
            "Epoch: [5][800/1137] Elapsed 6m 14s (remain 2m 37s) Loss: 0.0050 \n",
            "Epoch: [5][900/1137] Elapsed 7m 1s (remain 1m 50s) Loss: 0.0049 \n",
            "Epoch: [5][1000/1137] Elapsed 7m 47s (remain 1m 3s) Loss: 0.0047 \n",
            "Epoch: [5][1100/1137] Elapsed 8m 34s (remain 0m 16s) Loss: 0.0045 \n",
            "Epoch: [5][1136/1137] Elapsed 8m 51s (remain 0m 0s) Loss: 0.0044 \n",
            "EVAL: [0/285] Elapsed 0m 0s (remain 1m 32s) Loss: 0.0021 \n",
            "EVAL: [100/285] Elapsed 0m 16s (remain 0m 29s) Loss: 0.0615 \n",
            "EVAL: [200/285] Elapsed 0m 32s (remain 0m 13s) Loss: 0.0628 \n"
          ]
        },
        {
          "output_type": "stream",
          "name": "stderr",
          "text": [
            "Epoch 5 - avg_train_loss: 0.0044  avg_val_loss: 0.0600  time: 577s\n",
            "Epoch 5 - avg_train_loss: 0.0044  avg_val_loss: 0.0600  time: 577s\n",
            "Epoch 5 - Score: 0.7898285494124446\n",
            "Epoch 5 - Score: 0.7898285494124446\n"
          ]
        },
        {
          "output_type": "stream",
          "name": "stdout",
          "text": [
            "EVAL: [284/285] Elapsed 0m 45s (remain 0m 0s) Loss: 0.0600 \n"
          ]
        },
        {
          "output_type": "stream",
          "name": "stderr",
          "text": [
            "========== fold: 1 result ==========\n",
            "========== fold: 1 result ==========\n",
            "Score: 0.93857\n",
            "Score: 0.93857\n",
            "========== fold: 2 training ==========\n",
            "========== fold: 2 training ==========\n",
            "Some weights of the model checkpoint at microsoft/BiomedNLP-PubMedBERT-base-uncased-abstract were not used when initializing BertForSequenceClassification: ['cls.seq_relationship.bias', 'cls.predictions.transform.dense.bias', 'cls.predictions.decoder.weight', 'cls.predictions.decoder.bias', 'cls.predictions.transform.dense.weight', 'cls.predictions.transform.LayerNorm.weight', 'cls.seq_relationship.weight', 'cls.predictions.transform.LayerNorm.bias', 'cls.predictions.bias']\n",
            "- This IS expected if you are initializing BertForSequenceClassification from the checkpoint of a model trained on another task or with another architecture (e.g. initializing a BertForSequenceClassification model from a BertForPreTraining model).\n",
            "- This IS NOT expected if you are initializing BertForSequenceClassification from the checkpoint of a model that you expect to be exactly identical (initializing a BertForSequenceClassification model from a BertForSequenceClassification model).\n",
            "Some weights of BertForSequenceClassification were not initialized from the model checkpoint at microsoft/BiomedNLP-PubMedBERT-base-uncased-abstract and are newly initialized: ['classifier.bias', 'classifier.weight']\n",
            "You should probably TRAIN this model on a down-stream task to be able to use it for predictions and inference.\n"
          ]
        },
        {
          "output_type": "stream",
          "name": "stdout",
          "text": [
            "Epoch: [1][0/1137] Elapsed 0m 0s (remain 12m 30s) Loss: 0.3382 \n",
            "Epoch: [1][100/1137] Elapsed 0m 47s (remain 8m 3s) Loss: 0.0721 \n",
            "Epoch: [1][200/1137] Elapsed 1m 33s (remain 7m 17s) Loss: 0.0613 \n",
            "Epoch: [1][300/1137] Elapsed 2m 20s (remain 6m 30s) Loss: 0.0533 \n",
            "Epoch: [1][400/1137] Elapsed 3m 7s (remain 5m 43s) Loss: 0.0464 \n",
            "Epoch: [1][500/1137] Elapsed 3m 53s (remain 4m 57s) Loss: 0.0416 \n",
            "Epoch: [1][600/1137] Elapsed 4m 40s (remain 4m 10s) Loss: 0.0390 \n",
            "Epoch: [1][700/1137] Elapsed 5m 27s (remain 3m 23s) Loss: 0.0368 \n",
            "Epoch: [1][800/1137] Elapsed 6m 14s (remain 2m 36s) Loss: 0.0353 \n",
            "Epoch: [1][900/1137] Elapsed 7m 0s (remain 1m 50s) Loss: 0.0336 \n",
            "Epoch: [1][1000/1137] Elapsed 7m 47s (remain 1m 3s) Loss: 0.0320 \n",
            "Epoch: [1][1100/1137] Elapsed 8m 34s (remain 0m 16s) Loss: 0.0309 \n",
            "Epoch: [1][1136/1137] Elapsed 8m 51s (remain 0m 0s) Loss: 0.0306 \n",
            "EVAL: [0/285] Elapsed 0m 0s (remain 1m 36s) Loss: 0.1417 \n",
            "EVAL: [100/285] Elapsed 0m 16s (remain 0m 29s) Loss: 0.0474 \n",
            "EVAL: [200/285] Elapsed 0m 32s (remain 0m 13s) Loss: 0.0524 \n"
          ]
        },
        {
          "output_type": "stream",
          "name": "stderr",
          "text": [
            "Epoch 1 - avg_train_loss: 0.0306  avg_val_loss: 0.0568  time: 577s\n",
            "Epoch 1 - avg_train_loss: 0.0306  avg_val_loss: 0.0568  time: 577s\n",
            "Epoch 1 - Score: 0.8715759516186411\n",
            "Epoch 1 - Score: 0.8715759516186411\n",
            "Epoch 1 - Save Best Score: 0.8716 Model\n",
            "Epoch 1 - Save Best Score: 0.8716 Model\n"
          ]
        },
        {
          "output_type": "stream",
          "name": "stdout",
          "text": [
            "EVAL: [284/285] Elapsed 0m 45s (remain 0m 0s) Loss: 0.0568 \n",
            "Epoch: [2][0/1137] Elapsed 0m 0s (remain 12m 0s) Loss: 0.0010 \n",
            "Epoch: [2][100/1137] Elapsed 0m 47s (remain 8m 5s) Loss: 0.0150 \n",
            "Epoch: [2][200/1137] Elapsed 1m 33s (remain 7m 17s) Loss: 0.0138 \n",
            "Epoch: [2][300/1137] Elapsed 2m 20s (remain 6m 30s) Loss: 0.0152 \n",
            "Epoch: [2][400/1137] Elapsed 3m 7s (remain 5m 43s) Loss: 0.0154 \n",
            "Epoch: [2][500/1137] Elapsed 3m 54s (remain 4m 57s) Loss: 0.0155 \n",
            "Epoch: [2][600/1137] Elapsed 4m 40s (remain 4m 10s) Loss: 0.0160 \n",
            "Epoch: [2][700/1137] Elapsed 5m 27s (remain 3m 23s) Loss: 0.0158 \n",
            "Epoch: [2][800/1137] Elapsed 6m 14s (remain 2m 37s) Loss: 0.0160 \n",
            "Epoch: [2][900/1137] Elapsed 7m 1s (remain 1m 50s) Loss: 0.0165 \n",
            "Epoch: [2][1000/1137] Elapsed 7m 47s (remain 1m 3s) Loss: 0.0162 \n",
            "Epoch: [2][1100/1137] Elapsed 8m 34s (remain 0m 16s) Loss: 0.0160 \n",
            "Epoch: [2][1136/1137] Elapsed 8m 51s (remain 0m 0s) Loss: 0.0158 \n",
            "EVAL: [0/285] Elapsed 0m 0s (remain 1m 35s) Loss: 0.0120 \n",
            "EVAL: [100/285] Elapsed 0m 16s (remain 0m 29s) Loss: 0.0360 \n",
            "EVAL: [200/285] Elapsed 0m 32s (remain 0m 13s) Loss: 0.0385 \n"
          ]
        },
        {
          "output_type": "stream",
          "name": "stderr",
          "text": [
            "Epoch 2 - avg_train_loss: 0.0158  avg_val_loss: 0.0414  time: 577s\n",
            "Epoch 2 - avg_train_loss: 0.0158  avg_val_loss: 0.0414  time: 577s\n",
            "Epoch 2 - Score: 0.9184629803186505\n",
            "Epoch 2 - Score: 0.9184629803186505\n",
            "Epoch 2 - Save Best Score: 0.9185 Model\n",
            "Epoch 2 - Save Best Score: 0.9185 Model\n"
          ]
        },
        {
          "output_type": "stream",
          "name": "stdout",
          "text": [
            "EVAL: [284/285] Elapsed 0m 45s (remain 0m 0s) Loss: 0.0414 \n",
            "Epoch: [3][0/1137] Elapsed 0m 0s (remain 12m 7s) Loss: 0.0032 \n",
            "Epoch: [3][100/1137] Elapsed 0m 47s (remain 8m 5s) Loss: 0.0073 \n",
            "Epoch: [3][200/1137] Elapsed 1m 34s (remain 7m 17s) Loss: 0.0072 \n",
            "Epoch: [3][300/1137] Elapsed 2m 20s (remain 6m 30s) Loss: 0.0094 \n",
            "Epoch: [3][400/1137] Elapsed 3m 7s (remain 5m 43s) Loss: 0.0093 \n",
            "Epoch: [3][500/1137] Elapsed 3m 54s (remain 4m 57s) Loss: 0.0099 \n",
            "Epoch: [3][600/1137] Elapsed 4m 40s (remain 4m 10s) Loss: 0.0096 \n",
            "Epoch: [3][700/1137] Elapsed 5m 27s (remain 3m 23s) Loss: 0.0097 \n",
            "Epoch: [3][800/1137] Elapsed 6m 14s (remain 2m 36s) Loss: 0.0097 \n",
            "Epoch: [3][900/1137] Elapsed 7m 0s (remain 1m 50s) Loss: 0.0096 \n",
            "Epoch: [3][1000/1137] Elapsed 7m 47s (remain 1m 3s) Loss: 0.0100 \n",
            "Epoch: [3][1100/1137] Elapsed 8m 34s (remain 0m 16s) Loss: 0.0098 \n",
            "Epoch: [3][1136/1137] Elapsed 8m 50s (remain 0m 0s) Loss: 0.0098 \n",
            "EVAL: [0/285] Elapsed 0m 0s (remain 1m 33s) Loss: 0.0042 \n",
            "EVAL: [100/285] Elapsed 0m 16s (remain 0m 29s) Loss: 0.0462 \n",
            "EVAL: [200/285] Elapsed 0m 32s (remain 0m 13s) Loss: 0.0470 \n"
          ]
        },
        {
          "output_type": "stream",
          "name": "stderr",
          "text": [
            "Epoch 3 - avg_train_loss: 0.0098  avg_val_loss: 0.0459  time: 576s\n",
            "Epoch 3 - avg_train_loss: 0.0098  avg_val_loss: 0.0459  time: 576s\n",
            "Epoch 3 - Score: 0.87248322147651\n",
            "Epoch 3 - Score: 0.87248322147651\n"
          ]
        },
        {
          "output_type": "stream",
          "name": "stdout",
          "text": [
            "EVAL: [284/285] Elapsed 0m 45s (remain 0m 0s) Loss: 0.0459 \n",
            "Epoch: [4][0/1137] Elapsed 0m 0s (remain 12m 7s) Loss: 0.0004 \n",
            "Epoch: [4][100/1137] Elapsed 0m 47s (remain 8m 5s) Loss: 0.0060 \n",
            "Epoch: [4][200/1137] Elapsed 1m 33s (remain 7m 17s) Loss: 0.0051 \n",
            "Epoch: [4][300/1137] Elapsed 2m 20s (remain 6m 30s) Loss: 0.0050 \n",
            "Epoch: [4][400/1137] Elapsed 3m 7s (remain 5m 43s) Loss: 0.0052 \n",
            "Epoch: [4][500/1137] Elapsed 3m 53s (remain 4m 57s) Loss: 0.0051 \n",
            "Epoch: [4][600/1137] Elapsed 4m 40s (remain 4m 10s) Loss: 0.0051 \n",
            "Epoch: [4][700/1137] Elapsed 5m 27s (remain 3m 23s) Loss: 0.0051 \n",
            "Epoch: [4][800/1137] Elapsed 6m 14s (remain 2m 36s) Loss: 0.0055 \n",
            "Epoch: [4][900/1137] Elapsed 7m 0s (remain 1m 50s) Loss: 0.0057 \n",
            "Epoch: [4][1000/1137] Elapsed 7m 47s (remain 1m 3s) Loss: 0.0057 \n",
            "Epoch: [4][1100/1137] Elapsed 8m 34s (remain 0m 16s) Loss: 0.0058 \n",
            "Epoch: [4][1136/1137] Elapsed 8m 50s (remain 0m 0s) Loss: 0.0059 \n",
            "EVAL: [0/285] Elapsed 0m 0s (remain 1m 34s) Loss: 0.0122 \n",
            "EVAL: [100/285] Elapsed 0m 16s (remain 0m 29s) Loss: 0.0453 \n",
            "EVAL: [200/285] Elapsed 0m 32s (remain 0m 13s) Loss: 0.0440 \n"
          ]
        },
        {
          "output_type": "stream",
          "name": "stderr",
          "text": [
            "Epoch 4 - avg_train_loss: 0.0059  avg_val_loss: 0.0430  time: 576s\n",
            "Epoch 4 - avg_train_loss: 0.0059  avg_val_loss: 0.0430  time: 576s\n",
            "Epoch 4 - Score: 0.8978032473734479\n",
            "Epoch 4 - Score: 0.8978032473734479\n"
          ]
        },
        {
          "output_type": "stream",
          "name": "stdout",
          "text": [
            "EVAL: [284/285] Elapsed 0m 45s (remain 0m 0s) Loss: 0.0430 \n",
            "Epoch: [5][0/1137] Elapsed 0m 0s (remain 12m 4s) Loss: 0.0024 \n",
            "Epoch: [5][100/1137] Elapsed 0m 47s (remain 8m 4s) Loss: 0.0023 \n",
            "Epoch: [5][200/1137] Elapsed 1m 33s (remain 7m 17s) Loss: 0.0029 \n",
            "Epoch: [5][300/1137] Elapsed 2m 20s (remain 6m 30s) Loss: 0.0028 \n",
            "Epoch: [5][400/1137] Elapsed 3m 7s (remain 5m 43s) Loss: 0.0031 \n",
            "Epoch: [5][500/1137] Elapsed 3m 53s (remain 4m 56s) Loss: 0.0039 \n",
            "Epoch: [5][600/1137] Elapsed 4m 40s (remain 4m 10s) Loss: 0.0042 \n",
            "Epoch: [5][700/1137] Elapsed 5m 27s (remain 3m 23s) Loss: 0.0046 \n",
            "Epoch: [5][800/1137] Elapsed 6m 13s (remain 2m 36s) Loss: 0.0044 \n",
            "Epoch: [5][900/1137] Elapsed 7m 0s (remain 1m 50s) Loss: 0.0042 \n",
            "Epoch: [5][1000/1137] Elapsed 7m 47s (remain 1m 3s) Loss: 0.0039 \n",
            "Epoch: [5][1100/1137] Elapsed 8m 33s (remain 0m 16s) Loss: 0.0039 \n",
            "Epoch: [5][1136/1137] Elapsed 8m 50s (remain 0m 0s) Loss: 0.0040 \n",
            "EVAL: [0/285] Elapsed 0m 0s (remain 1m 33s) Loss: 0.0017 \n",
            "EVAL: [100/285] Elapsed 0m 16s (remain 0m 29s) Loss: 0.0554 \n",
            "EVAL: [200/285] Elapsed 0m 32s (remain 0m 13s) Loss: 0.0562 \n"
          ]
        },
        {
          "output_type": "stream",
          "name": "stderr",
          "text": [
            "Epoch 5 - avg_train_loss: 0.0040  avg_val_loss: 0.0558  time: 576s\n",
            "Epoch 5 - avg_train_loss: 0.0040  avg_val_loss: 0.0558  time: 576s\n",
            "Epoch 5 - Score: 0.777907429015947\n",
            "Epoch 5 - Score: 0.777907429015947\n"
          ]
        },
        {
          "output_type": "stream",
          "name": "stdout",
          "text": [
            "EVAL: [284/285] Elapsed 0m 45s (remain 0m 0s) Loss: 0.0558 \n"
          ]
        },
        {
          "output_type": "stream",
          "name": "stderr",
          "text": [
            "========== fold: 2 result ==========\n",
            "========== fold: 2 result ==========\n",
            "Score: 0.91846\n",
            "Score: 0.91846\n",
            "========== fold: 3 training ==========\n",
            "========== fold: 3 training ==========\n",
            "Some weights of the model checkpoint at microsoft/BiomedNLP-PubMedBERT-base-uncased-abstract were not used when initializing BertForSequenceClassification: ['cls.seq_relationship.bias', 'cls.predictions.transform.dense.bias', 'cls.predictions.decoder.weight', 'cls.predictions.decoder.bias', 'cls.predictions.transform.dense.weight', 'cls.predictions.transform.LayerNorm.weight', 'cls.seq_relationship.weight', 'cls.predictions.transform.LayerNorm.bias', 'cls.predictions.bias']\n",
            "- This IS expected if you are initializing BertForSequenceClassification from the checkpoint of a model trained on another task or with another architecture (e.g. initializing a BertForSequenceClassification model from a BertForPreTraining model).\n",
            "- This IS NOT expected if you are initializing BertForSequenceClassification from the checkpoint of a model that you expect to be exactly identical (initializing a BertForSequenceClassification model from a BertForSequenceClassification model).\n",
            "Some weights of BertForSequenceClassification were not initialized from the model checkpoint at microsoft/BiomedNLP-PubMedBERT-base-uncased-abstract and are newly initialized: ['classifier.bias', 'classifier.weight']\n",
            "You should probably TRAIN this model on a down-stream task to be able to use it for predictions and inference.\n"
          ]
        },
        {
          "output_type": "stream",
          "name": "stdout",
          "text": [
            "Epoch: [1][0/1137] Elapsed 0m 0s (remain 12m 18s) Loss: 0.3734 \n",
            "Epoch: [1][100/1137] Elapsed 0m 47s (remain 8m 4s) Loss: 0.0682 \n",
            "Epoch: [1][200/1137] Elapsed 1m 33s (remain 7m 17s) Loss: 0.0591 \n",
            "Epoch: [1][300/1137] Elapsed 2m 20s (remain 6m 30s) Loss: 0.0527 \n",
            "Epoch: [1][400/1137] Elapsed 3m 7s (remain 5m 43s) Loss: 0.0470 \n",
            "Epoch: [1][500/1137] Elapsed 3m 53s (remain 4m 56s) Loss: 0.0447 \n",
            "Epoch: [1][600/1137] Elapsed 4m 40s (remain 4m 10s) Loss: 0.0419 \n",
            "Epoch: [1][700/1137] Elapsed 5m 27s (remain 3m 23s) Loss: 0.0391 \n",
            "Epoch: [1][800/1137] Elapsed 6m 13s (remain 2m 36s) Loss: 0.0367 \n",
            "Epoch: [1][900/1137] Elapsed 7m 0s (remain 1m 50s) Loss: 0.0353 \n",
            "Epoch: [1][1000/1137] Elapsed 7m 47s (remain 1m 3s) Loss: 0.0338 \n",
            "Epoch: [1][1100/1137] Elapsed 8m 33s (remain 0m 16s) Loss: 0.0330 \n",
            "Epoch: [1][1136/1137] Elapsed 8m 50s (remain 0m 0s) Loss: 0.0327 \n",
            "EVAL: [0/285] Elapsed 0m 0s (remain 1m 32s) Loss: 0.0482 \n",
            "EVAL: [100/285] Elapsed 0m 16s (remain 0m 29s) Loss: 0.0444 \n",
            "EVAL: [200/285] Elapsed 0m 32s (remain 0m 13s) Loss: 0.0393 \n"
          ]
        },
        {
          "output_type": "stream",
          "name": "stderr",
          "text": [
            "Epoch 1 - avg_train_loss: 0.0327  avg_val_loss: 0.0426  time: 576s\n",
            "Epoch 1 - avg_train_loss: 0.0327  avg_val_loss: 0.0426  time: 576s\n",
            "Epoch 1 - Score: 0.9037255625230541\n",
            "Epoch 1 - Score: 0.9037255625230541\n",
            "Epoch 1 - Save Best Score: 0.9037 Model\n",
            "Epoch 1 - Save Best Score: 0.9037 Model\n"
          ]
        },
        {
          "output_type": "stream",
          "name": "stdout",
          "text": [
            "EVAL: [284/285] Elapsed 0m 45s (remain 0m 0s) Loss: 0.0426 \n",
            "Epoch: [2][0/1137] Elapsed 0m 0s (remain 12m 0s) Loss: 0.1755 \n",
            "Epoch: [2][100/1137] Elapsed 0m 47s (remain 8m 4s) Loss: 0.0214 \n",
            "Epoch: [2][200/1137] Elapsed 1m 33s (remain 7m 17s) Loss: 0.0163 \n",
            "Epoch: [2][300/1137] Elapsed 2m 20s (remain 6m 30s) Loss: 0.0173 \n",
            "Epoch: [2][400/1137] Elapsed 3m 7s (remain 5m 43s) Loss: 0.0164 \n",
            "Epoch: [2][500/1137] Elapsed 3m 53s (remain 4m 56s) Loss: 0.0154 \n",
            "Epoch: [2][600/1137] Elapsed 4m 40s (remain 4m 10s) Loss: 0.0162 \n",
            "Epoch: [2][700/1137] Elapsed 5m 27s (remain 3m 23s) Loss: 0.0168 \n",
            "Epoch: [2][800/1137] Elapsed 6m 13s (remain 2m 36s) Loss: 0.0164 \n",
            "Epoch: [2][900/1137] Elapsed 7m 0s (remain 1m 50s) Loss: 0.0153 \n",
            "Epoch: [2][1000/1137] Elapsed 7m 47s (remain 1m 3s) Loss: 0.0153 \n",
            "Epoch: [2][1100/1137] Elapsed 8m 33s (remain 0m 16s) Loss: 0.0157 \n",
            "Epoch: [2][1136/1137] Elapsed 8m 50s (remain 0m 0s) Loss: 0.0157 \n",
            "EVAL: [0/285] Elapsed 0m 0s (remain 1m 31s) Loss: 0.0107 \n",
            "EVAL: [100/285] Elapsed 0m 16s (remain 0m 29s) Loss: 0.0333 \n",
            "EVAL: [200/285] Elapsed 0m 32s (remain 0m 13s) Loss: 0.0287 \n"
          ]
        },
        {
          "output_type": "stream",
          "name": "stderr",
          "text": [
            "Epoch 2 - avg_train_loss: 0.0157  avg_val_loss: 0.0325  time: 576s\n",
            "Epoch 2 - avg_train_loss: 0.0157  avg_val_loss: 0.0325  time: 576s\n",
            "Epoch 2 - Score: 0.9347541596560105\n",
            "Epoch 2 - Score: 0.9347541596560105\n",
            "Epoch 2 - Save Best Score: 0.9348 Model\n",
            "Epoch 2 - Save Best Score: 0.9348 Model\n"
          ]
        },
        {
          "output_type": "stream",
          "name": "stdout",
          "text": [
            "EVAL: [284/285] Elapsed 0m 45s (remain 0m 0s) Loss: 0.0325 \n",
            "Epoch: [3][0/1137] Elapsed 0m 0s (remain 12m 0s) Loss: 0.0012 \n",
            "Epoch: [3][100/1137] Elapsed 0m 47s (remain 8m 5s) Loss: 0.0058 \n",
            "Epoch: [3][200/1137] Elapsed 1m 33s (remain 7m 17s) Loss: 0.0083 \n",
            "Epoch: [3][300/1137] Elapsed 2m 20s (remain 6m 30s) Loss: 0.0085 \n",
            "Epoch: [3][400/1137] Elapsed 3m 7s (remain 5m 43s) Loss: 0.0081 \n",
            "Epoch: [3][500/1137] Elapsed 3m 53s (remain 4m 57s) Loss: 0.0091 \n",
            "Epoch: [3][600/1137] Elapsed 4m 40s (remain 4m 10s) Loss: 0.0094 \n",
            "Epoch: [3][700/1137] Elapsed 5m 27s (remain 3m 23s) Loss: 0.0093 \n",
            "Epoch: [3][800/1137] Elapsed 6m 13s (remain 2m 36s) Loss: 0.0092 \n",
            "Epoch: [3][900/1137] Elapsed 7m 0s (remain 1m 50s) Loss: 0.0096 \n",
            "Epoch: [3][1000/1137] Elapsed 7m 47s (remain 1m 3s) Loss: 0.0095 \n",
            "Epoch: [3][1100/1137] Elapsed 8m 33s (remain 0m 16s) Loss: 0.0097 \n",
            "Epoch: [3][1136/1137] Elapsed 8m 50s (remain 0m 0s) Loss: 0.0096 \n",
            "EVAL: [0/285] Elapsed 0m 0s (remain 1m 31s) Loss: 0.0840 \n",
            "EVAL: [100/285] Elapsed 0m 16s (remain 0m 29s) Loss: 0.0451 \n",
            "EVAL: [200/285] Elapsed 0m 32s (remain 0m 13s) Loss: 0.0367 \n"
          ]
        },
        {
          "output_type": "stream",
          "name": "stderr",
          "text": [
            "Epoch 3 - avg_train_loss: 0.0096  avg_val_loss: 0.0464  time: 576s\n",
            "Epoch 3 - avg_train_loss: 0.0096  avg_val_loss: 0.0464  time: 576s\n",
            "Epoch 3 - Score: 0.8354138659496833\n",
            "Epoch 3 - Score: 0.8354138659496833\n"
          ]
        },
        {
          "output_type": "stream",
          "name": "stdout",
          "text": [
            "EVAL: [284/285] Elapsed 0m 45s (remain 0m 0s) Loss: 0.0464 \n",
            "Epoch: [4][0/1137] Elapsed 0m 0s (remain 12m 13s) Loss: 0.0033 \n",
            "Epoch: [4][100/1137] Elapsed 0m 47s (remain 8m 5s) Loss: 0.0074 \n",
            "Epoch: [4][200/1137] Elapsed 1m 33s (remain 7m 17s) Loss: 0.0075 \n",
            "Epoch: [4][300/1137] Elapsed 2m 20s (remain 6m 30s) Loss: 0.0065 \n",
            "Epoch: [4][400/1137] Elapsed 3m 7s (remain 5m 43s) Loss: 0.0059 \n",
            "Epoch: [4][500/1137] Elapsed 3m 53s (remain 4m 56s) Loss: 0.0062 \n",
            "Epoch: [4][600/1137] Elapsed 4m 40s (remain 4m 10s) Loss: 0.0066 \n",
            "Epoch: [4][700/1137] Elapsed 5m 27s (remain 3m 23s) Loss: 0.0061 \n",
            "Epoch: [4][800/1137] Elapsed 6m 13s (remain 2m 36s) Loss: 0.0061 \n",
            "Epoch: [4][900/1137] Elapsed 7m 0s (remain 1m 50s) Loss: 0.0064 \n",
            "Epoch: [4][1000/1137] Elapsed 7m 47s (remain 1m 3s) Loss: 0.0064 \n",
            "Epoch: [4][1100/1137] Elapsed 8m 33s (remain 0m 16s) Loss: 0.0065 \n",
            "Epoch: [4][1136/1137] Elapsed 8m 50s (remain 0m 0s) Loss: 0.0064 \n",
            "EVAL: [0/285] Elapsed 0m 0s (remain 1m 31s) Loss: 0.1042 \n",
            "EVAL: [100/285] Elapsed 0m 16s (remain 0m 29s) Loss: 0.0590 \n",
            "EVAL: [200/285] Elapsed 0m 32s (remain 0m 13s) Loss: 0.0472 \n"
          ]
        },
        {
          "output_type": "stream",
          "name": "stderr",
          "text": [
            "Epoch 4 - avg_train_loss: 0.0064  avg_val_loss: 0.0556  time: 576s\n",
            "Epoch 4 - avg_train_loss: 0.0064  avg_val_loss: 0.0556  time: 576s\n",
            "Epoch 4 - Score: 0.8036405886909374\n",
            "Epoch 4 - Score: 0.8036405886909374\n"
          ]
        },
        {
          "output_type": "stream",
          "name": "stdout",
          "text": [
            "EVAL: [284/285] Elapsed 0m 45s (remain 0m 0s) Loss: 0.0556 \n",
            "Epoch: [5][0/1137] Elapsed 0m 0s (remain 12m 9s) Loss: 0.0001 \n",
            "Epoch: [5][100/1137] Elapsed 0m 47s (remain 8m 5s) Loss: 0.0019 \n",
            "Epoch: [5][200/1137] Elapsed 1m 33s (remain 7m 17s) Loss: 0.0039 \n",
            "Epoch: [5][300/1137] Elapsed 2m 20s (remain 6m 30s) Loss: 0.0029 \n",
            "Epoch: [5][400/1137] Elapsed 3m 7s (remain 5m 43s) Loss: 0.0024 \n",
            "Epoch: [5][500/1137] Elapsed 3m 54s (remain 4m 57s) Loss: 0.0026 \n",
            "Epoch: [5][600/1137] Elapsed 4m 40s (remain 4m 10s) Loss: 0.0033 \n",
            "Epoch: [5][700/1137] Elapsed 5m 27s (remain 3m 23s) Loss: 0.0039 \n",
            "Epoch: [5][800/1137] Elapsed 6m 14s (remain 2m 36s) Loss: 0.0038 \n",
            "Epoch: [5][900/1137] Elapsed 7m 0s (remain 1m 50s) Loss: 0.0039 \n",
            "Epoch: [5][1000/1137] Elapsed 7m 47s (remain 1m 3s) Loss: 0.0040 \n",
            "Epoch: [5][1100/1137] Elapsed 8m 34s (remain 0m 16s) Loss: 0.0042 \n",
            "Epoch: [5][1136/1137] Elapsed 8m 50s (remain 0m 0s) Loss: 0.0044 \n",
            "EVAL: [0/285] Elapsed 0m 0s (remain 1m 32s) Loss: 0.0019 \n",
            "EVAL: [100/285] Elapsed 0m 16s (remain 0m 29s) Loss: 0.0416 \n",
            "EVAL: [200/285] Elapsed 0m 32s (remain 0m 13s) Loss: 0.0386 \n"
          ]
        },
        {
          "output_type": "stream",
          "name": "stderr",
          "text": [
            "Epoch 5 - avg_train_loss: 0.0044  avg_val_loss: 0.0467  time: 576s\n",
            "Epoch 5 - avg_train_loss: 0.0044  avg_val_loss: 0.0467  time: 576s\n",
            "Epoch 5 - Score: 0.841461082424938\n",
            "Epoch 5 - Score: 0.841461082424938\n"
          ]
        },
        {
          "output_type": "stream",
          "name": "stdout",
          "text": [
            "EVAL: [284/285] Elapsed 0m 45s (remain 0m 0s) Loss: 0.0467 \n"
          ]
        },
        {
          "output_type": "stream",
          "name": "stderr",
          "text": [
            "========== fold: 3 result ==========\n",
            "========== fold: 3 result ==========\n",
            "Score: 0.93475\n",
            "Score: 0.93475\n",
            "========== fold: 4 training ==========\n",
            "========== fold: 4 training ==========\n",
            "Some weights of the model checkpoint at microsoft/BiomedNLP-PubMedBERT-base-uncased-abstract were not used when initializing BertForSequenceClassification: ['cls.seq_relationship.bias', 'cls.predictions.transform.dense.bias', 'cls.predictions.decoder.weight', 'cls.predictions.decoder.bias', 'cls.predictions.transform.dense.weight', 'cls.predictions.transform.LayerNorm.weight', 'cls.seq_relationship.weight', 'cls.predictions.transform.LayerNorm.bias', 'cls.predictions.bias']\n",
            "- This IS expected if you are initializing BertForSequenceClassification from the checkpoint of a model trained on another task or with another architecture (e.g. initializing a BertForSequenceClassification model from a BertForPreTraining model).\n",
            "- This IS NOT expected if you are initializing BertForSequenceClassification from the checkpoint of a model that you expect to be exactly identical (initializing a BertForSequenceClassification model from a BertForSequenceClassification model).\n",
            "Some weights of BertForSequenceClassification were not initialized from the model checkpoint at microsoft/BiomedNLP-PubMedBERT-base-uncased-abstract and are newly initialized: ['classifier.bias', 'classifier.weight']\n",
            "You should probably TRAIN this model on a down-stream task to be able to use it for predictions and inference.\n"
          ]
        },
        {
          "output_type": "stream",
          "name": "stdout",
          "text": [
            "Epoch: [1][0/1137] Elapsed 0m 0s (remain 12m 21s) Loss: 0.4143 \n",
            "Epoch: [1][100/1137] Elapsed 0m 47s (remain 8m 3s) Loss: 0.0653 \n",
            "Epoch: [1][200/1137] Elapsed 1m 33s (remain 7m 16s) Loss: 0.0525 \n",
            "Epoch: [1][300/1137] Elapsed 2m 20s (remain 6m 30s) Loss: 0.0469 \n",
            "Epoch: [1][400/1137] Elapsed 3m 7s (remain 5m 43s) Loss: 0.0422 \n",
            "Epoch: [1][500/1137] Elapsed 3m 53s (remain 4m 56s) Loss: 0.0393 \n",
            "Epoch: [1][600/1137] Elapsed 4m 40s (remain 4m 10s) Loss: 0.0373 \n",
            "Epoch: [1][700/1137] Elapsed 5m 27s (remain 3m 23s) Loss: 0.0362 \n",
            "Epoch: [1][800/1137] Elapsed 6m 13s (remain 2m 36s) Loss: 0.0345 \n",
            "Epoch: [1][900/1137] Elapsed 7m 0s (remain 1m 50s) Loss: 0.0334 \n",
            "Epoch: [1][1000/1137] Elapsed 7m 47s (remain 1m 3s) Loss: 0.0321 \n",
            "Epoch: [1][1100/1137] Elapsed 8m 33s (remain 0m 16s) Loss: 0.0311 \n",
            "Epoch: [1][1136/1137] Elapsed 8m 50s (remain 0m 0s) Loss: 0.0307 \n",
            "EVAL: [0/285] Elapsed 0m 0s (remain 1m 35s) Loss: 0.0044 \n",
            "EVAL: [100/285] Elapsed 0m 16s (remain 0m 29s) Loss: 0.0424 \n",
            "EVAL: [200/285] Elapsed 0m 32s (remain 0m 13s) Loss: 0.0402 \n"
          ]
        },
        {
          "output_type": "stream",
          "name": "stderr",
          "text": [
            "Epoch 1 - avg_train_loss: 0.0307  avg_val_loss: 0.0403  time: 576s\n",
            "Epoch 1 - avg_train_loss: 0.0307  avg_val_loss: 0.0403  time: 576s\n",
            "Epoch 1 - Score: 0.8839779005524863\n",
            "Epoch 1 - Score: 0.8839779005524863\n",
            "Epoch 1 - Save Best Score: 0.8840 Model\n",
            "Epoch 1 - Save Best Score: 0.8840 Model\n"
          ]
        },
        {
          "output_type": "stream",
          "name": "stdout",
          "text": [
            "EVAL: [284/285] Elapsed 0m 45s (remain 0m 0s) Loss: 0.0403 \n",
            "Epoch: [2][0/1137] Elapsed 0m 0s (remain 11m 55s) Loss: 0.0073 \n",
            "Epoch: [2][100/1137] Elapsed 0m 47s (remain 8m 4s) Loss: 0.0217 \n",
            "Epoch: [2][200/1137] Elapsed 1m 33s (remain 7m 17s) Loss: 0.0205 \n",
            "Epoch: [2][300/1137] Elapsed 2m 20s (remain 6m 30s) Loss: 0.0208 \n",
            "Epoch: [2][400/1137] Elapsed 3m 7s (remain 5m 43s) Loss: 0.0198 \n",
            "Epoch: [2][500/1137] Elapsed 3m 53s (remain 4m 56s) Loss: 0.0184 \n",
            "Epoch: [2][600/1137] Elapsed 4m 40s (remain 4m 10s) Loss: 0.0177 \n",
            "Epoch: [2][700/1137] Elapsed 5m 27s (remain 3m 23s) Loss: 0.0176 \n",
            "Epoch: [2][800/1137] Elapsed 6m 13s (remain 2m 36s) Loss: 0.0178 \n",
            "Epoch: [2][900/1137] Elapsed 7m 0s (remain 1m 50s) Loss: 0.0168 \n",
            "Epoch: [2][1000/1137] Elapsed 7m 47s (remain 1m 3s) Loss: 0.0167 \n",
            "Epoch: [2][1100/1137] Elapsed 8m 33s (remain 0m 16s) Loss: 0.0161 \n",
            "Epoch: [2][1136/1137] Elapsed 8m 50s (remain 0m 0s) Loss: 0.0158 \n",
            "EVAL: [0/285] Elapsed 0m 0s (remain 1m 31s) Loss: 0.0007 \n",
            "EVAL: [100/285] Elapsed 0m 16s (remain 0m 29s) Loss: 0.0421 \n",
            "EVAL: [200/285] Elapsed 0m 32s (remain 0m 13s) Loss: 0.0354 \n"
          ]
        },
        {
          "output_type": "stream",
          "name": "stderr",
          "text": [
            "Epoch 2 - avg_train_loss: 0.0158  avg_val_loss: 0.0364  time: 576s\n",
            "Epoch 2 - avg_train_loss: 0.0158  avg_val_loss: 0.0364  time: 576s\n",
            "Epoch 2 - Score: 0.8531441717791411\n",
            "Epoch 2 - Score: 0.8531441717791411\n"
          ]
        },
        {
          "output_type": "stream",
          "name": "stdout",
          "text": [
            "EVAL: [284/285] Elapsed 0m 45s (remain 0m 0s) Loss: 0.0364 \n",
            "Epoch: [3][0/1137] Elapsed 0m 0s (remain 12m 25s) Loss: 0.0003 \n",
            "Epoch: [3][100/1137] Elapsed 0m 47s (remain 8m 5s) Loss: 0.0073 \n",
            "Epoch: [3][200/1137] Elapsed 1m 33s (remain 7m 17s) Loss: 0.0087 \n",
            "Epoch: [3][300/1137] Elapsed 2m 20s (remain 6m 30s) Loss: 0.0085 \n",
            "Epoch: [3][400/1137] Elapsed 3m 7s (remain 5m 43s) Loss: 0.0080 \n",
            "Epoch: [3][500/1137] Elapsed 3m 53s (remain 4m 56s) Loss: 0.0082 \n",
            "Epoch: [3][600/1137] Elapsed 4m 40s (remain 4m 10s) Loss: 0.0076 \n",
            "Epoch: [3][700/1137] Elapsed 5m 27s (remain 3m 23s) Loss: 0.0099 \n",
            "Epoch: [3][800/1137] Elapsed 6m 13s (remain 2m 36s) Loss: 0.0105 \n",
            "Epoch: [3][900/1137] Elapsed 7m 0s (remain 1m 50s) Loss: 0.0102 \n",
            "Epoch: [3][1000/1137] Elapsed 7m 47s (remain 1m 3s) Loss: 0.0103 \n",
            "Epoch: [3][1100/1137] Elapsed 8m 33s (remain 0m 16s) Loss: 0.0109 \n",
            "Epoch: [3][1136/1137] Elapsed 8m 50s (remain 0m 0s) Loss: 0.0109 \n",
            "EVAL: [0/285] Elapsed 0m 0s (remain 1m 32s) Loss: 0.0003 \n",
            "EVAL: [100/285] Elapsed 0m 16s (remain 0m 29s) Loss: 0.0470 \n",
            "EVAL: [200/285] Elapsed 0m 32s (remain 0m 13s) Loss: 0.0424 \n"
          ]
        },
        {
          "output_type": "stream",
          "name": "stderr",
          "text": [
            "Epoch 3 - avg_train_loss: 0.0109  avg_val_loss: 0.0410  time: 576s\n",
            "Epoch 3 - avg_train_loss: 0.0109  avg_val_loss: 0.0410  time: 576s\n",
            "Epoch 3 - Score: 0.813165537270087\n",
            "Epoch 3 - Score: 0.813165537270087\n"
          ]
        },
        {
          "output_type": "stream",
          "name": "stdout",
          "text": [
            "EVAL: [284/285] Elapsed 0m 45s (remain 0m 0s) Loss: 0.0410 \n",
            "Epoch: [4][0/1137] Elapsed 0m 0s (remain 12m 7s) Loss: 0.0002 \n",
            "Epoch: [4][100/1137] Elapsed 0m 47s (remain 8m 5s) Loss: 0.0068 \n",
            "Epoch: [4][200/1137] Elapsed 1m 33s (remain 7m 17s) Loss: 0.0057 \n",
            "Epoch: [4][300/1137] Elapsed 2m 20s (remain 6m 30s) Loss: 0.0060 \n",
            "Epoch: [4][400/1137] Elapsed 3m 7s (remain 5m 43s) Loss: 0.0064 \n",
            "Epoch: [4][500/1137] Elapsed 3m 53s (remain 4m 57s) Loss: 0.0067 \n",
            "Epoch: [4][600/1137] Elapsed 4m 40s (remain 4m 10s) Loss: 0.0073 \n",
            "Epoch: [4][700/1137] Elapsed 5m 27s (remain 3m 23s) Loss: 0.0073 \n",
            "Epoch: [4][800/1137] Elapsed 6m 13s (remain 2m 36s) Loss: 0.0068 \n",
            "Epoch: [4][900/1137] Elapsed 7m 0s (remain 1m 50s) Loss: 0.0073 \n",
            "Epoch: [4][1000/1137] Elapsed 7m 47s (remain 1m 3s) Loss: 0.0078 \n",
            "Epoch: [4][1100/1137] Elapsed 8m 33s (remain 0m 16s) Loss: 0.0077 \n",
            "Epoch: [4][1136/1137] Elapsed 8m 50s (remain 0m 0s) Loss: 0.0077 \n",
            "EVAL: [0/285] Elapsed 0m 0s (remain 1m 33s) Loss: 0.0026 \n",
            "EVAL: [100/285] Elapsed 0m 16s (remain 0m 29s) Loss: 0.0410 \n",
            "EVAL: [200/285] Elapsed 0m 32s (remain 0m 13s) Loss: 0.0409 \n"
          ]
        },
        {
          "output_type": "stream",
          "name": "stderr",
          "text": [
            "Epoch 4 - avg_train_loss: 0.0077  avg_val_loss: 0.0405  time: 576s\n",
            "Epoch 4 - avg_train_loss: 0.0077  avg_val_loss: 0.0405  time: 576s\n",
            "Epoch 4 - Score: 0.863060989643268\n",
            "Epoch 4 - Score: 0.863060989643268\n"
          ]
        },
        {
          "output_type": "stream",
          "name": "stdout",
          "text": [
            "EVAL: [284/285] Elapsed 0m 45s (remain 0m 0s) Loss: 0.0405 \n",
            "Epoch: [5][0/1137] Elapsed 0m 0s (remain 12m 4s) Loss: 0.0082 \n",
            "Epoch: [5][100/1137] Elapsed 0m 47s (remain 8m 5s) Loss: 0.0045 \n",
            "Epoch: [5][200/1137] Elapsed 1m 33s (remain 7m 17s) Loss: 0.0043 \n",
            "Epoch: [5][300/1137] Elapsed 2m 20s (remain 6m 30s) Loss: 0.0046 \n",
            "Epoch: [5][400/1137] Elapsed 3m 7s (remain 5m 43s) Loss: 0.0049 \n",
            "Epoch: [5][500/1137] Elapsed 3m 53s (remain 4m 57s) Loss: 0.0048 \n",
            "Epoch: [5][600/1137] Elapsed 4m 40s (remain 4m 10s) Loss: 0.0049 \n",
            "Epoch: [5][700/1137] Elapsed 5m 27s (remain 3m 23s) Loss: 0.0046 \n",
            "Epoch: [5][800/1137] Elapsed 6m 13s (remain 2m 36s) Loss: 0.0046 \n",
            "Epoch: [5][900/1137] Elapsed 7m 0s (remain 1m 50s) Loss: 0.0044 \n",
            "Epoch: [5][1000/1137] Elapsed 7m 47s (remain 1m 3s) Loss: 0.0047 \n",
            "Epoch: [5][1100/1137] Elapsed 8m 33s (remain 0m 16s) Loss: 0.0048 \n",
            "Epoch: [5][1136/1137] Elapsed 8m 50s (remain 0m 0s) Loss: 0.0048 \n",
            "EVAL: [0/285] Elapsed 0m 0s (remain 1m 31s) Loss: 0.0001 \n",
            "EVAL: [100/285] Elapsed 0m 16s (remain 0m 29s) Loss: 0.0697 \n",
            "EVAL: [200/285] Elapsed 0m 32s (remain 0m 13s) Loss: 0.0528 \n"
          ]
        },
        {
          "output_type": "stream",
          "name": "stderr",
          "text": [
            "Epoch 5 - avg_train_loss: 0.0048  avg_val_loss: 0.0540  time: 576s\n",
            "Epoch 5 - avg_train_loss: 0.0048  avg_val_loss: 0.0540  time: 576s\n",
            "Epoch 5 - Score: 0.7427677873338546\n",
            "Epoch 5 - Score: 0.7427677873338546\n"
          ]
        },
        {
          "output_type": "stream",
          "name": "stdout",
          "text": [
            "EVAL: [284/285] Elapsed 0m 45s (remain 0m 0s) Loss: 0.0540 \n"
          ]
        },
        {
          "output_type": "stream",
          "name": "stderr",
          "text": [
            "========== fold: 4 result ==========\n",
            "========== fold: 4 result ==========\n",
            "Score: 0.88398\n",
            "Score: 0.88398\n",
            "========== CV ==========\n",
            "========== CV ==========\n",
            "Score: 0.91910\n",
            "Score: 0.91910\n",
            "========== model: pubmedbert_uncased fold: 0 inference ==========\n",
            "========== model: pubmedbert_uncased fold: 0 inference ==========\n",
            "Some weights of the model checkpoint at microsoft/BiomedNLP-PubMedBERT-base-uncased-abstract were not used when initializing BertForSequenceClassification: ['cls.seq_relationship.bias', 'cls.predictions.transform.dense.bias', 'cls.predictions.decoder.weight', 'cls.predictions.decoder.bias', 'cls.predictions.transform.dense.weight', 'cls.predictions.transform.LayerNorm.weight', 'cls.seq_relationship.weight', 'cls.predictions.transform.LayerNorm.bias', 'cls.predictions.bias']\n",
            "- This IS expected if you are initializing BertForSequenceClassification from the checkpoint of a model trained on another task or with another architecture (e.g. initializing a BertForSequenceClassification model from a BertForPreTraining model).\n",
            "- This IS NOT expected if you are initializing BertForSequenceClassification from the checkpoint of a model that you expect to be exactly identical (initializing a BertForSequenceClassification model from a BertForSequenceClassification model).\n",
            "Some weights of BertForSequenceClassification were not initialized from the model checkpoint at microsoft/BiomedNLP-PubMedBERT-base-uncased-abstract and are newly initialized: ['classifier.bias', 'classifier.weight']\n",
            "You should probably TRAIN this model on a down-stream task to be able to use it for predictions and inference.\n",
            "100%|██████████| 2143/2143 [05:43<00:00,  6.23it/s]\n",
            "========== model: pubmedbert_uncased fold: 1 inference ==========\n",
            "========== model: pubmedbert_uncased fold: 1 inference ==========\n",
            "Some weights of the model checkpoint at microsoft/BiomedNLP-PubMedBERT-base-uncased-abstract were not used when initializing BertForSequenceClassification: ['cls.seq_relationship.bias', 'cls.predictions.transform.dense.bias', 'cls.predictions.decoder.weight', 'cls.predictions.decoder.bias', 'cls.predictions.transform.dense.weight', 'cls.predictions.transform.LayerNorm.weight', 'cls.seq_relationship.weight', 'cls.predictions.transform.LayerNorm.bias', 'cls.predictions.bias']\n",
            "- This IS expected if you are initializing BertForSequenceClassification from the checkpoint of a model trained on another task or with another architecture (e.g. initializing a BertForSequenceClassification model from a BertForPreTraining model).\n",
            "- This IS NOT expected if you are initializing BertForSequenceClassification from the checkpoint of a model that you expect to be exactly identical (initializing a BertForSequenceClassification model from a BertForSequenceClassification model).\n",
            "Some weights of BertForSequenceClassification were not initialized from the model checkpoint at microsoft/BiomedNLP-PubMedBERT-base-uncased-abstract and are newly initialized: ['classifier.bias', 'classifier.weight']\n",
            "You should probably TRAIN this model on a down-stream task to be able to use it for predictions and inference.\n",
            "100%|██████████| 2143/2143 [05:43<00:00,  6.23it/s]\n",
            "========== model: pubmedbert_uncased fold: 2 inference ==========\n",
            "========== model: pubmedbert_uncased fold: 2 inference ==========\n",
            "Some weights of the model checkpoint at microsoft/BiomedNLP-PubMedBERT-base-uncased-abstract were not used when initializing BertForSequenceClassification: ['cls.seq_relationship.bias', 'cls.predictions.transform.dense.bias', 'cls.predictions.decoder.weight', 'cls.predictions.decoder.bias', 'cls.predictions.transform.dense.weight', 'cls.predictions.transform.LayerNorm.weight', 'cls.seq_relationship.weight', 'cls.predictions.transform.LayerNorm.bias', 'cls.predictions.bias']\n",
            "- This IS expected if you are initializing BertForSequenceClassification from the checkpoint of a model trained on another task or with another architecture (e.g. initializing a BertForSequenceClassification model from a BertForPreTraining model).\n",
            "- This IS NOT expected if you are initializing BertForSequenceClassification from the checkpoint of a model that you expect to be exactly identical (initializing a BertForSequenceClassification model from a BertForSequenceClassification model).\n",
            "Some weights of BertForSequenceClassification were not initialized from the model checkpoint at microsoft/BiomedNLP-PubMedBERT-base-uncased-abstract and are newly initialized: ['classifier.bias', 'classifier.weight']\n",
            "You should probably TRAIN this model on a down-stream task to be able to use it for predictions and inference.\n",
            "100%|██████████| 2143/2143 [05:43<00:00,  6.23it/s]\n",
            "========== model: pubmedbert_uncased fold: 3 inference ==========\n",
            "========== model: pubmedbert_uncased fold: 3 inference ==========\n",
            "Some weights of the model checkpoint at microsoft/BiomedNLP-PubMedBERT-base-uncased-abstract were not used when initializing BertForSequenceClassification: ['cls.seq_relationship.bias', 'cls.predictions.transform.dense.bias', 'cls.predictions.decoder.weight', 'cls.predictions.decoder.bias', 'cls.predictions.transform.dense.weight', 'cls.predictions.transform.LayerNorm.weight', 'cls.seq_relationship.weight', 'cls.predictions.transform.LayerNorm.bias', 'cls.predictions.bias']\n",
            "- This IS expected if you are initializing BertForSequenceClassification from the checkpoint of a model trained on another task or with another architecture (e.g. initializing a BertForSequenceClassification model from a BertForPreTraining model).\n",
            "- This IS NOT expected if you are initializing BertForSequenceClassification from the checkpoint of a model that you expect to be exactly identical (initializing a BertForSequenceClassification model from a BertForSequenceClassification model).\n",
            "Some weights of BertForSequenceClassification were not initialized from the model checkpoint at microsoft/BiomedNLP-PubMedBERT-base-uncased-abstract and are newly initialized: ['classifier.bias', 'classifier.weight']\n",
            "You should probably TRAIN this model on a down-stream task to be able to use it for predictions and inference.\n",
            "100%|██████████| 2143/2143 [05:43<00:00,  6.24it/s]\n",
            "========== model: pubmedbert_uncased fold: 4 inference ==========\n",
            "========== model: pubmedbert_uncased fold: 4 inference ==========\n",
            "Some weights of the model checkpoint at microsoft/BiomedNLP-PubMedBERT-base-uncased-abstract were not used when initializing BertForSequenceClassification: ['cls.seq_relationship.bias', 'cls.predictions.transform.dense.bias', 'cls.predictions.decoder.weight', 'cls.predictions.decoder.bias', 'cls.predictions.transform.dense.weight', 'cls.predictions.transform.LayerNorm.weight', 'cls.seq_relationship.weight', 'cls.predictions.transform.LayerNorm.bias', 'cls.predictions.bias']\n",
            "- This IS expected if you are initializing BertForSequenceClassification from the checkpoint of a model trained on another task or with another architecture (e.g. initializing a BertForSequenceClassification model from a BertForPreTraining model).\n",
            "- This IS NOT expected if you are initializing BertForSequenceClassification from the checkpoint of a model that you expect to be exactly identical (initializing a BertForSequenceClassification model from a BertForSequenceClassification model).\n",
            "Some weights of BertForSequenceClassification were not initialized from the model checkpoint at microsoft/BiomedNLP-PubMedBERT-base-uncased-abstract and are newly initialized: ['classifier.bias', 'classifier.weight']\n",
            "You should probably TRAIN this model on a down-stream task to be able to use it for predictions and inference.\n",
            "100%|██████████| 2143/2143 [05:43<00:00,  6.24it/s]\n"
          ]
        }
      ]
    },
    {
      "cell_type": "code",
      "metadata": {
        "colab": {
          "base_uri": "https://localhost:8080/"
        },
        "id": "hvw-L6vk9j_j",
        "outputId": "aee3bf2e-5cd6-4d48-e79d-cae33f30b07f"
      },
      "source": [
        "ZIP_OUTPUT_DIR = OUTPUT_DIR[:-1]+\".zip\"\n",
        "!zip -r $ZIP_OUTPUT_DIR $OUTPUT_DIR"
      ],
      "execution_count": 27,
      "outputs": [
        {
          "output_type": "stream",
          "name": "stdout",
          "text": [
            "  adding: results_scibert_scivocab_uncased_title/ (stored 0%)\n",
            "  adding: results_scibert_scivocab_uncased_title/scibert_scivocab_uncased_fold0_best.pth (deflated 7%)\n",
            "  adding: results_scibert_scivocab_uncased_title/scibert_scivocab_uncased_fold3_best.pth (deflated 7%)\n",
            "  adding: results_scibert_scivocab_uncased_title/oof_df.csv (deflated 65%)\n",
            "  adding: results_scibert_scivocab_uncased_title/scibert_scivocab_uncased_fold4_best.pth (deflated 7%)\n",
            "  adding: results_scibert_scivocab_uncased_title/scibert_scivocab_uncased_fold1_best.pth (deflated 7%)\n",
            "  adding: results_scibert_scivocab_uncased_title/scibert_scivocab_uncased_fold2_best.pth (deflated 7%)\n",
            "  adding: results_scibert_scivocab_uncased_title/submission.csv (deflated 72%)\n",
            "  adding: results_scibert_scivocab_uncased_title/train.log (deflated 80%)\n"
          ]
        }
      ]
    },
    {
      "cell_type": "code",
      "metadata": {
        "colab": {
          "base_uri": "https://localhost:8080/",
          "height": 34
        },
        "id": "lb1tOLqtBSDf",
        "outputId": "621c35a7-39e3-4219-8f35-88617f5b6ac0"
      },
      "source": [
        "from google.colab import files\n",
        "files.download(ZIP_OUTPUT_DIR)"
      ],
      "execution_count": 28,
      "outputs": [
        {
          "output_type": "display_data",
          "data": {
            "application/javascript": [
              "\n",
              "    async function download(id, filename, size) {\n",
              "      if (!google.colab.kernel.accessAllowed) {\n",
              "        return;\n",
              "      }\n",
              "      const div = document.createElement('div');\n",
              "      const label = document.createElement('label');\n",
              "      label.textContent = `Downloading \"${filename}\": `;\n",
              "      div.appendChild(label);\n",
              "      const progress = document.createElement('progress');\n",
              "      progress.max = size;\n",
              "      div.appendChild(progress);\n",
              "      document.body.appendChild(div);\n",
              "\n",
              "      const buffers = [];\n",
              "      let downloaded = 0;\n",
              "\n",
              "      const channel = await google.colab.kernel.comms.open(id);\n",
              "      // Send a message to notify the kernel that we're ready.\n",
              "      channel.send({})\n",
              "\n",
              "      for await (const message of channel.messages) {\n",
              "        // Send a message to notify the kernel that we're ready.\n",
              "        channel.send({})\n",
              "        if (message.buffers) {\n",
              "          for (const buffer of message.buffers) {\n",
              "            buffers.push(buffer);\n",
              "            downloaded += buffer.byteLength;\n",
              "            progress.value = downloaded;\n",
              "          }\n",
              "        }\n",
              "      }\n",
              "      const blob = new Blob(buffers, {type: 'application/binary'});\n",
              "      const a = document.createElement('a');\n",
              "      a.href = window.URL.createObjectURL(blob);\n",
              "      a.download = filename;\n",
              "      div.appendChild(a);\n",
              "      a.click();\n",
              "      div.remove();\n",
              "    }\n",
              "  "
            ],
            "text/plain": [
              "<IPython.core.display.Javascript object>"
            ]
          },
          "metadata": {}
        },
        {
          "output_type": "display_data",
          "data": {
            "application/javascript": [
              "download(\"download_5ae1c5b6-1d2d-4616-8f1e-b2df1069c8be\", \"results_scibert_scivocab_uncased_title.zip\", 2053645855)"
            ],
            "text/plain": [
              "<IPython.core.display.Javascript object>"
            ]
          },
          "metadata": {}
        }
      ]
    },
    {
      "cell_type": "markdown",
      "metadata": {
        "id": "HE1cwpFGdUlk"
      },
      "source": [
        "【TODO】\n",
        "・(きもとん)PUBMED等の他のBERT使ってみる。\n",
        "・(きもとん)ABSTRACTモデル作ってみる。\n",
        "・(がみ)BERTの後ろにつけるモデルをリッチ（複数層/Lightgbm）にしてみる。\n",
        "・(がみ)今後の方針を真剣に考える"
      ]
    },
    {
      "cell_type": "code",
      "metadata": {
        "id": "mS9IXMq2dUll"
      },
      "source": [
        "!nvidia-smi"
      ],
      "execution_count": null,
      "outputs": []
    },
    {
      "cell_type": "code",
      "metadata": {
        "id": "sPOecO2RJaTk"
      },
      "source": [
        ""
      ],
      "execution_count": null,
      "outputs": []
    }
  ]
}