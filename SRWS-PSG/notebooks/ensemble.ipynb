{
  "nbformat": 4,
  "nbformat_minor": 0,
  "metadata": {
    "colab": {
      "name": "ensemble.ipynb",
      "provenance": [],
      "collapsed_sections": [],
      "machine_shape": "hm",
      "authorship_tag": "ABX9TyNtrmSMkTb08OVIkbDpNHF/",
      "include_colab_link": true
    },
    "kernelspec": {
      "name": "python3",
      "display_name": "Python 3"
    },
    "language_info": {
      "name": "python"
    }
  },
  "cells": [
    {
      "cell_type": "markdown",
      "metadata": {
        "id": "view-in-github",
        "colab_type": "text"
      },
      "source": [
        "<a href=\"https://colab.research.google.com/github/nkimoto/signate/blob/main/SRWS-PSG/notebooks/ensemble.ipynb\" target=\"_parent\"><img src=\"https://colab.research.google.com/assets/colab-badge.svg\" alt=\"Open In Colab\"/></a>"
      ]
    },
    {
      "cell_type": "code",
      "metadata": {
        "colab": {
          "base_uri": "https://localhost:8080/"
        },
        "id": "Tz137Tq0L_cP",
        "outputId": "3d9fddc9-e6c7-4d37-9ba6-afd1c880f1ad"
      },
      "source": [
        "from google.colab import drive\n",
        "drive.mount('/content/drive')"
      ],
      "execution_count": 1,
      "outputs": [
        {
          "output_type": "stream",
          "name": "stdout",
          "text": [
            "Mounted at /content/drive\n"
          ]
        }
      ]
    },
    {
      "cell_type": "code",
      "metadata": {
        "colab": {
          "base_uri": "https://localhost:8080/"
        },
        "id": "24bOeqtULCja",
        "outputId": "b8ee6132-1e88-4f41-cae8-71343b339137"
      },
      "source": [
        "!pip install torch\n",
        "!pip install transformers\n",
        "!pip install scikit-learn\n",
        "!pip install tqdm\n",
        "!pip install optuna"
      ],
      "execution_count": 2,
      "outputs": [
        {
          "output_type": "stream",
          "name": "stdout",
          "text": [
            "Requirement already satisfied: torch in /usr/local/lib/python3.7/dist-packages (1.9.0+cu102)\n",
            "Requirement already satisfied: typing-extensions in /usr/local/lib/python3.7/dist-packages (from torch) (3.7.4.3)\n",
            "Collecting transformers\n",
            "  Downloading transformers-4.11.2-py3-none-any.whl (2.9 MB)\n",
            "\u001b[K     |████████████████████████████████| 2.9 MB 4.1 MB/s \n",
            "\u001b[?25hCollecting pyyaml>=5.1\n",
            "  Downloading PyYAML-5.4.1-cp37-cp37m-manylinux1_x86_64.whl (636 kB)\n",
            "\u001b[K     |████████████████████████████████| 636 kB 41.9 MB/s \n",
            "\u001b[?25hRequirement already satisfied: numpy>=1.17 in /usr/local/lib/python3.7/dist-packages (from transformers) (1.19.5)\n",
            "Collecting sacremoses\n",
            "  Downloading sacremoses-0.0.46-py3-none-any.whl (895 kB)\n",
            "\u001b[K     |████████████████████████████████| 895 kB 59.9 MB/s \n",
            "\u001b[?25hRequirement already satisfied: tqdm>=4.27 in /usr/local/lib/python3.7/dist-packages (from transformers) (4.62.3)\n",
            "Requirement already satisfied: requests in /usr/local/lib/python3.7/dist-packages (from transformers) (2.23.0)\n",
            "Requirement already satisfied: filelock in /usr/local/lib/python3.7/dist-packages (from transformers) (3.0.12)\n",
            "Requirement already satisfied: importlib-metadata in /usr/local/lib/python3.7/dist-packages (from transformers) (4.8.1)\n",
            "Collecting tokenizers<0.11,>=0.10.1\n",
            "  Downloading tokenizers-0.10.3-cp37-cp37m-manylinux_2_5_x86_64.manylinux1_x86_64.manylinux_2_12_x86_64.manylinux2010_x86_64.whl (3.3 MB)\n",
            "\u001b[K     |████████████████████████████████| 3.3 MB 62.0 MB/s \n",
            "\u001b[?25hRequirement already satisfied: packaging>=20.0 in /usr/local/lib/python3.7/dist-packages (from transformers) (21.0)\n",
            "Requirement already satisfied: regex!=2019.12.17 in /usr/local/lib/python3.7/dist-packages (from transformers) (2019.12.20)\n",
            "Collecting huggingface-hub>=0.0.17\n",
            "  Downloading huggingface_hub-0.0.17-py3-none-any.whl (52 kB)\n",
            "\u001b[K     |████████████████████████████████| 52 kB 1.4 MB/s \n",
            "\u001b[?25hRequirement already satisfied: typing-extensions in /usr/local/lib/python3.7/dist-packages (from huggingface-hub>=0.0.17->transformers) (3.7.4.3)\n",
            "Requirement already satisfied: pyparsing>=2.0.2 in /usr/local/lib/python3.7/dist-packages (from packaging>=20.0->transformers) (2.4.7)\n",
            "Requirement already satisfied: zipp>=0.5 in /usr/local/lib/python3.7/dist-packages (from importlib-metadata->transformers) (3.5.0)\n",
            "Requirement already satisfied: urllib3!=1.25.0,!=1.25.1,<1.26,>=1.21.1 in /usr/local/lib/python3.7/dist-packages (from requests->transformers) (1.24.3)\n",
            "Requirement already satisfied: chardet<4,>=3.0.2 in /usr/local/lib/python3.7/dist-packages (from requests->transformers) (3.0.4)\n",
            "Requirement already satisfied: idna<3,>=2.5 in /usr/local/lib/python3.7/dist-packages (from requests->transformers) (2.10)\n",
            "Requirement already satisfied: certifi>=2017.4.17 in /usr/local/lib/python3.7/dist-packages (from requests->transformers) (2021.5.30)\n",
            "Requirement already satisfied: click in /usr/local/lib/python3.7/dist-packages (from sacremoses->transformers) (7.1.2)\n",
            "Requirement already satisfied: joblib in /usr/local/lib/python3.7/dist-packages (from sacremoses->transformers) (1.0.1)\n",
            "Requirement already satisfied: six in /usr/local/lib/python3.7/dist-packages (from sacremoses->transformers) (1.15.0)\n",
            "Installing collected packages: tokenizers, sacremoses, pyyaml, huggingface-hub, transformers\n",
            "  Attempting uninstall: pyyaml\n",
            "    Found existing installation: PyYAML 3.13\n",
            "    Uninstalling PyYAML-3.13:\n",
            "      Successfully uninstalled PyYAML-3.13\n",
            "Successfully installed huggingface-hub-0.0.17 pyyaml-5.4.1 sacremoses-0.0.46 tokenizers-0.10.3 transformers-4.11.2\n",
            "Requirement already satisfied: scikit-learn in /usr/local/lib/python3.7/dist-packages (0.22.2.post1)\n",
            "Requirement already satisfied: numpy>=1.11.0 in /usr/local/lib/python3.7/dist-packages (from scikit-learn) (1.19.5)\n",
            "Requirement already satisfied: scipy>=0.17.0 in /usr/local/lib/python3.7/dist-packages (from scikit-learn) (1.4.1)\n",
            "Requirement already satisfied: joblib>=0.11 in /usr/local/lib/python3.7/dist-packages (from scikit-learn) (1.0.1)\n",
            "Requirement already satisfied: tqdm in /usr/local/lib/python3.7/dist-packages (4.62.3)\n",
            "Collecting optuna\n",
            "  Downloading optuna-2.10.0-py3-none-any.whl (308 kB)\n",
            "\u001b[K     |████████████████████████████████| 308 kB 2.8 MB/s \n",
            "\u001b[?25hRequirement already satisfied: PyYAML in /usr/local/lib/python3.7/dist-packages (from optuna) (5.4.1)\n",
            "Requirement already satisfied: sqlalchemy>=1.1.0 in /usr/local/lib/python3.7/dist-packages (from optuna) (1.4.25)\n",
            "Requirement already satisfied: tqdm in /usr/local/lib/python3.7/dist-packages (from optuna) (4.62.3)\n",
            "Collecting colorlog\n",
            "  Downloading colorlog-6.4.1-py2.py3-none-any.whl (11 kB)\n",
            "Requirement already satisfied: scipy!=1.4.0 in /usr/local/lib/python3.7/dist-packages (from optuna) (1.4.1)\n",
            "Requirement already satisfied: numpy in /usr/local/lib/python3.7/dist-packages (from optuna) (1.19.5)\n",
            "Collecting cmaes>=0.8.2\n",
            "  Downloading cmaes-0.8.2-py3-none-any.whl (15 kB)\n",
            "Collecting cliff\n",
            "  Downloading cliff-3.9.0-py3-none-any.whl (80 kB)\n",
            "\u001b[K     |████████████████████████████████| 80 kB 9.3 MB/s \n",
            "\u001b[?25hCollecting alembic\n",
            "  Downloading alembic-1.7.3-py3-none-any.whl (208 kB)\n",
            "\u001b[K     |████████████████████████████████| 208 kB 36.7 MB/s \n",
            "\u001b[?25hRequirement already satisfied: packaging>=20.0 in /usr/local/lib/python3.7/dist-packages (from optuna) (21.0)\n",
            "Requirement already satisfied: pyparsing>=2.0.2 in /usr/local/lib/python3.7/dist-packages (from packaging>=20.0->optuna) (2.4.7)\n",
            "Requirement already satisfied: greenlet!=0.4.17 in /usr/local/lib/python3.7/dist-packages (from sqlalchemy>=1.1.0->optuna) (1.1.1)\n",
            "Requirement already satisfied: importlib-metadata in /usr/local/lib/python3.7/dist-packages (from sqlalchemy>=1.1.0->optuna) (4.8.1)\n",
            "Requirement already satisfied: importlib-resources in /usr/local/lib/python3.7/dist-packages (from alembic->optuna) (5.2.2)\n",
            "Collecting Mako\n",
            "  Downloading Mako-1.1.5-py2.py3-none-any.whl (75 kB)\n",
            "\u001b[K     |████████████████████████████████| 75 kB 4.3 MB/s \n",
            "\u001b[?25hCollecting autopage>=0.4.0\n",
            "  Downloading autopage-0.4.0-py3-none-any.whl (20 kB)\n",
            "Requirement already satisfied: PrettyTable>=0.7.2 in /usr/local/lib/python3.7/dist-packages (from cliff->optuna) (2.2.0)\n",
            "Collecting pbr!=2.1.0,>=2.0.0\n",
            "  Downloading pbr-5.6.0-py2.py3-none-any.whl (111 kB)\n",
            "\u001b[K     |████████████████████████████████| 111 kB 43.5 MB/s \n",
            "\u001b[?25hCollecting cmd2>=1.0.0\n",
            "  Downloading cmd2-2.2.0-py3-none-any.whl (144 kB)\n",
            "\u001b[K     |████████████████████████████████| 144 kB 35.7 MB/s \n",
            "\u001b[?25hCollecting stevedore>=2.0.1\n",
            "  Downloading stevedore-3.4.0-py3-none-any.whl (49 kB)\n",
            "\u001b[K     |████████████████████████████████| 49 kB 5.5 MB/s \n",
            "\u001b[?25hCollecting pyperclip>=1.6\n",
            "  Downloading pyperclip-1.8.2.tar.gz (20 kB)\n",
            "Collecting colorama>=0.3.7\n",
            "  Downloading colorama-0.4.4-py2.py3-none-any.whl (16 kB)\n",
            "Requirement already satisfied: wcwidth>=0.1.7 in /usr/local/lib/python3.7/dist-packages (from cmd2>=1.0.0->cliff->optuna) (0.2.5)\n",
            "Requirement already satisfied: typing-extensions in /usr/local/lib/python3.7/dist-packages (from cmd2>=1.0.0->cliff->optuna) (3.7.4.3)\n",
            "Requirement already satisfied: attrs>=16.3.0 in /usr/local/lib/python3.7/dist-packages (from cmd2>=1.0.0->cliff->optuna) (21.2.0)\n",
            "Requirement already satisfied: zipp>=0.5 in /usr/local/lib/python3.7/dist-packages (from importlib-metadata->sqlalchemy>=1.1.0->optuna) (3.5.0)\n",
            "Requirement already satisfied: MarkupSafe>=0.9.2 in /usr/local/lib/python3.7/dist-packages (from Mako->alembic->optuna) (2.0.1)\n",
            "Building wheels for collected packages: pyperclip\n",
            "  Building wheel for pyperclip (setup.py) ... \u001b[?25l\u001b[?25hdone\n",
            "  Created wheel for pyperclip: filename=pyperclip-1.8.2-py3-none-any.whl size=11136 sha256=3fa26b581a2d9987044fe933c3520f80bc0363e59dff6bbeabc1680ead3391d9\n",
            "  Stored in directory: /root/.cache/pip/wheels/9f/18/84/8f69f8b08169c7bae2dde6bd7daf0c19fca8c8e500ee620a28\n",
            "Successfully built pyperclip\n",
            "Installing collected packages: pyperclip, pbr, colorama, stevedore, Mako, cmd2, autopage, colorlog, cmaes, cliff, alembic, optuna\n",
            "Successfully installed Mako-1.1.5 alembic-1.7.3 autopage-0.4.0 cliff-3.9.0 cmaes-0.8.2 cmd2-2.2.0 colorama-0.4.4 colorlog-6.4.1 optuna-2.10.0 pbr-5.6.0 pyperclip-1.8.2 stevedore-3.4.0\n"
          ]
        }
      ]
    },
    {
      "cell_type": "code",
      "metadata": {
        "id": "p_kq3RqjLa8g"
      },
      "source": [
        "import pickle\n",
        "\n",
        "import numpy as np\n",
        "import pandas as pd\n",
        "import matplotlib.pyplot as plt\n",
        "from tqdm import tqdm\n",
        "import optuna.integration.lightgbm as lgb\n",
        "import lightgbm as lgb_original\n",
        "from sklearn.model_selection import StratifiedKFold, train_test_split\n",
        "from sklearn.metrics import fbeta_score"
      ],
      "execution_count": 3,
      "outputs": []
    },
    {
      "cell_type": "code",
      "metadata": {
        "id": "qPSt78gLLdWy"
      },
      "source": [
        "# 学習結果の予測を出力\n",
        "SAVE_PREDS_DATA_DIR = \"/content/drive/MyDrive/signate/data/\"\n",
        "with open(SAVE_PREDS_DATA_DIR+\"train_preds.pickle\", mode=\"rb\") as f:\n",
        "    train_preds = pickle.load(f)\n",
        "\n",
        "with open(SAVE_PREDS_DATA_DIR+\"test_preds.pickle\", mode=\"rb\") as f:\n",
        "    test_preds = pickle.load(f)"
      ],
      "execution_count": 4,
      "outputs": []
    },
    {
      "cell_type": "code",
      "metadata": {
        "id": "XzfkVWvvM5oB"
      },
      "source": [
        "def get_train_test_preds(train_preds, test_preds):\n",
        "\n",
        "    # ================================================\n",
        "    # 学習データの結果統合\n",
        "    # ================================================\n",
        "    # formatにはtitle+abstractのデータを使用すること\n",
        "    train_format = train_preds[list(train_preds.keys())[1]].copy()\n",
        "    cols = train_format.columns\n",
        "    train_format = train_format.loc[:, ~cols.str.contains(\"preds_\")]\n",
        "\n",
        "    # 1つのｄｆに結果を統合\n",
        "    train_preds_df = train_format.copy()\n",
        "    for key in train_preds.keys():\n",
        "        cols = [f\"preds_mean\", f\"preds_0\", f\"preds_1\", f\"preds_2\", f\"preds_3\", f\"preds_4\"]\n",
        "        new_cols = [f\"{key}_preds_mean\", f\"{key}_preds_0\", f\"{key}_preds_1\", f\"{key}_preds_2\", f\"{key}_preds_3\", f\"{key}_preds_4\"]\n",
        "        train_preds_df[new_cols] = train_preds[key][cols].copy()\n",
        "      \n",
        "    # oofを結合\n",
        "    path = \"/content/drive/MyDrive/signate/results/\"\n",
        "    dir_name = [\n",
        "                \"results_pubmedbert_uncased_title/\",\n",
        "                \"results_pubmedbert_uncased_title+abstract/\",\n",
        "                \"results_scibert_scivocab_uncased_title/\",\n",
        "                \"results_scibert_scivocab_uncased_title+abstract/\",\n",
        "                ]\n",
        "    path_list = [path + f +\"oof_df.csv\" for f in dir_name]\n",
        "    for i, key in enumerate(train_preds.keys()):\n",
        "        new_col = f\"{key}_oof_preds\"\n",
        "        train_preds_df[new_col] = pd.read_csv(path_list[i]).sort_values(\"id\").reset_index(drop=True)[\"preds\"]\n",
        "\n",
        "    train_preds_df[\"num_words\"] = train_preds_df[\"title+abstract\"].str.count(\" \")+1\n",
        "    train_preds_df[\"only_title\"] = train_preds_df[\"abstract\"].isnull().astype(int)\n",
        "    # word\n",
        "    # 事前に抽出した特徴的な単語\n",
        "    word_list = [\n",
        "             \"patient\", \"respect\", \"respective\", \"clinic\", \"evaluate\", \n",
        "             \"accuracy\", \"testing\", \"preformance\", \"value\", \"ample\", \n",
        "             \"patients\", \"sample\", \"bodies\", \"RT-PCR\", \"assay\", \n",
        "             \"negative\", \"RT\", \"T-\", \"positive\", \"preform\",\n",
        "             \"SARS\", \"CoV\", \"diagnosis\", \"PCR\", \"specific\", \n",
        "             \"city\", \"0%\", \"diagnostic\", \"detection\", \"test\", \n",
        "             \"specificity\", \"detect\", \"sensitivity\", \"collect\", \"pharyngeal\",\n",
        "             \"Lewy\", \"standard\", \"COVID\", \"evaluated\", \"tests\", \n",
        "             \"brain\", \"associate\", \"treat\", \"function\", \"press\", \n",
        "             \"hip\", \"fact\", \"beta\", \"increased\", \n",
        "             ]\n",
        "\n",
        "    for word in word_list:\n",
        "        train_preds_df[f\"{word}_count\"] = train_preds_df[\"title+abstract\"].str.count(word)\n",
        "\n",
        "\n",
        "    # ================================================\n",
        "    # テストデータの結果統合\n",
        "    # ================================================\n",
        "    # formatにはtitle+abstractのデータを使用すること\n",
        "    test_format = test_preds[list(test_preds.keys())[1]].copy()\n",
        "    cols = test_format.columns\n",
        "    test_format = test_format.loc[:, ~cols.str.contains(\"preds_\")]\n",
        "\n",
        "    # 1つのｄｆに結果を統合\n",
        "    test_preds_df = test_format.copy()\n",
        "    for key in test_preds.keys():\n",
        "        cols = [f\"preds_mean\", f\"preds_0\", f\"preds_1\", f\"preds_2\", f\"preds_3\", f\"preds_4\"]\n",
        "        new_cols = [f\"{key}_preds_mean\", f\"{key}_preds_0\", f\"{key}_preds_1\", f\"{key}_preds_2\", f\"{key}_preds_3\", f\"{key}_preds_4\"]\n",
        "        test_preds_df[new_cols] = test_preds[key][cols].copy()\n",
        "\n",
        "    test_preds_df[\"num_words\"] = test_preds_df[\"title+abstract\"].str.count(\" \")+1\n",
        "    test_preds_df[\"only_title\"] = test_preds_df[\"abstract\"].isnull().astype(int)\n",
        "\n",
        "    for word in word_list:\n",
        "        test_preds_df[f\"{word}_count\"] = test_preds_df[\"title+abstract\"].str.count(word)\n",
        "    \n",
        "    pred_cols = [\"num_words\", \"only_title\"] + [f\"{word}_count\" for word in word_list]\n",
        "\n",
        "    return train_preds_df, test_preds_df, pred_cols\n",
        "\n",
        "\n",
        "train_preds_df, test_preds_df, pred_cols = get_train_test_preds(train_preds, test_preds)\n"
      ],
      "execution_count": 42,
      "outputs": []
    },
    {
      "cell_type": "code",
      "metadata": {
        "id": "hfzsJQy-qgKg"
      },
      "source": [
        "def fbeta(true, pred):\n",
        "    return fbeta_score(true, pred, beta=7)"
      ],
      "execution_count": 6,
      "outputs": []
    },
    {
      "cell_type": "code",
      "metadata": {
        "id": "MCHkh3Bc77gv"
      },
      "source": [
        "sample = pd.read_csv(\"/content/drive/MyDrive/signate/results_new/results_pubmedbert_uncased_title+abstract/oof_df.csv\")"
      ],
      "execution_count": 35,
      "outputs": []
    },
    {
      "cell_type": "code",
      "metadata": {
        "colab": {
          "base_uri": "https://localhost:8080/"
        },
        "id": "MdPlTp4H6Y-N",
        "outputId": "3b8c6f7e-6b26-4bd7-9f00-37c24c2789e7"
      },
      "source": [
        "#preds = (train_preds_df[\"pubmedbert_uncased_title+abstract_preds_mean\"] > border).astype(int)\n",
        "preds = (train_preds_df[\"pubmedbert_uncased_title+abstract_oof_preds\"] > border).astype(int)\n",
        "true = train_preds_df[\"judgement\"]\n",
        "fbeta(true, preds)"
      ],
      "execution_count": 43,
      "outputs": [
        {
          "output_type": "execute_result",
          "data": {
            "text/plain": [
              "0.9064273942501373"
            ]
          },
          "metadata": {},
          "execution_count": 43
        }
      ]
    },
    {
      "cell_type": "code",
      "metadata": {
        "colab": {
          "base_uri": "https://localhost:8080/"
        },
        "id": "I6avp9wZ-Om8",
        "outputId": "3508bdee-3fc0-45b1-f35b-d7b28b75a661"
      },
      "source": [
        "border = 0.0232086940504697\n",
        "fbeta(train_preds_df[\"judgement\"], (train_preds_df.loc[:, train_preds_df.columns.str.contains(\"abstract_oof\")].mean(axis=1) > border).astype(int))"
      ],
      "execution_count": 75,
      "outputs": [
        {
          "output_type": "execute_result",
          "data": {
            "text/plain": [
              "0.9216659604092258"
            ]
          },
          "metadata": {},
          "execution_count": 75
        }
      ]
    },
    {
      "cell_type": "code",
      "metadata": {
        "colab": {
          "base_uri": "https://localhost:8080/"
        },
        "id": "ktsKD56IFg6x",
        "outputId": "2654433c-ddc8-4e13-911e-dba8a50d7d2d"
      },
      "source": [
        "(train_preds_df.loc[:, train_preds_df.columns.str.contains(\"abstract_oof\")].mean(axis=1) > border).sum()"
      ],
      "execution_count": 95,
      "outputs": [
        {
          "output_type": "execute_result",
          "data": {
            "text/plain": [
              "2168"
            ]
          },
          "metadata": {},
          "execution_count": 95
        }
      ]
    },
    {
      "cell_type": "code",
      "metadata": {
        "colab": {
          "base_uri": "https://localhost:8080/"
        },
        "id": "y2NCQKQfLhFO",
        "outputId": "44e484fc-b5c8-43af-d6a7-455553527d20"
      },
      "source": [
        "%%time\n",
        "seed = 471\n",
        "\n",
        "cols = list(train_preds_df.columns[train_preds_df.columns.str.contains(\"abstract_oof_preds\")])\n",
        "cols = cols + pred_cols\n",
        "X = train_preds_df.loc[:, cols]\n",
        "y = train_preds_df[\"judgement\"]\n",
        "X_train = X.copy()\n",
        "y_train = y.copy()\n",
        "#X_train, X_test, y_train, y_test = train_test_split(X, y, test_size=0.30, random_state=seed)\n",
        "train_data = lgb.Dataset(X_train, y_train)\n",
        "\n",
        "params = {'objective': 'binary',\n",
        "          'metric': 'binary_logloss',\n",
        "          'random_seed': seed}\n",
        "\n",
        "tuner = lgb.LightGBMTunerCV(\n",
        "    params, \n",
        "    train_data,\n",
        "    nfold=5, \n",
        "    verbose_eval=100, \n",
        "    early_stopping_rounds=100,\n",
        "    folds=StratifiedKFold(n_splits=5, shuffle=True, random_state=seed),\n",
        "    seed=seed,\n",
        "    optuna_seed=seed\n",
        ")\n",
        "\n",
        "tuner.run()"
      ],
      "execution_count": 119,
      "outputs": [
        {
          "output_type": "stream",
          "name": "stderr",
          "text": [
            "\u001b[32m[I 2021-10-04 12:17:45,489]\u001b[0m A new study created in memory with name: no-name-c1710e01-bfe1-4364-b441-79a0727e8fae\u001b[0m\n",
            "feature_fraction, val_score: inf:   0%|          | 0/7 [00:00<?, ?it/s]"
          ]
        },
        {
          "output_type": "stream",
          "name": "stdout",
          "text": [
            "[100]\tcv_agg's binary_logloss: 0.0430447 + 0.00339737\n"
          ]
        },
        {
          "output_type": "stream",
          "name": "stderr",
          "text": [
            "feature_fraction, val_score: 0.040174:  14%|#4        | 1/7 [00:01<00:11,  1.90s/it]\u001b[32m[I 2021-10-04 12:17:47,399]\u001b[0m Trial 0 finished with value: 0.04017441244115588 and parameters: {'feature_fraction': 0.7}. Best is trial 0 with value: 0.04017441244115588.\u001b[0m\n",
            "feature_fraction, val_score: 0.040174:  14%|#4        | 1/7 [00:01<00:11,  1.90s/it]"
          ]
        },
        {
          "output_type": "stream",
          "name": "stdout",
          "text": [
            "[100]\tcv_agg's binary_logloss: 0.0415423 + 0.00323388\n"
          ]
        },
        {
          "output_type": "stream",
          "name": "stderr",
          "text": [
            "feature_fraction, val_score: 0.038959:  29%|##8       | 2/7 [00:03<00:09,  1.83s/it]\u001b[32m[I 2021-10-04 12:17:49,181]\u001b[0m Trial 1 finished with value: 0.038959063337222634 and parameters: {'feature_fraction': 0.5}. Best is trial 1 with value: 0.038959063337222634.\u001b[0m\n",
            "feature_fraction, val_score: 0.038959:  29%|##8       | 2/7 [00:03<00:09,  1.83s/it]"
          ]
        },
        {
          "output_type": "stream",
          "name": "stdout",
          "text": [
            "[100]\tcv_agg's binary_logloss: 0.0448486 + 0.00403815\n"
          ]
        },
        {
          "output_type": "stream",
          "name": "stderr",
          "text": [
            "feature_fraction, val_score: 0.038959:  43%|####2     | 3/7 [00:05<00:07,  1.86s/it]\u001b[32m[I 2021-10-04 12:17:51,066]\u001b[0m Trial 2 finished with value: 0.04085988168262161 and parameters: {'feature_fraction': 1.0}. Best is trial 1 with value: 0.038959063337222634.\u001b[0m\n",
            "feature_fraction, val_score: 0.038959:  43%|####2     | 3/7 [00:05<00:07,  1.86s/it]"
          ]
        },
        {
          "output_type": "stream",
          "name": "stdout",
          "text": [
            "[100]\tcv_agg's binary_logloss: 0.0415081 + 0.00301752\n"
          ]
        },
        {
          "output_type": "stream",
          "name": "stderr",
          "text": [
            "feature_fraction, val_score: 0.038959:  57%|#####7    | 4/7 [00:07<00:05,  1.86s/it]\u001b[32m[I 2021-10-04 12:17:52,921]\u001b[0m Trial 3 finished with value: 0.03938245030293848 and parameters: {'feature_fraction': 0.4}. Best is trial 1 with value: 0.038959063337222634.\u001b[0m\n",
            "feature_fraction, val_score: 0.038959:  57%|#####7    | 4/7 [00:07<00:05,  1.86s/it]"
          ]
        },
        {
          "output_type": "stream",
          "name": "stdout",
          "text": [
            "[100]\tcv_agg's binary_logloss: 0.0423041 + 0.00322372\n"
          ]
        },
        {
          "output_type": "stream",
          "name": "stderr",
          "text": [
            "feature_fraction, val_score: 0.038959:  71%|#######1  | 5/7 [00:09<00:03,  1.85s/it]\u001b[32m[I 2021-10-04 12:17:54,750]\u001b[0m Trial 4 finished with value: 0.03936828923332141 and parameters: {'feature_fraction': 0.6}. Best is trial 1 with value: 0.038959063337222634.\u001b[0m\n",
            "feature_fraction, val_score: 0.038959:  71%|#######1  | 5/7 [00:09<00:03,  1.85s/it]"
          ]
        },
        {
          "output_type": "stream",
          "name": "stdout",
          "text": [
            "[100]\tcv_agg's binary_logloss: 0.043623 + 0.00430787\n"
          ]
        },
        {
          "output_type": "stream",
          "name": "stderr",
          "text": [
            "feature_fraction, val_score: 0.038959:  86%|########5 | 6/7 [00:11<00:01,  1.85s/it]\u001b[32m[I 2021-10-04 12:17:56,609]\u001b[0m Trial 5 finished with value: 0.04052219294953163 and parameters: {'feature_fraction': 0.8}. Best is trial 1 with value: 0.038959063337222634.\u001b[0m\n",
            "feature_fraction, val_score: 0.038959:  86%|########5 | 6/7 [00:11<00:01,  1.85s/it]"
          ]
        },
        {
          "output_type": "stream",
          "name": "stdout",
          "text": [
            "[100]\tcv_agg's binary_logloss: 0.0436598 + 0.0041219\n"
          ]
        },
        {
          "output_type": "stream",
          "name": "stderr",
          "text": [
            "feature_fraction, val_score: 0.038959: 100%|##########| 7/7 [00:13<00:00,  1.88s/it]\u001b[32m[I 2021-10-04 12:17:58,559]\u001b[0m Trial 6 finished with value: 0.040520726870724735 and parameters: {'feature_fraction': 0.8999999999999999}. Best is trial 1 with value: 0.038959063337222634.\u001b[0m\n",
            "feature_fraction, val_score: 0.038959: 100%|##########| 7/7 [00:13<00:00,  1.87s/it]\n",
            "num_leaves, val_score: 0.038959:   0%|          | 0/20 [00:00<?, ?it/s]"
          ]
        },
        {
          "output_type": "stream",
          "name": "stdout",
          "text": [
            "[100]\tcv_agg's binary_logloss: 0.0515328 + 0.00493912\n"
          ]
        },
        {
          "output_type": "stream",
          "name": "stderr",
          "text": [
            "num_leaves, val_score: 0.038959:   5%|5         | 1/20 [00:04<01:21,  4.30s/it]\u001b[32m[I 2021-10-04 12:18:02,866]\u001b[0m Trial 7 finished with value: 0.04083583038758889 and parameters: {'num_leaves': 151}. Best is trial 7 with value: 0.04083583038758889.\u001b[0m\n",
            "num_leaves, val_score: 0.038959:   5%|5         | 1/20 [00:04<01:21,  4.30s/it]"
          ]
        },
        {
          "output_type": "stream",
          "name": "stdout",
          "text": [
            "[100]\tcv_agg's binary_logloss: 0.0496222 + 0.00403037\n"
          ]
        },
        {
          "output_type": "stream",
          "name": "stderr",
          "text": [
            "num_leaves, val_score: 0.038959:  10%|#         | 2/20 [00:07<01:04,  3.58s/it]\u001b[32m[I 2021-10-04 12:18:05,939]\u001b[0m Trial 8 finished with value: 0.04033244124860827 and parameters: {'num_leaves': 85}. Best is trial 8 with value: 0.04033244124860827.\u001b[0m\n",
            "num_leaves, val_score: 0.038959:  10%|#         | 2/20 [00:07<01:04,  3.58s/it]"
          ]
        },
        {
          "output_type": "stream",
          "name": "stdout",
          "text": [
            "[100]\tcv_agg's binary_logloss: 0.049808 + 0.00425121\n"
          ]
        },
        {
          "output_type": "stream",
          "name": "stderr",
          "text": [
            "num_leaves, val_score: 0.038959:  15%|#5        | 3/20 [00:10<00:57,  3.40s/it]\u001b[32m[I 2021-10-04 12:18:09,131]\u001b[0m Trial 9 finished with value: 0.0404073810926786 and parameters: {'num_leaves': 88}. Best is trial 8 with value: 0.04033244124860827.\u001b[0m\n",
            "num_leaves, val_score: 0.038959:  15%|#5        | 3/20 [00:10<00:57,  3.40s/it]"
          ]
        },
        {
          "output_type": "stream",
          "name": "stdout",
          "text": [
            "[100]\tcv_agg's binary_logloss: 0.0527756 + 0.00576319\n"
          ]
        },
        {
          "output_type": "stream",
          "name": "stderr",
          "text": [
            "num_leaves, val_score: 0.038959:  20%|##        | 4/20 [00:16<01:12,  4.53s/it]\u001b[32m[I 2021-10-04 12:18:15,403]\u001b[0m Trial 10 finished with value: 0.04136637654768603 and parameters: {'num_leaves': 254}. Best is trial 8 with value: 0.04033244124860827.\u001b[0m\n",
            "num_leaves, val_score: 0.038959:  20%|##        | 4/20 [00:16<01:12,  4.53s/it]"
          ]
        },
        {
          "output_type": "stream",
          "name": "stdout",
          "text": [
            "[100]\tcv_agg's binary_logloss: 0.05169 + 0.00504935\n"
          ]
        },
        {
          "output_type": "stream",
          "name": "stderr",
          "text": [
            "num_leaves, val_score: 0.038959:  25%|##5       | 5/20 [00:21<01:09,  4.62s/it]\u001b[32m[I 2021-10-04 12:18:20,165]\u001b[0m Trial 11 finished with value: 0.04074436452494266 and parameters: {'num_leaves': 153}. Best is trial 8 with value: 0.04033244124860827.\u001b[0m\n",
            "num_leaves, val_score: 0.038959:  25%|##5       | 5/20 [00:21<01:09,  4.62s/it]"
          ]
        },
        {
          "output_type": "stream",
          "name": "stdout",
          "text": [
            "[100]\tcv_agg's binary_logloss: 0.0375337 + 0.0029028\n"
          ]
        },
        {
          "output_type": "stream",
          "name": "stderr",
          "text": [
            "num_leaves, val_score: 0.037175:  30%|###       | 6/20 [00:22<00:47,  3.43s/it]\u001b[32m[I 2021-10-04 12:18:21,283]\u001b[0m Trial 12 finished with value: 0.03717533541136425 and parameters: {'num_leaves': 7}. Best is trial 12 with value: 0.03717533541136425.\u001b[0m\n",
            "num_leaves, val_score: 0.037175:  30%|###       | 6/20 [00:22<00:47,  3.43s/it]"
          ]
        },
        {
          "output_type": "stream",
          "name": "stdout",
          "text": [
            "[100]\tcv_agg's binary_logloss: 0.052946 + 0.00483148\n"
          ]
        },
        {
          "output_type": "stream",
          "name": "stderr",
          "text": [
            "num_leaves, val_score: 0.037175:  35%|###5      | 7/20 [00:28<00:54,  4.21s/it]\u001b[32m[I 2021-10-04 12:18:27,104]\u001b[0m Trial 13 finished with value: 0.04107890215942838 and parameters: {'num_leaves': 216}. Best is trial 12 with value: 0.03717533541136425.\u001b[0m\n",
            "num_leaves, val_score: 0.037175:  35%|###5      | 7/20 [00:28<00:54,  4.21s/it]"
          ]
        },
        {
          "output_type": "stream",
          "name": "stdout",
          "text": [
            "[100]\tcv_agg's binary_logloss: 0.0516954 + 0.00462669\n"
          ]
        },
        {
          "output_type": "stream",
          "name": "stderr",
          "text": [
            "num_leaves, val_score: 0.037175:  40%|####      | 8/20 [00:33<00:53,  4.47s/it]\u001b[32m[I 2021-10-04 12:18:32,120]\u001b[0m Trial 14 finished with value: 0.0407545027552486 and parameters: {'num_leaves': 185}. Best is trial 12 with value: 0.03717533541136425.\u001b[0m\n",
            "num_leaves, val_score: 0.037175:  40%|####      | 8/20 [00:33<00:53,  4.47s/it]"
          ]
        },
        {
          "output_type": "stream",
          "name": "stdout",
          "text": [
            "[100]\tcv_agg's binary_logloss: 0.0523427 + 0.00412535\n"
          ]
        },
        {
          "output_type": "stream",
          "name": "stderr",
          "text": [
            "num_leaves, val_score: 0.037175:  45%|####5     | 9/20 [00:39<00:54,  4.94s/it]\u001b[32m[I 2021-10-04 12:18:38,090]\u001b[0m Trial 15 finished with value: 0.04084934033102222 and parameters: {'num_leaves': 235}. Best is trial 12 with value: 0.03717533541136425.\u001b[0m\n",
            "num_leaves, val_score: 0.037175:  45%|####5     | 9/20 [00:39<00:54,  4.94s/it]"
          ]
        },
        {
          "output_type": "stream",
          "name": "stdout",
          "text": [
            "[100]\tcv_agg's binary_logloss: 0.0509675 + 0.00507635\n"
          ]
        },
        {
          "output_type": "stream",
          "name": "stderr",
          "text": [
            "num_leaves, val_score: 0.037175:  50%|#####     | 10/20 [00:43<00:46,  4.64s/it]\u001b[32m[I 2021-10-04 12:18:42,054]\u001b[0m Trial 16 finished with value: 0.04037331499406299 and parameters: {'num_leaves': 133}. Best is trial 12 with value: 0.03717533541136425.\u001b[0m\n",
            "num_leaves, val_score: 0.037175:  50%|#####     | 10/20 [00:43<00:46,  4.64s/it]"
          ]
        },
        {
          "output_type": "stream",
          "name": "stdout",
          "text": [
            "[100]\tcv_agg's binary_logloss: 0.0374721 + 0.00302971\n"
          ]
        },
        {
          "output_type": "stream",
          "name": "stderr",
          "text": [
            "num_leaves, val_score: 0.037175:  55%|#####5    | 11/20 [00:44<00:31,  3.52s/it]\u001b[32m[I 2021-10-04 12:18:43,043]\u001b[0m Trial 17 finished with value: 0.03730039879482368 and parameters: {'num_leaves': 4}. Best is trial 12 with value: 0.03717533541136425.\u001b[0m\n",
            "num_leaves, val_score: 0.037175:  55%|#####5    | 11/20 [00:44<00:31,  3.52s/it]"
          ]
        },
        {
          "output_type": "stream",
          "name": "stdout",
          "text": [
            "[100]\tcv_agg's binary_logloss: 0.0374721 + 0.00302971\n"
          ]
        },
        {
          "output_type": "stream",
          "name": "stderr",
          "text": [
            "num_leaves, val_score: 0.037175:  60%|######    | 12/20 [00:45<00:21,  2.74s/it]\u001b[32m[I 2021-10-04 12:18:44,011]\u001b[0m Trial 18 finished with value: 0.03730039879482368 and parameters: {'num_leaves': 4}. Best is trial 12 with value: 0.03717533541136425.\u001b[0m\n",
            "num_leaves, val_score: 0.037175:  60%|######    | 12/20 [00:45<00:21,  2.74s/it]"
          ]
        },
        {
          "output_type": "stream",
          "name": "stdout",
          "text": [
            "[100]\tcv_agg's binary_logloss: 0.0375076 + 0.00303456\n"
          ]
        },
        {
          "output_type": "stream",
          "name": "stderr",
          "text": [
            "num_leaves, val_score: 0.037175:  65%|######5   | 13/20 [00:46<00:15,  2.20s/it]\u001b[32m[I 2021-10-04 12:18:44,969]\u001b[0m Trial 19 finished with value: 0.037221367036390354 and parameters: {'num_leaves': 6}. Best is trial 12 with value: 0.03717533541136425.\u001b[0m\n",
            "num_leaves, val_score: 0.037175:  65%|######5   | 13/20 [00:46<00:15,  2.20s/it]"
          ]
        },
        {
          "output_type": "stream",
          "name": "stdout",
          "text": [
            "[100]\tcv_agg's binary_logloss: 0.0461743 + 0.00288334\n"
          ]
        },
        {
          "output_type": "stream",
          "name": "stderr",
          "text": [
            "num_leaves, val_score: 0.037175:  70%|#######   | 14/20 [00:48<00:13,  2.28s/it]\u001b[32m[I 2021-10-04 12:18:47,437]\u001b[0m Trial 20 finished with value: 0.040017195445751344 and parameters: {'num_leaves': 59}. Best is trial 12 with value: 0.03717533541136425.\u001b[0m\n",
            "num_leaves, val_score: 0.037175:  70%|#######   | 14/20 [00:48<00:13,  2.28s/it]"
          ]
        },
        {
          "output_type": "stream",
          "name": "stdout",
          "text": [
            "[100]\tcv_agg's binary_logloss: 0.0430914 + 0.0032642\n"
          ]
        },
        {
          "output_type": "stream",
          "name": "stderr",
          "text": [
            "num_leaves, val_score: 0.037175:  75%|#######5  | 15/20 [00:50<00:10,  2.18s/it]\u001b[32m[I 2021-10-04 12:18:49,382]\u001b[0m Trial 21 finished with value: 0.0397682917532772 and parameters: {'num_leaves': 38}. Best is trial 12 with value: 0.03717533541136425.\u001b[0m\n",
            "num_leaves, val_score: 0.037175:  75%|#######5  | 15/20 [00:50<00:10,  2.18s/it]"
          ]
        },
        {
          "output_type": "stream",
          "name": "stdout",
          "text": [
            "[100]\tcv_agg's binary_logloss: 0.0431151 + 0.00301532\n"
          ]
        },
        {
          "output_type": "stream",
          "name": "stderr",
          "text": [
            "num_leaves, val_score: 0.037175:  80%|########  | 16/20 [00:52<00:08,  2.13s/it]\u001b[32m[I 2021-10-04 12:18:51,411]\u001b[0m Trial 22 finished with value: 0.03958284432179673 and parameters: {'num_leaves': 39}. Best is trial 12 with value: 0.03717533541136425.\u001b[0m\n",
            "num_leaves, val_score: 0.037175:  80%|########  | 16/20 [00:52<00:08,  2.13s/it]"
          ]
        },
        {
          "output_type": "stream",
          "name": "stdout",
          "text": [
            "[100]\tcv_agg's binary_logloss: 0.0499806 + 0.00442651\n"
          ]
        },
        {
          "output_type": "stream",
          "name": "stderr",
          "text": [
            "num_leaves, val_score: 0.037175:  85%|########5 | 17/20 [00:55<00:07,  2.43s/it]\u001b[32m[I 2021-10-04 12:18:54,527]\u001b[0m Trial 23 finished with value: 0.04083330502314577 and parameters: {'num_leaves': 90}. Best is trial 12 with value: 0.03717533541136425.\u001b[0m\n",
            "num_leaves, val_score: 0.037175:  85%|########5 | 17/20 [00:55<00:07,  2.43s/it]"
          ]
        },
        {
          "output_type": "stream",
          "name": "stdout",
          "text": [
            "[100]\tcv_agg's binary_logloss: 0.0425651 + 0.00321825\n"
          ]
        },
        {
          "output_type": "stream",
          "name": "stderr",
          "text": [
            "num_leaves, val_score: 0.037175:  90%|######### | 18/20 [00:57<00:04,  2.27s/it]\u001b[32m[I 2021-10-04 12:18:56,416]\u001b[0m Trial 24 finished with value: 0.039332612399394375 and parameters: {'num_leaves': 36}. Best is trial 12 with value: 0.03717533541136425.\u001b[0m\n",
            "num_leaves, val_score: 0.037175:  90%|######### | 18/20 [00:57<00:04,  2.27s/it]"
          ]
        },
        {
          "output_type": "stream",
          "name": "stdout",
          "text": [
            "[100]\tcv_agg's binary_logloss: 0.0387742 + 0.0040442\n",
            "[200]\tcv_agg's binary_logloss: 0.0375096 + 0.00355338\n",
            "[300]\tcv_agg's binary_logloss: 0.0373235 + 0.00348231\n",
            "[400]\tcv_agg's binary_logloss: 0.0373302 + 0.00342672\n"
          ]
        },
        {
          "output_type": "stream",
          "name": "stderr",
          "text": [
            "num_leaves, val_score: 0.037175:  95%|#########5| 19/20 [00:59<00:02,  2.13s/it]\u001b[32m[I 2021-10-04 12:18:58,225]\u001b[0m Trial 25 finished with value: 0.03728927476465026 and parameters: {'num_leaves': 2}. Best is trial 12 with value: 0.03717533541136425.\u001b[0m\n",
            "num_leaves, val_score: 0.037175:  95%|#########5| 19/20 [00:59<00:02,  2.13s/it]"
          ]
        },
        {
          "output_type": "stream",
          "name": "stdout",
          "text": [
            "[500]\tcv_agg's binary_logloss: 0.0373521 + 0.00342111\n",
            "[100]\tcv_agg's binary_logloss: 0.047018 + 0.00293462\n"
          ]
        },
        {
          "output_type": "stream",
          "name": "stderr",
          "text": [
            "num_leaves, val_score: 0.037175: 100%|##########| 20/20 [01:02<00:00,  2.30s/it]\u001b[32m[I 2021-10-04 12:19:00,937]\u001b[0m Trial 26 finished with value: 0.04006760317158094 and parameters: {'num_leaves': 67}. Best is trial 12 with value: 0.03717533541136425.\u001b[0m\n",
            "num_leaves, val_score: 0.037175: 100%|##########| 20/20 [01:02<00:00,  3.12s/it]\n",
            "bagging, val_score: 0.037175:   0%|          | 0/10 [00:00<?, ?it/s]"
          ]
        },
        {
          "output_type": "stream",
          "name": "stdout",
          "text": [
            "[100]\tcv_agg's binary_logloss: 0.0387339 + 0.00367428\n"
          ]
        },
        {
          "output_type": "stream",
          "name": "stderr",
          "text": [
            "bagging, val_score: 0.037175:  10%|#         | 1/10 [00:01<00:11,  1.28s/it]\u001b[32m[I 2021-10-04 12:19:02,232]\u001b[0m Trial 27 finished with value: 0.03757041214502577 and parameters: {'bagging_fraction': 0.7517915733854543, 'bagging_freq': 3}. Best is trial 27 with value: 0.03757041214502577.\u001b[0m\n",
            "bagging, val_score: 0.037175:  10%|#         | 1/10 [00:01<00:11,  1.28s/it]"
          ]
        },
        {
          "output_type": "stream",
          "name": "stdout",
          "text": [
            "[100]\tcv_agg's binary_logloss: 0.0389936 + 0.00338096\n"
          ]
        },
        {
          "output_type": "stream",
          "name": "stderr",
          "text": [
            "bagging, val_score: 0.037175:  20%|##        | 2/10 [00:02<00:09,  1.15s/it]\u001b[32m[I 2021-10-04 12:19:03,292]\u001b[0m Trial 28 finished with value: 0.037630034174485696 and parameters: {'bagging_fraction': 0.6041348406536965, 'bagging_freq': 7}. Best is trial 27 with value: 0.03757041214502577.\u001b[0m\n",
            "bagging, val_score: 0.037175:  20%|##        | 2/10 [00:02<00:09,  1.15s/it]"
          ]
        },
        {
          "output_type": "stream",
          "name": "stdout",
          "text": [
            "[100]\tcv_agg's binary_logloss: 0.0374018 + 0.00352271\n"
          ]
        },
        {
          "output_type": "stream",
          "name": "stderr",
          "text": [
            "bagging, val_score: 0.037134:  30%|###       | 3/10 [00:03<00:07,  1.13s/it]\u001b[32m[I 2021-10-04 12:19:04,391]\u001b[0m Trial 29 finished with value: 0.03713405197577017 and parameters: {'bagging_fraction': 0.7575356408063831, 'bagging_freq': 1}. Best is trial 29 with value: 0.03713405197577017.\u001b[0m\n",
            "bagging, val_score: 0.037134:  30%|###       | 3/10 [00:03<00:07,  1.13s/it]"
          ]
        },
        {
          "output_type": "stream",
          "name": "stdout",
          "text": [
            "[100]\tcv_agg's binary_logloss: 0.0379575 + 0.00278908\n"
          ]
        },
        {
          "output_type": "stream",
          "name": "stderr",
          "text": [
            "bagging, val_score: 0.037134:  40%|####      | 4/10 [00:04<00:07,  1.17s/it]\u001b[32m[I 2021-10-04 12:19:05,629]\u001b[0m Trial 30 finished with value: 0.037474228105774145 and parameters: {'bagging_fraction': 0.9057120471032013, 'bagging_freq': 6}. Best is trial 29 with value: 0.03713405197577017.\u001b[0m\n",
            "bagging, val_score: 0.037134:  40%|####      | 4/10 [00:04<00:07,  1.17s/it]"
          ]
        },
        {
          "output_type": "stream",
          "name": "stdout",
          "text": [
            "[100]\tcv_agg's binary_logloss: 0.0379413 + 0.00292446\n"
          ]
        },
        {
          "output_type": "stream",
          "name": "stderr",
          "text": [
            "bagging, val_score: 0.037134:  50%|#####     | 5/10 [00:06<00:06,  1.23s/it]\u001b[32m[I 2021-10-04 12:19:06,959]\u001b[0m Trial 31 finished with value: 0.03744264539092432 and parameters: {'bagging_fraction': 0.9501527137906939, 'bagging_freq': 4}. Best is trial 29 with value: 0.03713405197577017.\u001b[0m\n",
            "bagging, val_score: 0.037134:  50%|#####     | 5/10 [00:06<00:06,  1.23s/it]"
          ]
        },
        {
          "output_type": "stream",
          "name": "stdout",
          "text": [
            "[100]\tcv_agg's binary_logloss: 0.0380269 + 0.00241241\n"
          ]
        },
        {
          "output_type": "stream",
          "name": "stderr",
          "text": [
            "bagging, val_score: 0.037134:  60%|######    | 6/10 [00:07<00:04,  1.19s/it]\u001b[32m[I 2021-10-04 12:19:08,084]\u001b[0m Trial 32 finished with value: 0.03756576233070782 and parameters: {'bagging_fraction': 0.8894983301078292, 'bagging_freq': 1}. Best is trial 29 with value: 0.03713405197577017.\u001b[0m\n",
            "bagging, val_score: 0.037134:  60%|######    | 6/10 [00:07<00:04,  1.19s/it]"
          ]
        },
        {
          "output_type": "stream",
          "name": "stdout",
          "text": [
            "[100]\tcv_agg's binary_logloss: 0.0382196 + 0.00286149\n"
          ]
        },
        {
          "output_type": "stream",
          "name": "stderr",
          "text": [
            "bagging, val_score: 0.037134:  70%|#######   | 7/10 [00:08<00:03,  1.20s/it]\u001b[32m[I 2021-10-04 12:19:09,305]\u001b[0m Trial 33 finished with value: 0.03760762165021583 and parameters: {'bagging_fraction': 0.8495294726376019, 'bagging_freq': 6}. Best is trial 29 with value: 0.03713405197577017.\u001b[0m\n",
            "bagging, val_score: 0.037134:  70%|#######   | 7/10 [00:08<00:03,  1.20s/it]"
          ]
        },
        {
          "output_type": "stream",
          "name": "stdout",
          "text": [
            "[100]\tcv_agg's binary_logloss: 0.0385397 + 0.00337592\n"
          ]
        },
        {
          "output_type": "stream",
          "name": "stderr",
          "text": [
            "bagging, val_score: 0.037134:  80%|########  | 8/10 [00:09<00:02,  1.20s/it]\u001b[32m[I 2021-10-04 12:19:10,510]\u001b[0m Trial 34 finished with value: 0.03732140575112681 and parameters: {'bagging_fraction': 0.6224173248929419, 'bagging_freq': 3}. Best is trial 29 with value: 0.03713405197577017.\u001b[0m\n",
            "bagging, val_score: 0.037134:  80%|########  | 8/10 [00:09<00:02,  1.20s/it]"
          ]
        },
        {
          "output_type": "stream",
          "name": "stdout",
          "text": [
            "[100]\tcv_agg's binary_logloss: 0.037888 + 0.00282072\n"
          ]
        },
        {
          "output_type": "stream",
          "name": "stderr",
          "text": [
            "bagging, val_score: 0.037134:  90%|######### | 9/10 [00:10<00:01,  1.18s/it]\u001b[32m[I 2021-10-04 12:19:11,627]\u001b[0m Trial 35 finished with value: 0.03716032889203401 and parameters: {'bagging_fraction': 0.8110812451637454, 'bagging_freq': 1}. Best is trial 29 with value: 0.03713405197577017.\u001b[0m\n",
            "bagging, val_score: 0.037134:  90%|######### | 9/10 [00:10<00:01,  1.18s/it]"
          ]
        },
        {
          "output_type": "stream",
          "name": "stdout",
          "text": [
            "[100]\tcv_agg's binary_logloss: 0.0375857 + 0.00314683\n"
          ]
        },
        {
          "output_type": "stream",
          "name": "stderr",
          "text": [
            "bagging, val_score: 0.036989: 100%|##########| 10/10 [00:11<00:00,  1.16s/it]\u001b[32m[I 2021-10-04 12:19:12,765]\u001b[0m Trial 36 finished with value: 0.03698926026567788 and parameters: {'bagging_fraction': 0.7401674710608591, 'bagging_freq': 1}. Best is trial 36 with value: 0.03698926026567788.\u001b[0m\n",
            "bagging, val_score: 0.036989: 100%|##########| 10/10 [00:11<00:00,  1.18s/it]\n",
            "feature_fraction_stage2, val_score: 0.036989:   0%|          | 0/6 [00:00<?, ?it/s]"
          ]
        },
        {
          "output_type": "stream",
          "name": "stdout",
          "text": [
            "[100]\tcv_agg's binary_logloss: 0.0375545 + 0.00290053\n"
          ]
        },
        {
          "output_type": "stream",
          "name": "stderr",
          "text": [
            "feature_fraction_stage2, val_score: 0.036989:  17%|#6        | 1/6 [00:01<00:05,  1.06s/it]\u001b[32m[I 2021-10-04 12:19:13,833]\u001b[0m Trial 37 finished with value: 0.0370873943026918 and parameters: {'feature_fraction': 0.45199999999999996}. Best is trial 37 with value: 0.0370873943026918.\u001b[0m\n",
            "feature_fraction_stage2, val_score: 0.036989:  17%|#6        | 1/6 [00:01<00:05,  1.06s/it]"
          ]
        },
        {
          "output_type": "stream",
          "name": "stdout",
          "text": [
            "[100]\tcv_agg's binary_logloss: 0.0374864 + 0.00301381\n"
          ]
        },
        {
          "output_type": "stream",
          "name": "stderr",
          "text": [
            "feature_fraction_stage2, val_score: 0.036989:  33%|###3      | 2/6 [00:02<00:04,  1.06s/it]\u001b[32m[I 2021-10-04 12:19:14,888]\u001b[0m Trial 38 finished with value: 0.037071147630027806 and parameters: {'feature_fraction': 0.5479999999999999}. Best is trial 38 with value: 0.037071147630027806.\u001b[0m\n",
            "feature_fraction_stage2, val_score: 0.036989:  33%|###3      | 2/6 [00:02<00:04,  1.06s/it]"
          ]
        },
        {
          "output_type": "stream",
          "name": "stdout",
          "text": [
            "[100]\tcv_agg's binary_logloss: 0.0376817 + 0.00339184\n"
          ]
        },
        {
          "output_type": "stream",
          "name": "stderr",
          "text": [
            "feature_fraction_stage2, val_score: 0.036989:  50%|#####     | 3/6 [00:03<00:03,  1.07s/it]\u001b[32m[I 2021-10-04 12:19:15,965]\u001b[0m Trial 39 finished with value: 0.03709136968728487 and parameters: {'feature_fraction': 0.484}. Best is trial 38 with value: 0.037071147630027806.\u001b[0m\n",
            "feature_fraction_stage2, val_score: 0.036989:  50%|#####     | 3/6 [00:03<00:03,  1.07s/it]"
          ]
        },
        {
          "output_type": "stream",
          "name": "stdout",
          "text": [
            "[100]\tcv_agg's binary_logloss: 0.0377671 + 0.0028906\n"
          ]
        },
        {
          "output_type": "stream",
          "name": "stderr",
          "text": [
            "feature_fraction_stage2, val_score: 0.036989:  67%|######6   | 4/6 [00:04<00:02,  1.08s/it]\u001b[32m[I 2021-10-04 12:19:17,069]\u001b[0m Trial 40 finished with value: 0.03706607127385298 and parameters: {'feature_fraction': 0.58}. Best is trial 40 with value: 0.03706607127385298.\u001b[0m\n",
            "feature_fraction_stage2, val_score: 0.036989:  67%|######6   | 4/6 [00:04<00:02,  1.08s/it]"
          ]
        },
        {
          "output_type": "stream",
          "name": "stdout",
          "text": [
            "[100]\tcv_agg's binary_logloss: 0.0381528 + 0.00337617\n"
          ]
        },
        {
          "output_type": "stream",
          "name": "stderr",
          "text": [
            "feature_fraction_stage2, val_score: 0.036989:  83%|########3 | 5/6 [00:05<00:01,  1.07s/it]\u001b[32m[I 2021-10-04 12:19:18,126]\u001b[0m Trial 41 finished with value: 0.037203168725458244 and parameters: {'feature_fraction': 0.42}. Best is trial 40 with value: 0.03706607127385298.\u001b[0m\n",
            "feature_fraction_stage2, val_score: 0.036989:  83%|########3 | 5/6 [00:05<00:01,  1.07s/it]"
          ]
        },
        {
          "output_type": "stream",
          "name": "stdout",
          "text": [
            "[100]\tcv_agg's binary_logloss: 0.0375857 + 0.00314683\n"
          ]
        },
        {
          "output_type": "stream",
          "name": "stderr",
          "text": [
            "feature_fraction_stage2, val_score: 0.036989: 100%|##########| 6/6 [00:06<00:00,  1.09s/it]\u001b[32m[I 2021-10-04 12:19:19,248]\u001b[0m Trial 42 finished with value: 0.03698926026567789 and parameters: {'feature_fraction': 0.516}. Best is trial 42 with value: 0.03698926026567789.\u001b[0m\n",
            "feature_fraction_stage2, val_score: 0.036989: 100%|##########| 6/6 [00:06<00:00,  1.08s/it]\n",
            "regularization_factors, val_score: 0.036989:   0%|          | 0/20 [00:00<?, ?it/s]"
          ]
        },
        {
          "output_type": "stream",
          "name": "stdout",
          "text": [
            "[100]\tcv_agg's binary_logloss: 0.0375077 + 0.00315869\n"
          ]
        },
        {
          "output_type": "stream",
          "name": "stderr",
          "text": [
            "regularization_factors, val_score: 0.036903:   5%|5         | 1/20 [00:01<00:21,  1.13s/it]\u001b[32m[I 2021-10-04 12:19:20,386]\u001b[0m Trial 43 finished with value: 0.036903349389967276 and parameters: {'lambda_l1': 0.001891792941682022, 'lambda_l2': 9.039269922499692e-06}. Best is trial 43 with value: 0.036903349389967276.\u001b[0m\n",
            "regularization_factors, val_score: 0.036903:   5%|5         | 1/20 [00:01<00:21,  1.13s/it]"
          ]
        },
        {
          "output_type": "stream",
          "name": "stdout",
          "text": [
            "[100]\tcv_agg's binary_logloss: 0.0370885 + 0.0032402\n"
          ]
        },
        {
          "output_type": "stream",
          "name": "stderr",
          "text": [
            "regularization_factors, val_score: 0.036903:  10%|#         | 2/20 [00:02<00:20,  1.12s/it]\u001b[32m[I 2021-10-04 12:19:21,501]\u001b[0m Trial 44 finished with value: 0.03691244753398194 and parameters: {'lambda_l1': 1.1535133093018755e-05, 'lambda_l2': 8.31509462817818}. Best is trial 43 with value: 0.036903349389967276.\u001b[0m\n",
            "regularization_factors, val_score: 0.036903:  10%|#         | 2/20 [00:02<00:20,  1.12s/it]"
          ]
        },
        {
          "output_type": "stream",
          "name": "stdout",
          "text": [
            "[100]\tcv_agg's binary_logloss: 0.0375078 + 0.00315881\n"
          ]
        },
        {
          "output_type": "stream",
          "name": "stderr",
          "text": [
            "regularization_factors, val_score: 0.036903:  15%|#5        | 3/20 [00:03<00:19,  1.13s/it]\u001b[32m[I 2021-10-04 12:19:22,649]\u001b[0m Trial 45 finished with value: 0.03690315584052371 and parameters: {'lambda_l1': 0.002306931037511435, 'lambda_l2': 1.5608448499324795e-08}. Best is trial 45 with value: 0.03690315584052371.\u001b[0m\n",
            "regularization_factors, val_score: 0.036903:  15%|#5        | 3/20 [00:03<00:19,  1.13s/it]"
          ]
        },
        {
          "output_type": "stream",
          "name": "stdout",
          "text": [
            "[100]\tcv_agg's binary_logloss: 0.0371231 + 0.00330361\n"
          ]
        },
        {
          "output_type": "stream",
          "name": "stderr",
          "text": [
            "regularization_factors, val_score: 0.036903:  20%|##        | 4/20 [00:04<00:18,  1.13s/it]\u001b[32m[I 2021-10-04 12:19:23,774]\u001b[0m Trial 46 finished with value: 0.03691763585293361 and parameters: {'lambda_l1': 0.3851950579876187, 'lambda_l2': 0.030322243380912196}. Best is trial 45 with value: 0.03690315584052371.\u001b[0m\n",
            "regularization_factors, val_score: 0.036903:  20%|##        | 4/20 [00:04<00:18,  1.13s/it]"
          ]
        },
        {
          "output_type": "stream",
          "name": "stdout",
          "text": [
            "[100]\tcv_agg's binary_logloss: 0.037027 + 0.00318862\n"
          ]
        },
        {
          "output_type": "stream",
          "name": "stderr",
          "text": [
            "regularization_factors, val_score: 0.036663:  25%|##5       | 5/20 [00:05<00:16,  1.12s/it]\u001b[32m[I 2021-10-04 12:19:24,864]\u001b[0m Trial 47 finished with value: 0.03666285409562857 and parameters: {'lambda_l1': 1.7876838093162113, 'lambda_l2': 0.0004495003751195825}. Best is trial 47 with value: 0.03666285409562857.\u001b[0m\n",
            "regularization_factors, val_score: 0.036663:  25%|##5       | 5/20 [00:05<00:16,  1.12s/it]"
          ]
        },
        {
          "output_type": "stream",
          "name": "stdout",
          "text": [
            "[100]\tcv_agg's binary_logloss: 0.0373326 + 0.00305146\n"
          ]
        },
        {
          "output_type": "stream",
          "name": "stderr",
          "text": [
            "regularization_factors, val_score: 0.036663:  30%|###       | 6/20 [00:06<00:15,  1.09s/it]\u001b[32m[I 2021-10-04 12:19:25,901]\u001b[0m Trial 48 finished with value: 0.03689977117516239 and parameters: {'lambda_l1': 0.22002648033718603, 'lambda_l2': 4.051750034558487e-08}. Best is trial 47 with value: 0.03666285409562857.\u001b[0m\n",
            "regularization_factors, val_score: 0.036663:  30%|###       | 6/20 [00:06<00:15,  1.09s/it]"
          ]
        },
        {
          "output_type": "stream",
          "name": "stdout",
          "text": [
            "[100]\tcv_agg's binary_logloss: 0.0371173 + 0.00350263\n"
          ]
        },
        {
          "output_type": "stream",
          "name": "stderr",
          "text": [
            "regularization_factors, val_score: 0.036663:  35%|###5      | 7/20 [00:07<00:13,  1.07s/it]\u001b[32m[I 2021-10-04 12:19:26,938]\u001b[0m Trial 49 finished with value: 0.03687215835245132 and parameters: {'lambda_l1': 0.055327632836602546, 'lambda_l2': 0.3776618841008405}. Best is trial 47 with value: 0.03666285409562857.\u001b[0m\n",
            "regularization_factors, val_score: 0.036663:  35%|###5      | 7/20 [00:07<00:13,  1.07s/it]"
          ]
        },
        {
          "output_type": "stream",
          "name": "stdout",
          "text": [
            "[100]\tcv_agg's binary_logloss: 0.037625 + 0.0031538\n"
          ]
        },
        {
          "output_type": "stream",
          "name": "stderr",
          "text": [
            "regularization_factors, val_score: 0.036663:  40%|####      | 8/20 [00:08<00:13,  1.09s/it]\u001b[32m[I 2021-10-04 12:19:28,063]\u001b[0m Trial 50 finished with value: 0.0369737298047558 and parameters: {'lambda_l1': 2.1690016050428965e-05, 'lambda_l2': 2.3188497196875473e-05}. Best is trial 47 with value: 0.03666285409562857.\u001b[0m\n",
            "regularization_factors, val_score: 0.036663:  40%|####      | 8/20 [00:08<00:13,  1.09s/it]"
          ]
        },
        {
          "output_type": "stream",
          "name": "stdout",
          "text": [
            "[100]\tcv_agg's binary_logloss: 0.0375402 + 0.00315514\n"
          ]
        },
        {
          "output_type": "stream",
          "name": "stderr",
          "text": [
            "regularization_factors, val_score: 0.036663:  45%|####5     | 9/20 [00:09<00:11,  1.08s/it]\u001b[32m[I 2021-10-04 12:19:29,135]\u001b[0m Trial 51 finished with value: 0.037002192152425194 and parameters: {'lambda_l1': 0.0146628596444302, 'lambda_l2': 1.0304863289708939e-07}. Best is trial 47 with value: 0.03666285409562857.\u001b[0m\n",
            "regularization_factors, val_score: 0.036663:  45%|####5     | 9/20 [00:09<00:11,  1.08s/it]"
          ]
        },
        {
          "output_type": "stream",
          "name": "stdout",
          "text": [
            "[100]\tcv_agg's binary_logloss: 0.0375016 + 0.00316676\n"
          ]
        },
        {
          "output_type": "stream",
          "name": "stderr",
          "text": [
            "regularization_factors, val_score: 0.036663:  50%|#####     | 10/20 [00:10<00:10,  1.09s/it]\u001b[32m[I 2021-10-04 12:19:30,246]\u001b[0m Trial 52 finished with value: 0.036903724876090796 and parameters: {'lambda_l1': 0.0012662284463579314, 'lambda_l2': 1.451024984275369e-08}. Best is trial 47 with value: 0.03666285409562857.\u001b[0m\n",
            "regularization_factors, val_score: 0.036663:  50%|#####     | 10/20 [00:10<00:10,  1.09s/it]"
          ]
        },
        {
          "output_type": "stream",
          "name": "stdout",
          "text": [
            "[100]\tcv_agg's binary_logloss: 0.0374586 + 0.00308109\n"
          ]
        },
        {
          "output_type": "stream",
          "name": "stderr",
          "text": [
            "regularization_factors, val_score: 0.036663:  55%|#####5    | 11/20 [00:12<00:09,  1.08s/it]\u001b[32m[I 2021-10-04 12:19:31,314]\u001b[0m Trial 53 finished with value: 0.036974572540437206 and parameters: {'lambda_l1': 6.44225581490752e-08, 'lambda_l2': 0.002163324628657299}. Best is trial 47 with value: 0.03666285409562857.\u001b[0m\n",
            "regularization_factors, val_score: 0.036663:  55%|#####5    | 11/20 [00:12<00:09,  1.08s/it]"
          ]
        },
        {
          "output_type": "stream",
          "name": "stdout",
          "text": [
            "[100]\tcv_agg's binary_logloss: 0.0366511 + 0.00352777\n"
          ]
        },
        {
          "output_type": "stream",
          "name": "stderr",
          "text": [
            "regularization_factors, val_score: 0.036646:  60%|######    | 12/20 [00:13<00:09,  1.16s/it]\u001b[32m[I 2021-10-04 12:19:32,655]\u001b[0m Trial 54 finished with value: 0.036646068128852426 and parameters: {'lambda_l1': 9.996496917452308, 'lambda_l2': 0.5101625466043722}. Best is trial 54 with value: 0.036646068128852426.\u001b[0m\n",
            "regularization_factors, val_score: 0.036646:  60%|######    | 12/20 [00:13<00:09,  1.16s/it]"
          ]
        },
        {
          "output_type": "stream",
          "name": "stdout",
          "text": [
            "[100]\tcv_agg's binary_logloss: 0.0367558 + 0.00315027\n"
          ]
        },
        {
          "output_type": "stream",
          "name": "stderr",
          "text": [
            "regularization_factors, val_score: 0.036646:  65%|######5   | 13/20 [00:14<00:08,  1.24s/it]\u001b[32m[I 2021-10-04 12:19:34,070]\u001b[0m Trial 55 finished with value: 0.03667821149151759 and parameters: {'lambda_l1': 7.483072240299555, 'lambda_l2': 0.0004631425192151689}. Best is trial 54 with value: 0.036646068128852426.\u001b[0m\n",
            "regularization_factors, val_score: 0.036646:  65%|######5   | 13/20 [00:14<00:08,  1.24s/it]"
          ]
        },
        {
          "output_type": "stream",
          "name": "stdout",
          "text": [
            "[100]\tcv_agg's binary_logloss: 0.0369127 + 0.00310163\n"
          ]
        },
        {
          "output_type": "stream",
          "name": "stderr",
          "text": [
            "regularization_factors, val_score: 0.036501:  70%|#######   | 14/20 [00:15<00:07,  1.20s/it]\u001b[32m[I 2021-10-04 12:19:35,164]\u001b[0m Trial 56 finished with value: 0.03650087339336503 and parameters: {'lambda_l1': 2.644893750477833, 'lambda_l2': 0.07160503199634856}. Best is trial 56 with value: 0.03650087339336503.\u001b[0m\n",
            "regularization_factors, val_score: 0.036501:  70%|#######   | 14/20 [00:15<00:07,  1.20s/it]"
          ]
        },
        {
          "output_type": "stream",
          "name": "stdout",
          "text": [
            "[100]\tcv_agg's binary_logloss: 0.0366968 + 0.00340436\n"
          ]
        },
        {
          "output_type": "stream",
          "name": "stderr",
          "text": [
            "regularization_factors, val_score: 0.036501:  75%|#######5  | 15/20 [00:17<00:06,  1.25s/it]\u001b[32m[I 2021-10-04 12:19:36,548]\u001b[0m Trial 57 finished with value: 0.03662414684166646 and parameters: {'lambda_l1': 7.724002190892968, 'lambda_l2': 0.408774943682545}. Best is trial 56 with value: 0.03650087339336503.\u001b[0m\n",
            "regularization_factors, val_score: 0.036501:  75%|#######5  | 15/20 [00:17<00:06,  1.25s/it]"
          ]
        },
        {
          "output_type": "stream",
          "name": "stdout",
          "text": [
            "[100]\tcv_agg's binary_logloss: 0.0370711 + 0.00316109\n"
          ]
        },
        {
          "output_type": "stream",
          "name": "stderr",
          "text": [
            "regularization_factors, val_score: 0.036501:  80%|########  | 16/20 [00:18<00:04,  1.20s/it]\u001b[32m[I 2021-10-04 12:19:37,620]\u001b[0m Trial 58 finished with value: 0.0367761875999542 and parameters: {'lambda_l1': 1.0408759554307607e-08, 'lambda_l2': 0.04014844113039654}. Best is trial 56 with value: 0.03650087339336503.\u001b[0m\n",
            "regularization_factors, val_score: 0.036501:  80%|########  | 16/20 [00:18<00:04,  1.20s/it]"
          ]
        },
        {
          "output_type": "stream",
          "name": "stdout",
          "text": [
            "[100]\tcv_agg's binary_logloss: 0.0369369 + 0.00336499\n"
          ]
        },
        {
          "output_type": "stream",
          "name": "stderr",
          "text": [
            "regularization_factors, val_score: 0.036501:  85%|########5 | 17/20 [00:19<00:03,  1.18s/it]\u001b[32m[I 2021-10-04 12:19:38,773]\u001b[0m Trial 59 finished with value: 0.03673172656564509 and parameters: {'lambda_l1': 0.7287727466048515, 'lambda_l2': 2.8389547373840456}. Best is trial 56 with value: 0.03650087339336503.\u001b[0m\n",
            "regularization_factors, val_score: 0.036501:  85%|########5 | 17/20 [00:19<00:03,  1.18s/it]"
          ]
        },
        {
          "output_type": "stream",
          "name": "stdout",
          "text": [
            "[100]\tcv_agg's binary_logloss: 0.0371325 + 0.00315004\n"
          ]
        },
        {
          "output_type": "stream",
          "name": "stderr",
          "text": [
            "regularization_factors, val_score: 0.036501:  90%|######### | 18/20 [00:20<00:02,  1.17s/it]\u001b[32m[I 2021-10-04 12:19:39,899]\u001b[0m Trial 60 finished with value: 0.03690032072458441 and parameters: {'lambda_l1': 6.677832866390908e-05, 'lambda_l2': 0.02406732983432133}. Best is trial 56 with value: 0.03650087339336503.\u001b[0m\n",
            "regularization_factors, val_score: 0.036501:  90%|######### | 18/20 [00:20<00:02,  1.17s/it]"
          ]
        },
        {
          "output_type": "stream",
          "name": "stdout",
          "text": [
            "[100]\tcv_agg's binary_logloss: 0.0372925 + 0.00367425\n"
          ]
        },
        {
          "output_type": "stream",
          "name": "stderr",
          "text": [
            "regularization_factors, val_score: 0.036501:  95%|#########5| 19/20 [00:21<00:01,  1.15s/it]\u001b[32m[I 2021-10-04 12:19:40,994]\u001b[0m Trial 61 finished with value: 0.03694829181117927 and parameters: {'lambda_l1': 1.136977982810334e-06, 'lambda_l2': 0.40733499924877165}. Best is trial 56 with value: 0.03650087339336503.\u001b[0m\n",
            "regularization_factors, val_score: 0.036501:  95%|#########5| 19/20 [00:21<00:01,  1.15s/it]"
          ]
        },
        {
          "output_type": "stream",
          "name": "stdout",
          "text": [
            "[100]\tcv_agg's binary_logloss: 0.0375959 + 0.0031851\n"
          ]
        },
        {
          "output_type": "stream",
          "name": "stderr",
          "text": [
            "regularization_factors, val_score: 0.036501: 100%|##########| 20/20 [00:22<00:00,  1.14s/it]\u001b[32m[I 2021-10-04 12:19:42,123]\u001b[0m Trial 62 finished with value: 0.03701465076077368 and parameters: {'lambda_l1': 0.02592128812911269, 'lambda_l2': 0.002877196120062149}. Best is trial 56 with value: 0.03650087339336503.\u001b[0m\n",
            "regularization_factors, val_score: 0.036501: 100%|##########| 20/20 [00:22<00:00,  1.14s/it]\n",
            "min_data_in_leaf, val_score: 0.036501:   0%|          | 0/5 [00:00<?, ?it/s]"
          ]
        },
        {
          "output_type": "stream",
          "name": "stdout",
          "text": [
            "[100]\tcv_agg's binary_logloss: 0.0370683 + 0.00319764\n"
          ]
        },
        {
          "output_type": "stream",
          "name": "stderr",
          "text": [
            "min_data_in_leaf, val_score: 0.036501:  20%|##        | 1/5 [00:01<00:04,  1.08s/it]\u001b[32m[I 2021-10-04 12:19:43,211]\u001b[0m Trial 63 finished with value: 0.03673765932605233 and parameters: {'min_child_samples': 25}. Best is trial 63 with value: 0.03673765932605233.\u001b[0m\n",
            "min_data_in_leaf, val_score: 0.036501:  20%|##        | 1/5 [00:01<00:04,  1.08s/it]"
          ]
        },
        {
          "output_type": "stream",
          "name": "stdout",
          "text": [
            "[100]\tcv_agg's binary_logloss: 0.0366605 + 0.0028166\n"
          ]
        },
        {
          "output_type": "stream",
          "name": "stderr",
          "text": [
            "min_data_in_leaf, val_score: 0.036338:  40%|####      | 2/5 [00:02<00:03,  1.10s/it]\u001b[32m[I 2021-10-04 12:19:44,327]\u001b[0m Trial 64 finished with value: 0.036337897688492625 and parameters: {'min_child_samples': 100}. Best is trial 64 with value: 0.036337897688492625.\u001b[0m\n",
            "min_data_in_leaf, val_score: 0.036338:  40%|####      | 2/5 [00:02<00:03,  1.10s/it]"
          ]
        },
        {
          "output_type": "stream",
          "name": "stdout",
          "text": [
            "[100]\tcv_agg's binary_logloss: 0.0369562 + 0.00319634\n"
          ]
        },
        {
          "output_type": "stream",
          "name": "stderr",
          "text": [
            "min_data_in_leaf, val_score: 0.036338:  60%|######    | 3/5 [00:03<00:02,  1.09s/it]\u001b[32m[I 2021-10-04 12:19:45,395]\u001b[0m Trial 65 finished with value: 0.036469750781016774 and parameters: {'min_child_samples': 10}. Best is trial 64 with value: 0.036337897688492625.\u001b[0m\n",
            "min_data_in_leaf, val_score: 0.036338:  60%|######    | 3/5 [00:03<00:02,  1.09s/it]"
          ]
        },
        {
          "output_type": "stream",
          "name": "stdout",
          "text": [
            "[100]\tcv_agg's binary_logloss: 0.0368555 + 0.0031887\n"
          ]
        },
        {
          "output_type": "stream",
          "name": "stderr",
          "text": [
            "min_data_in_leaf, val_score: 0.036338:  80%|########  | 4/5 [00:04<00:01,  1.10s/it]\u001b[32m[I 2021-10-04 12:19:46,509]\u001b[0m Trial 66 finished with value: 0.03658654809601673 and parameters: {'min_child_samples': 5}. Best is trial 64 with value: 0.036337897688492625.\u001b[0m\n",
            "min_data_in_leaf, val_score: 0.036338:  80%|########  | 4/5 [00:04<00:01,  1.10s/it]"
          ]
        },
        {
          "output_type": "stream",
          "name": "stdout",
          "text": [
            "[100]\tcv_agg's binary_logloss: 0.0369385 + 0.00299267\n"
          ]
        },
        {
          "output_type": "stream",
          "name": "stderr",
          "text": [
            "min_data_in_leaf, val_score: 0.036338: 100%|##########| 5/5 [00:05<00:00,  1.10s/it]\u001b[32m[I 2021-10-04 12:19:47,614]\u001b[0m Trial 67 finished with value: 0.03660724450637145 and parameters: {'min_child_samples': 50}. Best is trial 64 with value: 0.036337897688492625.\u001b[0m\n",
            "min_data_in_leaf, val_score: 0.036338: 100%|##########| 5/5 [00:05<00:00,  1.10s/it]"
          ]
        },
        {
          "output_type": "stream",
          "name": "stdout",
          "text": [
            "CPU times: user 15min 39s, sys: 10.2 s, total: 15min 49s\n",
            "Wall time: 2min 2s\n"
          ]
        },
        {
          "output_type": "stream",
          "name": "stderr",
          "text": [
            "\n"
          ]
        }
      ]
    },
    {
      "cell_type": "code",
      "metadata": {
        "colab": {
          "base_uri": "https://localhost:8080/"
        },
        "id": "4yeL_HhJLWex",
        "outputId": "09b38564-5f8b-487b-949e-9361b6a7ea4c"
      },
      "source": [
        "best_params = tuner.best_params\n",
        "print(\"  Params: \")\n",
        "for key, value in best_params.items():\n",
        "  print(f\"    {key}: {value}\")\n",
        "\n",
        "# ベストパラメータで学習\n",
        "model = lgb_original.train(best_params, train_data)\n",
        "preds_proba = model.predict(X_train)\n",
        "\n",
        "border = 0.0232086940504697\n",
        "print(fbeta_score(y_train, model.predict(X_train) > border, beta=7))\n",
        "#print(fbeta_score(y_test, model.predict(X_test) > border, beta=7))"
      ],
      "execution_count": 120,
      "outputs": [
        {
          "output_type": "stream",
          "name": "stdout",
          "text": [
            "  Params: \n",
            "    objective: binary\n",
            "    metric: binary_logloss\n",
            "    random_seed: 471\n",
            "    feature_pre_filter: False\n",
            "    lambda_l1: 2.644893750477833\n",
            "    lambda_l2: 0.07160503199634856\n",
            "    num_leaves: 7\n",
            "    feature_fraction: 0.5\n",
            "    bagging_fraction: 0.7401674710608591\n",
            "    bagging_freq: 1\n",
            "    min_child_samples: 100\n",
            "0.9258410486754056\n"
          ]
        }
      ]
    },
    {
      "cell_type": "code",
      "metadata": {
        "colab": {
          "base_uri": "https://localhost:8080/",
          "height": 282
        },
        "id": "9gV_lV0SArZp",
        "outputId": "0084dbd3-ae04-4f30-cfe7-ea634dfecc4f"
      },
      "source": [
        "score_list = [fbeta_score(y_train, preds_proba > border, beta=7) for border in np.arange(0.1, 0.9, 0.1)]\n",
        "plt.plot(np.arange(0.1, 0.9, 0.1), np.array(score_list))"
      ],
      "execution_count": 121,
      "outputs": [
        {
          "output_type": "execute_result",
          "data": {
            "text/plain": [
              "[<matplotlib.lines.Line2D at 0x7fd0ad565650>]"
            ]
          },
          "metadata": {},
          "execution_count": 121
        },
        {
          "output_type": "display_data",
          "data": {
            "image/png": "[encoded data removed]",
            "text/plain": [
              "<Figure size 432x288 with 1 Axes>"
            ]
          },
          "metadata": {
            "needs_background": "light"
          }
        }
      ]
    },
    {
      "cell_type": "code",
      "metadata": {
        "colab": {
          "base_uri": "https://localhost:8080/",
          "height": 285
        },
        "id": "30HJqwozAtjy",
        "outputId": "f2ddaa12-9e2e-43b4-fd16-afb826eed0c3"
      },
      "source": [
        "score_list = [fbeta_score(y_train, preds_proba > border, beta=7) for border in np.arange(0.0001, 0.2, 0.0001)]\n",
        "plt.plot(np.arange(0.0001, 0.2, 0.0001), np.array(score_list))"
      ],
      "execution_count": 122,
      "outputs": [
        {
          "output_type": "execute_result",
          "data": {
            "text/plain": [
              "[<matplotlib.lines.Line2D at 0x7fd0a8a0a750>]"
            ]
          },
          "metadata": {},
          "execution_count": 122
        },
        {
          "output_type": "display_data",
          "data": {
            "image/png": "[encoded data removed]",
            "text/plain": [
              "<Figure size 432x288 with 1 Axes>"
            ]
          },
          "metadata": {
            "needs_background": "light"
          }
        }
      ]
    },
    {
      "cell_type": "code",
      "metadata": {
        "colab": {
          "base_uri": "https://localhost:8080/"
        },
        "id": "4i5iHtSSA7lD",
        "outputId": "5b0abaeb-5df0-4f11-dfc1-cc63825fe0ff"
      },
      "source": [
        "border = 0.0232086940504697\n",
        "border = np.arange(0.0001, 0.2, 0.0001)[np.array(score_list).argmax()]\n",
        "print(border)\n",
        "preds = preds_proba > border\n",
        "print(fbeta_score(y_train, preds, beta=7))"
      ],
      "execution_count": 123,
      "outputs": [
        {
          "output_type": "stream",
          "name": "stdout",
          "text": [
            "0.0148\n",
            "0.9322598220231249\n"
          ]
        }
      ]
    },
    {
      "cell_type": "code",
      "metadata": {
        "id": "LSR5jVCeL0Xl"
      },
      "source": [
        "test_cols = list(test_preds_df.columns[test_preds_df.columns.str.contains(\"preds_mean\")])\n",
        "test_cols = test_cols + pred_cols\n",
        "test = test_preds_df.loc[:, test_cols]\n",
        "t_preds = model.predict(test)\n",
        "output = t_preds > border\n",
        "\n",
        "sub = pd.read_csv(\"/content/drive/MyDrive/signate/rawdata/\" + \"sample_submit.csv\", header=None)\n",
        "sub.columns = [\"id\", \"judgement\"]\n",
        "sub[\"judgement\"] = output\n",
        "sub[\"judgement\"] = sub[\"judgement\"].astype(int)\n",
        "sub.to_csv(\"/content/drive/MyDrive/signate/data/\" + \"submission_abst_change_border.csv\", index=False, header=False)"
      ],
      "execution_count": 124,
      "outputs": []
    },
    {
      "cell_type": "code",
      "metadata": {
        "id": "m1O8dSvvL2c6"
      },
      "source": [
        ""
      ],
      "execution_count": 87,
      "outputs": []
    },
    {
      "cell_type": "code",
      "metadata": {
        "id": "-kpR9lsAL3BO"
      },
      "source": [
        "# 他のモデルの結果と比較\n",
        "sample = pd.read_csv(\"/content/drive/MyDrive/signate/results/results_pubmedbert_uncased_title+abstract/\" + \"submission.csv\", header=None)"
      ],
      "execution_count": 65,
      "outputs": []
    },
    {
      "cell_type": "code",
      "metadata": {
        "colab": {
          "base_uri": "https://localhost:8080/"
        },
        "id": "kRCFdC7xOYky",
        "outputId": "4b04dae2-09f9-44d0-ad0e-8869e33a610b"
      },
      "source": [
        "sample[1].sum()"
      ],
      "execution_count": 66,
      "outputs": [
        {
          "output_type": "execute_result",
          "data": {
            "text/plain": [
              "3159"
            ]
          },
          "metadata": {},
          "execution_count": 66
        }
      ]
    },
    {
      "cell_type": "code",
      "metadata": {
        "colab": {
          "base_uri": "https://localhost:8080/"
        },
        "id": "foabrKudO0KM",
        "outputId": "7342aa1d-2ab2-40b9-cb50-91f6fa7f63a3"
      },
      "source": [
        "sub[\"judgement\"].sum()"
      ],
      "execution_count": 88,
      "outputs": [
        {
          "output_type": "execute_result",
          "data": {
            "text/plain": [
              "3429"
            ]
          },
          "metadata": {},
          "execution_count": 88
        }
      ]
    },
    {
      "cell_type": "code",
      "metadata": {
        "colab": {
          "base_uri": "https://localhost:8080/"
        },
        "id": "-6ZxihU9Obyc",
        "outputId": "15d55abe-e9db-4478-8d30-4e9a7dc986d6"
      },
      "source": [
        "(sub[\"judgement\"] - sample[1]).abs().sum()"
      ],
      "execution_count": 68,
      "outputs": [
        {
          "output_type": "execute_result",
          "data": {
            "text/plain": [
              "1016"
            ]
          },
          "metadata": {},
          "execution_count": 68
        }
      ]
    },
    {
      "cell_type": "code",
      "metadata": {
        "id": "NM2M37GWOes5"
      },
      "source": [
        ""
      ],
      "execution_count": null,
      "outputs": []
    }
  ]
}