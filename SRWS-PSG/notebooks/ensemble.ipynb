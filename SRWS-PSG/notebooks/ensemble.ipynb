{
  "nbformat": 4,
  "nbformat_minor": 0,
  "metadata": {
    "colab": {
      "name": "ensemble.ipynb",
      "provenance": [],
      "collapsed_sections": [],
      "machine_shape": "hm",
      "authorship_tag": "ABX9TyOjQYVg5SLl1JZnoplu68JY",
      "include_colab_link": true
    },
    "kernelspec": {
      "name": "python3",
      "display_name": "Python 3"
    },
    "language_info": {
      "name": "python"
    }
  },
  "cells": [
    {
      "cell_type": "markdown",
      "metadata": {
        "id": "view-in-github",
        "colab_type": "text"
      },
      "source": [
        "<a href=\"https://colab.research.google.com/github/nkimoto/signate/blob/main/SRWS-PSG/notebooks/ensemble.ipynb\" target=\"_parent\"><img src=\"https://colab.research.google.com/assets/colab-badge.svg\" alt=\"Open In Colab\"/></a>"
      ]
    },
    {
      "cell_type": "code",
      "metadata": {
        "colab": {
          "base_uri": "https://localhost:8080/"
        },
        "id": "Tz137Tq0L_cP",
        "outputId": "27a7196e-891a-48cc-a386-4599cc0a2b8b"
      },
      "source": [
        "from google.colab import drive\n",
        "drive.mount('/content/drive')"
      ],
      "execution_count": 1,
      "outputs": [
        {
          "output_type": "stream",
          "name": "stdout",
          "text": [
            "Mounted at /content/drive\n"
          ]
        }
      ]
    },
    {
      "cell_type": "code",
      "metadata": {
        "colab": {
          "base_uri": "https://localhost:8080/"
        },
        "id": "24bOeqtULCja",
        "outputId": "25385934-6d52-4cfa-a4fa-960078b57c99"
      },
      "source": [
        "!pip install torch\n",
        "!pip install transformers\n",
        "!pip install scikit-learn\n",
        "!pip install tqdm\n",
        "!pip install optuna"
      ],
      "execution_count": 2,
      "outputs": [
        {
          "output_type": "stream",
          "name": "stdout",
          "text": [
            "Requirement already satisfied: torch in /usr/local/lib/python3.7/dist-packages (1.9.0+cu102)\n",
            "Requirement already satisfied: typing-extensions in /usr/local/lib/python3.7/dist-packages (from torch) (3.7.4.3)\n",
            "Collecting transformers\n",
            "  Downloading transformers-4.11.2-py3-none-any.whl (2.9 MB)\n",
            "\u001b[K     |████████████████████████████████| 2.9 MB 30.7 MB/s \n",
            "\u001b[?25hCollecting sacremoses\n",
            "  Downloading sacremoses-0.0.46-py3-none-any.whl (895 kB)\n",
            "\u001b[K     |████████████████████████████████| 895 kB 38.7 MB/s \n",
            "\u001b[?25hRequirement already satisfied: importlib-metadata in /usr/local/lib/python3.7/dist-packages (from transformers) (4.8.1)\n",
            "Requirement already satisfied: tqdm>=4.27 in /usr/local/lib/python3.7/dist-packages (from transformers) (4.62.3)\n",
            "Requirement already satisfied: filelock in /usr/local/lib/python3.7/dist-packages (from transformers) (3.0.12)\n",
            "Requirement already satisfied: packaging>=20.0 in /usr/local/lib/python3.7/dist-packages (from transformers) (21.0)\n",
            "Collecting tokenizers<0.11,>=0.10.1\n",
            "  Downloading tokenizers-0.10.3-cp37-cp37m-manylinux_2_5_x86_64.manylinux1_x86_64.manylinux_2_12_x86_64.manylinux2010_x86_64.whl (3.3 MB)\n",
            "\u001b[K     |████████████████████████████████| 3.3 MB 38.3 MB/s \n",
            "\u001b[?25hCollecting huggingface-hub>=0.0.17\n",
            "  Downloading huggingface_hub-0.0.17-py3-none-any.whl (52 kB)\n",
            "\u001b[K     |████████████████████████████████| 52 kB 1.3 MB/s \n",
            "\u001b[?25hRequirement already satisfied: regex!=2019.12.17 in /usr/local/lib/python3.7/dist-packages (from transformers) (2019.12.20)\n",
            "Requirement already satisfied: requests in /usr/local/lib/python3.7/dist-packages (from transformers) (2.23.0)\n",
            "Collecting pyyaml>=5.1\n",
            "  Downloading PyYAML-5.4.1-cp37-cp37m-manylinux1_x86_64.whl (636 kB)\n",
            "\u001b[K     |████████████████████████████████| 636 kB 58.8 MB/s \n",
            "\u001b[?25hRequirement already satisfied: numpy>=1.17 in /usr/local/lib/python3.7/dist-packages (from transformers) (1.19.5)\n",
            "Requirement already satisfied: typing-extensions in /usr/local/lib/python3.7/dist-packages (from huggingface-hub>=0.0.17->transformers) (3.7.4.3)\n",
            "Requirement already satisfied: pyparsing>=2.0.2 in /usr/local/lib/python3.7/dist-packages (from packaging>=20.0->transformers) (2.4.7)\n",
            "Requirement already satisfied: zipp>=0.5 in /usr/local/lib/python3.7/dist-packages (from importlib-metadata->transformers) (3.5.0)\n",
            "Requirement already satisfied: chardet<4,>=3.0.2 in /usr/local/lib/python3.7/dist-packages (from requests->transformers) (3.0.4)\n",
            "Requirement already satisfied: urllib3!=1.25.0,!=1.25.1,<1.26,>=1.21.1 in /usr/local/lib/python3.7/dist-packages (from requests->transformers) (1.24.3)\n",
            "Requirement already satisfied: certifi>=2017.4.17 in /usr/local/lib/python3.7/dist-packages (from requests->transformers) (2021.5.30)\n",
            "Requirement already satisfied: idna<3,>=2.5 in /usr/local/lib/python3.7/dist-packages (from requests->transformers) (2.10)\n",
            "Requirement already satisfied: six in /usr/local/lib/python3.7/dist-packages (from sacremoses->transformers) (1.15.0)\n",
            "Requirement already satisfied: joblib in /usr/local/lib/python3.7/dist-packages (from sacremoses->transformers) (1.0.1)\n",
            "Requirement already satisfied: click in /usr/local/lib/python3.7/dist-packages (from sacremoses->transformers) (7.1.2)\n",
            "Installing collected packages: tokenizers, sacremoses, pyyaml, huggingface-hub, transformers\n",
            "  Attempting uninstall: pyyaml\n",
            "    Found existing installation: PyYAML 3.13\n",
            "    Uninstalling PyYAML-3.13:\n",
            "      Successfully uninstalled PyYAML-3.13\n",
            "Successfully installed huggingface-hub-0.0.17 pyyaml-5.4.1 sacremoses-0.0.46 tokenizers-0.10.3 transformers-4.11.2\n",
            "Requirement already satisfied: scikit-learn in /usr/local/lib/python3.7/dist-packages (0.22.2.post1)\n",
            "Requirement already satisfied: numpy>=1.11.0 in /usr/local/lib/python3.7/dist-packages (from scikit-learn) (1.19.5)\n",
            "Requirement already satisfied: joblib>=0.11 in /usr/local/lib/python3.7/dist-packages (from scikit-learn) (1.0.1)\n",
            "Requirement already satisfied: scipy>=0.17.0 in /usr/local/lib/python3.7/dist-packages (from scikit-learn) (1.4.1)\n",
            "Requirement already satisfied: tqdm in /usr/local/lib/python3.7/dist-packages (4.62.3)\n",
            "Collecting optuna\n",
            "  Downloading optuna-2.9.1-py3-none-any.whl (302 kB)\n",
            "\u001b[K     |████████████████████████████████| 302 kB 29.3 MB/s \n",
            "\u001b[?25hCollecting colorlog\n",
            "  Downloading colorlog-6.4.1-py2.py3-none-any.whl (11 kB)\n",
            "Collecting cmaes>=0.8.2\n",
            "  Downloading cmaes-0.8.2-py3-none-any.whl (15 kB)\n",
            "Requirement already satisfied: sqlalchemy>=1.1.0 in /usr/local/lib/python3.7/dist-packages (from optuna) (1.4.25)\n",
            "Requirement already satisfied: numpy in /usr/local/lib/python3.7/dist-packages (from optuna) (1.19.5)\n",
            "Requirement already satisfied: packaging>=20.0 in /usr/local/lib/python3.7/dist-packages (from optuna) (21.0)\n",
            "Requirement already satisfied: PyYAML in /usr/local/lib/python3.7/dist-packages (from optuna) (5.4.1)\n",
            "Collecting cliff\n",
            "  Downloading cliff-3.9.0-py3-none-any.whl (80 kB)\n",
            "\u001b[K     |████████████████████████████████| 80 kB 7.2 MB/s \n",
            "\u001b[?25hCollecting alembic\n",
            "  Downloading alembic-1.7.3-py3-none-any.whl (208 kB)\n",
            "\u001b[K     |████████████████████████████████| 208 kB 66.0 MB/s \n",
            "\u001b[?25hRequirement already satisfied: tqdm in /usr/local/lib/python3.7/dist-packages (from optuna) (4.62.3)\n",
            "Requirement already satisfied: scipy!=1.4.0 in /usr/local/lib/python3.7/dist-packages (from optuna) (1.4.1)\n",
            "Requirement already satisfied: pyparsing>=2.0.2 in /usr/local/lib/python3.7/dist-packages (from packaging>=20.0->optuna) (2.4.7)\n",
            "Requirement already satisfied: greenlet!=0.4.17 in /usr/local/lib/python3.7/dist-packages (from sqlalchemy>=1.1.0->optuna) (1.1.1)\n",
            "Requirement already satisfied: importlib-metadata in /usr/local/lib/python3.7/dist-packages (from sqlalchemy>=1.1.0->optuna) (4.8.1)\n",
            "Collecting Mako\n",
            "  Downloading Mako-1.1.5-py2.py3-none-any.whl (75 kB)\n",
            "\u001b[K     |████████████████████████████████| 75 kB 4.0 MB/s \n",
            "\u001b[?25hRequirement already satisfied: importlib-resources in /usr/local/lib/python3.7/dist-packages (from alembic->optuna) (5.2.2)\n",
            "Requirement already satisfied: PrettyTable>=0.7.2 in /usr/local/lib/python3.7/dist-packages (from cliff->optuna) (2.2.0)\n",
            "Collecting pbr!=2.1.0,>=2.0.0\n",
            "  Downloading pbr-5.6.0-py2.py3-none-any.whl (111 kB)\n",
            "\u001b[K     |████████████████████████████████| 111 kB 64.3 MB/s \n",
            "\u001b[?25hCollecting autopage>=0.4.0\n",
            "  Downloading autopage-0.4.0-py3-none-any.whl (20 kB)\n",
            "Collecting cmd2>=1.0.0\n",
            "  Downloading cmd2-2.2.0-py3-none-any.whl (144 kB)\n",
            "\u001b[K     |████████████████████████████████| 144 kB 45.1 MB/s \n",
            "\u001b[?25hCollecting stevedore>=2.0.1\n",
            "  Downloading stevedore-3.4.0-py3-none-any.whl (49 kB)\n",
            "\u001b[K     |████████████████████████████████| 49 kB 6.0 MB/s \n",
            "\u001b[?25hCollecting colorama>=0.3.7\n",
            "  Downloading colorama-0.4.4-py2.py3-none-any.whl (16 kB)\n",
            "Requirement already satisfied: wcwidth>=0.1.7 in /usr/local/lib/python3.7/dist-packages (from cmd2>=1.0.0->cliff->optuna) (0.2.5)\n",
            "Requirement already satisfied: attrs>=16.3.0 in /usr/local/lib/python3.7/dist-packages (from cmd2>=1.0.0->cliff->optuna) (21.2.0)\n",
            "Requirement already satisfied: typing-extensions in /usr/local/lib/python3.7/dist-packages (from cmd2>=1.0.0->cliff->optuna) (3.7.4.3)\n",
            "Collecting pyperclip>=1.6\n",
            "  Downloading pyperclip-1.8.2.tar.gz (20 kB)\n",
            "Requirement already satisfied: zipp>=0.5 in /usr/local/lib/python3.7/dist-packages (from importlib-metadata->sqlalchemy>=1.1.0->optuna) (3.5.0)\n",
            "Requirement already satisfied: MarkupSafe>=0.9.2 in /usr/local/lib/python3.7/dist-packages (from Mako->alembic->optuna) (2.0.1)\n",
            "Building wheels for collected packages: pyperclip\n",
            "  Building wheel for pyperclip (setup.py) ... \u001b[?25l\u001b[?25hdone\n",
            "  Created wheel for pyperclip: filename=pyperclip-1.8.2-py3-none-any.whl size=11136 sha256=df16271378fa86731260b6351d35d213459d078cd3410bf44d59197b89f52d7a\n",
            "  Stored in directory: /root/.cache/pip/wheels/9f/18/84/8f69f8b08169c7bae2dde6bd7daf0c19fca8c8e500ee620a28\n",
            "Successfully built pyperclip\n",
            "Installing collected packages: pyperclip, pbr, colorama, stevedore, Mako, cmd2, autopage, colorlog, cmaes, cliff, alembic, optuna\n",
            "Successfully installed Mako-1.1.5 alembic-1.7.3 autopage-0.4.0 cliff-3.9.0 cmaes-0.8.2 cmd2-2.2.0 colorama-0.4.4 colorlog-6.4.1 optuna-2.9.1 pbr-5.6.0 pyperclip-1.8.2 stevedore-3.4.0\n"
          ]
        }
      ]
    },
    {
      "cell_type": "code",
      "metadata": {
        "id": "p_kq3RqjLa8g"
      },
      "source": [
        "import pickle\n",
        "\n",
        "import numpy as np\n",
        "import pandas as pd\n",
        "import matplotlib.pyplot as plt\n",
        "from tqdm import tqdm\n",
        "import optuna.integration.lightgbm as lgb\n",
        "import lightgbm as lgb_original\n",
        "from sklearn.model_selection import StratifiedKFold, train_test_split\n",
        "from sklearn.metrics import fbeta_score"
      ],
      "execution_count": 1,
      "outputs": []
    },
    {
      "cell_type": "code",
      "metadata": {
        "id": "qPSt78gLLdWy"
      },
      "source": [
        "# 学習結果の予測を出力\n",
        "SAVE_PREDS_DATA_DIR = \"/content/drive/MyDrive/signate/data/\"\n",
        "with open(SAVE_PREDS_DATA_DIR+\"train_preds.pickle\", mode=\"rb\") as f:\n",
        "    train_preds = pickle.load(f)\n",
        "\n",
        "with open(SAVE_PREDS_DATA_DIR+\"test_preds.pickle\", mode=\"rb\") as f:\n",
        "    test_preds = pickle.load(f)"
      ],
      "execution_count": 2,
      "outputs": []
    },
    {
      "cell_type": "code",
      "metadata": {
        "id": "XzfkVWvvM5oB"
      },
      "source": [
        "def get_train_test_preds(train_preds, test_preds):\n",
        "\n",
        "    # ================================================\n",
        "    # 学習データの結果統合\n",
        "    # ================================================\n",
        "    # formatにはtitle+abstractのデータを使用すること\n",
        "    train_format = train_preds[list(train_preds.keys())[1]].copy()\n",
        "    cols = train_format.columns\n",
        "    train_format = train_format.loc[:, ~cols.str.contains(\"preds_\")]\n",
        "\n",
        "    # 1つのｄｆに結果を統合\n",
        "    train_preds_df = train_format.copy()\n",
        "    for key in train_preds.keys():\n",
        "        cols = [f\"preds_mean\", f\"preds_0\", f\"preds_1\", f\"preds_2\", f\"preds_3\", f\"preds_4\"]\n",
        "        new_cols = [f\"{key}_preds_mean\", f\"{key}_preds_0\", f\"{key}_preds_1\", f\"{key}_preds_2\", f\"{key}_preds_3\", f\"{key}_preds_4\"]\n",
        "        train_preds_df[new_cols] = train_preds[key][cols].copy()\n",
        "      \n",
        "    # oofを結合\n",
        "    path = \"/content/drive/MyDrive/signate/results/\"\n",
        "    dir_name = [\n",
        "                \"results_pubmedbert_uncased_title/\",\n",
        "                \"results_pubmedbert_uncased_title+abstract/\",\n",
        "                \"results_scibert_scivocab_uncased_title/\",\n",
        "                \"results_scibert_scivocab_uncased_title+abstract/\",\n",
        "                ]\n",
        "    path_list = [path + f +\"oof_df.csv\" for f in dir_name]\n",
        "    for i, key in enumerate(train_preds.keys()):\n",
        "        new_col = f\"{key}_oof_preds\"\n",
        "        train_preds_df[new_col] = pd.read_csv(path_list[i])[\"preds\"]\n",
        "\n",
        "    train_preds_df[\"num_words\"] = train_preds_df[\"title+abstract\"].str.count(\" \")+1\n",
        "    train_preds_df[\"only_title\"] = train_preds_df[\"abstract\"].isnull().astype(int)\n",
        "    # word\n",
        "    # 事前に抽出した特徴的な単語\n",
        "    word_list = [\n",
        "             \"patient\", \"respect\", \"respective\", \"clinic\", \"evaluate\", \n",
        "             \"accuracy\", \"testing\", \"preformance\", \"value\", \"ample\", \n",
        "             \"patients\", \"sample\", \"bodies\", \"RT-PCR\", \"assay\", \n",
        "             \"negative\", \"RT\", \"T-\", \"positive\", \"preform\",\n",
        "             \"SARS\", \"CoV\", \"diagnosis\", \"PCR\", \"specific\", \n",
        "             \"city\", \"0%\", \"diagnostic\", \"detection\", \"test\", \n",
        "             \"specificity\", \"detect\", \"sensitivity\", \"collect\", \"pharyngeal\",\n",
        "             \"Lewy\", \"standard\", \"COVID\", \"evaluated\", \"tests\", \n",
        "             \"brain\", \"associate\", \"treat\", \"function\", \"press\", \n",
        "             \"hip\", \"fact\", \"beta\", \"increased\", \n",
        "             ]\n",
        "\n",
        "    for word in word_list:\n",
        "        train_preds_df[f\"{word}_count\"] = train_preds_df[\"title+abstract\"].str.count(word)\n",
        "\n",
        "\n",
        "    # ================================================\n",
        "    # テストデータの結果統合\n",
        "    # ================================================\n",
        "    # formatにはtitle+abstractのデータを使用すること\n",
        "    test_format = test_preds[list(test_preds.keys())[1]].copy()\n",
        "    cols = test_format.columns\n",
        "    test_format = test_format.loc[:, ~cols.str.contains(\"preds_\")]\n",
        "\n",
        "    # 1つのｄｆに結果を統合\n",
        "    test_preds_df = test_format.copy()\n",
        "    for key in test_preds.keys():\n",
        "        cols = [f\"preds_mean\", f\"preds_0\", f\"preds_1\", f\"preds_2\", f\"preds_3\", f\"preds_4\"]\n",
        "        new_cols = [f\"{key}_preds_mean\", f\"{key}_preds_0\", f\"{key}_preds_1\", f\"{key}_preds_2\", f\"{key}_preds_3\", f\"{key}_preds_4\"]\n",
        "        test_preds_df[new_cols] = test_preds[key][cols].copy()\n",
        "\n",
        "    test_preds_df[\"num_words\"] = test_preds_df[\"title+abstract\"].str.count(\" \")+1\n",
        "    test_preds_df[\"only_title\"] = test_preds_df[\"abstract\"].isnull().astype(int)\n",
        "\n",
        "    for word in word_list:\n",
        "        test_preds_df[f\"{word}_count\"] = test_preds_df[\"title+abstract\"].str.count(word)\n",
        "    \n",
        "    pred_cols = [\"num_words\", \"only_title\"] + [f\"{word}_count\" for word in word_list]\n",
        "\n",
        "    return train_preds_df, test_preds_df, pred_cols\n",
        "\n",
        "train_preds_df, test_preds_df, pred_cols = get_train_test_preds(train_preds, test_preds)\n"
      ],
      "execution_count": 3,
      "outputs": []
    },
    {
      "cell_type": "code",
      "metadata": {
        "id": "hfzsJQy-qgKg"
      },
      "source": [
        "def fbeta(true, pred):\n",
        "    return fbeta_score(true, pred, beta=7)"
      ],
      "execution_count": 5,
      "outputs": []
    },
    {
      "cell_type": "code",
      "metadata": {
        "colab": {
          "base_uri": "https://localhost:8080/"
        },
        "id": "y2NCQKQfLhFO",
        "outputId": "dc7a7e64-b04e-459f-a665-185a2e863067"
      },
      "source": [
        "%%time\n",
        "seed = 471\n",
        "\n",
        "cols = list(train_preds_df.columns[train_preds_df.columns.str.contains(\"oof_preds\")])\n",
        "cols = cols + pred_cols\n",
        "X = train_preds_df.loc[:, cols]\n",
        "y = train_preds_df[\"judgement\"]\n",
        "X_train, X_test, y_train, y_test = train_test_split(X, y, test_size=0.30, random_state=seed)\n",
        "train_data = lgb.Dataset(X_train, y_train)\n",
        "\n",
        "params = {'objective': 'binary',\n",
        "          'metric': 'binary_logloss',\n",
        "          'random_seed': seed}\n",
        "\n",
        "tuner = lgb.LightGBMTunerCV(\n",
        "    params, \n",
        "    train_data,\n",
        "    nfold=5, \n",
        "    verbose_eval=100, \n",
        "    early_stopping_rounds=100,\n",
        "    folds=StratifiedKFold(n_splits=5, shuffle=True, random_state=seed),\n",
        "    seed=seed,\n",
        "    optuna_seed=seed\n",
        ")\n",
        "\n",
        "tuner.run()"
      ],
      "execution_count": 7,
      "outputs": [
        {
          "output_type": "stream",
          "name": "stderr",
          "text": [
            "\u001b[32m[I 2021-10-03 15:02:44,457]\u001b[0m A new study created in memory with name: no-name-0ce65339-28bc-4380-a28e-c25afa98e827\u001b[0m\n",
            "\n",
            "  0%|          | 0/7 [00:00<?, ?it/s]\u001b[A\n",
            "feature_fraction, val_score: inf:   0%|          | 0/7 [00:00<?, ?it/s]\u001b[A"
          ]
        },
        {
          "output_type": "stream",
          "name": "stdout",
          "text": [
            "[100]\tcv_agg's binary_logloss: 0.0687788 + 0.00602729\n"
          ]
        },
        {
          "output_type": "stream",
          "name": "stderr",
          "text": [
            "\n",
            "feature_fraction, val_score: 0.065613:   0%|          | 0/7 [00:02<?, ?it/s]\u001b[A\n",
            "feature_fraction, val_score: 0.065613:  14%|#4        | 1/7 [00:02<00:13,  2.18s/it]\u001b[A\u001b[32m[I 2021-10-03 15:02:46,646]\u001b[0m Trial 0 finished with value: 0.06561255554485965 and parameters: {'feature_fraction': 0.5}. Best is trial 0 with value: 0.06561255554485965.\u001b[0m\n",
            "\n",
            "feature_fraction, val_score: 0.065613:  14%|#4        | 1/7 [00:02<00:13,  2.18s/it]\u001b[A"
          ]
        },
        {
          "output_type": "stream",
          "name": "stdout",
          "text": [
            "[100]\tcv_agg's binary_logloss: 0.0690971 + 0.0057858\n"
          ]
        },
        {
          "output_type": "stream",
          "name": "stderr",
          "text": [
            "\n",
            "feature_fraction, val_score: 0.064678:  14%|#4        | 1/7 [00:04<00:13,  2.18s/it]\u001b[A\n",
            "feature_fraction, val_score: 0.064678:  29%|##8       | 2/7 [00:04<00:10,  2.01s/it]\u001b[A\u001b[32m[I 2021-10-03 15:02:48,552]\u001b[0m Trial 1 finished with value: 0.06467797131085491 and parameters: {'feature_fraction': 1.0}. Best is trial 1 with value: 0.06467797131085491.\u001b[0m\n",
            "\n",
            "feature_fraction, val_score: 0.064678:  29%|##8       | 2/7 [00:04<00:10,  2.01s/it]\u001b[A"
          ]
        },
        {
          "output_type": "stream",
          "name": "stdout",
          "text": [
            "[100]\tcv_agg's binary_logloss: 0.067617 + 0.00640995\n"
          ]
        },
        {
          "output_type": "stream",
          "name": "stderr",
          "text": [
            "\n",
            "feature_fraction, val_score: 0.064678:  29%|##8       | 2/7 [00:05<00:10,  2.01s/it]\u001b[A\n",
            "feature_fraction, val_score: 0.064678:  43%|####2     | 3/7 [00:05<00:07,  1.89s/it]\u001b[A\u001b[32m[I 2021-10-03 15:02:50,299]\u001b[0m Trial 2 finished with value: 0.06523636229927657 and parameters: {'feature_fraction': 0.4}. Best is trial 1 with value: 0.06467797131085491.\u001b[0m\n",
            "\n",
            "feature_fraction, val_score: 0.064678:  43%|####2     | 3/7 [00:05<00:07,  1.89s/it]\u001b[A"
          ]
        },
        {
          "output_type": "stream",
          "name": "stdout",
          "text": [
            "[100]\tcv_agg's binary_logloss: 0.0691208 + 0.00511497\n"
          ]
        },
        {
          "output_type": "stream",
          "name": "stderr",
          "text": [
            "\n",
            "feature_fraction, val_score: 0.064678:  43%|####2     | 3/7 [00:07<00:07,  1.89s/it]\u001b[A\n",
            "feature_fraction, val_score: 0.064678:  57%|#####7    | 4/7 [00:07<00:05,  1.89s/it]\u001b[A\u001b[32m[I 2021-10-03 15:02:52,180]\u001b[0m Trial 3 finished with value: 0.06482667955922106 and parameters: {'feature_fraction': 0.8}. Best is trial 1 with value: 0.06467797131085491.\u001b[0m\n",
            "\n",
            "feature_fraction, val_score: 0.064678:  57%|#####7    | 4/7 [00:07<00:05,  1.89s/it]\u001b[A"
          ]
        },
        {
          "output_type": "stream",
          "name": "stdout",
          "text": [
            "[100]\tcv_agg's binary_logloss: 0.0688145 + 0.0057894\n"
          ]
        },
        {
          "output_type": "stream",
          "name": "stderr",
          "text": [
            "\n",
            "feature_fraction, val_score: 0.064678:  57%|#####7    | 4/7 [00:10<00:05,  1.89s/it]\u001b[A\n",
            "feature_fraction, val_score: 0.064678:  71%|#######1  | 5/7 [00:10<00:04,  2.14s/it]\u001b[A\u001b[32m[I 2021-10-03 15:02:54,757]\u001b[0m Trial 4 finished with value: 0.06506798002237331 and parameters: {'feature_fraction': 0.7}. Best is trial 1 with value: 0.06467797131085491.\u001b[0m\n",
            "\n",
            "feature_fraction, val_score: 0.064678:  71%|#######1  | 5/7 [00:10<00:04,  2.14s/it]\u001b[A"
          ]
        },
        {
          "output_type": "stream",
          "name": "stdout",
          "text": [
            "[100]\tcv_agg's binary_logloss: 0.0691286 + 0.00471152\n"
          ]
        },
        {
          "output_type": "stream",
          "name": "stderr",
          "text": [
            "\n",
            "feature_fraction, val_score: 0.064678:  71%|#######1  | 5/7 [00:12<00:04,  2.14s/it]\u001b[A\n",
            "feature_fraction, val_score: 0.064678:  86%|########5 | 6/7 [00:12<00:02,  2.30s/it]\u001b[A\u001b[32m[I 2021-10-03 15:02:57,360]\u001b[0m Trial 5 finished with value: 0.06520811596983453 and parameters: {'feature_fraction': 0.8999999999999999}. Best is trial 1 with value: 0.06467797131085491.\u001b[0m\n",
            "\n",
            "feature_fraction, val_score: 0.064678:  86%|########5 | 6/7 [00:12<00:02,  2.30s/it]\u001b[A"
          ]
        },
        {
          "output_type": "stream",
          "name": "stdout",
          "text": [
            "[100]\tcv_agg's binary_logloss: 0.0692375 + 0.00565903\n"
          ]
        },
        {
          "output_type": "stream",
          "name": "stderr",
          "text": [
            "\n",
            "feature_fraction, val_score: 0.064678:  86%|########5 | 6/7 [00:15<00:02,  2.30s/it]\u001b[A\n",
            "feature_fraction, val_score: 0.064678: 100%|##########| 7/7 [00:15<00:00,  2.33s/it]\u001b[A\u001b[32m[I 2021-10-03 15:02:59,777]\u001b[0m Trial 6 finished with value: 0.06621673494575352 and parameters: {'feature_fraction': 0.6}. Best is trial 1 with value: 0.06467797131085491.\u001b[0m\n",
            "feature_fraction, val_score: 0.064678: 100%|##########| 7/7 [00:15<00:00,  2.19s/it]\n",
            "\n",
            "  0%|          | 0/20 [00:00<?, ?it/s]\u001b[A\n",
            "num_leaves, val_score: 0.064678:   0%|          | 0/20 [00:00<?, ?it/s]\u001b[A"
          ]
        },
        {
          "output_type": "stream",
          "name": "stdout",
          "text": [
            "[100]\tcv_agg's binary_logloss: 0.109065 + 0.012245\n"
          ]
        },
        {
          "output_type": "stream",
          "name": "stderr",
          "text": [
            "\n",
            "num_leaves, val_score: 0.064678:   0%|          | 0/20 [00:05<?, ?it/s]\u001b[A\n",
            "num_leaves, val_score: 0.064678:   5%|5         | 1/20 [00:05<01:46,  5.60s/it]\u001b[A\u001b[32m[I 2021-10-03 15:03:05,394]\u001b[0m Trial 7 finished with value: 0.07074852030838706 and parameters: {'num_leaves': 151}. Best is trial 7 with value: 0.07074852030838706.\u001b[0m\n",
            "\n",
            "num_leaves, val_score: 0.064678:   5%|5         | 1/20 [00:05<01:46,  5.60s/it]\u001b[A"
          ]
        },
        {
          "output_type": "stream",
          "name": "stdout",
          "text": [
            "[100]\tcv_agg's binary_logloss: 0.0905592 + 0.00996569\n"
          ]
        },
        {
          "output_type": "stream",
          "name": "stderr",
          "text": [
            "\n",
            "num_leaves, val_score: 0.064678:   5%|5         | 1/20 [00:09<01:46,  5.60s/it]\u001b[A\n",
            "num_leaves, val_score: 0.064678:  10%|#         | 2/20 [00:09<01:21,  4.50s/it]\u001b[A\u001b[32m[I 2021-10-03 15:03:09,132]\u001b[0m Trial 8 finished with value: 0.06863356261037881 and parameters: {'num_leaves': 85}. Best is trial 8 with value: 0.06863356261037881.\u001b[0m\n",
            "\n",
            "num_leaves, val_score: 0.064678:  10%|#         | 2/20 [00:09<01:21,  4.50s/it]\u001b[A"
          ]
        },
        {
          "output_type": "stream",
          "name": "stdout",
          "text": [
            "[100]\tcv_agg's binary_logloss: 0.0927772 + 0.0111685\n"
          ]
        },
        {
          "output_type": "stream",
          "name": "stderr",
          "text": [
            "\n",
            "num_leaves, val_score: 0.064678:  10%|#         | 2/20 [00:12<01:21,  4.50s/it]\u001b[A\n",
            "num_leaves, val_score: 0.064678:  15%|#5        | 3/20 [00:12<01:08,  4.05s/it]\u001b[A\u001b[32m[I 2021-10-03 15:03:12,636]\u001b[0m Trial 9 finished with value: 0.06878800305083203 and parameters: {'num_leaves': 88}. Best is trial 8 with value: 0.06863356261037881.\u001b[0m\n",
            "\n",
            "num_leaves, val_score: 0.064678:  15%|#5        | 3/20 [00:12<01:08,  4.05s/it]\u001b[A"
          ]
        },
        {
          "output_type": "stream",
          "name": "stdout",
          "text": [
            "[100]\tcv_agg's binary_logloss: 0.110833 + 0.0116255\n"
          ]
        },
        {
          "output_type": "stream",
          "name": "stderr",
          "text": [
            "\n",
            "num_leaves, val_score: 0.064678:  15%|#5        | 3/20 [00:21<01:08,  4.05s/it]\u001b[A\n",
            "num_leaves, val_score: 0.064678:  20%|##        | 4/20 [00:21<01:34,  5.90s/it]\u001b[A\u001b[32m[I 2021-10-03 15:03:21,386]\u001b[0m Trial 10 finished with value: 0.07092980485884395 and parameters: {'num_leaves': 254}. Best is trial 8 with value: 0.06863356261037881.\u001b[0m\n",
            "\n",
            "num_leaves, val_score: 0.064678:  20%|##        | 4/20 [00:21<01:34,  5.90s/it]\u001b[A"
          ]
        },
        {
          "output_type": "stream",
          "name": "stdout",
          "text": [
            "[100]\tcv_agg's binary_logloss: 0.108471 + 0.0126253\n"
          ]
        },
        {
          "output_type": "stream",
          "name": "stderr",
          "text": [
            "\n",
            "num_leaves, val_score: 0.064678:  20%|##        | 4/20 [00:26<01:34,  5.90s/it]\u001b[A\n",
            "num_leaves, val_score: 0.064678:  25%|##5       | 5/20 [00:26<01:22,  5.48s/it]\u001b[A\u001b[32m[I 2021-10-03 15:03:26,111]\u001b[0m Trial 11 finished with value: 0.0706620783351277 and parameters: {'num_leaves': 153}. Best is trial 8 with value: 0.06863356261037881.\u001b[0m\n",
            "\n",
            "num_leaves, val_score: 0.064678:  25%|##5       | 5/20 [00:26<01:22,  5.48s/it]\u001b[A"
          ]
        },
        {
          "output_type": "stream",
          "name": "stdout",
          "text": [
            "[100]\tcv_agg's binary_logloss: 0.0639704 + 0.00404676\n"
          ]
        },
        {
          "output_type": "stream",
          "name": "stderr",
          "text": [
            "\n",
            "num_leaves, val_score: 0.063803:  25%|##5       | 5/20 [00:27<01:22,  5.48s/it]\u001b[A\n",
            "num_leaves, val_score: 0.063803:  30%|###       | 6/20 [00:27<00:57,  4.08s/it]\u001b[A\u001b[32m[I 2021-10-03 15:03:27,479]\u001b[0m Trial 12 finished with value: 0.06380284970415456 and parameters: {'num_leaves': 7}. Best is trial 12 with value: 0.06380284970415456.\u001b[0m\n",
            "\n",
            "num_leaves, val_score: 0.063803:  30%|###       | 6/20 [00:27<00:57,  4.08s/it]\u001b[A"
          ]
        },
        {
          "output_type": "stream",
          "name": "stdout",
          "text": [
            "[200]\tcv_agg's binary_logloss: 0.0642515 + 0.00527233\n",
            "[100]\tcv_agg's binary_logloss: 0.111181 + 0.0119593\n"
          ]
        },
        {
          "output_type": "stream",
          "name": "stderr",
          "text": [
            "\n",
            "num_leaves, val_score: 0.063803:  30%|###       | 6/20 [00:33<00:57,  4.08s/it]\u001b[A\n",
            "num_leaves, val_score: 0.063803:  35%|###5      | 7/20 [00:33<01:00,  4.63s/it]\u001b[A\u001b[32m[I 2021-10-03 15:03:33,252]\u001b[0m Trial 13 finished with value: 0.07092959620632991 and parameters: {'num_leaves': 216}. Best is trial 12 with value: 0.06380284970415456.\u001b[0m\n",
            "\n",
            "num_leaves, val_score: 0.063803:  35%|###5      | 7/20 [00:33<01:00,  4.63s/it]\u001b[A"
          ]
        },
        {
          "output_type": "stream",
          "name": "stdout",
          "text": [
            "[100]\tcv_agg's binary_logloss: 0.111098 + 0.0113432\n"
          ]
        },
        {
          "output_type": "stream",
          "name": "stderr",
          "text": [
            "\n",
            "num_leaves, val_score: 0.063803:  35%|###5      | 7/20 [00:38<01:00,  4.63s/it]\u001b[A\n",
            "num_leaves, val_score: 0.063803:  40%|####      | 8/20 [00:38<00:57,  4.81s/it]\u001b[A\u001b[32m[I 2021-10-03 15:03:38,449]\u001b[0m Trial 14 finished with value: 0.07100780108373973 and parameters: {'num_leaves': 185}. Best is trial 12 with value: 0.06380284970415456.\u001b[0m\n",
            "\n",
            "num_leaves, val_score: 0.063803:  40%|####      | 8/20 [00:38<00:57,  4.81s/it]\u001b[A"
          ]
        },
        {
          "output_type": "stream",
          "name": "stdout",
          "text": [
            "[100]\tcv_agg's binary_logloss: 0.110785 + 0.0122074\n"
          ]
        },
        {
          "output_type": "stream",
          "name": "stderr",
          "text": [
            "\n",
            "num_leaves, val_score: 0.063803:  40%|####      | 8/20 [00:44<00:57,  4.81s/it]\u001b[A\n",
            "num_leaves, val_score: 0.063803:  45%|####5     | 9/20 [00:44<00:58,  5.28s/it]\u001b[A\u001b[32m[I 2021-10-03 15:03:44,768]\u001b[0m Trial 15 finished with value: 0.07093067508925723 and parameters: {'num_leaves': 235}. Best is trial 12 with value: 0.06380284970415456.\u001b[0m\n",
            "\n",
            "num_leaves, val_score: 0.063803:  45%|####5     | 9/20 [00:44<00:58,  5.28s/it]\u001b[A"
          ]
        },
        {
          "output_type": "stream",
          "name": "stdout",
          "text": [
            "[100]\tcv_agg's binary_logloss: 0.106104 + 0.0126281\n"
          ]
        },
        {
          "output_type": "stream",
          "name": "stderr",
          "text": [
            "\n",
            "num_leaves, val_score: 0.063803:  45%|####5     | 9/20 [00:51<00:58,  5.28s/it]\u001b[A\n",
            "num_leaves, val_score: 0.063803:  50%|#####     | 10/20 [00:51<00:56,  5.60s/it]\u001b[A\u001b[32m[I 2021-10-03 15:03:51,083]\u001b[0m Trial 16 finished with value: 0.07107271203965135 and parameters: {'num_leaves': 133}. Best is trial 12 with value: 0.06380284970415456.\u001b[0m\n",
            "\n",
            "num_leaves, val_score: 0.063803:  50%|#####     | 10/20 [00:51<00:56,  5.60s/it]\u001b[A"
          ]
        },
        {
          "output_type": "stream",
          "name": "stdout",
          "text": [
            "[100]\tcv_agg's binary_logloss: 0.0664934 + 0.00396679\n",
            "[200]\tcv_agg's binary_logloss: 0.065068 + 0.00444051\n",
            "[300]\tcv_agg's binary_logloss: 0.0648763 + 0.00515811\n",
            "[400]\tcv_agg's binary_logloss: 0.0651395 + 0.00555071\n"
          ]
        },
        {
          "output_type": "stream",
          "name": "stderr",
          "text": [
            "\n",
            "num_leaves, val_score: 0.063803:  50%|#####     | 10/20 [00:53<00:56,  5.60s/it]\u001b[A\n",
            "num_leaves, val_score: 0.063803:  55%|#####5    | 11/20 [00:53<00:41,  4.66s/it]\u001b[A\u001b[32m[I 2021-10-03 15:03:53,601]\u001b[0m Trial 17 finished with value: 0.06471210887287535 and parameters: {'num_leaves': 4}. Best is trial 12 with value: 0.06380284970415456.\u001b[0m\n",
            "\n",
            "num_leaves, val_score: 0.063803:  55%|#####5    | 11/20 [00:53<00:41,  4.66s/it]\u001b[A"
          ]
        },
        {
          "output_type": "stream",
          "name": "stdout",
          "text": [
            "[100]\tcv_agg's binary_logloss: 0.0664934 + 0.00396679\n",
            "[200]\tcv_agg's binary_logloss: 0.065068 + 0.00444051\n",
            "[300]\tcv_agg's binary_logloss: 0.0648763 + 0.00515811\n",
            "[400]\tcv_agg's binary_logloss: 0.0651395 + 0.00555071\n"
          ]
        },
        {
          "output_type": "stream",
          "name": "stderr",
          "text": [
            "\n",
            "num_leaves, val_score: 0.063803:  55%|#####5    | 11/20 [00:56<00:41,  4.66s/it]\u001b[A\n",
            "num_leaves, val_score: 0.063803:  60%|######    | 12/20 [00:56<00:31,  3.97s/it]\u001b[A\u001b[32m[I 2021-10-03 15:03:55,987]\u001b[0m Trial 18 finished with value: 0.06471210887287535 and parameters: {'num_leaves': 4}. Best is trial 12 with value: 0.06380284970415456.\u001b[0m\n",
            "\n",
            "num_leaves, val_score: 0.063803:  60%|######    | 12/20 [00:56<00:31,  3.97s/it]\u001b[A"
          ]
        },
        {
          "output_type": "stream",
          "name": "stdout",
          "text": [
            "[100]\tcv_agg's binary_logloss: 0.0642214 + 0.00373904\n",
            "[200]\tcv_agg's binary_logloss: 0.0642497 + 0.0048274\n"
          ]
        },
        {
          "output_type": "stream",
          "name": "stderr",
          "text": [
            "\n",
            "num_leaves, val_score: 0.063803:  60%|######    | 12/20 [00:57<00:31,  3.97s/it]\u001b[A\n",
            "num_leaves, val_score: 0.063803:  65%|######5   | 13/20 [00:57<00:23,  3.31s/it]\u001b[A\u001b[32m[I 2021-10-03 15:03:57,776]\u001b[0m Trial 19 finished with value: 0.06404937813418281 and parameters: {'num_leaves': 6}. Best is trial 12 with value: 0.06380284970415456.\u001b[0m\n",
            "\n",
            "num_leaves, val_score: 0.063803:  65%|######5   | 13/20 [00:57<00:23,  3.31s/it]\u001b[A"
          ]
        },
        {
          "output_type": "stream",
          "name": "stdout",
          "text": [
            "[100]\tcv_agg's binary_logloss: 0.0795238 + 0.0083568\n"
          ]
        },
        {
          "output_type": "stream",
          "name": "stderr",
          "text": [
            "\n",
            "num_leaves, val_score: 0.063803:  65%|######5   | 13/20 [01:01<00:23,  3.31s/it]\u001b[A\n",
            "num_leaves, val_score: 0.063803:  70%|#######   | 14/20 [01:01<00:21,  3.51s/it]\u001b[A\u001b[32m[I 2021-10-03 15:04:01,760]\u001b[0m Trial 20 finished with value: 0.06689418914231847 and parameters: {'num_leaves': 59}. Best is trial 12 with value: 0.06380284970415456.\u001b[0m\n",
            "\n",
            "num_leaves, val_score: 0.063803:  70%|#######   | 14/20 [01:01<00:21,  3.51s/it]\u001b[A"
          ]
        },
        {
          "output_type": "stream",
          "name": "stdout",
          "text": [
            "[100]\tcv_agg's binary_logloss: 0.0711255 + 0.0058418\n"
          ]
        },
        {
          "output_type": "stream",
          "name": "stderr",
          "text": [
            "\n",
            "num_leaves, val_score: 0.063803:  70%|#######   | 14/20 [01:05<00:21,  3.51s/it]\u001b[A\n",
            "num_leaves, val_score: 0.063803:  75%|#######5  | 15/20 [01:05<00:16,  3.37s/it]\u001b[A\u001b[32m[I 2021-10-03 15:04:04,807]\u001b[0m Trial 21 finished with value: 0.06512013504049088 and parameters: {'num_leaves': 38}. Best is trial 12 with value: 0.06380284970415456.\u001b[0m\n",
            "\n",
            "num_leaves, val_score: 0.063803:  75%|#######5  | 15/20 [01:05<00:16,  3.37s/it]\u001b[A"
          ]
        },
        {
          "output_type": "stream",
          "name": "stdout",
          "text": [
            "[100]\tcv_agg's binary_logloss: 0.0720817 + 0.00586158\n"
          ]
        },
        {
          "output_type": "stream",
          "name": "stderr",
          "text": [
            "\n",
            "num_leaves, val_score: 0.063803:  75%|#######5  | 15/20 [01:08<00:16,  3.37s/it]\u001b[A\n",
            "num_leaves, val_score: 0.063803:  80%|########  | 16/20 [01:08<00:13,  3.27s/it]\u001b[A\u001b[32m[I 2021-10-03 15:04:07,849]\u001b[0m Trial 22 finished with value: 0.06568334409102924 and parameters: {'num_leaves': 39}. Best is trial 12 with value: 0.06380284970415456.\u001b[0m\n",
            "\n",
            "num_leaves, val_score: 0.063803:  80%|########  | 16/20 [01:08<00:13,  3.27s/it]\u001b[A"
          ]
        },
        {
          "output_type": "stream",
          "name": "stdout",
          "text": [
            "[100]\tcv_agg's binary_logloss: 0.0929298 + 0.0108953\n"
          ]
        },
        {
          "output_type": "stream",
          "name": "stderr",
          "text": [
            "\n",
            "num_leaves, val_score: 0.063803:  80%|########  | 16/20 [01:13<00:13,  3.27s/it]\u001b[A\n",
            "num_leaves, val_score: 0.063803:  85%|########5 | 17/20 [01:13<00:11,  3.90s/it]\u001b[A\u001b[32m[I 2021-10-03 15:04:13,210]\u001b[0m Trial 23 finished with value: 0.06933608982530734 and parameters: {'num_leaves': 90}. Best is trial 12 with value: 0.06380284970415456.\u001b[0m\n",
            "\n",
            "num_leaves, val_score: 0.063803:  85%|########5 | 17/20 [01:13<00:11,  3.90s/it]\u001b[A"
          ]
        },
        {
          "output_type": "stream",
          "name": "stdout",
          "text": [
            "[100]\tcv_agg's binary_logloss: 0.0714181 + 0.00562082\n"
          ]
        },
        {
          "output_type": "stream",
          "name": "stderr",
          "text": [
            "\n",
            "num_leaves, val_score: 0.063803:  85%|########5 | 17/20 [01:16<00:11,  3.90s/it]\u001b[A\n",
            "num_leaves, val_score: 0.063803:  90%|######### | 18/20 [01:16<00:07,  3.53s/it]\u001b[A\u001b[32m[I 2021-10-03 15:04:15,863]\u001b[0m Trial 24 finished with value: 0.065218083576933 and parameters: {'num_leaves': 36}. Best is trial 12 with value: 0.06380284970415456.\u001b[0m\n",
            "\n",
            "num_leaves, val_score: 0.063803:  90%|######### | 18/20 [01:16<00:07,  3.53s/it]\u001b[A"
          ]
        },
        {
          "output_type": "stream",
          "name": "stdout",
          "text": [
            "[100]\tcv_agg's binary_logloss: 0.0733381 + 0.00273053\n",
            "[200]\tcv_agg's binary_logloss: 0.0695042 + 0.00311315\n",
            "[300]\tcv_agg's binary_logloss: 0.0682425 + 0.00312925\n",
            "[400]\tcv_agg's binary_logloss: 0.0677815 + 0.00317381\n"
          ]
        },
        {
          "output_type": "stream",
          "name": "stderr",
          "text": [
            "\n",
            "num_leaves, val_score: 0.063803:  90%|######### | 18/20 [01:17<00:07,  3.53s/it]\u001b[A\n",
            "num_leaves, val_score: 0.063803:  95%|#########5| 19/20 [01:17<00:02,  2.96s/it]\u001b[A\u001b[32m[I 2021-10-03 15:04:17,515]\u001b[0m Trial 25 finished with value: 0.06775115341580938 and parameters: {'num_leaves': 2}. Best is trial 12 with value: 0.06380284970415456.\u001b[0m\n",
            "\n",
            "num_leaves, val_score: 0.063803:  95%|#########5| 19/20 [01:17<00:02,  2.96s/it]\u001b[A"
          ]
        },
        {
          "output_type": "stream",
          "name": "stdout",
          "text": [
            "[500]\tcv_agg's binary_logloss: 0.0678141 + 0.00330045\n",
            "[100]\tcv_agg's binary_logloss: 0.0829302 + 0.00941646\n"
          ]
        },
        {
          "output_type": "stream",
          "name": "stderr",
          "text": [
            "\n",
            "num_leaves, val_score: 0.063803:  95%|#########5| 19/20 [01:20<00:02,  2.96s/it]\u001b[A\n",
            "num_leaves, val_score: 0.063803: 100%|##########| 20/20 [01:20<00:00,  3.02s/it]\u001b[A\u001b[32m[I 2021-10-03 15:04:20,660]\u001b[0m Trial 26 finished with value: 0.06752478957843905 and parameters: {'num_leaves': 67}. Best is trial 12 with value: 0.06380284970415456.\u001b[0m\n",
            "num_leaves, val_score: 0.063803: 100%|##########| 20/20 [01:20<00:00,  4.04s/it]\n",
            "\n",
            "  0%|          | 0/10 [00:00<?, ?it/s]\u001b[A\n",
            "bagging, val_score: 0.063803:   0%|          | 0/10 [00:00<?, ?it/s]\u001b[A"
          ]
        },
        {
          "output_type": "stream",
          "name": "stdout",
          "text": [
            "[100]\tcv_agg's binary_logloss: 0.0645316 + 0.00488387\n"
          ]
        },
        {
          "output_type": "stream",
          "name": "stderr",
          "text": [
            "\n",
            "bagging, val_score: 0.063803:   0%|          | 0/10 [00:01<?, ?it/s]\u001b[A\n",
            "bagging, val_score: 0.063803:  10%|#         | 1/10 [00:01<00:14,  1.59s/it]\u001b[A\u001b[32m[I 2021-10-03 15:04:22,270]\u001b[0m Trial 27 finished with value: 0.06440998888816299 and parameters: {'bagging_fraction': 0.7517915733854543, 'bagging_freq': 3}. Best is trial 27 with value: 0.06440998888816299.\u001b[0m\n",
            "\n",
            "bagging, val_score: 0.063803:  10%|#         | 1/10 [00:01<00:14,  1.59s/it]\u001b[A"
          ]
        },
        {
          "output_type": "stream",
          "name": "stdout",
          "text": [
            "[200]\tcv_agg's binary_logloss: 0.0653282 + 0.00598099\n",
            "[100]\tcv_agg's binary_logloss: 0.0664312 + 0.00421558\n"
          ]
        },
        {
          "output_type": "stream",
          "name": "stderr",
          "text": [
            "\n",
            "bagging, val_score: 0.063803:  10%|#         | 1/10 [00:03<00:14,  1.59s/it]\u001b[A\n",
            "bagging, val_score: 0.063803:  20%|##        | 2/10 [00:03<00:12,  1.60s/it]\u001b[A\u001b[32m[I 2021-10-03 15:04:23,876]\u001b[0m Trial 28 finished with value: 0.0658900944816553 and parameters: {'bagging_fraction': 0.6041348406536965, 'bagging_freq': 7}. Best is trial 27 with value: 0.06440998888816299.\u001b[0m\n",
            "\n",
            "bagging, val_score: 0.063803:  20%|##        | 2/10 [00:03<00:12,  1.60s/it]\u001b[A"
          ]
        },
        {
          "output_type": "stream",
          "name": "stdout",
          "text": [
            "[200]\tcv_agg's binary_logloss: 0.0670489 + 0.00497789\n",
            "[100]\tcv_agg's binary_logloss: 0.0644452 + 0.00488606\n"
          ]
        },
        {
          "output_type": "stream",
          "name": "stderr",
          "text": [
            "\n",
            "bagging, val_score: 0.063803:  20%|##        | 2/10 [00:04<00:12,  1.60s/it]\u001b[A\n",
            "bagging, val_score: 0.063803:  30%|###       | 3/10 [00:04<00:11,  1.64s/it]\u001b[A\u001b[32m[I 2021-10-03 15:04:25,552]\u001b[0m Trial 29 finished with value: 0.06422694180939024 and parameters: {'bagging_fraction': 0.7575356408063831, 'bagging_freq': 1}. Best is trial 29 with value: 0.06422694180939024.\u001b[0m\n",
            "\n",
            "bagging, val_score: 0.063803:  30%|###       | 3/10 [00:04<00:11,  1.64s/it]\u001b[A"
          ]
        },
        {
          "output_type": "stream",
          "name": "stdout",
          "text": [
            "[200]\tcv_agg's binary_logloss: 0.0656717 + 0.00512943\n",
            "[100]\tcv_agg's binary_logloss: 0.0642762 + 0.00506232\n"
          ]
        },
        {
          "output_type": "stream",
          "name": "stderr",
          "text": [
            "\n",
            "bagging, val_score: 0.063803:  30%|###       | 3/10 [00:06<00:11,  1.64s/it]\u001b[A\n",
            "bagging, val_score: 0.063803:  40%|####      | 4/10 [00:06<00:09,  1.57s/it]\u001b[A\u001b[32m[I 2021-10-03 15:04:27,012]\u001b[0m Trial 30 finished with value: 0.06427616546760676 and parameters: {'bagging_fraction': 0.9057120471032013, 'bagging_freq': 6}. Best is trial 29 with value: 0.06422694180939024.\u001b[0m\n",
            "\n",
            "bagging, val_score: 0.063803:  40%|####      | 4/10 [00:06<00:09,  1.57s/it]\u001b[A"
          ]
        },
        {
          "output_type": "stream",
          "name": "stdout",
          "text": [
            "[200]\tcv_agg's binary_logloss: 0.0654102 + 0.00624876\n",
            "[100]\tcv_agg's binary_logloss: 0.0643659 + 0.00454659\n"
          ]
        },
        {
          "output_type": "stream",
          "name": "stderr",
          "text": [
            "\n",
            "bagging, val_score: 0.063803:  40%|####      | 4/10 [00:07<00:09,  1.57s/it]\u001b[A\n",
            "bagging, val_score: 0.063803:  50%|#####     | 5/10 [00:07<00:07,  1.60s/it]\u001b[A\u001b[32m[I 2021-10-03 15:04:28,665]\u001b[0m Trial 31 finished with value: 0.06417811966439241 and parameters: {'bagging_fraction': 0.9501527137906939, 'bagging_freq': 4}. Best is trial 31 with value: 0.06417811966439241.\u001b[0m\n",
            "\n",
            "bagging, val_score: 0.063803:  50%|#####     | 5/10 [00:07<00:07,  1.60s/it]\u001b[A"
          ]
        },
        {
          "output_type": "stream",
          "name": "stdout",
          "text": [
            "[200]\tcv_agg's binary_logloss: 0.065366 + 0.0059006\n",
            "[100]\tcv_agg's binary_logloss: 0.0637479 + 0.00513789\n"
          ]
        },
        {
          "output_type": "stream",
          "name": "stderr",
          "text": [
            "\n",
            "bagging, val_score: 0.063634:  50%|#####     | 5/10 [00:09<00:07,  1.60s/it]\u001b[A\n",
            "bagging, val_score: 0.063634:  60%|######    | 6/10 [00:09<00:06,  1.53s/it]\u001b[A\u001b[32m[I 2021-10-03 15:04:30,066]\u001b[0m Trial 32 finished with value: 0.06363425390654363 and parameters: {'bagging_fraction': 0.8894983301078292, 'bagging_freq': 1}. Best is trial 32 with value: 0.06363425390654363.\u001b[0m\n",
            "\n",
            "bagging, val_score: 0.063634:  60%|######    | 6/10 [00:09<00:06,  1.53s/it]\u001b[A"
          ]
        },
        {
          "output_type": "stream",
          "name": "stdout",
          "text": [
            "[200]\tcv_agg's binary_logloss: 0.0642692 + 0.00585644\n",
            "[100]\tcv_agg's binary_logloss: 0.0650084 + 0.00414258\n",
            "[200]\tcv_agg's binary_logloss: 0.0652978 + 0.00516527\n"
          ]
        },
        {
          "output_type": "stream",
          "name": "stderr",
          "text": [
            "\n",
            "bagging, val_score: 0.063634:  60%|######    | 6/10 [00:10<00:06,  1.53s/it]\u001b[A\n",
            "bagging, val_score: 0.063634:  70%|#######   | 7/10 [00:10<00:04,  1.55s/it]\u001b[A\u001b[32m[I 2021-10-03 15:04:31,648]\u001b[0m Trial 33 finished with value: 0.06445169596955948 and parameters: {'bagging_fraction': 0.8495294726376019, 'bagging_freq': 6}. Best is trial 32 with value: 0.06363425390654363.\u001b[0m\n",
            "\n",
            "bagging, val_score: 0.063634:  70%|#######   | 7/10 [00:10<00:04,  1.55s/it]\u001b[A"
          ]
        },
        {
          "output_type": "stream",
          "name": "stdout",
          "text": [
            "[100]\tcv_agg's binary_logloss: 0.066189 + 0.00289447\n"
          ]
        },
        {
          "output_type": "stream",
          "name": "stderr",
          "text": [
            "\n",
            "bagging, val_score: 0.063634:  70%|#######   | 7/10 [00:12<00:04,  1.55s/it]\u001b[A\n",
            "bagging, val_score: 0.063634:  80%|########  | 8/10 [00:12<00:02,  1.47s/it]\u001b[A\u001b[32m[I 2021-10-03 15:04:32,957]\u001b[0m Trial 34 finished with value: 0.06583465924478395 and parameters: {'bagging_fraction': 0.6224173248929419, 'bagging_freq': 3}. Best is trial 32 with value: 0.06363425390654363.\u001b[0m\n",
            "\n",
            "bagging, val_score: 0.063634:  80%|########  | 8/10 [00:12<00:02,  1.47s/it]\u001b[A"
          ]
        },
        {
          "output_type": "stream",
          "name": "stdout",
          "text": [
            "[100]\tcv_agg's binary_logloss: 0.0645388 + 0.00394504\n"
          ]
        },
        {
          "output_type": "stream",
          "name": "stderr",
          "text": [
            "\n",
            "bagging, val_score: 0.063634:  80%|########  | 8/10 [00:13<00:02,  1.47s/it]\u001b[A\n",
            "bagging, val_score: 0.063634:  90%|######### | 9/10 [00:13<00:01,  1.44s/it]\u001b[A\u001b[32m[I 2021-10-03 15:04:34,340]\u001b[0m Trial 35 finished with value: 0.0642915409269625 and parameters: {'bagging_fraction': 0.8110812451637454, 'bagging_freq': 1}. Best is trial 32 with value: 0.06363425390654363.\u001b[0m\n",
            "\n",
            "bagging, val_score: 0.063634:  90%|######### | 9/10 [00:13<00:01,  1.44s/it]\u001b[A"
          ]
        },
        {
          "output_type": "stream",
          "name": "stdout",
          "text": [
            "[200]\tcv_agg's binary_logloss: 0.0652564 + 0.00521641\n",
            "[100]\tcv_agg's binary_logloss: 0.0638924 + 0.00494248\n"
          ]
        },
        {
          "output_type": "stream",
          "name": "stderr",
          "text": [
            "\n",
            "bagging, val_score: 0.063634:  90%|######### | 9/10 [00:14<00:01,  1.44s/it]\u001b[A\n",
            "bagging, val_score: 0.063634: 100%|##########| 10/10 [00:14<00:00,  1.41s/it]\u001b[A\u001b[32m[I 2021-10-03 15:04:35,662]\u001b[0m Trial 36 finished with value: 0.06386257699585893 and parameters: {'bagging_fraction': 0.7401674710608591, 'bagging_freq': 1}. Best is trial 32 with value: 0.06363425390654363.\u001b[0m\n",
            "bagging, val_score: 0.063634: 100%|##########| 10/10 [00:14<00:00,  1.50s/it]\n"
          ]
        },
        {
          "output_type": "stream",
          "name": "stdout",
          "text": [
            "[200]\tcv_agg's binary_logloss: 0.0653312 + 0.00554655\n"
          ]
        },
        {
          "output_type": "stream",
          "name": "stderr",
          "text": [
            "\n",
            "  0%|          | 0/3 [00:00<?, ?it/s]\u001b[A\n",
            "feature_fraction_stage2, val_score: 0.063634:   0%|          | 0/3 [00:00<?, ?it/s]\u001b[A"
          ]
        },
        {
          "output_type": "stream",
          "name": "stdout",
          "text": [
            "[100]\tcv_agg's binary_logloss: 0.063435 + 0.00540725\n"
          ]
        },
        {
          "output_type": "stream",
          "name": "stderr",
          "text": [
            "\n",
            "feature_fraction_stage2, val_score: 0.063323:   0%|          | 0/3 [00:01<?, ?it/s]\u001b[A\n",
            "feature_fraction_stage2, val_score: 0.063323:  33%|###3      | 1/3 [00:01<00:02,  1.46s/it]\u001b[A\u001b[32m[I 2021-10-03 15:04:37,142]\u001b[0m Trial 37 finished with value: 0.06332345517586799 and parameters: {'feature_fraction': 0.9520000000000001}. Best is trial 37 with value: 0.06332345517586799.\u001b[0m\n",
            "\n",
            "feature_fraction_stage2, val_score: 0.063323:  33%|###3      | 1/3 [00:01<00:02,  1.46s/it]\u001b[A"
          ]
        },
        {
          "output_type": "stream",
          "name": "stdout",
          "text": [
            "[100]\tcv_agg's binary_logloss: 0.0639366 + 0.00508897\n"
          ]
        },
        {
          "output_type": "stream",
          "name": "stderr",
          "text": [
            "\n",
            "feature_fraction_stage2, val_score: 0.063323:  33%|###3      | 1/3 [00:02<00:02,  1.46s/it]\u001b[A\n",
            "feature_fraction_stage2, val_score: 0.063323:  67%|######6   | 2/3 [00:02<00:01,  1.40s/it]\u001b[A\u001b[32m[I 2021-10-03 15:04:38,496]\u001b[0m Trial 38 finished with value: 0.0638665372432586 and parameters: {'feature_fraction': 0.92}. Best is trial 37 with value: 0.06332345517586799.\u001b[0m\n",
            "\n",
            "feature_fraction_stage2, val_score: 0.063323:  67%|######6   | 2/3 [00:02<00:01,  1.40s/it]\u001b[A"
          ]
        },
        {
          "output_type": "stream",
          "name": "stdout",
          "text": [
            "[200]\tcv_agg's binary_logloss: 0.0648803 + 0.00621742\n",
            "[100]\tcv_agg's binary_logloss: 0.0634923 + 0.00551923\n"
          ]
        },
        {
          "output_type": "stream",
          "name": "stderr",
          "text": [
            "\n",
            "feature_fraction_stage2, val_score: 0.063323:  67%|######6   | 2/3 [00:04<00:01,  1.40s/it]\u001b[A\n",
            "feature_fraction_stage2, val_score: 0.063323: 100%|##########| 3/3 [00:04<00:00,  1.42s/it]\u001b[A\u001b[32m[I 2021-10-03 15:04:39,944]\u001b[0m Trial 39 finished with value: 0.06335039233480218 and parameters: {'feature_fraction': 0.9840000000000001}. Best is trial 37 with value: 0.06332345517586799.\u001b[0m\n",
            "feature_fraction_stage2, val_score: 0.063323: 100%|##########| 3/3 [00:04<00:00,  1.42s/it]\n"
          ]
        },
        {
          "output_type": "stream",
          "name": "stdout",
          "text": [
            "[200]\tcv_agg's binary_logloss: 0.0642061 + 0.00643826\n"
          ]
        },
        {
          "output_type": "stream",
          "name": "stderr",
          "text": [
            "\n",
            "  0%|          | 0/20 [00:00<?, ?it/s]\u001b[A\n",
            "regularization_factors, val_score: 0.063323:   0%|          | 0/20 [00:00<?, ?it/s]\u001b[A"
          ]
        },
        {
          "output_type": "stream",
          "name": "stdout",
          "text": [
            "[100]\tcv_agg's binary_logloss: 0.0635313 + 0.00543479\n"
          ]
        },
        {
          "output_type": "stream",
          "name": "stderr",
          "text": [
            "\n",
            "regularization_factors, val_score: 0.063323:   0%|          | 0/20 [00:01<?, ?it/s]\u001b[A\n",
            "regularization_factors, val_score: 0.063323:   5%|5         | 1/20 [00:01<00:24,  1.26s/it]\u001b[A\u001b[32m[I 2021-10-03 15:04:41,221]\u001b[0m Trial 40 finished with value: 0.06343837912068301 and parameters: {'lambda_l1': 0.001891792941682022, 'lambda_l2': 9.039269922499692e-06}. Best is trial 40 with value: 0.06343837912068301.\u001b[0m\n",
            "\n",
            "regularization_factors, val_score: 0.063323:   5%|5         | 1/20 [00:01<00:24,  1.26s/it]\u001b[A"
          ]
        },
        {
          "output_type": "stream",
          "name": "stdout",
          "text": [
            "[100]\tcv_agg's binary_logloss: 0.0641165 + 0.00411565\n",
            "[200]\tcv_agg's binary_logloss: 0.0633257 + 0.00453485\n"
          ]
        },
        {
          "output_type": "stream",
          "name": "stderr",
          "text": [
            "\n",
            "regularization_factors, val_score: 0.063314:   5%|5         | 1/20 [00:03<00:24,  1.26s/it]\u001b[A\n",
            "regularization_factors, val_score: 0.063314:  10%|#         | 2/20 [00:03<00:35,  1.96s/it]\u001b[A\u001b[32m[I 2021-10-03 15:04:43,673]\u001b[0m Trial 41 finished with value: 0.06331433855770222 and parameters: {'lambda_l1': 1.1535133093018755e-05, 'lambda_l2': 8.31509462817818}. Best is trial 41 with value: 0.06331433855770222.\u001b[0m\n",
            "\n",
            "regularization_factors, val_score: 0.063314:  10%|#         | 2/20 [00:03<00:35,  1.96s/it]\u001b[A"
          ]
        },
        {
          "output_type": "stream",
          "name": "stdout",
          "text": [
            "[100]\tcv_agg's binary_logloss: 0.0634236 + 0.00554404\n"
          ]
        },
        {
          "output_type": "stream",
          "name": "stderr",
          "text": [
            "\n"
          ]
        },
        {
          "output_type": "stream",
          "name": "stdout",
          "text": [
            "[200]\tcv_agg's binary_logloss: 0.0635187 + 0.00685914\n"
          ]
        },
        {
          "output_type": "stream",
          "name": "stderr",
          "text": [
            "regularization_factors, val_score: 0.063179:  10%|#         | 2/20 [00:05<00:35,  1.96s/it]\u001b[A\n",
            "regularization_factors, val_score: 0.063179:  15%|#5        | 3/20 [00:05<00:32,  1.91s/it]\u001b[A\u001b[32m[I 2021-10-03 15:04:45,525]\u001b[0m Trial 42 finished with value: 0.06317890336951634 and parameters: {'lambda_l1': 0.002306931037511435, 'lambda_l2': 1.5608448499324795e-08}. Best is trial 42 with value: 0.06317890336951634.\u001b[0m\n",
            "\n",
            "regularization_factors, val_score: 0.063179:  15%|#5        | 3/20 [00:05<00:32,  1.91s/it]\u001b[A"
          ]
        },
        {
          "output_type": "stream",
          "name": "stdout",
          "text": [
            "[100]\tcv_agg's binary_logloss: 0.0631092 + 0.00404615\n",
            "[200]\tcv_agg's binary_logloss: 0.0632808 + 0.00500363\n"
          ]
        },
        {
          "output_type": "stream",
          "name": "stderr",
          "text": [
            "\n",
            "regularization_factors, val_score: 0.062762:  15%|#5        | 3/20 [00:07<00:32,  1.91s/it]\u001b[A\n",
            "regularization_factors, val_score: 0.062762:  20%|##        | 4/20 [00:07<00:30,  1.89s/it]\u001b[A\u001b[32m[I 2021-10-03 15:04:47,377]\u001b[0m Trial 43 finished with value: 0.0627617162573236 and parameters: {'lambda_l1': 0.3851950579876187, 'lambda_l2': 0.030322243380912196}. Best is trial 43 with value: 0.0627617162573236.\u001b[0m\n",
            "\n",
            "regularization_factors, val_score: 0.062762:  20%|##        | 4/20 [00:07<00:30,  1.89s/it]\u001b[A"
          ]
        },
        {
          "output_type": "stream",
          "name": "stdout",
          "text": [
            "[100]\tcv_agg's binary_logloss: 0.0638235 + 0.00373968\n",
            "[200]\tcv_agg's binary_logloss: 0.0636781 + 0.00465309\n"
          ]
        },
        {
          "output_type": "stream",
          "name": "stderr",
          "text": [
            "\n",
            "regularization_factors, val_score: 0.062762:  20%|##        | 4/20 [00:09<00:30,  1.89s/it]\u001b[A\n",
            "regularization_factors, val_score: 0.062762:  25%|##5       | 5/20 [00:09<00:28,  1.90s/it]\u001b[A\u001b[32m[I 2021-10-03 15:04:49,301]\u001b[0m Trial 44 finished with value: 0.06341937812935998 and parameters: {'lambda_l1': 1.7876838093162113, 'lambda_l2': 0.0004495003751195825}. Best is trial 43 with value: 0.0627617162573236.\u001b[0m\n",
            "\n",
            "regularization_factors, val_score: 0.062762:  25%|##5       | 5/20 [00:09<00:28,  1.90s/it]\u001b[A"
          ]
        },
        {
          "output_type": "stream",
          "name": "stdout",
          "text": [
            "[100]\tcv_agg's binary_logloss: 0.0636203 + 0.00537572\n"
          ]
        },
        {
          "output_type": "stream",
          "name": "stderr",
          "text": [
            "\n",
            "regularization_factors, val_score: 0.062762:  25%|##5       | 5/20 [00:11<00:28,  1.90s/it]\u001b[A\n",
            "regularization_factors, val_score: 0.062762:  30%|###       | 6/20 [00:11<00:26,  1.87s/it]\u001b[A\u001b[32m[I 2021-10-03 15:04:51,118]\u001b[0m Trial 45 finished with value: 0.06347174440978351 and parameters: {'lambda_l1': 0.22002648033718603, 'lambda_l2': 4.051750034558487e-08}. Best is trial 43 with value: 0.0627617162573236.\u001b[0m\n",
            "\n",
            "regularization_factors, val_score: 0.062762:  30%|###       | 6/20 [00:11<00:26,  1.87s/it]\u001b[A"
          ]
        },
        {
          "output_type": "stream",
          "name": "stdout",
          "text": [
            "[200]\tcv_agg's binary_logloss: 0.0637821 + 0.00564434\n",
            "[100]\tcv_agg's binary_logloss: 0.0630593 + 0.00439369\n",
            "[200]\tcv_agg's binary_logloss: 0.0633129 + 0.00507385\n"
          ]
        },
        {
          "output_type": "stream",
          "name": "stderr",
          "text": [
            "\n",
            "regularization_factors, val_score: 0.062762:  30%|###       | 6/20 [00:13<00:26,  1.87s/it]\u001b[A\n",
            "regularization_factors, val_score: 0.062762:  35%|###5      | 7/20 [00:13<00:25,  1.93s/it]\u001b[A\u001b[32m[I 2021-10-03 15:04:53,159]\u001b[0m Trial 46 finished with value: 0.06289264467257268 and parameters: {'lambda_l1': 0.055327632836602546, 'lambda_l2': 0.3776618841008405}. Best is trial 43 with value: 0.0627617162573236.\u001b[0m\n",
            "\n",
            "regularization_factors, val_score: 0.062762:  35%|###5      | 7/20 [00:13<00:25,  1.93s/it]\u001b[A"
          ]
        },
        {
          "output_type": "stream",
          "name": "stdout",
          "text": [
            "[100]\tcv_agg's binary_logloss: 0.0634784 + 0.005443\n"
          ]
        },
        {
          "output_type": "stream",
          "name": "stderr",
          "text": [
            "\n",
            "regularization_factors, val_score: 0.062762:  35%|###5      | 7/20 [00:14<00:25,  1.93s/it]\u001b[A\n",
            "regularization_factors, val_score: 0.062762:  40%|####      | 8/20 [00:14<00:21,  1.82s/it]\u001b[A\u001b[32m[I 2021-10-03 15:04:54,761]\u001b[0m Trial 47 finished with value: 0.06331834753499613 and parameters: {'lambda_l1': 2.1690016050428965e-05, 'lambda_l2': 2.3188497196875473e-05}. Best is trial 43 with value: 0.0627617162573236.\u001b[0m\n",
            "\n",
            "regularization_factors, val_score: 0.062762:  40%|####      | 8/20 [00:14<00:21,  1.82s/it]\u001b[A"
          ]
        },
        {
          "output_type": "stream",
          "name": "stdout",
          "text": [
            "[100]\tcv_agg's binary_logloss: 0.0634889 + 0.00563945\n"
          ]
        },
        {
          "output_type": "stream",
          "name": "stderr",
          "text": [
            "\n",
            "regularization_factors, val_score: 0.062762:  40%|####      | 8/20 [00:16<00:21,  1.82s/it]\u001b[A\n",
            "regularization_factors, val_score: 0.062762:  45%|####5     | 9/20 [00:16<00:19,  1.82s/it]\u001b[A\u001b[32m[I 2021-10-03 15:04:56,559]\u001b[0m Trial 48 finished with value: 0.0633675920782843 and parameters: {'lambda_l1': 0.0146628596444302, 'lambda_l2': 1.0304863289708939e-07}. Best is trial 43 with value: 0.0627617162573236.\u001b[0m\n",
            "\n",
            "regularization_factors, val_score: 0.062762:  45%|####5     | 9/20 [00:16<00:19,  1.82s/it]\u001b[A"
          ]
        },
        {
          "output_type": "stream",
          "name": "stdout",
          "text": [
            "[200]\tcv_agg's binary_logloss: 0.06423 + 0.00671175\n",
            "[100]\tcv_agg's binary_logloss: 0.0634782 + 0.0054428\n"
          ]
        },
        {
          "output_type": "stream",
          "name": "stderr",
          "text": [
            "\n",
            "regularization_factors, val_score: 0.062762:  45%|####5     | 9/20 [00:18<00:19,  1.82s/it]\u001b[A\n",
            "regularization_factors, val_score: 0.062762:  50%|#####     | 10/20 [00:18<00:17,  1.75s/it]\u001b[A\u001b[32m[I 2021-10-03 15:04:58,172]\u001b[0m Trial 49 finished with value: 0.06331829370862294 and parameters: {'lambda_l1': 0.0012662284463579314, 'lambda_l2': 1.451024984275369e-08}. Best is trial 43 with value: 0.0627617162573236.\u001b[0m\n",
            "\n",
            "regularization_factors, val_score: 0.062762:  50%|#####     | 10/20 [00:18<00:17,  1.75s/it]\u001b[A"
          ]
        },
        {
          "output_type": "stream",
          "name": "stdout",
          "text": [
            "[100]\tcv_agg's binary_logloss: 0.06424 + 0.00534911\n"
          ]
        },
        {
          "output_type": "stream",
          "name": "stderr",
          "text": [
            "\n",
            "regularization_factors, val_score: 0.062762:  50%|#####     | 10/20 [00:19<00:17,  1.75s/it]\u001b[A\n",
            "regularization_factors, val_score: 0.062762:  55%|#####5    | 11/20 [00:19<00:15,  1.72s/it]\u001b[A\u001b[32m[I 2021-10-03 15:04:59,821]\u001b[0m Trial 50 finished with value: 0.06408358001686396 and parameters: {'lambda_l1': 6.44225581490752e-08, 'lambda_l2': 0.008571894983912672}. Best is trial 43 with value: 0.0627617162573236.\u001b[0m\n",
            "\n",
            "regularization_factors, val_score: 0.062762:  55%|#####5    | 11/20 [00:19<00:15,  1.72s/it]\u001b[A"
          ]
        },
        {
          "output_type": "stream",
          "name": "stdout",
          "text": [
            "[200]\tcv_agg's binary_logloss: 0.0647404 + 0.00614986\n",
            "[100]\tcv_agg's binary_logloss: 0.0668741 + 0.00379076\n",
            "[200]\tcv_agg's binary_logloss: 0.0661542 + 0.00411484\n"
          ]
        },
        {
          "output_type": "stream",
          "name": "stderr",
          "text": [
            "\n",
            "regularization_factors, val_score: 0.062762:  55%|#####5    | 11/20 [00:21<00:15,  1.72s/it]\u001b[A\n",
            "regularization_factors, val_score: 0.062762:  60%|######    | 12/20 [00:21<00:13,  1.68s/it]\u001b[A\u001b[32m[I 2021-10-03 15:05:01,410]\u001b[0m Trial 51 finished with value: 0.06613859243103815 and parameters: {'lambda_l1': 9.996496917452308, 'lambda_l2': 0.5101625466043722}. Best is trial 43 with value: 0.0627617162573236.\u001b[0m\n",
            "\n",
            "regularization_factors, val_score: 0.062762:  60%|######    | 12/20 [00:21<00:13,  1.68s/it]\u001b[A"
          ]
        },
        {
          "output_type": "stream",
          "name": "stdout",
          "text": [
            "[100]\tcv_agg's binary_logloss: 0.0628958 + 0.004162\n"
          ]
        },
        {
          "output_type": "stream",
          "name": "stderr",
          "text": [
            "\n",
            "regularization_factors, val_score: 0.062762:  60%|######    | 12/20 [00:22<00:13,  1.68s/it]\u001b[A\n",
            "regularization_factors, val_score: 0.062762:  65%|######5   | 13/20 [00:22<00:11,  1.59s/it]\u001b[A\u001b[32m[I 2021-10-03 15:05:02,779]\u001b[0m Trial 52 finished with value: 0.06283534365950763 and parameters: {'lambda_l1': 0.1678599436257726, 'lambda_l2': 0.05949326437733006}. Best is trial 43 with value: 0.0627617162573236.\u001b[0m\n",
            "\n",
            "regularization_factors, val_score: 0.062762:  65%|######5   | 13/20 [00:22<00:11,  1.59s/it]\u001b[A"
          ]
        },
        {
          "output_type": "stream",
          "name": "stdout",
          "text": [
            "[200]\tcv_agg's binary_logloss: 0.0637223 + 0.0050619\n",
            "[100]\tcv_agg's binary_logloss: 0.06274 + 0.00411382\n"
          ]
        },
        {
          "output_type": "stream",
          "name": "stderr",
          "text": [
            "\n",
            "regularization_factors, val_score: 0.062617:  65%|######5   | 13/20 [00:24<00:11,  1.59s/it]\u001b[A\n",
            "regularization_factors, val_score: 0.062617:  70%|#######   | 14/20 [00:24<00:09,  1.56s/it]\u001b[A\u001b[32m[I 2021-10-03 15:05:04,266]\u001b[0m Trial 53 finished with value: 0.06261664711541129 and parameters: {'lambda_l1': 0.48798317881617986, 'lambda_l2': 0.009045165766230765}. Best is trial 53 with value: 0.06261664711541129.\u001b[0m\n",
            "\n",
            "regularization_factors, val_score: 0.062617:  70%|#######   | 14/20 [00:24<00:09,  1.56s/it]\u001b[A"
          ]
        },
        {
          "output_type": "stream",
          "name": "stdout",
          "text": [
            "[200]\tcv_agg's binary_logloss: 0.0631328 + 0.00486224\n",
            "[100]\tcv_agg's binary_logloss: 0.0634823 + 0.00400035\n",
            "[200]\tcv_agg's binary_logloss: 0.0633265 + 0.00475263\n"
          ]
        },
        {
          "output_type": "stream",
          "name": "stderr",
          "text": [
            "\n",
            "regularization_factors, val_score: 0.062617:  70%|#######   | 14/20 [00:26<00:09,  1.56s/it]\u001b[A\n",
            "regularization_factors, val_score: 0.062617:  75%|#######5  | 15/20 [00:26<00:08,  1.67s/it]\u001b[A\u001b[32m[I 2021-10-03 15:05:06,198]\u001b[0m Trial 54 finished with value: 0.0631282937990232 and parameters: {'lambda_l1': 1.6971091722684817, 'lambda_l2': 0.002024044233907426}. Best is trial 53 with value: 0.06261664711541129.\u001b[0m\n",
            "\n",
            "regularization_factors, val_score: 0.062617:  75%|#######5  | 15/20 [00:26<00:08,  1.67s/it]\u001b[A"
          ]
        },
        {
          "output_type": "stream",
          "name": "stdout",
          "text": [
            "[100]\tcv_agg's binary_logloss: 0.0634783 + 0.00544298\n"
          ]
        },
        {
          "output_type": "stream",
          "name": "stderr",
          "text": [
            "\n",
            "regularization_factors, val_score: 0.062617:  75%|#######5  | 15/20 [00:27<00:08,  1.67s/it]\u001b[A\n",
            "regularization_factors, val_score: 0.062617:  80%|########  | 16/20 [00:27<00:06,  1.64s/it]\u001b[A\u001b[32m[I 2021-10-03 15:05:07,767]\u001b[0m Trial 55 finished with value: 0.06331832795039773 and parameters: {'lambda_l1': 3.2338190231419045e-05, 'lambda_l2': 2.9748276095896292e-05}. Best is trial 53 with value: 0.06261664711541129.\u001b[0m\n",
            "\n",
            "regularization_factors, val_score: 0.062617:  80%|########  | 16/20 [00:27<00:06,  1.64s/it]\u001b[A"
          ]
        },
        {
          "output_type": "stream",
          "name": "stdout",
          "text": [
            "[100]\tcv_agg's binary_logloss: 0.0631003 + 0.00424929\n"
          ]
        },
        {
          "output_type": "stream",
          "name": "stderr",
          "text": [
            "\n",
            "regularization_factors, val_score: 0.062617:  80%|########  | 16/20 [00:29<00:06,  1.64s/it]\u001b[A\n",
            "regularization_factors, val_score: 0.062617:  85%|########5 | 17/20 [00:29<00:05,  1.69s/it]\u001b[A\u001b[32m[I 2021-10-03 15:05:09,584]\u001b[0m Trial 56 finished with value: 0.06288194878984914 and parameters: {'lambda_l1': 1.006932641559376e-08, 'lambda_l2': 0.031900323172688795}. Best is trial 53 with value: 0.06261664711541129.\u001b[0m\n",
            "\n",
            "regularization_factors, val_score: 0.062617:  85%|########5 | 17/20 [00:29<00:05,  1.69s/it]\u001b[A"
          ]
        },
        {
          "output_type": "stream",
          "name": "stdout",
          "text": [
            "[200]\tcv_agg's binary_logloss: 0.0637164 + 0.00530547\n",
            "[100]\tcv_agg's binary_logloss: 0.0636885 + 0.0058014\n"
          ]
        },
        {
          "output_type": "stream",
          "name": "stderr",
          "text": [
            "\n",
            "regularization_factors, val_score: 0.062617:  85%|########5 | 17/20 [00:31<00:05,  1.69s/it]\u001b[A\n",
            "regularization_factors, val_score: 0.062617:  90%|######### | 18/20 [00:31<00:03,  1.73s/it]\u001b[A\u001b[32m[I 2021-10-03 15:05:11,409]\u001b[0m Trial 57 finished with value: 0.06352052633757103 and parameters: {'lambda_l1': 0.014061568545009536, 'lambda_l2': 0.00035231107871135575}. Best is trial 53 with value: 0.06261664711541129.\u001b[0m\n",
            "\n",
            "regularization_factors, val_score: 0.062617:  90%|######### | 18/20 [00:31<00:03,  1.73s/it]\u001b[A"
          ]
        },
        {
          "output_type": "stream",
          "name": "stdout",
          "text": [
            "[200]\tcv_agg's binary_logloss: 0.0639857 + 0.00638044\n",
            "[100]\tcv_agg's binary_logloss: 0.0658789 + 0.00394428\n",
            "[200]\tcv_agg's binary_logloss: 0.0648301 + 0.00415813\n",
            "[300]\tcv_agg's binary_logloss: 0.0644936 + 0.00433003\n"
          ]
        },
        {
          "output_type": "stream",
          "name": "stderr",
          "text": [
            "\n",
            "regularization_factors, val_score: 0.062617:  90%|######### | 18/20 [00:34<00:03,  1.73s/it]\u001b[A\n",
            "regularization_factors, val_score: 0.062617:  95%|#########5| 19/20 [00:34<00:02,  2.00s/it]\u001b[A\u001b[32m[I 2021-10-03 15:05:14,045]\u001b[0m Trial 58 finished with value: 0.06448632749628991 and parameters: {'lambda_l1': 7.473774431795367, 'lambda_l2': 5.089803938334912}. Best is trial 53 with value: 0.06261664711541129.\u001b[0m\n",
            "\n",
            "regularization_factors, val_score: 0.062617:  95%|#########5| 19/20 [00:34<00:02,  2.00s/it]\u001b[A"
          ]
        },
        {
          "output_type": "stream",
          "name": "stdout",
          "text": [
            "[100]\tcv_agg's binary_logloss: 0.0628281 + 0.0045451\n"
          ]
        },
        {
          "output_type": "stream",
          "name": "stderr",
          "text": [
            "\n",
            "regularization_factors, val_score: 0.062454:  95%|#########5| 19/20 [00:35<00:02,  2.00s/it]\u001b[A\n",
            "regularization_factors, val_score: 0.062454: 100%|##########| 20/20 [00:35<00:00,  1.95s/it]\u001b[A\u001b[32m[I 2021-10-03 15:05:15,861]\u001b[0m Trial 59 finished with value: 0.06245369771164318 and parameters: {'lambda_l1': 0.6914196638823401, 'lambda_l2': 1.9494608120297345e-06}. Best is trial 59 with value: 0.06245369771164318.\u001b[0m\n",
            "regularization_factors, val_score: 0.062454: 100%|##########| 20/20 [00:35<00:00,  1.80s/it]\n"
          ]
        },
        {
          "output_type": "stream",
          "name": "stdout",
          "text": [
            "[200]\tcv_agg's binary_logloss: 0.062809 + 0.00512204\n"
          ]
        },
        {
          "output_type": "stream",
          "name": "stderr",
          "text": [
            "\n",
            "  0%|          | 0/5 [00:00<?, ?it/s]\u001b[A\n",
            "min_data_in_leaf, val_score: 0.062454:   0%|          | 0/5 [00:00<?, ?it/s]\u001b[A"
          ]
        },
        {
          "output_type": "stream",
          "name": "stdout",
          "text": [
            "[100]\tcv_agg's binary_logloss: 0.062961 + 0.00489692\n",
            "[200]\tcv_agg's binary_logloss: 0.0630794 + 0.0058258\n"
          ]
        },
        {
          "output_type": "stream",
          "name": "stderr",
          "text": [
            "\n",
            "min_data_in_leaf, val_score: 0.062454:   0%|          | 0/5 [00:01<?, ?it/s]\u001b[A\n",
            "min_data_in_leaf, val_score: 0.062454:  20%|##        | 1/5 [00:01<00:06,  1.66s/it]\u001b[A\u001b[32m[I 2021-10-03 15:05:17,542]\u001b[0m Trial 60 finished with value: 0.062762591612572 and parameters: {'min_child_samples': 5}. Best is trial 60 with value: 0.062762591612572.\u001b[0m\n",
            "\n",
            "min_data_in_leaf, val_score: 0.062454:  20%|##        | 1/5 [00:01<00:06,  1.66s/it]\u001b[A"
          ]
        },
        {
          "output_type": "stream",
          "name": "stdout",
          "text": [
            "[100]\tcv_agg's binary_logloss: 0.0629083 + 0.00387922\n",
            "[200]\tcv_agg's binary_logloss: 0.0628213 + 0.00464947\n"
          ]
        },
        {
          "output_type": "stream",
          "name": "stderr",
          "text": [
            "\n",
            "min_data_in_leaf, val_score: 0.062454:  20%|##        | 1/5 [00:04<00:06,  1.66s/it]\u001b[A\n",
            "min_data_in_leaf, val_score: 0.062454:  40%|####      | 2/5 [00:04<00:06,  2.07s/it]\u001b[A\u001b[32m[I 2021-10-03 15:05:19,906]\u001b[0m Trial 61 finished with value: 0.06274742320698974 and parameters: {'min_child_samples': 10}. Best is trial 61 with value: 0.06274742320698974.\u001b[0m\n",
            "\n",
            "min_data_in_leaf, val_score: 0.062454:  40%|####      | 2/5 [00:04<00:06,  2.07s/it]\u001b[A"
          ]
        },
        {
          "output_type": "stream",
          "name": "stdout",
          "text": [
            "[100]\tcv_agg's binary_logloss: 0.0646555 + 0.00471493\n"
          ]
        },
        {
          "output_type": "stream",
          "name": "stderr",
          "text": [
            "\n",
            "min_data_in_leaf, val_score: 0.062454:  40%|####      | 2/5 [00:05<00:06,  2.07s/it]\u001b[A\n",
            "min_data_in_leaf, val_score: 0.062454:  60%|######    | 3/5 [00:05<00:03,  1.86s/it]\u001b[A\u001b[32m[I 2021-10-03 15:05:21,503]\u001b[0m Trial 62 finished with value: 0.06446125006587893 and parameters: {'min_child_samples': 100}. Best is trial 61 with value: 0.06274742320698974.\u001b[0m\n",
            "\n",
            "min_data_in_leaf, val_score: 0.062454:  60%|######    | 3/5 [00:05<00:03,  1.86s/it]\u001b[A"
          ]
        },
        {
          "output_type": "stream",
          "name": "stdout",
          "text": [
            "[200]\tcv_agg's binary_logloss: 0.065042 + 0.00550867\n",
            "[100]\tcv_agg's binary_logloss: 0.0639441 + 0.00427451\n",
            "[200]\tcv_agg's binary_logloss: 0.0640165 + 0.00494474\n"
          ]
        },
        {
          "output_type": "stream",
          "name": "stderr",
          "text": [
            "\n",
            "min_data_in_leaf, val_score: 0.062454:  60%|######    | 3/5 [00:07<00:03,  1.86s/it]\u001b[A\n",
            "min_data_in_leaf, val_score: 0.062454:  80%|########  | 4/5 [00:07<00:01,  1.72s/it]\u001b[A\u001b[32m[I 2021-10-03 15:05:23,025]\u001b[0m Trial 63 finished with value: 0.06356631459310545 and parameters: {'min_child_samples': 50}. Best is trial 61 with value: 0.06274742320698974.\u001b[0m\n",
            "\n",
            "min_data_in_leaf, val_score: 0.062454:  80%|########  | 4/5 [00:07<00:01,  1.72s/it]\u001b[A"
          ]
        },
        {
          "output_type": "stream",
          "name": "stdout",
          "text": [
            "[100]\tcv_agg's binary_logloss: 0.0633443 + 0.0041511\n"
          ]
        },
        {
          "output_type": "stream",
          "name": "stderr",
          "text": [
            "\n",
            "min_data_in_leaf, val_score: 0.062454:  80%|########  | 4/5 [00:08<00:01,  1.72s/it]\u001b[A\n",
            "min_data_in_leaf, val_score: 0.062454: 100%|##########| 5/5 [00:08<00:00,  1.64s/it]\u001b[A\u001b[32m[I 2021-10-03 15:05:24,503]\u001b[0m Trial 64 finished with value: 0.06305547825308289 and parameters: {'min_child_samples': 25}. Best is trial 61 with value: 0.06274742320698974.\u001b[0m\n",
            "min_data_in_leaf, val_score: 0.062454: 100%|##########| 5/5 [00:08<00:00,  1.73s/it]"
          ]
        },
        {
          "output_type": "stream",
          "name": "stdout",
          "text": [
            "[200]\tcv_agg's binary_logloss: 0.0634376 + 0.00515264\n",
            "CPU times: user 20min 40s, sys: 12.1 s, total: 20min 52s\n",
            "Wall time: 2min 40s\n"
          ]
        },
        {
          "output_type": "stream",
          "name": "stderr",
          "text": [
            "\n"
          ]
        }
      ]
    },
    {
      "cell_type": "code",
      "metadata": {
        "colab": {
          "base_uri": "https://localhost:8080/"
        },
        "id": "sP0qCKIzLs7F",
        "outputId": "472658a5-bd6b-4fc5-90ee-a7895221485a"
      },
      "source": [
        "best_params = tuner.best_params\n",
        "print(\"  Params: \")\n",
        "for key, value in best_params.items():\n",
        "  print(f\"    {key}: {value}\")\n",
        "\n",
        "# ベストパラメータで学習\n",
        "model = lgb_original.train(best_params, train_data)\n",
        "preds_proba = model.predict(X_test)\n",
        "\n",
        "border = 0.0232086940504697\n",
        "print(fbeta_score(y_train, model.predict(X_train) > border, beta=7))"
      ],
      "execution_count": 89,
      "outputs": [
        {
          "output_type": "stream",
          "name": "stdout",
          "text": [
            "  Params: \n",
            "    objective: binary\n",
            "    metric: binary_logloss\n",
            "    random_seed: 471\n",
            "    feature_pre_filter: False\n",
            "    lambda_l1: 0.6914196638823401\n",
            "    lambda_l2: 1.9494608120297345e-06\n",
            "    num_leaves: 7\n",
            "    feature_fraction: 0.9520000000000001\n",
            "    bagging_fraction: 0.8894983301078292\n",
            "    bagging_freq: 1\n",
            "    min_child_samples: 20\n",
            "0.8601587365537247\n"
          ]
        }
      ]
    },
    {
      "cell_type": "code",
      "metadata": {
        "colab": {
          "base_uri": "https://localhost:8080/",
          "height": 282
        },
        "id": "WBc2woWwLw8b",
        "outputId": "ed5676f8-2853-403f-c060-509fca93c3ce"
      },
      "source": [
        "score_list = [fbeta_score(y_test, preds_proba > border, beta=7) for border in np.arange(0.1, 0.9, 0.1)]\n",
        "plt.plot(np.arange(0.1, 0.9, 0.1), np.array(score_list))"
      ],
      "execution_count": 90,
      "outputs": [
        {
          "output_type": "execute_result",
          "data": {
            "text/plain": [
              "[<matplotlib.lines.Line2D at 0x7ff4219f6210>]"
            ]
          },
          "metadata": {},
          "execution_count": 90
        },
        {
          "output_type": "display_data",
          "data": {
            "image/png": "[encoded data removed]",
            "text/plain": [
              "<Figure size 432x288 with 1 Axes>"
            ]
          },
          "metadata": {
            "needs_background": "light"
          }
        }
      ]
    },
    {
      "cell_type": "code",
      "metadata": {
        "colab": {
          "base_uri": "https://localhost:8080/",
          "height": 282
        },
        "id": "ekktiHliLvN8",
        "outputId": "cf123eb4-9038-4b5a-e99b-bfa876c60ec1"
      },
      "source": [
        "score_list = [fbeta_score(y_test, preds_proba > border, beta=7) for border in np.arange(0.0001, 0.2, 0.0001)]\n",
        "plt.plot(np.arange(0.0001, 0.2, 0.0001), np.array(score_list))"
      ],
      "execution_count": 91,
      "outputs": [
        {
          "output_type": "execute_result",
          "data": {
            "text/plain": [
              "[<matplotlib.lines.Line2D at 0x7ff4219f9f90>]"
            ]
          },
          "metadata": {},
          "execution_count": 91
        },
        {
          "output_type": "display_data",
          "data": {
            "image/png": "[encoded data removed]",
            "text/plain": [
              "<Figure size 432x288 with 1 Axes>"
            ]
          },
          "metadata": {
            "needs_background": "light"
          }
        }
      ]
    },
    {
      "cell_type": "code",
      "metadata": {
        "colab": {
          "base_uri": "https://localhost:8080/"
        },
        "id": "JbrqE9c6kp6o",
        "outputId": "f70f9c02-1ea4-40cd-998a-f4c844fa1ad8"
      },
      "source": [
        "np.arange(0.0001, 0.2, 0.0001)[np.array(score_list).argmax()]"
      ],
      "execution_count": 94,
      "outputs": [
        {
          "output_type": "execute_result",
          "data": {
            "text/plain": [
              "0.0237"
            ]
          },
          "metadata": {},
          "execution_count": 94
        }
      ]
    },
    {
      "cell_type": "code",
      "metadata": {
        "colab": {
          "base_uri": "https://localhost:8080/"
        },
        "id": "ZC7DHrz8Ly9D",
        "outputId": "27a6a505-7792-4024-e167-8c30374f0039"
      },
      "source": [
        "border = 0.0232086940504697\n",
        "border = np.arange(0.0001, 0.2, 0.0001)[np.array(score_list).argmax()]\n",
        "preds = preds_proba > border\n",
        "fbeta_score(y_test, preds, beta=7)"
      ],
      "execution_count": 95,
      "outputs": [
        {
          "output_type": "execute_result",
          "data": {
            "text/plain": [
              "0.7832238504295099"
            ]
          },
          "metadata": {},
          "execution_count": 95
        }
      ]
    },
    {
      "cell_type": "code",
      "metadata": {
        "id": "LSR5jVCeL0Xl"
      },
      "source": [
        "test_cols = list(test_preds_df.columns[test_preds_df.columns.str.contains(\"preds_mean\")])\n",
        "test_cols = test_cols + pred_cols\n",
        "test = test_preds_df.loc[:, test_cols]\n",
        "t_preds = model.predict(test)\n",
        "output = t_preds > border"
      ],
      "execution_count": 20,
      "outputs": []
    },
    {
      "cell_type": "code",
      "metadata": {
        "id": "m1O8dSvvL2c6"
      },
      "source": [
        "sub = pd.read_csv(\"/content/drive/MyDrive/signate/rawdata/\" + \"sample_submit.csv\", header=None)\n",
        "sub.columns = [\"id\", \"judgement\"]\n",
        "sub[\"judgement\"] = output\n",
        "sub[\"judgement\"] = sub[\"judgement\"].astype(int)\n",
        "sub.to_csv(\"/content/drive/MyDrive/signate/data/\" + \"submission.csv\", index=False, header=False)"
      ],
      "execution_count": 35,
      "outputs": []
    },
    {
      "cell_type": "code",
      "metadata": {
        "id": "-kpR9lsAL3BO"
      },
      "source": [
        "# 他のモデルの結果と比較\n",
        "sample = pd.read_csv(\"/content/drive/MyDrive/signate/results/results_pubmedbert_uncased_title+abstract/\" + \"submission.csv\", header=None)"
      ],
      "execution_count": 22,
      "outputs": []
    },
    {
      "cell_type": "code",
      "metadata": {
        "colab": {
          "base_uri": "https://localhost:8080/"
        },
        "id": "kRCFdC7xOYky",
        "outputId": "26c2a8ff-29a3-4457-9e46-745880888dbe"
      },
      "source": [
        "sample[1].sum()"
      ],
      "execution_count": 30,
      "outputs": [
        {
          "output_type": "execute_result",
          "data": {
            "text/plain": [
              "3159"
            ]
          },
          "metadata": {},
          "execution_count": 30
        }
      ]
    },
    {
      "cell_type": "code",
      "metadata": {
        "colab": {
          "base_uri": "https://localhost:8080/"
        },
        "id": "foabrKudO0KM",
        "outputId": "32a6054c-bc10-4f1b-b4d6-af6f15810529"
      },
      "source": [
        "sub[\"judgement\"].sum()"
      ],
      "execution_count": 31,
      "outputs": [
        {
          "output_type": "execute_result",
          "data": {
            "text/plain": [
              "1449"
            ]
          },
          "metadata": {},
          "execution_count": 31
        }
      ]
    },
    {
      "cell_type": "code",
      "metadata": {
        "colab": {
          "base_uri": "https://localhost:8080/"
        },
        "id": "-6ZxihU9Obyc",
        "outputId": "7f6b5344-6834-43f5-c09c-15d0009ca77e"
      },
      "source": [
        "(sub[\"judgement\"] - sample[1]).abs().sum()"
      ],
      "execution_count": 29,
      "outputs": [
        {
          "output_type": "execute_result",
          "data": {
            "text/plain": [
              "1710"
            ]
          },
          "metadata": {},
          "execution_count": 29
        }
      ]
    },
    {
      "cell_type": "code",
      "metadata": {
        "id": "NM2M37GWOes5"
      },
      "source": [
        ""
      ],
      "execution_count": null,
      "outputs": []
    }
  ]
}